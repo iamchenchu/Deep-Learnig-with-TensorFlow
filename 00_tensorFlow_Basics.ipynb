{
  "nbformat": 4,
  "nbformat_minor": 0,
  "metadata": {
    "colab": {
      "provenance": [],
      "authorship_tag": "ABX9TyNPErTeRNAe4C/EorA7++Us",
      "include_colab_link": true
    },
    "kernelspec": {
      "name": "python3",
      "display_name": "Python 3"
    },
    "language_info": {
      "name": "python"
    }
  },
  "cells": [
    {
      "cell_type": "markdown",
      "metadata": {
        "id": "view-in-github",
        "colab_type": "text"
      },
      "source": [
        "<a href=\"https://colab.research.google.com/github/iamchenchu/Deep-Learnig-with-TensorFlow/blob/main/00_tensorFlow_Basics.ipynb\" target=\"_parent\"><img src=\"https://colab.research.google.com/assets/colab-badge.svg\" alt=\"Open In Colab\"/></a>"
      ]
    },
    {
      "cell_type": "code",
      "execution_count": 20,
      "metadata": {
        "id": "ZGZdVSwgmBpm"
      },
      "outputs": [],
      "source": [
        "# In this notebook we're going to learn some of the basic fundamental concepts of tensors using the TensorFlow"
      ]
    },
    {
      "cell_type": "markdown",
      "source": [
        "**Specifically:**\n",
        "\n",
        "1. Introduction to tensors\n",
        "2. Getting the informations from the tensors\n",
        "3. Manipulating tensors\n",
        "4. Tensors & Numpy\n",
        "5. Using @tf.function (A way to speed up your regular Python functions)\n",
        "6. Using the GPUs with TensorFlow(or TPUs)\n",
        "7. Exercises to try for yourself"
      ],
      "metadata": {
        "id": "f1KK-TGasDsJ"
      }
    },
    {
      "cell_type": "code",
      "source": [
        "## introduction to tensors"
      ],
      "metadata": {
        "id": "OVzsck0ktMag"
      },
      "execution_count": 21,
      "outputs": []
    },
    {
      "cell_type": "code",
      "source": [
        "#import TensorFlow\n",
        "\n",
        "import tensorflow as tf\n",
        "print(tf.__version__)"
      ],
      "metadata": {
        "colab": {
          "base_uri": "https://localhost:8080/"
        },
        "id": "93Xc5dA5vWB4",
        "outputId": "3e61216a-d2b8-4cb1-caf0-c138376e791f"
      },
      "execution_count": 22,
      "outputs": [
        {
          "output_type": "stream",
          "name": "stdout",
          "text": [
            "2.14.0\n"
          ]
        }
      ]
    },
    {
      "cell_type": "code",
      "source": [
        "#creating tensors with tf.constant()\n",
        "\n",
        "scalar = tf.constant(7)\n",
        "scalar"
      ],
      "metadata": {
        "colab": {
          "base_uri": "https://localhost:8080/"
        },
        "id": "wkFQUMz5vg6U",
        "outputId": "8abc2233-151a-4640-fac7-6f42f37e7482"
      },
      "execution_count": 23,
      "outputs": [
        {
          "output_type": "execute_result",
          "data": {
            "text/plain": [
              "<tf.Tensor: shape=(), dtype=int32, numpy=7>"
            ]
          },
          "metadata": {},
          "execution_count": 23
        }
      ]
    },
    {
      "cell_type": "code",
      "source": [
        "#check the number of dimensions of the tensor\n",
        "scalar.ndim"
      ],
      "metadata": {
        "colab": {
          "base_uri": "https://localhost:8080/"
        },
        "id": "QPJDRUTcv7kg",
        "outputId": "3f00fa3b-37a8-46d1-9940-9715128f8e34"
      },
      "execution_count": 24,
      "outputs": [
        {
          "output_type": "execute_result",
          "data": {
            "text/plain": [
              "0"
            ]
          },
          "metadata": {},
          "execution_count": 24
        }
      ]
    },
    {
      "cell_type": "code",
      "source": [
        "#create a vecor\n",
        "vector = tf.constant([10,10])\n",
        "vector\n"
      ],
      "metadata": {
        "colab": {
          "base_uri": "https://localhost:8080/"
        },
        "id": "bDJIyzI4wBWw",
        "outputId": "5debbe30-b0c8-42df-86ec-295cba128187"
      },
      "execution_count": 25,
      "outputs": [
        {
          "output_type": "execute_result",
          "data": {
            "text/plain": [
              "<tf.Tensor: shape=(2,), dtype=int32, numpy=array([10, 10], dtype=int32)>"
            ]
          },
          "metadata": {},
          "execution_count": 25
        }
      ]
    },
    {
      "cell_type": "code",
      "source": [
        "#check the number of dimension\n",
        "vector.ndim"
      ],
      "metadata": {
        "colab": {
          "base_uri": "https://localhost:8080/"
        },
        "id": "75j4eqqKwNoP",
        "outputId": "fa85b459-5d2a-4dc6-9f29-c0cf05071a03"
      },
      "execution_count": 26,
      "outputs": [
        {
          "output_type": "execute_result",
          "data": {
            "text/plain": [
              "1"
            ]
          },
          "metadata": {},
          "execution_count": 26
        }
      ]
    },
    {
      "cell_type": "code",
      "source": [
        "#create a matrix which has more than 1 dimension\n",
        "\n",
        "matrix = tf.constant([[10,7],\n",
        "                      [7,10]])\n",
        "matrix"
      ],
      "metadata": {
        "colab": {
          "base_uri": "https://localhost:8080/"
        },
        "id": "b3N3C-J6wjN_",
        "outputId": "0530daa4-541c-4784-8176-04fc742f06b7"
      },
      "execution_count": 27,
      "outputs": [
        {
          "output_type": "execute_result",
          "data": {
            "text/plain": [
              "<tf.Tensor: shape=(2, 2), dtype=int32, numpy=\n",
              "array([[10,  7],\n",
              "       [ 7, 10]], dtype=int32)>"
            ]
          },
          "metadata": {},
          "execution_count": 27
        }
      ]
    },
    {
      "cell_type": "code",
      "source": [
        "#check the number of dimensions for the matrix\n",
        "\n",
        "matrix.ndim"
      ],
      "metadata": {
        "colab": {
          "base_uri": "https://localhost:8080/"
        },
        "id": "RFSTs0B-w2Je",
        "outputId": "075360f8-4334-4ac5-97f5-910c1bdf994c"
      },
      "execution_count": 28,
      "outputs": [
        {
          "output_type": "execute_result",
          "data": {
            "text/plain": [
              "2"
            ]
          },
          "metadata": {},
          "execution_count": 28
        }
      ]
    },
    {
      "cell_type": "code",
      "source": [
        "#create another matrix\n",
        "\n",
        "another_matrix = tf.constant([[10.,7.],\n",
        "                              [3.,2.],\n",
        "                              [8.,9.]], dtype=tf.float16) # specify the data type\n",
        "another_matrix"
      ],
      "metadata": {
        "colab": {
          "base_uri": "https://localhost:8080/"
        },
        "id": "UWA29YL-w--2",
        "outputId": "623b357e-363a-4bad-cb43-84ef960105f3"
      },
      "execution_count": 29,
      "outputs": [
        {
          "output_type": "execute_result",
          "data": {
            "text/plain": [
              "<tf.Tensor: shape=(3, 2), dtype=float16, numpy=\n",
              "array([[10.,  7.],\n",
              "       [ 3.,  2.],\n",
              "       [ 8.,  9.]], dtype=float16)>"
            ]
          },
          "metadata": {},
          "execution_count": 29
        }
      ]
    },
    {
      "cell_type": "code",
      "source": [
        "#number of dimensions\n",
        "\n",
        "another_matrix.ndim"
      ],
      "metadata": {
        "colab": {
          "base_uri": "https://localhost:8080/"
        },
        "id": "SdA6GmGEyGMC",
        "outputId": "c38b4061-0331-482d-a0cf-80032d2a7920"
      },
      "execution_count": 30,
      "outputs": [
        {
          "output_type": "execute_result",
          "data": {
            "text/plain": [
              "2"
            ]
          },
          "metadata": {},
          "execution_count": 30
        }
      ]
    },
    {
      "cell_type": "code",
      "source": [
        "# let's create a tensor\n",
        "tensor = tf.constant([[[1,2,3],\n",
        "                      [4,5,6]],\n",
        "\n",
        "                      [[7,8,9],\n",
        "                     [10,11,12]],\n",
        "\n",
        "                     [[13,14,15],\n",
        "                      [16,17,18]]])\n",
        "tensor"
      ],
      "metadata": {
        "colab": {
          "base_uri": "https://localhost:8080/"
        },
        "id": "DEfAvQckyJV0",
        "outputId": "3d89bbf9-ac9a-4ca8-b550-293959f5dd1c"
      },
      "execution_count": 31,
      "outputs": [
        {
          "output_type": "execute_result",
          "data": {
            "text/plain": [
              "<tf.Tensor: shape=(3, 2, 3), dtype=int32, numpy=\n",
              "array([[[ 1,  2,  3],\n",
              "        [ 4,  5,  6]],\n",
              "\n",
              "       [[ 7,  8,  9],\n",
              "        [10, 11, 12]],\n",
              "\n",
              "       [[13, 14, 15],\n",
              "        [16, 17, 18]]], dtype=int32)>"
            ]
          },
          "metadata": {},
          "execution_count": 31
        }
      ]
    },
    {
      "cell_type": "code",
      "source": [
        "tensor.ndim"
      ],
      "metadata": {
        "colab": {
          "base_uri": "https://localhost:8080/"
        },
        "id": "d2s3Oxdmy5H_",
        "outputId": "cfe8d8d2-99fa-4671-c8ca-79f3d16e2178"
      },
      "execution_count": 32,
      "outputs": [
        {
          "output_type": "execute_result",
          "data": {
            "text/plain": [
              "3"
            ]
          },
          "metadata": {},
          "execution_count": 32
        }
      ]
    },
    {
      "cell_type": "markdown",
      "source": [
        "**What we have learned so far**\n",
        "\n",
        "1. Scalar : a single number\n",
        "2. Vector : a number with direction (Ex : wind speed with the direction)\n",
        "3. Matrix : a 2-Dimensional  array of numbers\n",
        "4. Tensor : an n-dimensional array  of numbers (Where n can be any number, a 0-Dimensinal tensor is a scalar, a 1- dimension tensor is called a vector)\n",
        "\n"
      ],
      "metadata": {
        "id": "KMzzBXeEz3EM"
      }
    },
    {
      "cell_type": "markdown",
      "source": [
        "**Creating the tensors with tf.Variable**\n",
        "\n",
        "\n"
      ],
      "metadata": {
        "id": "WMjQxHmK1XWZ"
      }
    },
    {
      "cell_type": "code",
      "source": [
        "tf.Variable"
      ],
      "metadata": {
        "colab": {
          "base_uri": "https://localhost:8080/"
        },
        "id": "-C2JCdsj1gkO",
        "outputId": "d242f94e-b039-4547-94be-0ad96507cc14"
      },
      "execution_count": 33,
      "outputs": [
        {
          "output_type": "execute_result",
          "data": {
            "text/plain": [
              "tensorflow.python.ops.variables.Variable"
            ]
          },
          "metadata": {},
          "execution_count": 33
        }
      ]
    },
    {
      "cell_type": "code",
      "source": [
        "# creating the same tensor with tf.Variable() as above\n",
        "changeable_tensor = tf.Variable([10,7])\n",
        "unchangeable_tensor = tf.constant([10,7])\n",
        "changeable_tensor, unchangeable_tensor"
      ],
      "metadata": {
        "colab": {
          "base_uri": "https://localhost:8080/"
        },
        "id": "i9aY3-DV1nsr",
        "outputId": "abd44275-1e0a-4676-f636-f43ddf7aae43"
      },
      "execution_count": 34,
      "outputs": [
        {
          "output_type": "execute_result",
          "data": {
            "text/plain": [
              "(<tf.Variable 'Variable:0' shape=(2,) dtype=int32, numpy=array([10,  7], dtype=int32)>,\n",
              " <tf.Tensor: shape=(2,), dtype=int32, numpy=array([10,  7], dtype=int32)>)"
            ]
          },
          "metadata": {},
          "execution_count": 34
        }
      ]
    },
    {
      "cell_type": "code",
      "source": [
        "#Let's try change one of the elements in the changeable tensor\n",
        "\n",
        "#changeable_tensor[0]= 7\n",
        "#changeable_tensor               # TypeError: 'ResourceVariable' object does not support item assignmentVariable"
      ],
      "metadata": {
        "id": "8i8B7oV8hvjw"
      },
      "execution_count": 35,
      "outputs": []
    },
    {
      "cell_type": "code",
      "source": [
        "# How about we try .assign()\n",
        "changeable_tensor[0].assign(7)\n",
        "changeable_tensor                 # it works well and give the output as <tf.Variable 'Variable:0' shape=(2,) dtype=int32, numpy=array([7, 7], dtype=int32)>\n"
      ],
      "metadata": {
        "id": "vluG5sxGm5Fz",
        "colab": {
          "base_uri": "https://localhost:8080/"
        },
        "outputId": "4b727cf5-88aa-4cfa-ccb8-b7323ee6a162"
      },
      "execution_count": 36,
      "outputs": [
        {
          "output_type": "execute_result",
          "data": {
            "text/plain": [
              "<tf.Variable 'Variable:0' shape=(2,) dtype=int32, numpy=array([7, 7], dtype=int32)>"
            ]
          },
          "metadata": {},
          "execution_count": 36
        }
      ]
    },
    {
      "cell_type": "markdown",
      "source": [
        "**Variable vs Constant**\n",
        "\n",
        "The tensors which we create using the tf.Variables can be modified using the assign() function as per our requirement\n",
        "\n",
        "The tensors which we create using the tf.constant can not be modified. We use this way when a tensor should be unchangeable\n",
        "\n",
        "Note: Rarely in practice will you need to decide whether to use tf.constant or tf. variable to create tensors, as TensorFlow does this for\n",
        "you. However, if in doubt, use tf.Variable and change it later if needed."
      ],
      "metadata": {
        "id": "-0ia3pAtn4Ev"
      }
    },
    {
      "cell_type": "code",
      "source": [
        "# creating the random tensors\n",
        "# Random tensors are tensors of some abirary size which contain random numbers\n",
        "# create 2 random (but the same) tensors\n",
        "# a function that represents the distribution of many random variables as a symmetrical bell-shaped graph.\n",
        "\n",
        "random_1 = tf.random.Generator.from_seed(42) # set seed for reproducibility\n",
        "random_1 = random_1.normal(shape=(3,2))\n",
        "random_2 = tf.random.Generator.from_seed(42)\n",
        "random_2 = random_2.normal(shape=(3,2))\n",
        "\n",
        "random_1 , random_2, random_1 == random_2\n",
        "\n",
        "#Are they equal ? : Yes they are equal"
      ],
      "metadata": {
        "colab": {
          "base_uri": "https://localhost:8080/"
        },
        "id": "ApmppPwpnhkH",
        "outputId": "c8edbf75-6587-4ae6-d3ca-e5514ba6165a"
      },
      "execution_count": 37,
      "outputs": [
        {
          "output_type": "execute_result",
          "data": {
            "text/plain": [
              "(<tf.Tensor: shape=(3, 2), dtype=float32, numpy=\n",
              " array([[-0.7565803 , -0.06854702],\n",
              "        [ 0.07595026, -1.2573844 ],\n",
              "        [-0.23193763, -1.8107855 ]], dtype=float32)>,\n",
              " <tf.Tensor: shape=(3, 2), dtype=float32, numpy=\n",
              " array([[-0.7565803 , -0.06854702],\n",
              "        [ 0.07595026, -1.2573844 ],\n",
              "        [-0.23193763, -1.8107855 ]], dtype=float32)>,\n",
              " <tf.Tensor: shape=(3, 2), dtype=bool, numpy=\n",
              " array([[ True,  True],\n",
              "        [ True,  True],\n",
              "        [ True,  True]])>)"
            ]
          },
          "metadata": {},
          "execution_count": 37
        }
      ]
    },
    {
      "cell_type": "code",
      "source": [
        "## shuffle the order of elements in the tensor\n",
        "#Sffule a tensor(valueable for when you want to shuffle the data so that inherent doesn't effect the learning)\n",
        "\n",
        "not_shuffled = tf.constant([[10,7],\n",
        "                           [3,4],\n",
        "                           [2,5]])\n",
        "not_shuffled.ndim # out put is 2\n"
      ],
      "metadata": {
        "colab": {
          "base_uri": "https://localhost:8080/"
        },
        "id": "EL57uU2X-gn8",
        "outputId": "a700dd39-1225-45ae-d780-10e7c6226340"
      },
      "execution_count": 38,
      "outputs": [
        {
          "output_type": "execute_result",
          "data": {
            "text/plain": [
              "2"
            ]
          },
          "metadata": {},
          "execution_count": 38
        }
      ]
    },
    {
      "cell_type": "code",
      "source": [
        "not_shuffled"
      ],
      "metadata": {
        "colab": {
          "base_uri": "https://localhost:8080/"
        },
        "id": "7xi5VgSvBoUl",
        "outputId": "6d154964-21c2-40e7-ecf9-d1d9f1152650"
      },
      "execution_count": 39,
      "outputs": [
        {
          "output_type": "execute_result",
          "data": {
            "text/plain": [
              "<tf.Tensor: shape=(3, 2), dtype=int32, numpy=\n",
              "array([[10,  7],\n",
              "       [ 3,  4],\n",
              "       [ 2,  5]], dtype=int32)>"
            ]
          },
          "metadata": {},
          "execution_count": 39
        }
      ]
    },
    {
      "cell_type": "code",
      "source": [
        "# how can we shuffle a tensor  : -> tf.random.shuffle()\n",
        "\n",
        "tf.random.shuffle(not_shuffled) # order of the output would be changed\n"
      ],
      "metadata": {
        "colab": {
          "base_uri": "https://localhost:8080/"
        },
        "id": "MHQSsp1KBuEK",
        "outputId": "65bb0414-cedc-488f-9742-d2fbff9e892e"
      },
      "execution_count": 40,
      "outputs": [
        {
          "output_type": "execute_result",
          "data": {
            "text/plain": [
              "<tf.Tensor: shape=(3, 2), dtype=int32, numpy=\n",
              "array([[ 2,  5],\n",
              "       [10,  7],\n",
              "       [ 3,  4]], dtype=int32)>"
            ]
          },
          "metadata": {},
          "execution_count": 40
        }
      ]
    },
    {
      "cell_type": "code",
      "source": [
        "tf.random.shuffle(not_shuffled) # order of the output would be changed, everytime we run it it would kee changing\n"
      ],
      "metadata": {
        "colab": {
          "base_uri": "https://localhost:8080/"
        },
        "id": "bJXS_2TmCXmW",
        "outputId": "5d7c43b0-777b-4608-ad04-a1b246d34ea2"
      },
      "execution_count": 41,
      "outputs": [
        {
          "output_type": "execute_result",
          "data": {
            "text/plain": [
              "<tf.Tensor: shape=(3, 2), dtype=int32, numpy=\n",
              "array([[10,  7],\n",
              "       [ 2,  5],\n",
              "       [ 3,  4]], dtype=int32)>"
            ]
          },
          "metadata": {},
          "execution_count": 41
        }
      ]
    },
    {
      "cell_type": "code",
      "source": [
        "# after setting the seed, we will have the same everytime\n",
        "# if we want our shuffled tensors to be in the same order, we've got to use the global level random seed as well as the operation level random seed\n",
        "\n",
        "\n",
        "tf.random.set_seed(42) # Global level random seed\n",
        "tf.random.shuffle(not_shuffled, seed = 42) # Operational level random seed\n",
        "\n",
        "\n",
        " # if we use only operational level random seed, our shuffled tensor keep changing when ever we run the code\n"
      ],
      "metadata": {
        "colab": {
          "base_uri": "https://localhost:8080/"
        },
        "id": "exFpK1v_CoAP",
        "outputId": "794e8fab-eeab-4f61-bb2f-9241fc0e052b"
      },
      "execution_count": 42,
      "outputs": [
        {
          "output_type": "execute_result",
          "data": {
            "text/plain": [
              "<tf.Tensor: shape=(3, 2), dtype=int32, numpy=\n",
              "array([[10,  7],\n",
              "       [ 3,  4],\n",
              "       [ 2,  5]], dtype=int32)>"
            ]
          },
          "metadata": {},
          "execution_count": 42
        }
      ]
    },
    {
      "cell_type": "code",
      "source": [
        "## other ways to make tensors\n",
        "\n",
        "tf.ones([10,7]) # creates a tensor of all ones with size of 10 rows and 7 columns\n"
      ],
      "metadata": {
        "colab": {
          "base_uri": "https://localhost:8080/"
        },
        "id": "EQ6h_aZrC-Cz",
        "outputId": "459b7126-2c1c-4598-8a69-5f25d6c8f87c"
      },
      "execution_count": 43,
      "outputs": [
        {
          "output_type": "execute_result",
          "data": {
            "text/plain": [
              "<tf.Tensor: shape=(10, 7), dtype=float32, numpy=\n",
              "array([[1., 1., 1., 1., 1., 1., 1.],\n",
              "       [1., 1., 1., 1., 1., 1., 1.],\n",
              "       [1., 1., 1., 1., 1., 1., 1.],\n",
              "       [1., 1., 1., 1., 1., 1., 1.],\n",
              "       [1., 1., 1., 1., 1., 1., 1.],\n",
              "       [1., 1., 1., 1., 1., 1., 1.],\n",
              "       [1., 1., 1., 1., 1., 1., 1.],\n",
              "       [1., 1., 1., 1., 1., 1., 1.],\n",
              "       [1., 1., 1., 1., 1., 1., 1.],\n",
              "       [1., 1., 1., 1., 1., 1., 1.]], dtype=float32)>"
            ]
          },
          "metadata": {},
          "execution_count": 43
        }
      ]
    },
    {
      "cell_type": "code",
      "source": [
        "tf.zeros([10,10]) # creates a tensor of all zeros with size of 10 rows and 10 columns"
      ],
      "metadata": {
        "colab": {
          "base_uri": "https://localhost:8080/"
        },
        "id": "X4eTa-iDJIGB",
        "outputId": "e3cb8b01-a89c-4d82-ffd0-1869f09a5ca7"
      },
      "execution_count": 44,
      "outputs": [
        {
          "output_type": "execute_result",
          "data": {
            "text/plain": [
              "<tf.Tensor: shape=(10, 10), dtype=float32, numpy=\n",
              "array([[0., 0., 0., 0., 0., 0., 0., 0., 0., 0.],\n",
              "       [0., 0., 0., 0., 0., 0., 0., 0., 0., 0.],\n",
              "       [0., 0., 0., 0., 0., 0., 0., 0., 0., 0.],\n",
              "       [0., 0., 0., 0., 0., 0., 0., 0., 0., 0.],\n",
              "       [0., 0., 0., 0., 0., 0., 0., 0., 0., 0.],\n",
              "       [0., 0., 0., 0., 0., 0., 0., 0., 0., 0.],\n",
              "       [0., 0., 0., 0., 0., 0., 0., 0., 0., 0.],\n",
              "       [0., 0., 0., 0., 0., 0., 0., 0., 0., 0.],\n",
              "       [0., 0., 0., 0., 0., 0., 0., 0., 0., 0.],\n",
              "       [0., 0., 0., 0., 0., 0., 0., 0., 0., 0.]], dtype=float32)>"
            ]
          },
          "metadata": {},
          "execution_count": 44
        }
      ]
    },
    {
      "cell_type": "code",
      "source": [
        "tf.zeros(shape=(3,4)) # creates a tensor of all zeros of float and the 3*4 size"
      ],
      "metadata": {
        "colab": {
          "base_uri": "https://localhost:8080/"
        },
        "id": "-7FrTWrEJWjW",
        "outputId": "f4b180b8-2e78-49b8-f5e9-1ce1e68ec83d"
      },
      "execution_count": 45,
      "outputs": [
        {
          "output_type": "execute_result",
          "data": {
            "text/plain": [
              "<tf.Tensor: shape=(3, 4), dtype=float32, numpy=\n",
              "array([[0., 0., 0., 0.],\n",
              "       [0., 0., 0., 0.],\n",
              "       [0., 0., 0., 0.]], dtype=float32)>"
            ]
          },
          "metadata": {},
          "execution_count": 45
        }
      ]
    },
    {
      "cell_type": "markdown",
      "source": [
        "***You can also turn Numpy arrays into tensors***\n",
        "\n",
        "The main diffrence betweem Numpy arrays and TensorFlow tensors is that the tensors can be run on GPU computing"
      ],
      "metadata": {
        "id": "Gca5aZDfJ9Fj"
      }
    },
    {
      "cell_type": "code",
      "source": [
        " # You can also turn Numpy arrays into tensors\n",
        "\n",
        "import numpy as np\n",
        "numpy_A = np.arange(1,25, dtype=np.int32) # create a Numpy array between 1 and 25\n",
        "numpy_A\n",
        "\n",
        "# X = tf.constant(some_matrix) # capital for matrix or tensor\n",
        "# y = tf.constant(vector) # non-capital for vector"
      ],
      "metadata": {
        "colab": {
          "base_uri": "https://localhost:8080/"
        },
        "id": "qqiZXlLxJhuO",
        "outputId": "e39917e8-26de-47bc-db02-330b38bcedcb"
      },
      "execution_count": 46,
      "outputs": [
        {
          "output_type": "execute_result",
          "data": {
            "text/plain": [
              "array([ 1,  2,  3,  4,  5,  6,  7,  8,  9, 10, 11, 12, 13, 14, 15, 16, 17,\n",
              "       18, 19, 20, 21, 22, 23, 24], dtype=int32)"
            ]
          },
          "metadata": {},
          "execution_count": 46
        }
      ]
    },
    {
      "cell_type": "code",
      "source": [
        "A = tf.constant(numpy_A) # converting the numpy array to a tensor\n",
        "A"
      ],
      "metadata": {
        "colab": {
          "base_uri": "https://localhost:8080/"
        },
        "id": "-UiKrFLxLDPe",
        "outputId": "dba36b67-2735-462c-cf91-74aa0ddd9156"
      },
      "execution_count": 47,
      "outputs": [
        {
          "output_type": "execute_result",
          "data": {
            "text/plain": [
              "<tf.Tensor: shape=(24,), dtype=int32, numpy=\n",
              "array([ 1,  2,  3,  4,  5,  6,  7,  8,  9, 10, 11, 12, 13, 14, 15, 16, 17,\n",
              "       18, 19, 20, 21, 22, 23, 24], dtype=int32)>"
            ]
          },
          "metadata": {},
          "execution_count": 47
        }
      ]
    },
    {
      "cell_type": "code",
      "source": [
        "A = tf.constant(numpy_A, shape=(2,3,4)) # creates a 3 dimentional tensor, 2*3*4 = 24 which exactly matches with the number elements otherwise it will be an error\n",
        "B = tf.constant(numpy_A)\n",
        "A,B"
      ],
      "metadata": {
        "colab": {
          "base_uri": "https://localhost:8080/"
        },
        "id": "MdzWK4GwLWze",
        "outputId": "708940e8-22c8-45f0-c6c2-d595d9fa9c6a"
      },
      "execution_count": 48,
      "outputs": [
        {
          "output_type": "execute_result",
          "data": {
            "text/plain": [
              "(<tf.Tensor: shape=(2, 3, 4), dtype=int32, numpy=\n",
              " array([[[ 1,  2,  3,  4],\n",
              "         [ 5,  6,  7,  8],\n",
              "         [ 9, 10, 11, 12]],\n",
              " \n",
              "        [[13, 14, 15, 16],\n",
              "         [17, 18, 19, 20],\n",
              "         [21, 22, 23, 24]]], dtype=int32)>,\n",
              " <tf.Tensor: shape=(24,), dtype=int32, numpy=\n",
              " array([ 1,  2,  3,  4,  5,  6,  7,  8,  9, 10, 11, 12, 13, 14, 15, 16, 17,\n",
              "        18, 19, 20, 21, 22, 23, 24], dtype=int32)>)"
            ]
          },
          "metadata": {},
          "execution_count": 48
        }
      ]
    },
    {
      "cell_type": "markdown",
      "source": [
        "***Getting information from our tensors***\n",
        "\n",
        "When dealing with the tensors you should be familiar with the below terms\n",
        "\n",
        "* Shape  : The length (number of elements) of each of the dimension of a tensor  **tensor.shape**\n",
        "* Rank   : The number of tensor dimensions. A scalar has rank 0, vector has rank 1, a matrix has rank 2, a tensor has rank n **tensor.ndim**\n",
        "* Axis or dimension : A perticular dimension of a tensor **tensor[0],tensor[:, 1]**\n",
        "* Size :  The total number of items in the tensor.    **tf.size(tensor)**\n",
        "\n"
      ],
      "metadata": {
        "id": "2xIbxfLOMx1a"
      }
    },
    {
      "cell_type": "code",
      "source": [
        "# create a rank 4 tensor (4 dimentions)\n",
        "\n",
        "rank_4_tensor = tf.zeros(shape=(2,3,4,5)) # 2 is number axises, 3 is number of matrix in each axis, 4 is number of rows, 5 number of colums\n",
        "rank_4_tensor"
      ],
      "metadata": {
        "colab": {
          "base_uri": "https://localhost:8080/"
        },
        "id": "1Ni9z-yDNHIL",
        "outputId": "6a362f5c-4136-465a-d76a-805c6bac60bc"
      },
      "execution_count": 49,
      "outputs": [
        {
          "output_type": "execute_result",
          "data": {
            "text/plain": [
              "<tf.Tensor: shape=(2, 3, 4, 5), dtype=float32, numpy=\n",
              "array([[[[0., 0., 0., 0., 0.],\n",
              "         [0., 0., 0., 0., 0.],\n",
              "         [0., 0., 0., 0., 0.],\n",
              "         [0., 0., 0., 0., 0.]],\n",
              "\n",
              "        [[0., 0., 0., 0., 0.],\n",
              "         [0., 0., 0., 0., 0.],\n",
              "         [0., 0., 0., 0., 0.],\n",
              "         [0., 0., 0., 0., 0.]],\n",
              "\n",
              "        [[0., 0., 0., 0., 0.],\n",
              "         [0., 0., 0., 0., 0.],\n",
              "         [0., 0., 0., 0., 0.],\n",
              "         [0., 0., 0., 0., 0.]]],\n",
              "\n",
              "\n",
              "       [[[0., 0., 0., 0., 0.],\n",
              "         [0., 0., 0., 0., 0.],\n",
              "         [0., 0., 0., 0., 0.],\n",
              "         [0., 0., 0., 0., 0.]],\n",
              "\n",
              "        [[0., 0., 0., 0., 0.],\n",
              "         [0., 0., 0., 0., 0.],\n",
              "         [0., 0., 0., 0., 0.],\n",
              "         [0., 0., 0., 0., 0.]],\n",
              "\n",
              "        [[0., 0., 0., 0., 0.],\n",
              "         [0., 0., 0., 0., 0.],\n",
              "         [0., 0., 0., 0., 0.],\n",
              "         [0., 0., 0., 0., 0.]]]], dtype=float32)>"
            ]
          },
          "metadata": {},
          "execution_count": 49
        }
      ]
    },
    {
      "cell_type": "code",
      "source": [
        "rank_4_tensor[0]"
      ],
      "metadata": {
        "colab": {
          "base_uri": "https://localhost:8080/"
        },
        "id": "iYXfrmdCPIKF",
        "outputId": "aaf38eaf-ec25-4b9b-8b48-ac696b1f99d6"
      },
      "execution_count": 50,
      "outputs": [
        {
          "output_type": "execute_result",
          "data": {
            "text/plain": [
              "<tf.Tensor: shape=(3, 4, 5), dtype=float32, numpy=\n",
              "array([[[0., 0., 0., 0., 0.],\n",
              "        [0., 0., 0., 0., 0.],\n",
              "        [0., 0., 0., 0., 0.],\n",
              "        [0., 0., 0., 0., 0.]],\n",
              "\n",
              "       [[0., 0., 0., 0., 0.],\n",
              "        [0., 0., 0., 0., 0.],\n",
              "        [0., 0., 0., 0., 0.],\n",
              "        [0., 0., 0., 0., 0.]],\n",
              "\n",
              "       [[0., 0., 0., 0., 0.],\n",
              "        [0., 0., 0., 0., 0.],\n",
              "        [0., 0., 0., 0., 0.],\n",
              "        [0., 0., 0., 0., 0.]]], dtype=float32)>"
            ]
          },
          "metadata": {},
          "execution_count": 50
        }
      ]
    },
    {
      "cell_type": "code",
      "source": [
        "rank_4_tensor.shape, rank_4_tensor.ndim, tf.size(rank_4_tensor)"
      ],
      "metadata": {
        "colab": {
          "base_uri": "https://localhost:8080/"
        },
        "id": "8HWFIeZzP55l",
        "outputId": "12f722fb-0274-4359-a435-f446b614055d"
      },
      "execution_count": 51,
      "outputs": [
        {
          "output_type": "execute_result",
          "data": {
            "text/plain": [
              "(TensorShape([2, 3, 4, 5]), 4, <tf.Tensor: shape=(), dtype=int32, numpy=120>)"
            ]
          },
          "metadata": {},
          "execution_count": 51
        }
      ]
    },
    {
      "cell_type": "code",
      "source": [
        "# Get various attributes of our tensor\n",
        "print(\"Datatype of every element: \", rank_4_tensor.dtype)\n",
        "print(\"Number of dimensions: \",rank_4_tensor.ndim)\n",
        "print(\"Shape of the tensor :\",rank_4_tensor.shape)\n",
        "print(\"Elements along 0 axis\", rank_4_tensor.shape[0])\n",
        "print(\"Elemets along the last axis :\", rank_4_tensor.shape[-1])\n",
        "print(\"Total number of elements in our tensor :\",tf.size(rank_4_tensor))\n",
        "print(\"Total number of elements in our tensor :\",tf.size(rank_4_tensor).numpy()) # converting to numpy number for better understanding"
      ],
      "metadata": {
        "colab": {
          "base_uri": "https://localhost:8080/"
        },
        "id": "cEIQgyMpQPz4",
        "outputId": "fa23b7a8-b47e-4146-bd13-5a71f2d2600a"
      },
      "execution_count": 52,
      "outputs": [
        {
          "output_type": "stream",
          "name": "stdout",
          "text": [
            "Datatype of every element:  <dtype: 'float32'>\n",
            "Number of dimensions:  4\n",
            "Shape of the tensor : (2, 3, 4, 5)\n",
            "Elements along 0 axis 2\n",
            "Elemets along the last axis : 5\n",
            "Total number of elements in our tensor : tf.Tensor(120, shape=(), dtype=int32)\n",
            "Total number of elements in our tensor : 120\n"
          ]
        }
      ]
    },
    {
      "cell_type": "markdown",
      "source": [
        "***Indexing the tensors***\n",
        "\n",
        "\n",
        "Tensors can be indexed just like lists in the python\n"
      ],
      "metadata": {
        "id": "vXRw3C3SSNOF"
      }
    },
    {
      "cell_type": "code",
      "source": [
        "# Get the first  2 elements in the each dimension\n",
        "some_list = [1,2,3,4]\n",
        "some_list[:2]\n"
      ],
      "metadata": {
        "colab": {
          "base_uri": "https://localhost:8080/"
        },
        "id": "ZZ6-QyquRk03",
        "outputId": "5da6e1cc-189a-45d5-92dc-9c9797c41ade"
      },
      "execution_count": 53,
      "outputs": [
        {
          "output_type": "execute_result",
          "data": {
            "text/plain": [
              "[1, 2]"
            ]
          },
          "metadata": {},
          "execution_count": 53
        }
      ]
    },
    {
      "cell_type": "code",
      "source": [
        "rank_4_tensor[:2,:2,:2,:2] # Get the first  2 elements in the each dimension"
      ],
      "metadata": {
        "colab": {
          "base_uri": "https://localhost:8080/"
        },
        "id": "P8Oh34ydSyZP",
        "outputId": "c7e51013-e79c-489e-f98e-5644b25f533e"
      },
      "execution_count": 54,
      "outputs": [
        {
          "output_type": "execute_result",
          "data": {
            "text/plain": [
              "<tf.Tensor: shape=(2, 2, 2, 2), dtype=float32, numpy=\n",
              "array([[[[0., 0.],\n",
              "         [0., 0.]],\n",
              "\n",
              "        [[0., 0.],\n",
              "         [0., 0.]]],\n",
              "\n",
              "\n",
              "       [[[0., 0.],\n",
              "         [0., 0.]],\n",
              "\n",
              "        [[0., 0.],\n",
              "         [0., 0.]]]], dtype=float32)>"
            ]
          },
          "metadata": {},
          "execution_count": 54
        }
      ]
    },
    {
      "cell_type": "code",
      "source": [
        "# Get the first element from each dimension from each index except the final one\n",
        "rank_4_tensor[:1, :1, :1, :]"
      ],
      "metadata": {
        "colab": {
          "base_uri": "https://localhost:8080/"
        },
        "id": "i9gC03E9S9vp",
        "outputId": "6bd2a071-1600-458d-9d24-8283035ada97"
      },
      "execution_count": 55,
      "outputs": [
        {
          "output_type": "execute_result",
          "data": {
            "text/plain": [
              "<tf.Tensor: shape=(1, 1, 1, 5), dtype=float32, numpy=array([[[[0., 0., 0., 0., 0.]]]], dtype=float32)>"
            ]
          },
          "metadata": {},
          "execution_count": 55
        }
      ]
    },
    {
      "cell_type": "code",
      "source": [
        "# Get the first element from each dimension from each index except the second last one\n",
        "rank_4_tensor[:1, :1, :, :1]"
      ],
      "metadata": {
        "colab": {
          "base_uri": "https://localhost:8080/"
        },
        "id": "Xh4SckcqTygd",
        "outputId": "68f92a30-349c-483c-a3ac-39dae2db2457"
      },
      "execution_count": 56,
      "outputs": [
        {
          "output_type": "execute_result",
          "data": {
            "text/plain": [
              "<tf.Tensor: shape=(1, 1, 4, 1), dtype=float32, numpy=\n",
              "array([[[[0.],\n",
              "         [0.],\n",
              "         [0.],\n",
              "         [0.]]]], dtype=float32)>"
            ]
          },
          "metadata": {},
          "execution_count": 56
        }
      ]
    },
    {
      "cell_type": "code",
      "source": [
        "# Get the first element from each dimension from each index except the third last one\n",
        "rank_4_tensor[:1, :, :1, :1]"
      ],
      "metadata": {
        "colab": {
          "base_uri": "https://localhost:8080/"
        },
        "id": "fc04NLcIT4Kp",
        "outputId": "78eecd3d-a91c-4f58-d729-f40be8b77f9d"
      },
      "execution_count": 57,
      "outputs": [
        {
          "output_type": "execute_result",
          "data": {
            "text/plain": [
              "<tf.Tensor: shape=(1, 3, 1, 1), dtype=float32, numpy=\n",
              "array([[[[0.]],\n",
              "\n",
              "        [[0.]],\n",
              "\n",
              "        [[0.]]]], dtype=float32)>"
            ]
          },
          "metadata": {},
          "execution_count": 57
        }
      ]
    },
    {
      "cell_type": "code",
      "source": [
        "# create a rank 2 tensor which has 2 dimensions\n",
        "\n",
        "rank_2_tensor = tf.constant([[10,7],\n",
        "                             [3,4]])\n",
        "rank_2_tensor.shape\n",
        "rank_2_tensor.ndim"
      ],
      "metadata": {
        "id": "iT36P3cFT-Mj",
        "colab": {
          "base_uri": "https://localhost:8080/"
        },
        "outputId": "57447450-644b-4e17-8511-a2b5ec2e26c9"
      },
      "execution_count": 59,
      "outputs": [
        {
          "output_type": "execute_result",
          "data": {
            "text/plain": [
              "2"
            ]
          },
          "metadata": {},
          "execution_count": 59
        }
      ]
    },
    {
      "cell_type": "code",
      "source": [],
      "metadata": {
        "id": "7W9EXuvPplYK"
      },
      "execution_count": null,
      "outputs": []
    }
  ]
}