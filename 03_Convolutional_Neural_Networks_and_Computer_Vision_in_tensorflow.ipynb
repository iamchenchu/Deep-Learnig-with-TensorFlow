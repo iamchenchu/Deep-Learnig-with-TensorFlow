{
  "nbformat": 4,
  "nbformat_minor": 0,
  "metadata": {
    "colab": {
      "provenance": [],
      "authorship_tag": "ABX9TyNf0fbKoxi21tz4ay53LtyV",
      "include_colab_link": true
    },
    "kernelspec": {
      "name": "python3",
      "display_name": "Python 3"
    },
    "language_info": {
      "name": "python"
    }
  },
  "cells": [
    {
      "cell_type": "markdown",
      "metadata": {
        "id": "view-in-github",
        "colab_type": "text"
      },
      "source": [
        "<a href=\"https://colab.research.google.com/github/iamchenchu/Deep-Learnig-with-TensorFlow/blob/main/03_Convolutional_Neural_Networks_and_Computer_Vision_in_tensorflow.ipynb\" target=\"_parent\"><img src=\"https://colab.research.google.com/assets/colab-badge.svg\" alt=\"Open In Colab\"/></a>"
      ]
    },
    {
      "cell_type": "code",
      "execution_count": null,
      "metadata": {
        "id": "uYNtdwzSEa3K"
      },
      "outputs": [],
      "source": []
    },
    {
      "cell_type": "markdown",
      "source": [
        "# Introduction to Convolutional Neural Networks and Computer Vision with TensorFlow\n",
        "\n",
        "Computer vision is the practice of writing algorithms which can discover patterns in visual data. Such as the camera of self driving car recognizing the car in front."
      ],
      "metadata": {
        "id": "QFojNxQJJtui"
      }
    },
    {
      "cell_type": "markdown",
      "source": [
        "# Get the data\n",
        "\n",
        "The images that we are working with are from the Food101 dataset (101 different classes of food ) : https://data.vision.ee.ethz.ch/cvl/datasets_extra/food-101/\n",
        "\n",
        "However we've modified it to only use two classes (pizza & steak) using the image data modification notebook.\n",
        "\n",
        "Note : 🔑 Note: To prepare the data we're using, preprocessing steps such as, moving the images into different subset folders, have been done. To see these preprocessing steps check out the preprocessing notebook.\n",
        "\n",
        "https://github.com/mrdbourke/tensorflow-deep-learning/blob/main/extras/image_data_modification.ipynb\n",
        "\n",
        "We'll download the pizza_steak subset .zip file and unzip it.\n",
        "\n",
        "\n",
        "\n",
        "We will start with the small dataset so that we can experiment quickly and figure what works (or better yet what doesn't work)\n",
        "\n"
      ],
      "metadata": {
        "id": "sIWUadRzMPfK"
      }
    },
    {
      "cell_type": "code",
      "source": [
        "import zipfile\n",
        "\n",
        "#Download the zip file of pizza steak images\n",
        "!wget https://storage.googleapis.com/ztm_tf_course/food_vision/pizza_steak.zip\n",
        "\n",
        "#unzip the downloaded file\n",
        "zip_ref = zipfile.ZipFile(\"pizza_steak.zip\", \"r\")\n",
        "zip_ref.extractall()\n",
        "zip_ref.close()\n",
        "\n",
        "\n"
      ],
      "metadata": {
        "colab": {
          "base_uri": "https://localhost:8080/"
        },
        "id": "68yXAiH6MMYd",
        "outputId": "7fda819f-5dfb-4c83-ea0c-753e0a1765e5"
      },
      "execution_count": null,
      "outputs": [
        {
          "output_type": "stream",
          "name": "stdout",
          "text": [
            "--2023-12-12 22:57:07--  https://storage.googleapis.com/ztm_tf_course/food_vision/pizza_steak.zip\n",
            "Resolving storage.googleapis.com (storage.googleapis.com)... 172.217.212.207, 142.250.128.207, 172.253.114.207, ...\n",
            "Connecting to storage.googleapis.com (storage.googleapis.com)|172.217.212.207|:443... connected.\n",
            "HTTP request sent, awaiting response... 200 OK\n",
            "Length: 109540975 (104M) [application/zip]\n",
            "Saving to: ‘pizza_steak.zip.1’\n",
            "\n",
            "pizza_steak.zip.1   100%[===================>] 104.47M   263MB/s    in 0.4s    \n",
            "\n",
            "2023-12-12 22:57:08 (263 MB/s) - ‘pizza_steak.zip.1’ saved [109540975/109540975]\n",
            "\n"
          ]
        }
      ]
    },
    {
      "cell_type": "markdown",
      "source": [
        "##Inspeact the data (Become one with it)\n",
        "\n",
        "A very crutial step at the beginning of any machine learning project is becoming one with the data and for computer vision project...this usually means visualizing many sampleas of your data."
      ],
      "metadata": {
        "id": "67QN7XqAQXBX"
      }
    },
    {
      "cell_type": "code",
      "source": [
        "!ls pizza_steak"
      ],
      "metadata": {
        "id": "MQ8hbxC5Pe8Z",
        "colab": {
          "base_uri": "https://localhost:8080/"
        },
        "outputId": "eafe73e4-dc79-47bd-a53d-e959c76c1cb1"
      },
      "execution_count": 3,
      "outputs": [
        {
          "output_type": "stream",
          "name": "stdout",
          "text": [
            "test  train\n"
          ]
        }
      ]
    },
    {
      "cell_type": "code",
      "source": [
        "!ls pizza_steak/train/\n"
      ],
      "metadata": {
        "colab": {
          "base_uri": "https://localhost:8080/"
        },
        "id": "MlNtk3vg59Z-",
        "outputId": "a623f813-6823-45a3-f05b-0d83e461bf8b"
      },
      "execution_count": 4,
      "outputs": [
        {
          "output_type": "stream",
          "name": "stdout",
          "text": [
            "pizza  steak\n"
          ]
        }
      ]
    },
    {
      "cell_type": "code",
      "source": [
        "!ls pizza_steak/train/steak/"
      ],
      "metadata": {
        "colab": {
          "base_uri": "https://localhost:8080/"
        },
        "id": "kZYwAwVx6CY0",
        "outputId": "b5921376-9b62-4d5a-b365-a91a6e3a1f4d"
      },
      "execution_count": 5,
      "outputs": [
        {
          "output_type": "stream",
          "name": "stdout",
          "text": [
            "1000205.jpg  1598345.jpg  2062248.jpg  2548974.jpg  3030578.jpg  3571963.jpg  510757.jpg\n",
            "100135.jpg   1598885.jpg  2081995.jpg  2549316.jpg  3047807.jpg  3576078.jpg  513129.jpg\n",
            "101312.jpg   1600179.jpg  2087958.jpg  2561199.jpg  3059843.jpg  3577618.jpg  513842.jpg\n",
            "1021458.jpg  1600794.jpg  2088030.jpg  2563233.jpg  3074367.jpg  3577732.jpg  523535.jpg\n",
            "1032846.jpg  160552.jpg   2088195.jpg  256592.jpg   3082120.jpg  3578934.jpg  525041.jpg\n",
            "10380.jpg    1606596.jpg  2090493.jpg  2568848.jpg  3094354.jpg  358042.jpg   534560.jpg\n",
            "1049459.jpg  1615395.jpg  2090504.jpg  2573392.jpg  3095301.jpg  358045.jpg   534633.jpg\n",
            "1053665.jpg  1618011.jpg  2125877.jpg  2592401.jpg  3099645.jpg  3591821.jpg  536535.jpg\n",
            "1068516.jpg  1619357.jpg  2129685.jpg  2599817.jpg  3100476.jpg  359330.jpg   541410.jpg\n",
            "1068975.jpg  1621763.jpg  2133717.jpg  2603058.jpg  3110387.jpg  3601483.jpg  543691.jpg\n",
            "1081258.jpg  1623325.jpg  2136662.jpg  2606444.jpg  3113772.jpg  3606642.jpg  560503.jpg\n",
            "1090122.jpg  1624450.jpg  213765.jpg   2614189.jpg  3116018.jpg  3609394.jpg  561972.jpg\n",
            "1093966.jpg  1624747.jpg  2138335.jpg  2614649.jpg  3128952.jpg  361067.jpg   56240.jpg\n",
            "1098844.jpg  1628861.jpg  2140776.jpg  2615718.jpg  3130412.jpg  3613455.jpg  56409.jpg\n",
            "1100074.jpg  1632774.jpg  214320.jpg   2619625.jpg  3136.jpg\t 3621464.jpg  564530.jpg\n",
            "1105280.jpg  1636831.jpg  2146963.jpg  2622140.jpg  313851.jpg\t 3621562.jpg  568972.jpg\n",
            "1117936.jpg  1645470.jpg  215222.jpg   262321.jpg   3140083.jpg  3621565.jpg  576725.jpg\n",
            "1126126.jpg  1647351.jpg  2154126.jpg  2625330.jpg  3140147.jpg  3623556.jpg  588739.jpg\n",
            "114601.jpg   1650002.jpg  2154779.jpg  2628106.jpg  3142045.jpg  3640915.jpg  590142.jpg\n",
            "1147047.jpg  165639.jpg   2159975.jpg  2629750.jpg  3142618.jpg  3643951.jpg  60633.jpg\n",
            "1147883.jpg  1658186.jpg  2163079.jpg  2643906.jpg  3142674.jpg  3653129.jpg  60655.jpg\n",
            "1155665.jpg  1658443.jpg  217250.jpg   2644457.jpg  3143192.jpg  3656752.jpg  606820.jpg\n",
            "1163977.jpg  165964.jpg   2172600.jpg  2648423.jpg  314359.jpg\t 3663518.jpg  612551.jpg\n",
            "1190233.jpg  167069.jpg   2173084.jpg  2651300.jpg  3157832.jpg  3663800.jpg  614975.jpg\n",
            "1208405.jpg  1675632.jpg  217996.jpg   2653594.jpg  3159818.jpg  3664376.jpg  616809.jpg\n",
            "1209120.jpg  1678108.jpg  2193684.jpg  2661577.jpg  3162376.jpg  3670607.jpg  628628.jpg\n",
            "1212161.jpg  168006.jpg   220341.jpg   2668916.jpg  3168620.jpg  3671021.jpg  632427.jpg\n",
            "1213988.jpg  1682496.jpg  22080.jpg    268444.jpg   3171085.jpg  3671877.jpg  636594.jpg\n",
            "1219039.jpg  1684438.jpg  2216146.jpg  2691461.jpg  317206.jpg\t 368073.jpg   637374.jpg\n",
            "1225762.jpg  168775.jpg   2222018.jpg  2706403.jpg  3173444.jpg  368162.jpg   640539.jpg\n",
            "1230968.jpg  1697339.jpg  2223787.jpg  270687.jpg   3180182.jpg  368170.jpg   644777.jpg\n",
            "1236155.jpg  1710569.jpg  2230959.jpg  2707522.jpg  31881.jpg\t 3693649.jpg  644867.jpg\n",
            "1241193.jpg  1714605.jpg  2232310.jpg  2711806.jpg  3191589.jpg  3700079.jpg  658189.jpg\n",
            "1248337.jpg  1724387.jpg  2233395.jpg  2716993.jpg  3204977.jpg  3704103.jpg  660900.jpg\n",
            "1257104.jpg  1724717.jpg  2238681.jpg  2724554.jpg  320658.jpg\t 3707493.jpg  663014.jpg\n",
            "126345.jpg   172936.jpg   2238802.jpg  2738227.jpg  3209173.jpg  3716881.jpg  664545.jpg\n",
            "1264050.jpg  1736543.jpg  2254705.jpg  2748917.jpg  3223400.jpg  3724677.jpg  667075.jpg\n",
            "1264154.jpg  1736968.jpg  225990.jpg   2760475.jpg  3223601.jpg  3727036.jpg  669180.jpg\n",
            "1264858.jpg  1746626.jpg  2260231.jpg  2761427.jpg  3241894.jpg  3727491.jpg  669960.jpg\n",
            "127029.jpg   1752330.jpg  2268692.jpg  2765887.jpg  3245533.jpg  3736065.jpg  6709.jpg\n",
            "1289900.jpg  1761285.jpg  2271133.jpg  2768451.jpg  3245622.jpg  37384.jpg    674001.jpg\n",
            "1290362.jpg  176508.jpg   227576.jpg   2771149.jpg  3247009.jpg  3743286.jpg  676189.jpg\n",
            "1295457.jpg  1772039.jpg  2283057.jpg  2779040.jpg  3253588.jpg  3745515.jpg  681609.jpg\n",
            "1312841.jpg  1777107.jpg  2286639.jpg  2788312.jpg  3260624.jpg  3750472.jpg  6926.jpg\n",
            "1313316.jpg  1787505.jpg  2287136.jpg  2788759.jpg  326587.jpg\t 3752362.jpg  703556.jpg\n",
            "1324791.jpg  179293.jpg   2291292.jpg  2796102.jpg  32693.jpg\t 3766099.jpg  703909.jpg\n",
            "1327567.jpg  1816235.jpg  229323.jpg   280284.jpg   3271253.jpg  3770370.jpg  704316.jpg\n",
            "1327667.jpg  1822407.jpg  2300534.jpg  2807888.jpg  3274423.jpg  377190.jpg   714298.jpg\n",
            "1333055.jpg  1823263.jpg  2300845.jpg  2815172.jpg  3280453.jpg  3777020.jpg  720060.jpg\n",
            "1334054.jpg  1826066.jpg  231296.jpg   2818805.jpg  3298495.jpg  3777482.jpg  726083.jpg\n",
            "1335556.jpg  1828502.jpg  2315295.jpg  2823872.jpg  330182.jpg\t 3781152.jpg  728020.jpg\n",
            "1337814.jpg  1828969.jpg  2323132.jpg  2824680.jpg  3306627.jpg  3787809.jpg  732986.jpg\n",
            "1340977.jpg  1829045.jpg  2324994.jpg  2825100.jpg  3315727.jpg  3788729.jpg  734445.jpg\n",
            "1343209.jpg  1829088.jpg  2327701.jpg  2826987.jpg  331860.jpg\t 3790962.jpg  735441.jpg\n",
            "134369.jpg   1836332.jpg  2331076.jpg  2832499.jpg  332232.jpg\t 3792514.jpg  740090.jpg\n",
            "1344105.jpg  1839025.jpg  233964.jpg   2832960.jpg  3322909.jpg  379737.jpg   745189.jpg\n",
            "134598.jpg   1839481.jpg  2344227.jpg  285045.jpg   332557.jpg\t 3807440.jpg  752203.jpg\n",
            "1346387.jpg  183995.jpg   234626.jpg   285147.jpg   3326734.jpg  381162.jpg   75537.jpg\n",
            "1348047.jpg  184110.jpg   234704.jpg   2855315.jpg  3330642.jpg  3812039.jpg  756655.jpg\n",
            "1351372.jpg  184226.jpg   2357281.jpg  2856066.jpg  3333128.jpg  3829392.jpg  762210.jpg\n",
            "1362989.jpg  1846706.jpg  2361812.jpg  2859933.jpg  3333735.jpg  3830872.jpg  763690.jpg\n",
            "1367035.jpg  1849364.jpg  2365287.jpg  286219.jpg   3334973.jpg  38442.jpg    767442.jpg\n",
            "1371177.jpg  1849463.jpg  2374582.jpg  2862562.jpg  3335013.jpg  3855584.jpg  786409.jpg\n",
            "1375640.jpg  1849542.jpg  239025.jpg   2865730.jpg  3335267.jpg  3857508.jpg  80215.jpg\n",
            "1382427.jpg  1853564.jpg  2390628.jpg  2878151.jpg  3346787.jpg  386335.jpg   802348.jpg\n",
            "1392718.jpg  1869467.jpg  2392910.jpg  2880035.jpg  3364420.jpg  3867460.jpg  804684.jpg\n",
            "1395906.jpg  1870942.jpg  2394465.jpg  2881783.jpg  336637.jpg\t 3868959.jpg  812163.jpg\n",
            "1400760.jpg  187303.jpg   2395127.jpg  2884233.jpg  3372616.jpg  3869679.jpg  813486.jpg\n",
            "1403005.jpg  187521.jpg   2396291.jpg  2890573.jpg  3375959.jpg  388776.jpg   819027.jpg\n",
            "1404770.jpg  1888450.jpg  2400975.jpg  2893832.jpg  3381560.jpg  3890465.jpg  822550.jpg\n",
            "140832.jpg   1889336.jpg  2403776.jpg  2893892.jpg  3382936.jpg  3894222.jpg  823766.jpg\n",
            "141056.jpg   1907039.jpg  2403907.jpg  2907177.jpg  3386119.jpg  3895825.jpg  827764.jpg\n",
            "141135.jpg   1925230.jpg  240435.jpg   290850.jpg   3388717.jpg  389739.jpg   830007.jpg\n",
            "1413972.jpg  1927984.jpg  2404695.jpg  2909031.jpg  3389138.jpg  3916407.jpg  838344.jpg\n",
            "1421393.jpg  1930577.jpg  2404884.jpg  2910418.jpg  3393547.jpg  393349.jpg   853327.jpg\n",
            "1428947.jpg  1937872.jpg  2407770.jpg  2912290.jpg  3393688.jpg  393494.jpg   854150.jpg\n",
            "1433912.jpg  1941807.jpg  2412263.jpg  2916448.jpg  3396589.jpg  398288.jpg   864997.jpg\n",
            "143490.jpg   1942333.jpg  2425062.jpg  2916967.jpg  339891.jpg\t 40094.jpg    885571.jpg\n",
            "1445352.jpg  1945132.jpg  2425389.jpg  2927833.jpg  3417789.jpg  401094.jpg   907107.jpg\n",
            "1446401.jpg  1961025.jpg  2435316.jpg  2928643.jpg  3425047.jpg  401144.jpg   908261.jpg\n",
            "1453991.jpg  1966300.jpg  2437268.jpg  2929179.jpg  3434983.jpg  401651.jpg   910672.jpg\n",
            "1456841.jpg  1966967.jpg  2437843.jpg  2936477.jpg  3435358.jpg  405173.jpg   911803.jpg\n",
            "146833.jpg   1969596.jpg  2440131.jpg  2938012.jpg  3438319.jpg  405794.jpg   91432.jpg\n",
            "1476404.jpg  1971757.jpg  2443168.jpg  2938151.jpg  3444407.jpg  40762.jpg    914570.jpg\n",
            "1485083.jpg  1976160.jpg  2446660.jpg  2939678.jpg  345734.jpg\t 413325.jpg   922752.jpg\n",
            "1487113.jpg  1984271.jpg  2455944.jpg  2940544.jpg  3460673.jpg  417368.jpg   923772.jpg\n",
            "148916.jpg   1987213.jpg  2458401.jpg  2940621.jpg  3465327.jpg  4176.jpg     926414.jpg\n",
            "149087.jpg   1987639.jpg  2487306.jpg  2949079.jpg  3466159.jpg  42125.jpg    931356.jpg\n",
            "1493169.jpg  1995118.jpg  248841.jpg   295491.jpg   3469024.jpg  421476.jpg   937133.jpg\n",
            "149682.jpg   1995252.jpg  2489716.jpg  296268.jpg   3470083.jpg  421561.jpg   945791.jpg\n",
            "1508094.jpg  199754.jpg   2490489.jpg  2964732.jpg  3476564.jpg  438871.jpg   947877.jpg\n",
            "1512226.jpg  2002400.jpg  2495884.jpg  2965021.jpg  3478318.jpg  43924.jpg    952407.jpg\n",
            "1512347.jpg  2011264.jpg  2495903.jpg  2966859.jpg  3488748.jpg  440188.jpg   952437.jpg\n",
            "1524526.jpg  2012996.jpg  2499364.jpg  2977966.jpg  3492328.jpg  442757.jpg   955466.jpg\n",
            "1530833.jpg  2013535.jpg  2500292.jpg  2979061.jpg  3518960.jpg  443210.jpg   9555.jpg\n",
            "1539499.jpg  2017387.jpg  2509017.jpg  2983260.jpg  3522209.jpg  444064.jpg   961341.jpg\n",
            "1541672.jpg  2018173.jpg  250978.jpg   2984311.jpg  3524429.jpg  444709.jpg   97656.jpg\n",
            "1548239.jpg  2020613.jpg  2514432.jpg  2988960.jpg  3528458.jpg  447557.jpg   979110.jpg\n",
            "1550997.jpg  2032669.jpg  2526838.jpg  2989882.jpg  3531805.jpg  461187.jpg   980247.jpg\n",
            "1552530.jpg  203450.jpg   252858.jpg   2995169.jpg  3536023.jpg  461689.jpg   982988.jpg\n",
            "15580.jpg    2034628.jpg  2532239.jpg  2996324.jpg  3538682.jpg  465494.jpg   987732.jpg\n",
            "1559052.jpg  2036920.jpg  2534567.jpg  3000131.jpg  3540750.jpg  468384.jpg   996684.jpg\n",
            "1563266.jpg  2038418.jpg  2535431.jpg  3002350.jpg  354329.jpg\t 477486.jpg\n",
            "1567554.jpg  2042975.jpg  2535456.jpg  3007772.jpg  3547166.jpg  482022.jpg\n",
            "1575322.jpg  2045647.jpg  2538000.jpg  3008192.jpg  3553911.jpg  482465.jpg\n",
            "1588879.jpg  2050584.jpg  2543081.jpg  3009617.jpg  3556871.jpg  483788.jpg\n",
            "1594719.jpg  2052542.jpg  2544643.jpg  3011642.jpg  355715.jpg\t 493029.jpg\n",
            "1595869.jpg  2056627.jpg  2547797.jpg  3020591.jpg  356234.jpg\t 503589.jpg\n"
          ]
        }
      ]
    },
    {
      "cell_type": "code",
      "source": [
        "import os\n",
        "\n",
        "#Walk through pizza_steak directory and list number of files\n",
        "\n",
        "for dirpath, dirnames, filenames in os.walk(\"pizza_steak\"):\n",
        "  print((f\"there are {len(dirnames)} directories and {len(filenames)} images in '{dirpath}' .\"))"
      ],
      "metadata": {
        "colab": {
          "base_uri": "https://localhost:8080/"
        },
        "id": "-bcjDwGH6JJR",
        "outputId": "2cf2d23f-18a7-42ee-e328-46cd4f2231f9"
      },
      "execution_count": 8,
      "outputs": [
        {
          "output_type": "stream",
          "name": "stdout",
          "text": [
            "there are 2 directories and 0 images in 'pizza_steak' .\n",
            "there are 2 directories and 0 images in 'pizza_steak/train' .\n",
            "there are 0 directories and 750 images in 'pizza_steak/train/steak' .\n",
            "there are 0 directories and 750 images in 'pizza_steak/train/pizza' .\n",
            "there are 2 directories and 0 images in 'pizza_steak/test' .\n",
            "there are 0 directories and 250 images in 'pizza_steak/test/steak' .\n",
            "there are 0 directories and 250 images in 'pizza_steak/test/pizza' .\n"
          ]
        }
      ]
    },
    {
      "cell_type": "code",
      "source": [
        "!ls -la pizza_steak    #Also lists the files which are hidden"
      ],
      "metadata": {
        "colab": {
          "base_uri": "https://localhost:8080/"
        },
        "id": "oOsp4_5O6PB-",
        "outputId": "560c3402-282a-4a10-f9b6-da59fb613b14"
      },
      "execution_count": 11,
      "outputs": [
        {
          "output_type": "stream",
          "name": "stdout",
          "text": [
            "total 16\n",
            "drwxr-xr-x 4 root root 4096 Dec 12 22:57 .\n",
            "drwxr-xr-x 1 root root 4096 Dec 12 22:57 ..\n",
            "drwxr-xr-x 4 root root 4096 Dec 12 22:57 test\n",
            "drwxr-xr-x 4 root root 4096 Dec 12 22:57 train\n"
          ]
        }
      ]
    },
    {
      "cell_type": "code",
      "source": [],
      "metadata": {
        "id": "wvcTrABR6-Zc"
      },
      "execution_count": null,
      "outputs": []
    }
  ]
}