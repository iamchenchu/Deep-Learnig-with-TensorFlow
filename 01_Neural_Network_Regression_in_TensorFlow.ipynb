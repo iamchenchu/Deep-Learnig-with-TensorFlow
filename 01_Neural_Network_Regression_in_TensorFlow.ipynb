{
  "nbformat": 4,
  "nbformat_minor": 0,
  "metadata": {
    "colab": {
      "provenance": [],
      "authorship_tag": "ABX9TyPU6sjy6rPpjK2ZOGCtsy9w",
      "include_colab_link": true
    },
    "kernelspec": {
      "name": "python3",
      "display_name": "Python 3"
    },
    "language_info": {
      "name": "python"
    }
  },
  "cells": [
    {
      "cell_type": "markdown",
      "metadata": {
        "id": "view-in-github",
        "colab_type": "text"
      },
      "source": [
        "<a href=\"https://colab.research.google.com/github/iamchenchu/Deep-Learnig-with-TensorFlow/blob/main/01_Neural_Network_Regression_in_TensorFlow.ipynb\" target=\"_parent\"><img src=\"https://colab.research.google.com/assets/colab-badge.svg\" alt=\"Open In Colab\"/></a>"
      ]
    },
    {
      "cell_type": "markdown",
      "source": [
        "**Introduction Regression with Neural Network in TensorFlow**\n",
        "\n",
        "There are many definitions for the regression problem but in our case, we're going to simplify it. Predicting a number based few inputs called features and label called output\n",
        "\n",
        "More simple : Predicting a number"
      ],
      "metadata": {
        "id": "wneBPCYpwbgq"
      }
    },
    {
      "cell_type": "code",
      "source": [
        "# Import TensorFlow\n",
        "\n",
        "import tensorflow as tf\n",
        "\n",
        "print(tf.__version__)\n",
        "\n",
        "import datetime\n",
        "print(f\"Notebook last run (end-to-end): {datetime.datetime.now()}\")"
      ],
      "metadata": {
        "colab": {
          "base_uri": "https://localhost:8080/"
        },
        "id": "LGPvIUEDwl3F",
        "outputId": "de7cab72-205c-477f-8fba-9be1889297a2"
      },
      "execution_count": 341,
      "outputs": [
        {
          "output_type": "stream",
          "name": "stdout",
          "text": [
            "2.14.0\n",
            "Notebook last run (end-to-end): 2023-11-26 03:52:25.073311\n"
          ]
        }
      ]
    },
    {
      "cell_type": "markdown",
      "source": [
        "**Creating data to view and fit**"
      ],
      "metadata": {
        "id": "wjc3i6OhxgGl"
      }
    },
    {
      "cell_type": "code",
      "source": [
        "import numpy as np\n",
        "import matplotlib.pyplot as plt\n",
        "\n",
        "#Create features\n",
        "\n",
        "X = np.array([-7.0, -4.0,-1.0, 2.0, 5.0, 8.0, 11.0, 14.0])\n",
        "\n",
        "#Create labels\n",
        "\n",
        "y = np.array([3.0, 6.0, 9.0, 12.0, 15.0, 18.0, 21.0, 24.0])\n",
        "\n",
        "#Visualize it\n",
        "plt.scatter(X,y)\n",
        "\n"
      ],
      "metadata": {
        "colab": {
          "base_uri": "https://localhost:8080/",
          "height": 452
        },
        "id": "V2rh8JRGxJ5w",
        "outputId": "4c8e3514-0b99-4bd4-d1bf-ec02255d7193"
      },
      "execution_count": 342,
      "outputs": [
        {
          "output_type": "execute_result",
          "data": {
            "text/plain": [
              "<matplotlib.collections.PathCollection at 0x7ac6aa58a740>"
            ]
          },
          "metadata": {},
          "execution_count": 342
        },
        {
          "output_type": "display_data",
          "data": {
            "text/plain": [
              "<Figure size 640x480 with 1 Axes>"
            ],
            "image/png": "[encoded data removed]"
          },
          "metadata": {}
        }
      ]
    },
    {
      "cell_type": "code",
      "source": [
        "y == X + 10 #if we closely observe the relation between above graph then we can realize as it is as true y == X + 10"
      ],
      "metadata": {
        "colab": {
          "base_uri": "https://localhost:8080/"
        },
        "id": "3BMS8toEyc5A",
        "outputId": "a6e7b352-915e-4176-f731-eb9ccaadde9a"
      },
      "execution_count": 343,
      "outputs": [
        {
          "output_type": "execute_result",
          "data": {
            "text/plain": [
              "array([ True,  True,  True,  True,  True,  True,  True,  True])"
            ]
          },
          "metadata": {},
          "execution_count": 343
        }
      ]
    },
    {
      "cell_type": "markdown",
      "source": [
        "**Input and Output Shapes**"
      ],
      "metadata": {
        "id": "1Ek_Nfm3y_BF"
      }
    },
    {
      "cell_type": "code",
      "source": [
        "#Create a demo tensor for our housing price prediction problems\n",
        "\n",
        "house_info = tf.constant([\"bedroom\", \"bathroom\", \"garage\"]) # Shape would be 3\n",
        "house_price = tf.constant([939700])   # Shape would be 1\n",
        "house_info, house_price"
      ],
      "metadata": {
        "colab": {
          "base_uri": "https://localhost:8080/"
        },
        "id": "NV8a2Zf6yuPC",
        "outputId": "14a198c8-c79a-4f41-b85d-e97df5103c19"
      },
      "execution_count": 344,
      "outputs": [
        {
          "output_type": "execute_result",
          "data": {
            "text/plain": [
              "(<tf.Tensor: shape=(3,), dtype=string, numpy=array([b'bedroom', b'bathroom', b'garage'], dtype=object)>,\n",
              " <tf.Tensor: shape=(1,), dtype=int32, numpy=array([939700], dtype=int32)>)"
            ]
          },
          "metadata": {},
          "execution_count": 344
        }
      ]
    },
    {
      "cell_type": "code",
      "source": [
        "house_info.shape"
      ],
      "metadata": {
        "colab": {
          "base_uri": "https://localhost:8080/"
        },
        "id": "-9erAt-1_iFr",
        "outputId": "93763ff9-b0c9-45e3-9dde-3e8ba8e9f616"
      },
      "execution_count": 345,
      "outputs": [
        {
          "output_type": "execute_result",
          "data": {
            "text/plain": [
              "TensorShape([3])"
            ]
          },
          "metadata": {},
          "execution_count": 345
        }
      ]
    },
    {
      "cell_type": "code",
      "source": [
        "input_shape = X.shape\n",
        "output_shape = y.shape\n",
        "input_shape, output_shape"
      ],
      "metadata": {
        "colab": {
          "base_uri": "https://localhost:8080/"
        },
        "id": "DqOARgI_zrw8",
        "outputId": "abb11eeb-b658-4a7f-9879-9b09a60a7872"
      },
      "execution_count": 346,
      "outputs": [
        {
          "output_type": "execute_result",
          "data": {
            "text/plain": [
              "((8,), (8,))"
            ]
          },
          "metadata": {},
          "execution_count": 346
        }
      ]
    },
    {
      "cell_type": "code",
      "source": [
        "X[0], y[0]"
      ],
      "metadata": {
        "colab": {
          "base_uri": "https://localhost:8080/"
        },
        "id": "a1d4UYDNz3cj",
        "outputId": "4ec48c82-374d-43ab-a520-db42b34a64e9"
      },
      "execution_count": 347,
      "outputs": [
        {
          "output_type": "execute_result",
          "data": {
            "text/plain": [
              "(-7.0, 3.0)"
            ]
          },
          "metadata": {},
          "execution_count": 347
        }
      ]
    },
    {
      "cell_type": "code",
      "source": [
        "X[1], y[1]"
      ],
      "metadata": {
        "colab": {
          "base_uri": "https://localhost:8080/"
        },
        "id": "-Vfvqji8z9t-",
        "outputId": "c59aa5e3-473f-4d8d-ef68-354968f711f3"
      },
      "execution_count": 348,
      "outputs": [
        {
          "output_type": "execute_result",
          "data": {
            "text/plain": [
              "(-4.0, 6.0)"
            ]
          },
          "metadata": {},
          "execution_count": 348
        }
      ]
    },
    {
      "cell_type": "code",
      "source": [
        "# turn our numpy arrays as tensors with dtype float32\n",
        "\n",
        "X = tf.cast(tf.constant(X), dtype = tf.float32)\n",
        "y = tf.cast(tf.constant(y), dtype = tf.float32)\n",
        "X, y"
      ],
      "metadata": {
        "colab": {
          "base_uri": "https://localhost:8080/"
        },
        "id": "yCDNYWUE0AWE",
        "outputId": "9b8a0e98-748c-4528-9b70-324f0aad0c58"
      },
      "execution_count": 349,
      "outputs": [
        {
          "output_type": "execute_result",
          "data": {
            "text/plain": [
              "(<tf.Tensor: shape=(8,), dtype=float32, numpy=array([-7., -4., -1.,  2.,  5.,  8., 11., 14.], dtype=float32)>,\n",
              " <tf.Tensor: shape=(8,), dtype=float32, numpy=array([ 3.,  6.,  9., 12., 15., 18., 21., 24.], dtype=float32)>)"
            ]
          },
          "metadata": {},
          "execution_count": 349
        }
      ]
    },
    {
      "cell_type": "code",
      "source": [
        "input_shape = X[0].shape    # as scalar has shape 0 it will not give us the shape\n",
        "output_shape = y[0].shape   # as scalar has shape 0 it will not give us the shape\n",
        "input_shape, output_shape"
      ],
      "metadata": {
        "colab": {
          "base_uri": "https://localhost:8080/"
        },
        "id": "WCkDOBrj0pRb",
        "outputId": "12ed8bc7-8379-4137-ef97-c5f655c960bc"
      },
      "execution_count": 350,
      "outputs": [
        {
          "output_type": "execute_result",
          "data": {
            "text/plain": [
              "(TensorShape([]), TensorShape([]))"
            ]
          },
          "metadata": {},
          "execution_count": 350
        }
      ]
    },
    {
      "cell_type": "code",
      "source": [
        "plt.scatter(X,y)"
      ],
      "metadata": {
        "colab": {
          "base_uri": "https://localhost:8080/",
          "height": 452
        },
        "id": "bfyPIgrs01UK",
        "outputId": "a60c5c37-b1e5-4336-82db-905c38f8f121"
      },
      "execution_count": 351,
      "outputs": [
        {
          "output_type": "execute_result",
          "data": {
            "text/plain": [
              "<matplotlib.collections.PathCollection at 0x7ac6ab062530>"
            ]
          },
          "metadata": {},
          "execution_count": 351
        },
        {
          "output_type": "display_data",
          "data": {
            "text/plain": [
              "<Figure size 640x480 with 1 Axes>"
            ],
            "image/png": "[encoded data removed]"
          },
          "metadata": {}
        }
      ]
    },
    {
      "cell_type": "markdown",
      "source": [
        "**Steps in modeling with TensorFlow**\n",
        "\n",
        "Now we know what data we have as well as the input and output shapes, let's see how we'd build a neural network to model it.\n",
        "\n",
        "In TensorFlow, there are typically 3 fundamental steps to creating and training a model.\n",
        "\n",
        "**1.Creating a model** - piece together the layers of a neural network yourself (using the Functional or Sequential API) or import a previously built model (known as transfer learning).\n",
        "\n",
        "**2.Compiling a model** - defining how a models performance should be measured (loss/metrics) as well as defining how it should improve (optimizer).\n",
        "\n",
        "**3.Fitting a model** - letting the model try to find patterns in the data (how does X get to y).\n",
        "\n",
        "Let's see these in action using the Keras Sequential API to build a model for our regression data. And then we'll step through each.\n",
        "\n",
        "Note: If you're using TensorFlow 2.7.0+, the fit() function no longer upscales input data to go from (batch_size, ) to (batch_size, 1). To fix this, you'll need to expand the dimension of input data using tf.expand_dims(input_data, axis=-1).\n",
        "\n",
        "In our case, this means instead of using model.fit(X, y, epochs=5), use model.fit(tf.expand_dims(X, axis=-1), y, epochs=5)."
      ],
      "metadata": {
        "id": "cfUv0lMa1OkS"
      }
    },
    {
      "cell_type": "code",
      "source": [
        "# Set random seed\n",
        "tf.random.set_seed(42)\n",
        "\n",
        "# Create a model using the Sequential API\n",
        "model = tf.keras.Sequential([\n",
        "  tf.keras.layers.Dense(1)\n",
        "])\n",
        "\n",
        "# Compile the model\n",
        "model.compile(loss=tf.keras.losses.mae, # mae is short for mean absolute error\n",
        "              optimizer=tf.keras.optimizers.SGD(), # SGD is short for stochastic gradient descent\n",
        "              metrics=[\"mae\"])\n",
        "\n",
        "# Fit the model\n",
        "# model.fit(X, y, epochs=5) # this will break with TensorFlow 2.7.0+\n",
        "model.fit(tf.expand_dims(X, axis=-1), y, epochs=5)\n"
      ],
      "metadata": {
        "id": "MU36AGjp1HCd",
        "colab": {
          "base_uri": "https://localhost:8080/"
        },
        "outputId": "fd68854b-6849-451d-923c-c5a8778128ce"
      },
      "execution_count": 352,
      "outputs": [
        {
          "output_type": "stream",
          "name": "stdout",
          "text": [
            "Epoch 1/5\n",
            "1/1 [==============================] - 2s 2s/step - loss: 20.1580 - mae: 20.1580\n",
            "Epoch 2/5\n",
            "1/1 [==============================] - 0s 11ms/step - loss: 19.8768 - mae: 19.8768\n",
            "Epoch 3/5\n",
            "1/1 [==============================] - 0s 13ms/step - loss: 19.5955 - mae: 19.5955\n",
            "Epoch 4/5\n",
            "1/1 [==============================] - 0s 11ms/step - loss: 19.3143 - mae: 19.3143\n",
            "Epoch 5/5\n",
            "1/1 [==============================] - 0s 11ms/step - loss: 19.0330 - mae: 19.0330\n"
          ]
        },
        {
          "output_type": "execute_result",
          "data": {
            "text/plain": [
              "<keras.src.callbacks.History at 0x7ac6a9f16fb0>"
            ]
          },
          "metadata": {},
          "execution_count": 352
        }
      ]
    },
    {
      "cell_type": "code",
      "source": [
        "# Chench the X and y\n",
        "\n",
        "X, y"
      ],
      "metadata": {
        "id": "qjnQySvV2_EN",
        "colab": {
          "base_uri": "https://localhost:8080/"
        },
        "outputId": "2f0d03b4-4ca1-4498-a6b1-67a20cf21270"
      },
      "execution_count": 353,
      "outputs": [
        {
          "output_type": "execute_result",
          "data": {
            "text/plain": [
              "(<tf.Tensor: shape=(8,), dtype=float32, numpy=array([-7., -4., -1.,  2.,  5.,  8., 11., 14.], dtype=float32)>,\n",
              " <tf.Tensor: shape=(8,), dtype=float32, numpy=array([ 3.,  6.,  9., 12., 15., 18., 21., 24.], dtype=float32)>)"
            ]
          },
          "metadata": {},
          "execution_count": 353
        }
      ]
    },
    {
      "cell_type": "code",
      "source": [
        "#Try and make a prediction using a model\n",
        "y_pred = model.predict([17.0])\n",
        "y_pred"
      ],
      "metadata": {
        "colab": {
          "base_uri": "https://localhost:8080/"
        },
        "id": "Dv-SsiPmA7Nj",
        "outputId": "674f442a-55f4-4723-fe5c-9c1e9fc2927e"
      },
      "execution_count": 354,
      "outputs": [
        {
          "output_type": "stream",
          "name": "stdout",
          "text": [
            "1/1 [==============================] - 0s 136ms/step\n"
          ]
        },
        {
          "output_type": "execute_result",
          "data": {
            "text/plain": [
              "array([[-19.48794]], dtype=float32)"
            ]
          },
          "metadata": {},
          "execution_count": 354
        }
      ]
    },
    {
      "cell_type": "code",
      "source": [
        "y_pred + 11"
      ],
      "metadata": {
        "colab": {
          "base_uri": "https://localhost:8080/"
        },
        "id": "89dikh6iBE-g",
        "outputId": "b29db15b-1cd0-426f-bd86-e2bab523239d"
      },
      "execution_count": 355,
      "outputs": [
        {
          "output_type": "execute_result",
          "data": {
            "text/plain": [
              "array([[-8.48794]], dtype=float32)"
            ]
          },
          "metadata": {},
          "execution_count": 355
        }
      ]
    },
    {
      "cell_type": "markdown",
      "source": [
        "**Improving the model**\n",
        "\n",
        "We can improve our model by altering the steps we taken to create our model\n",
        "\n",
        "1. **Creating model** : here We might add more layers, increase the number of hidden layers, chnage the activation function of each layer.\n",
        "\n",
        "2. **Compiling a model** : Here we might change the optimization function or perhaps the **Learning rate** of the optimization function.\n",
        "\n",
        "3. **Fitting a model** : Here we might fit a model for more **Epochs** (Leave it training for longer) or on more data (Give the model more examples to learn from)"
      ],
      "metadata": {
        "id": "C2ogYWveDS_Z"
      }
    },
    {
      "cell_type": "code",
      "source": [
        "\n",
        "# Create a model using the Sequential API\n",
        "\n",
        "model = tf.keras.Sequential([\n",
        "  tf.keras.layers.Dense(1)\n",
        "])\n",
        "\n",
        "# Compile the model\n",
        "\n",
        "model.compile(loss=tf.keras.losses.mae, # mae is short for mean absolute error\n",
        "              optimizer=tf.keras.optimizers.SGD(), # SGD is short for stochastic gradient descent\n",
        "              metrics=[\"mae\"])\n",
        "\n",
        "# Fit the model\n",
        "# model.fit(X, y, epochs=5) # this will break with TensorFlow 2.7.0+\n",
        "model.fit(tf.expand_dims(X, axis=-1), y, epochs=100)\n",
        "\n",
        "# in the output it would be improved for better than before by just increasing the epochs to 100 training examples"
      ],
      "metadata": {
        "colab": {
          "base_uri": "https://localhost:8080/"
        },
        "id": "7os6zuR6BWdc",
        "outputId": "6fb5a353-fb93-4844-9156-258d10c4433b"
      },
      "execution_count": 356,
      "outputs": [
        {
          "output_type": "stream",
          "name": "stdout",
          "text": [
            "Epoch 1/100\n",
            "1/1 [==============================] - 1s 589ms/step - loss: 7.9014 - mae: 7.9014\n",
            "Epoch 2/100\n",
            "1/1 [==============================] - 0s 16ms/step - loss: 7.7689 - mae: 7.7689\n",
            "Epoch 3/100\n",
            "1/1 [==============================] - 0s 16ms/step - loss: 7.6364 - mae: 7.6364\n",
            "Epoch 4/100\n",
            "1/1 [==============================] - 0s 18ms/step - loss: 7.5039 - mae: 7.5039\n",
            "Epoch 5/100\n",
            "1/1 [==============================] - 0s 25ms/step - loss: 7.4700 - mae: 7.4700\n",
            "Epoch 6/100\n",
            "1/1 [==============================] - 0s 19ms/step - loss: 7.4644 - mae: 7.4644\n",
            "Epoch 7/100\n",
            "1/1 [==============================] - 0s 20ms/step - loss: 7.4587 - mae: 7.4587\n",
            "Epoch 8/100\n",
            "1/1 [==============================] - 0s 15ms/step - loss: 7.4531 - mae: 7.4531\n",
            "Epoch 9/100\n",
            "1/1 [==============================] - 0s 10ms/step - loss: 7.4475 - mae: 7.4475\n",
            "Epoch 10/100\n",
            "1/1 [==============================] - 0s 19ms/step - loss: 7.4419 - mae: 7.4419\n",
            "Epoch 11/100\n",
            "1/1 [==============================] - 0s 15ms/step - loss: 7.4362 - mae: 7.4362\n",
            "Epoch 12/100\n",
            "1/1 [==============================] - 0s 17ms/step - loss: 7.4306 - mae: 7.4306\n",
            "Epoch 13/100\n",
            "1/1 [==============================] - 0s 15ms/step - loss: 7.4250 - mae: 7.4250\n",
            "Epoch 14/100\n",
            "1/1 [==============================] - 0s 19ms/step - loss: 7.4194 - mae: 7.4194\n",
            "Epoch 15/100\n",
            "1/1 [==============================] - 0s 38ms/step - loss: 7.4138 - mae: 7.4138\n",
            "Epoch 16/100\n",
            "1/1 [==============================] - 0s 17ms/step - loss: 7.4081 - mae: 7.4081\n",
            "Epoch 17/100\n",
            "1/1 [==============================] - 0s 17ms/step - loss: 7.4025 - mae: 7.4025\n",
            "Epoch 18/100\n",
            "1/1 [==============================] - 0s 18ms/step - loss: 7.3969 - mae: 7.3969\n",
            "Epoch 19/100\n",
            "1/1 [==============================] - 0s 18ms/step - loss: 7.3912 - mae: 7.3912\n",
            "Epoch 20/100\n",
            "1/1 [==============================] - 0s 19ms/step - loss: 7.3856 - mae: 7.3856\n",
            "Epoch 21/100\n",
            "1/1 [==============================] - 0s 18ms/step - loss: 7.3800 - mae: 7.3800\n",
            "Epoch 22/100\n",
            "1/1 [==============================] - 0s 21ms/step - loss: 7.3744 - mae: 7.3744\n",
            "Epoch 23/100\n",
            "1/1 [==============================] - 0s 17ms/step - loss: 7.3688 - mae: 7.3688\n",
            "Epoch 24/100\n",
            "1/1 [==============================] - 0s 21ms/step - loss: 7.3631 - mae: 7.3631\n",
            "Epoch 25/100\n",
            "1/1 [==============================] - 0s 18ms/step - loss: 7.3575 - mae: 7.3575\n",
            "Epoch 26/100\n",
            "1/1 [==============================] - 0s 17ms/step - loss: 7.3519 - mae: 7.3519\n",
            "Epoch 27/100\n",
            "1/1 [==============================] - 0s 28ms/step - loss: 7.3463 - mae: 7.3463\n",
            "Epoch 28/100\n",
            "1/1 [==============================] - 0s 15ms/step - loss: 7.3406 - mae: 7.3406\n",
            "Epoch 29/100\n",
            "1/1 [==============================] - 0s 61ms/step - loss: 7.3350 - mae: 7.3350\n",
            "Epoch 30/100\n",
            "1/1 [==============================] - 0s 37ms/step - loss: 7.3294 - mae: 7.3294\n",
            "Epoch 31/100\n",
            "1/1 [==============================] - 0s 14ms/step - loss: 7.3238 - mae: 7.3238\n",
            "Epoch 32/100\n",
            "1/1 [==============================] - 0s 14ms/step - loss: 7.3181 - mae: 7.3181\n",
            "Epoch 33/100\n",
            "1/1 [==============================] - 0s 18ms/step - loss: 7.3125 - mae: 7.3125\n",
            "Epoch 34/100\n",
            "1/1 [==============================] - 0s 17ms/step - loss: 7.3069 - mae: 7.3069\n",
            "Epoch 35/100\n",
            "1/1 [==============================] - 0s 20ms/step - loss: 7.3013 - mae: 7.3013\n",
            "Epoch 36/100\n",
            "1/1 [==============================] - 0s 16ms/step - loss: 7.2956 - mae: 7.2956\n",
            "Epoch 37/100\n",
            "1/1 [==============================] - 0s 17ms/step - loss: 7.2900 - mae: 7.2900\n",
            "Epoch 38/100\n",
            "1/1 [==============================] - 0s 18ms/step - loss: 7.2844 - mae: 7.2844\n",
            "Epoch 39/100\n",
            "1/1 [==============================] - 0s 16ms/step - loss: 7.2788 - mae: 7.2788\n",
            "Epoch 40/100\n",
            "1/1 [==============================] - 0s 11ms/step - loss: 7.2731 - mae: 7.2731\n",
            "Epoch 41/100\n",
            "1/1 [==============================] - 0s 12ms/step - loss: 7.2675 - mae: 7.2675\n",
            "Epoch 42/100\n",
            "1/1 [==============================] - 0s 12ms/step - loss: 7.2619 - mae: 7.2619\n",
            "Epoch 43/100\n",
            "1/1 [==============================] - 0s 12ms/step - loss: 7.2562 - mae: 7.2562\n",
            "Epoch 44/100\n",
            "1/1 [==============================] - 0s 16ms/step - loss: 7.2506 - mae: 7.2506\n",
            "Epoch 45/100\n",
            "1/1 [==============================] - 0s 12ms/step - loss: 7.2450 - mae: 7.2450\n",
            "Epoch 46/100\n",
            "1/1 [==============================] - 0s 12ms/step - loss: 7.2394 - mae: 7.2394\n",
            "Epoch 47/100\n",
            "1/1 [==============================] - 0s 13ms/step - loss: 7.2338 - mae: 7.2338\n",
            "Epoch 48/100\n",
            "1/1 [==============================] - 0s 11ms/step - loss: 7.2281 - mae: 7.2281\n",
            "Epoch 49/100\n",
            "1/1 [==============================] - 0s 14ms/step - loss: 7.2225 - mae: 7.2225\n",
            "Epoch 50/100\n",
            "1/1 [==============================] - 0s 27ms/step - loss: 7.2169 - mae: 7.2169\n",
            "Epoch 51/100\n",
            "1/1 [==============================] - 0s 24ms/step - loss: 7.2113 - mae: 7.2113\n",
            "Epoch 52/100\n",
            "1/1 [==============================] - 0s 17ms/step - loss: 7.2056 - mae: 7.2056\n",
            "Epoch 53/100\n",
            "1/1 [==============================] - 0s 18ms/step - loss: 7.2000 - mae: 7.2000\n",
            "Epoch 54/100\n",
            "1/1 [==============================] - 0s 31ms/step - loss: 7.1944 - mae: 7.1944\n",
            "Epoch 55/100\n",
            "1/1 [==============================] - 0s 14ms/step - loss: 7.1888 - mae: 7.1888\n",
            "Epoch 56/100\n",
            "1/1 [==============================] - 0s 19ms/step - loss: 7.1831 - mae: 7.1831\n",
            "Epoch 57/100\n",
            "1/1 [==============================] - 0s 15ms/step - loss: 7.1775 - mae: 7.1775\n",
            "Epoch 58/100\n",
            "1/1 [==============================] - 0s 36ms/step - loss: 7.1719 - mae: 7.1719\n",
            "Epoch 59/100\n",
            "1/1 [==============================] - 0s 15ms/step - loss: 7.1663 - mae: 7.1663\n",
            "Epoch 60/100\n",
            "1/1 [==============================] - 0s 16ms/step - loss: 7.1606 - mae: 7.1606\n",
            "Epoch 61/100\n",
            "1/1 [==============================] - 0s 14ms/step - loss: 7.1550 - mae: 7.1550\n",
            "Epoch 62/100\n",
            "1/1 [==============================] - 0s 12ms/step - loss: 7.1494 - mae: 7.1494\n",
            "Epoch 63/100\n",
            "1/1 [==============================] - 0s 14ms/step - loss: 7.1438 - mae: 7.1438\n",
            "Epoch 64/100\n",
            "1/1 [==============================] - 0s 17ms/step - loss: 7.1381 - mae: 7.1381\n",
            "Epoch 65/100\n",
            "1/1 [==============================] - 0s 18ms/step - loss: 7.1325 - mae: 7.1325\n",
            "Epoch 66/100\n",
            "1/1 [==============================] - 0s 30ms/step - loss: 7.1269 - mae: 7.1269\n",
            "Epoch 67/100\n",
            "1/1 [==============================] - 0s 13ms/step - loss: 7.1213 - mae: 7.1213\n",
            "Epoch 68/100\n",
            "1/1 [==============================] - 0s 33ms/step - loss: 7.1156 - mae: 7.1156\n",
            "Epoch 69/100\n",
            "1/1 [==============================] - 0s 33ms/step - loss: 7.1100 - mae: 7.1100\n",
            "Epoch 70/100\n",
            "1/1 [==============================] - 0s 17ms/step - loss: 7.1044 - mae: 7.1044\n",
            "Epoch 71/100\n",
            "1/1 [==============================] - 0s 25ms/step - loss: 7.0988 - mae: 7.0988\n",
            "Epoch 72/100\n",
            "1/1 [==============================] - 0s 28ms/step - loss: 7.0931 - mae: 7.0931\n",
            "Epoch 73/100\n",
            "1/1 [==============================] - 0s 23ms/step - loss: 7.0875 - mae: 7.0875\n",
            "Epoch 74/100\n",
            "1/1 [==============================] - 0s 21ms/step - loss: 7.0819 - mae: 7.0819\n",
            "Epoch 75/100\n",
            "1/1 [==============================] - 0s 24ms/step - loss: 7.0763 - mae: 7.0763\n",
            "Epoch 76/100\n",
            "1/1 [==============================] - 0s 16ms/step - loss: 7.0706 - mae: 7.0706\n",
            "Epoch 77/100\n",
            "1/1 [==============================] - 0s 18ms/step - loss: 7.0650 - mae: 7.0650\n",
            "Epoch 78/100\n",
            "1/1 [==============================] - 0s 16ms/step - loss: 7.0594 - mae: 7.0594\n",
            "Epoch 79/100\n",
            "1/1 [==============================] - 0s 15ms/step - loss: 7.0538 - mae: 7.0538\n",
            "Epoch 80/100\n",
            "1/1 [==============================] - 0s 15ms/step - loss: 7.0481 - mae: 7.0481\n",
            "Epoch 81/100\n",
            "1/1 [==============================] - 0s 15ms/step - loss: 7.0425 - mae: 7.0425\n",
            "Epoch 82/100\n",
            "1/1 [==============================] - 0s 14ms/step - loss: 7.0369 - mae: 7.0369\n",
            "Epoch 83/100\n",
            "1/1 [==============================] - 0s 16ms/step - loss: 7.0312 - mae: 7.0312\n",
            "Epoch 84/100\n",
            "1/1 [==============================] - 0s 18ms/step - loss: 7.0256 - mae: 7.0256\n",
            "Epoch 85/100\n",
            "1/1 [==============================] - 0s 16ms/step - loss: 7.0200 - mae: 7.0200\n",
            "Epoch 86/100\n",
            "1/1 [==============================] - 0s 18ms/step - loss: 7.0144 - mae: 7.0144\n",
            "Epoch 87/100\n",
            "1/1 [==============================] - 0s 17ms/step - loss: 7.0088 - mae: 7.0088\n",
            "Epoch 88/100\n",
            "1/1 [==============================] - 0s 17ms/step - loss: 7.0031 - mae: 7.0031\n",
            "Epoch 89/100\n",
            "1/1 [==============================] - 0s 19ms/step - loss: 6.9975 - mae: 6.9975\n",
            "Epoch 90/100\n",
            "1/1 [==============================] - 0s 28ms/step - loss: 6.9919 - mae: 6.9919\n",
            "Epoch 91/100\n",
            "1/1 [==============================] - 0s 26ms/step - loss: 6.9863 - mae: 6.9863\n",
            "Epoch 92/100\n",
            "1/1 [==============================] - 0s 19ms/step - loss: 6.9806 - mae: 6.9806\n",
            "Epoch 93/100\n",
            "1/1 [==============================] - 0s 23ms/step - loss: 6.9750 - mae: 6.9750\n",
            "Epoch 94/100\n",
            "1/1 [==============================] - 0s 23ms/step - loss: 6.9694 - mae: 6.9694\n",
            "Epoch 95/100\n",
            "1/1 [==============================] - 0s 23ms/step - loss: 6.9638 - mae: 6.9638\n",
            "Epoch 96/100\n",
            "1/1 [==============================] - 0s 21ms/step - loss: 6.9581 - mae: 6.9581\n",
            "Epoch 97/100\n",
            "1/1 [==============================] - 0s 25ms/step - loss: 6.9525 - mae: 6.9525\n",
            "Epoch 98/100\n",
            "1/1 [==============================] - 0s 18ms/step - loss: 6.9469 - mae: 6.9469\n",
            "Epoch 99/100\n",
            "1/1 [==============================] - 0s 18ms/step - loss: 6.9413 - mae: 6.9413\n",
            "Epoch 100/100\n",
            "1/1 [==============================] - 0s 16ms/step - loss: 6.9356 - mae: 6.9356\n"
          ]
        },
        {
          "output_type": "execute_result",
          "data": {
            "text/plain": [
              "<keras.src.callbacks.History at 0x7ac6aa3b8340>"
            ]
          },
          "metadata": {},
          "execution_count": 356
        }
      ]
    },
    {
      "cell_type": "code",
      "source": [
        "# Reming ourselves of the data\n",
        "\n",
        "model.predict([17.0])"
      ],
      "metadata": {
        "colab": {
          "base_uri": "https://localhost:8080/"
        },
        "id": "WJyNu3ANG5GY",
        "outputId": "19dc0bda-b33e-443b-cacd-26471e6458d4"
      },
      "execution_count": 357,
      "outputs": [
        {
          "output_type": "stream",
          "name": "stdout",
          "text": [
            "1/1 [==============================] - 0s 205ms/step\n"
          ]
        },
        {
          "output_type": "execute_result",
          "data": {
            "text/plain": [
              "array([[30.33316]], dtype=float32)"
            ]
          },
          "metadata": {},
          "execution_count": 357
        }
      ]
    },
    {
      "cell_type": "code",
      "source": [
        "#Create a model\n",
        "model = tf.keras.Sequential([\n",
        "    tf.keras.layers.Dense(1)\n",
        "])\n",
        "\n",
        "#compile a model\n",
        "model.compile(loss=tf.keras.losses.mae,\n",
        "              optimizer=tf.keras.optimizers.Adam(learning_rate = 0.1),\n",
        "              metrics = [\"mae\"])\n",
        "\n",
        "#fit the model\n",
        "model.fit(tf.expand_dims(X, axis = -1), y, epochs = 100)"
      ],
      "metadata": {
        "colab": {
          "base_uri": "https://localhost:8080/"
        },
        "id": "0djpPni6Iuv9",
        "outputId": "e90d759f-d3c2-4248-c035-c3dedfad3461"
      },
      "execution_count": 358,
      "outputs": [
        {
          "output_type": "stream",
          "name": "stdout",
          "text": [
            "Epoch 1/100\n",
            "1/1 [==============================] - 1s 1s/step - loss: 15.5626 - mae: 15.5626\n",
            "Epoch 2/100\n",
            "1/1 [==============================] - 0s 19ms/step - loss: 14.9626 - mae: 14.9626\n",
            "Epoch 3/100\n",
            "1/1 [==============================] - 0s 15ms/step - loss: 14.4751 - mae: 14.4751\n",
            "Epoch 4/100\n",
            "1/1 [==============================] - 0s 11ms/step - loss: 14.0349 - mae: 14.0349\n",
            "Epoch 5/100\n",
            "1/1 [==============================] - 0s 15ms/step - loss: 13.5984 - mae: 13.5984\n",
            "Epoch 6/100\n",
            "1/1 [==============================] - 0s 13ms/step - loss: 13.1635 - mae: 13.1635\n",
            "Epoch 7/100\n",
            "1/1 [==============================] - 0s 13ms/step - loss: 12.7292 - mae: 12.7292\n",
            "Epoch 8/100\n",
            "1/1 [==============================] - 0s 15ms/step - loss: 12.2952 - mae: 12.2952\n",
            "Epoch 9/100\n",
            "1/1 [==============================] - 0s 24ms/step - loss: 11.8613 - mae: 11.8613\n",
            "Epoch 10/100\n",
            "1/1 [==============================] - 0s 12ms/step - loss: 11.4272 - mae: 11.4272\n",
            "Epoch 11/100\n",
            "1/1 [==============================] - 0s 14ms/step - loss: 10.9930 - mae: 10.9930\n",
            "Epoch 12/100\n",
            "1/1 [==============================] - 0s 40ms/step - loss: 10.5586 - mae: 10.5586\n",
            "Epoch 13/100\n",
            "1/1 [==============================] - 0s 23ms/step - loss: 10.1239 - mae: 10.1239\n",
            "Epoch 14/100\n",
            "1/1 [==============================] - 0s 13ms/step - loss: 9.6889 - mae: 9.6889\n",
            "Epoch 15/100\n",
            "1/1 [==============================] - 0s 13ms/step - loss: 9.2537 - mae: 9.2537\n",
            "Epoch 16/100\n",
            "1/1 [==============================] - 0s 25ms/step - loss: 8.8182 - mae: 8.8182\n",
            "Epoch 17/100\n",
            "1/1 [==============================] - 0s 18ms/step - loss: 8.3824 - mae: 8.3824\n",
            "Epoch 18/100\n",
            "1/1 [==============================] - 0s 22ms/step - loss: 7.9463 - mae: 7.9463\n",
            "Epoch 19/100\n",
            "1/1 [==============================] - 0s 23ms/step - loss: 7.5100 - mae: 7.5100\n",
            "Epoch 20/100\n",
            "1/1 [==============================] - 0s 17ms/step - loss: 7.0733 - mae: 7.0733\n",
            "Epoch 21/100\n",
            "1/1 [==============================] - 0s 18ms/step - loss: 6.6364 - mae: 6.6364\n",
            "Epoch 22/100\n",
            "1/1 [==============================] - 0s 17ms/step - loss: 6.1992 - mae: 6.1992\n",
            "Epoch 23/100\n",
            "1/1 [==============================] - 0s 15ms/step - loss: 5.8316 - mae: 5.8316\n",
            "Epoch 24/100\n",
            "1/1 [==============================] - 0s 13ms/step - loss: 5.7569 - mae: 5.7569\n",
            "Epoch 25/100\n",
            "1/1 [==============================] - 0s 17ms/step - loss: 5.8305 - mae: 5.8305\n",
            "Epoch 26/100\n",
            "1/1 [==============================] - 0s 17ms/step - loss: 5.9570 - mae: 5.9570\n",
            "Epoch 27/100\n",
            "1/1 [==============================] - 0s 25ms/step - loss: 6.0445 - mae: 6.0445\n",
            "Epoch 28/100\n",
            "1/1 [==============================] - 0s 12ms/step - loss: 6.0968 - mae: 6.0968\n",
            "Epoch 29/100\n",
            "1/1 [==============================] - 0s 12ms/step - loss: 6.1374 - mae: 6.1374\n",
            "Epoch 30/100\n",
            "1/1 [==============================] - 0s 12ms/step - loss: 6.1460 - mae: 6.1460\n",
            "Epoch 31/100\n",
            "1/1 [==============================] - 0s 26ms/step - loss: 6.0858 - mae: 6.0858\n",
            "Epoch 32/100\n",
            "1/1 [==============================] - 0s 27ms/step - loss: 5.9657 - mae: 5.9657\n",
            "Epoch 33/100\n",
            "1/1 [==============================] - 0s 35ms/step - loss: 5.8119 - mae: 5.8119\n",
            "Epoch 34/100\n",
            "1/1 [==============================] - 0s 14ms/step - loss: 5.6750 - mae: 5.6750\n",
            "Epoch 35/100\n",
            "1/1 [==============================] - 0s 14ms/step - loss: 5.5264 - mae: 5.5264\n",
            "Epoch 36/100\n",
            "1/1 [==============================] - 0s 14ms/step - loss: 5.3673 - mae: 5.3673\n",
            "Epoch 37/100\n",
            "1/1 [==============================] - 0s 30ms/step - loss: 5.1986 - mae: 5.1986\n",
            "Epoch 38/100\n",
            "1/1 [==============================] - 0s 22ms/step - loss: 5.0211 - mae: 5.0211\n",
            "Epoch 39/100\n",
            "1/1 [==============================] - 0s 22ms/step - loss: 4.8814 - mae: 4.8814\n",
            "Epoch 40/100\n",
            "1/1 [==============================] - 0s 23ms/step - loss: 4.8285 - mae: 4.8285\n",
            "Epoch 41/100\n",
            "1/1 [==============================] - 0s 15ms/step - loss: 4.7739 - mae: 4.7739\n",
            "Epoch 42/100\n",
            "1/1 [==============================] - 0s 14ms/step - loss: 4.7588 - mae: 4.7588\n",
            "Epoch 43/100\n",
            "1/1 [==============================] - 0s 18ms/step - loss: 4.7731 - mae: 4.7731\n",
            "Epoch 44/100\n",
            "1/1 [==============================] - 0s 14ms/step - loss: 4.7373 - mae: 4.7373\n",
            "Epoch 45/100\n",
            "1/1 [==============================] - 0s 14ms/step - loss: 4.6565 - mae: 4.6565\n",
            "Epoch 46/100\n",
            "1/1 [==============================] - 0s 15ms/step - loss: 4.5355 - mae: 4.5355\n",
            "Epoch 47/100\n",
            "1/1 [==============================] - 0s 19ms/step - loss: 4.3934 - mae: 4.3934\n",
            "Epoch 48/100\n",
            "1/1 [==============================] - 0s 21ms/step - loss: 4.3240 - mae: 4.3240\n",
            "Epoch 49/100\n",
            "1/1 [==============================] - 0s 13ms/step - loss: 4.2546 - mae: 4.2546\n",
            "Epoch 50/100\n",
            "1/1 [==============================] - 0s 23ms/step - loss: 4.1852 - mae: 4.1852\n",
            "Epoch 51/100\n",
            "1/1 [==============================] - 0s 21ms/step - loss: 4.1158 - mae: 4.1158\n",
            "Epoch 52/100\n",
            "1/1 [==============================] - 0s 26ms/step - loss: 4.0520 - mae: 4.0520\n",
            "Epoch 53/100\n",
            "1/1 [==============================] - 0s 18ms/step - loss: 4.0116 - mae: 4.0116\n",
            "Epoch 54/100\n",
            "1/1 [==============================] - 0s 21ms/step - loss: 3.9482 - mae: 3.9482\n",
            "Epoch 55/100\n",
            "1/1 [==============================] - 0s 27ms/step - loss: 3.8639 - mae: 3.8639\n",
            "Epoch 56/100\n",
            "1/1 [==============================] - 0s 20ms/step - loss: 3.7863 - mae: 3.7863\n",
            "Epoch 57/100\n",
            "1/1 [==============================] - 0s 22ms/step - loss: 3.7228 - mae: 3.7228\n",
            "Epoch 58/100\n",
            "1/1 [==============================] - 0s 20ms/step - loss: 3.6585 - mae: 3.6585\n",
            "Epoch 59/100\n",
            "1/1 [==============================] - 0s 18ms/step - loss: 3.5936 - mae: 3.5936\n",
            "Epoch 60/100\n",
            "1/1 [==============================] - 0s 17ms/step - loss: 3.5280 - mae: 3.5280\n",
            "Epoch 61/100\n",
            "1/1 [==============================] - 0s 17ms/step - loss: 3.4619 - mae: 3.4619\n",
            "Epoch 62/100\n",
            "1/1 [==============================] - 0s 19ms/step - loss: 3.3952 - mae: 3.3952\n",
            "Epoch 63/100\n",
            "1/1 [==============================] - 0s 31ms/step - loss: 3.3281 - mae: 3.3281\n",
            "Epoch 64/100\n",
            "1/1 [==============================] - 0s 26ms/step - loss: 3.2606 - mae: 3.2606\n",
            "Epoch 65/100\n",
            "1/1 [==============================] - 0s 23ms/step - loss: 3.1927 - mae: 3.1927\n",
            "Epoch 66/100\n",
            "1/1 [==============================] - 0s 24ms/step - loss: 3.1245 - mae: 3.1245\n",
            "Epoch 67/100\n",
            "1/1 [==============================] - 0s 24ms/step - loss: 3.0559 - mae: 3.0559\n",
            "Epoch 68/100\n",
            "1/1 [==============================] - 0s 26ms/step - loss: 2.9870 - mae: 2.9870\n",
            "Epoch 69/100\n",
            "1/1 [==============================] - 0s 18ms/step - loss: 2.9179 - mae: 2.9179\n",
            "Epoch 70/100\n",
            "1/1 [==============================] - 0s 27ms/step - loss: 2.8485 - mae: 2.8485\n",
            "Epoch 71/100\n",
            "1/1 [==============================] - 0s 28ms/step - loss: 2.7789 - mae: 2.7789\n",
            "Epoch 72/100\n",
            "1/1 [==============================] - 0s 22ms/step - loss: 2.7091 - mae: 2.7091\n",
            "Epoch 73/100\n",
            "1/1 [==============================] - 0s 18ms/step - loss: 2.6391 - mae: 2.6391\n",
            "Epoch 74/100\n",
            "1/1 [==============================] - 0s 24ms/step - loss: 2.5690 - mae: 2.5690\n",
            "Epoch 75/100\n",
            "1/1 [==============================] - 0s 22ms/step - loss: 2.4986 - mae: 2.4986\n",
            "Epoch 76/100\n",
            "1/1 [==============================] - 0s 17ms/step - loss: 2.4282 - mae: 2.4282\n",
            "Epoch 77/100\n",
            "1/1 [==============================] - 0s 18ms/step - loss: 2.3576 - mae: 2.3576\n",
            "Epoch 78/100\n",
            "1/1 [==============================] - 0s 20ms/step - loss: 2.2868 - mae: 2.2868\n",
            "Epoch 79/100\n",
            "1/1 [==============================] - 0s 15ms/step - loss: 2.2160 - mae: 2.2160\n",
            "Epoch 80/100\n",
            "1/1 [==============================] - 0s 18ms/step - loss: 2.1450 - mae: 2.1450\n",
            "Epoch 81/100\n",
            "1/1 [==============================] - 0s 28ms/step - loss: 2.0739 - mae: 2.0739\n",
            "Epoch 82/100\n",
            "1/1 [==============================] - 0s 20ms/step - loss: 2.0182 - mae: 2.0182\n",
            "Epoch 83/100\n",
            "1/1 [==============================] - 0s 23ms/step - loss: 1.9388 - mae: 1.9388\n",
            "Epoch 84/100\n",
            "1/1 [==============================] - 0s 25ms/step - loss: 1.8665 - mae: 1.8665\n",
            "Epoch 85/100\n",
            "1/1 [==============================] - 0s 12ms/step - loss: 1.7987 - mae: 1.7987\n",
            "Epoch 86/100\n",
            "1/1 [==============================] - 0s 14ms/step - loss: 1.7305 - mae: 1.7305\n",
            "Epoch 87/100\n",
            "1/1 [==============================] - 0s 13ms/step - loss: 1.6618 - mae: 1.6618\n",
            "Epoch 88/100\n",
            "1/1 [==============================] - 0s 26ms/step - loss: 1.6084 - mae: 1.6084\n",
            "Epoch 89/100\n",
            "1/1 [==============================] - 0s 41ms/step - loss: 1.5213 - mae: 1.5213\n",
            "Epoch 90/100\n",
            "1/1 [==============================] - 0s 43ms/step - loss: 1.4497 - mae: 1.4497\n",
            "Epoch 91/100\n",
            "1/1 [==============================] - 0s 26ms/step - loss: 1.3780 - mae: 1.3780\n",
            "Epoch 92/100\n",
            "1/1 [==============================] - 0s 15ms/step - loss: 1.3062 - mae: 1.3062\n",
            "Epoch 93/100\n",
            "1/1 [==============================] - 0s 15ms/step - loss: 1.2366 - mae: 1.2366\n",
            "Epoch 94/100\n",
            "1/1 [==============================] - 0s 13ms/step - loss: 1.1647 - mae: 1.1647\n",
            "Epoch 95/100\n",
            "1/1 [==============================] - 0s 31ms/step - loss: 1.0947 - mae: 1.0947\n",
            "Epoch 96/100\n",
            "1/1 [==============================] - 0s 62ms/step - loss: 1.0245 - mae: 1.0245\n",
            "Epoch 97/100\n",
            "1/1 [==============================] - 0s 15ms/step - loss: 0.9540 - mae: 0.9540\n",
            "Epoch 98/100\n",
            "1/1 [==============================] - 0s 23ms/step - loss: 0.8833 - mae: 0.8833\n",
            "Epoch 99/100\n",
            "1/1 [==============================] - 0s 29ms/step - loss: 0.8177 - mae: 0.8177\n",
            "Epoch 100/100\n",
            "1/1 [==============================] - 0s 34ms/step - loss: 0.7435 - mae: 0.7435\n"
          ]
        },
        {
          "output_type": "execute_result",
          "data": {
            "text/plain": [
              "<keras.src.callbacks.History at 0x7ac6a8bc5030>"
            ]
          },
          "metadata": {},
          "execution_count": 358
        }
      ]
    },
    {
      "cell_type": "code",
      "source": [
        "model.predict([17.0])"
      ],
      "metadata": {
        "colab": {
          "base_uri": "https://localhost:8080/"
        },
        "id": "yTxNUsQYJ5vo",
        "outputId": "28db48fd-7aee-4f8a-94e9-82292a9a7545"
      },
      "execution_count": 359,
      "outputs": [
        {
          "output_type": "stream",
          "name": "stdout",
          "text": [
            "1/1 [==============================] - 0s 263ms/step\n"
          ]
        },
        {
          "output_type": "execute_result",
          "data": {
            "text/plain": [
              "array([[27.255772]], dtype=float32)"
            ]
          },
          "metadata": {},
          "execution_count": 359
        }
      ]
    },
    {
      "cell_type": "code",
      "source": [
        "# Create the model with the extra layers which are hidden\n",
        "\n",
        "#Creare a model\n",
        "\n",
        "model = tf.keras.Sequential([\n",
        "    tf.keras.layers.Dense(100, activation = None),  # We can use any kind of activation\n",
        "    #tf.keras.layers.Dense(1000, activation = \"relu\"),\n",
        "    tf.keras.layers.Dense(1)\n",
        "])\n",
        "\n",
        "#Compile the model\n",
        "model.compile(loss=\"mae\",\n",
        "              optimizer=tf.keras.optimizers.SGD(),\n",
        "              metrics =[\"mae\"])\n",
        "\n",
        "#Fit the model\n",
        "model.fit(tf.expand_dims(X, axis =-1), y, epochs = 100) # it would get more optimized after this modiciation by adding 1 more hidden layer with 100 neurons\n"
      ],
      "metadata": {
        "colab": {
          "base_uri": "https://localhost:8080/"
        },
        "id": "cMg3ywB9KYuK",
        "outputId": "d1a96b5e-348a-4f0a-ad2a-199e1b92a784"
      },
      "execution_count": 360,
      "outputs": [
        {
          "output_type": "stream",
          "name": "stdout",
          "text": [
            "Epoch 1/100\n",
            "1/1 [==============================] - 2s 2s/step - loss: 13.7377 - mae: 13.7377\n",
            "Epoch 2/100\n",
            "1/1 [==============================] - 0s 48ms/step - loss: 13.2715 - mae: 13.2715\n",
            "Epoch 3/100\n",
            "1/1 [==============================] - 0s 20ms/step - loss: 12.8053 - mae: 12.8053\n",
            "Epoch 4/100\n",
            "1/1 [==============================] - 0s 27ms/step - loss: 12.3368 - mae: 12.3368\n",
            "Epoch 5/100\n",
            "1/1 [==============================] - 0s 25ms/step - loss: 11.8634 - mae: 11.8634\n",
            "Epoch 6/100\n",
            "1/1 [==============================] - 0s 29ms/step - loss: 11.3829 - mae: 11.3829\n",
            "Epoch 7/100\n",
            "1/1 [==============================] - 0s 32ms/step - loss: 10.8926 - mae: 10.8926\n",
            "Epoch 8/100\n",
            "1/1 [==============================] - 0s 23ms/step - loss: 10.3901 - mae: 10.3901\n",
            "Epoch 9/100\n",
            "1/1 [==============================] - 0s 17ms/step - loss: 9.8728 - mae: 9.8728\n",
            "Epoch 10/100\n",
            "1/1 [==============================] - 0s 18ms/step - loss: 9.3381 - mae: 9.3381\n",
            "Epoch 11/100\n",
            "1/1 [==============================] - 0s 16ms/step - loss: 8.7832 - mae: 8.7832\n",
            "Epoch 12/100\n",
            "1/1 [==============================] - 0s 23ms/step - loss: 8.2052 - mae: 8.2052\n",
            "Epoch 13/100\n",
            "1/1 [==============================] - 0s 22ms/step - loss: 7.6013 - mae: 7.6013\n",
            "Epoch 14/100\n",
            "1/1 [==============================] - 0s 13ms/step - loss: 7.1919 - mae: 7.1919\n",
            "Epoch 15/100\n",
            "1/1 [==============================] - 0s 14ms/step - loss: 7.1720 - mae: 7.1720\n",
            "Epoch 16/100\n",
            "1/1 [==============================] - 0s 16ms/step - loss: 7.1521 - mae: 7.1521\n",
            "Epoch 17/100\n",
            "1/1 [==============================] - 0s 23ms/step - loss: 7.1321 - mae: 7.1321\n",
            "Epoch 18/100\n",
            "1/1 [==============================] - 0s 16ms/step - loss: 7.1120 - mae: 7.1120\n",
            "Epoch 19/100\n",
            "1/1 [==============================] - 0s 20ms/step - loss: 7.0919 - mae: 7.0919\n",
            "Epoch 20/100\n",
            "1/1 [==============================] - 0s 28ms/step - loss: 7.0717 - mae: 7.0717\n",
            "Epoch 21/100\n",
            "1/1 [==============================] - 0s 21ms/step - loss: 7.0515 - mae: 7.0515\n",
            "Epoch 22/100\n",
            "1/1 [==============================] - 0s 15ms/step - loss: 7.0312 - mae: 7.0312\n",
            "Epoch 23/100\n",
            "1/1 [==============================] - 0s 21ms/step - loss: 7.0108 - mae: 7.0108\n",
            "Epoch 24/100\n",
            "1/1 [==============================] - 0s 23ms/step - loss: 6.9903 - mae: 6.9903\n",
            "Epoch 25/100\n",
            "1/1 [==============================] - 0s 29ms/step - loss: 6.9698 - mae: 6.9698\n",
            "Epoch 26/100\n",
            "1/1 [==============================] - 0s 21ms/step - loss: 6.9492 - mae: 6.9492\n",
            "Epoch 27/100\n",
            "1/1 [==============================] - 0s 22ms/step - loss: 6.9285 - mae: 6.9285\n",
            "Epoch 28/100\n",
            "1/1 [==============================] - 0s 15ms/step - loss: 6.9077 - mae: 6.9077\n",
            "Epoch 29/100\n",
            "1/1 [==============================] - 0s 25ms/step - loss: 6.8868 - mae: 6.8868\n",
            "Epoch 30/100\n",
            "1/1 [==============================] - 0s 18ms/step - loss: 6.8659 - mae: 6.8659\n",
            "Epoch 31/100\n",
            "1/1 [==============================] - 0s 25ms/step - loss: 6.8448 - mae: 6.8448\n",
            "Epoch 32/100\n",
            "1/1 [==============================] - 0s 19ms/step - loss: 6.8236 - mae: 6.8236\n",
            "Epoch 33/100\n",
            "1/1 [==============================] - 0s 18ms/step - loss: 6.8023 - mae: 6.8023\n",
            "Epoch 34/100\n",
            "1/1 [==============================] - 0s 34ms/step - loss: 6.7809 - mae: 6.7809\n",
            "Epoch 35/100\n",
            "1/1 [==============================] - 0s 24ms/step - loss: 6.7594 - mae: 6.7594\n",
            "Epoch 36/100\n",
            "1/1 [==============================] - 0s 24ms/step - loss: 6.7378 - mae: 6.7378\n",
            "Epoch 37/100\n",
            "1/1 [==============================] - 0s 19ms/step - loss: 6.7161 - mae: 6.7161\n",
            "Epoch 38/100\n",
            "1/1 [==============================] - 0s 22ms/step - loss: 6.6942 - mae: 6.6942\n",
            "Epoch 39/100\n",
            "1/1 [==============================] - 0s 19ms/step - loss: 6.6722 - mae: 6.6722\n",
            "Epoch 40/100\n",
            "1/1 [==============================] - 0s 24ms/step - loss: 6.6646 - mae: 6.6646\n",
            "Epoch 41/100\n",
            "1/1 [==============================] - 0s 50ms/step - loss: 6.6458 - mae: 6.6458\n",
            "Epoch 42/100\n",
            "1/1 [==============================] - 0s 47ms/step - loss: 6.6240 - mae: 6.6240\n",
            "Epoch 43/100\n",
            "1/1 [==============================] - 0s 17ms/step - loss: 6.6021 - mae: 6.6021\n",
            "Epoch 44/100\n",
            "1/1 [==============================] - 0s 22ms/step - loss: 6.5800 - mae: 6.5800\n",
            "Epoch 45/100\n",
            "1/1 [==============================] - 0s 30ms/step - loss: 6.5578 - mae: 6.5578\n",
            "Epoch 46/100\n",
            "1/1 [==============================] - 0s 22ms/step - loss: 6.5354 - mae: 6.5354\n",
            "Epoch 47/100\n",
            "1/1 [==============================] - 0s 36ms/step - loss: 6.5129 - mae: 6.5129\n",
            "Epoch 48/100\n",
            "1/1 [==============================] - 0s 36ms/step - loss: 6.4902 - mae: 6.4902\n",
            "Epoch 49/100\n",
            "1/1 [==============================] - 0s 44ms/step - loss: 6.4674 - mae: 6.4674\n",
            "Epoch 50/100\n",
            "1/1 [==============================] - 0s 38ms/step - loss: 6.4443 - mae: 6.4443\n",
            "Epoch 51/100\n",
            "1/1 [==============================] - 0s 41ms/step - loss: 6.4212 - mae: 6.4212\n",
            "Epoch 52/100\n",
            "1/1 [==============================] - 0s 37ms/step - loss: 6.3978 - mae: 6.3978\n",
            "Epoch 53/100\n",
            "1/1 [==============================] - 0s 25ms/step - loss: 6.3743 - mae: 6.3743\n",
            "Epoch 54/100\n",
            "1/1 [==============================] - 0s 20ms/step - loss: 6.3506 - mae: 6.3506\n",
            "Epoch 55/100\n",
            "1/1 [==============================] - 0s 22ms/step - loss: 6.3267 - mae: 6.3267\n",
            "Epoch 56/100\n",
            "1/1 [==============================] - 0s 30ms/step - loss: 6.3026 - mae: 6.3026\n",
            "Epoch 57/100\n",
            "1/1 [==============================] - 0s 37ms/step - loss: 6.2784 - mae: 6.2784\n",
            "Epoch 58/100\n",
            "1/1 [==============================] - 0s 25ms/step - loss: 6.2539 - mae: 6.2539\n",
            "Epoch 59/100\n",
            "1/1 [==============================] - 0s 31ms/step - loss: 6.2292 - mae: 6.2292\n",
            "Epoch 60/100\n",
            "1/1 [==============================] - 0s 42ms/step - loss: 6.2213 - mae: 6.2213\n",
            "Epoch 61/100\n",
            "1/1 [==============================] - 0s 35ms/step - loss: 6.2029 - mae: 6.2029\n",
            "Epoch 62/100\n",
            "1/1 [==============================] - 0s 38ms/step - loss: 6.1782 - mae: 6.1782\n",
            "Epoch 63/100\n",
            "1/1 [==============================] - 0s 31ms/step - loss: 6.1533 - mae: 6.1533\n",
            "Epoch 64/100\n",
            "1/1 [==============================] - 0s 30ms/step - loss: 6.1282 - mae: 6.1282\n",
            "Epoch 65/100\n",
            "1/1 [==============================] - 0s 29ms/step - loss: 6.1029 - mae: 6.1029\n",
            "Epoch 66/100\n",
            "1/1 [==============================] - 0s 27ms/step - loss: 6.0773 - mae: 6.0773\n",
            "Epoch 67/100\n",
            "1/1 [==============================] - 0s 34ms/step - loss: 6.0515 - mae: 6.0515\n",
            "Epoch 68/100\n",
            "1/1 [==============================] - 0s 31ms/step - loss: 6.0254 - mae: 6.0254\n",
            "Epoch 69/100\n",
            "1/1 [==============================] - 0s 35ms/step - loss: 5.9992 - mae: 5.9992\n",
            "Epoch 70/100\n",
            "1/1 [==============================] - 0s 32ms/step - loss: 5.9727 - mae: 5.9727\n",
            "Epoch 71/100\n",
            "1/1 [==============================] - 0s 47ms/step - loss: 5.9459 - mae: 5.9459\n",
            "Epoch 72/100\n",
            "1/1 [==============================] - 0s 26ms/step - loss: 5.9189 - mae: 5.9189\n",
            "Epoch 73/100\n",
            "1/1 [==============================] - 0s 29ms/step - loss: 5.8916 - mae: 5.8916\n",
            "Epoch 74/100\n",
            "1/1 [==============================] - 0s 43ms/step - loss: 5.8640 - mae: 5.8640\n",
            "Epoch 75/100\n",
            "1/1 [==============================] - 0s 38ms/step - loss: 5.8362 - mae: 5.8362\n",
            "Epoch 76/100\n",
            "1/1 [==============================] - 0s 39ms/step - loss: 5.8151 - mae: 5.8151\n",
            "Epoch 77/100\n",
            "1/1 [==============================] - 0s 43ms/step - loss: 5.8078 - mae: 5.8078\n",
            "Epoch 78/100\n",
            "1/1 [==============================] - 0s 34ms/step - loss: 5.7798 - mae: 5.7798\n",
            "Epoch 79/100\n",
            "1/1 [==============================] - 0s 31ms/step - loss: 5.7514 - mae: 5.7514\n",
            "Epoch 80/100\n",
            "1/1 [==============================] - 0s 27ms/step - loss: 5.7228 - mae: 5.7228\n",
            "Epoch 81/100\n",
            "1/1 [==============================] - 0s 41ms/step - loss: 5.6939 - mae: 5.6939\n",
            "Epoch 82/100\n",
            "1/1 [==============================] - 0s 33ms/step - loss: 5.6647 - mae: 5.6647\n",
            "Epoch 83/100\n",
            "1/1 [==============================] - 0s 33ms/step - loss: 5.6352 - mae: 5.6352\n",
            "Epoch 84/100\n",
            "1/1 [==============================] - 0s 37ms/step - loss: 5.6054 - mae: 5.6054\n",
            "Epoch 85/100\n",
            "1/1 [==============================] - 0s 25ms/step - loss: 5.5753 - mae: 5.5753\n",
            "Epoch 86/100\n",
            "1/1 [==============================] - 0s 27ms/step - loss: 5.5449 - mae: 5.5449\n",
            "Epoch 87/100\n",
            "1/1 [==============================] - 0s 28ms/step - loss: 5.5141 - mae: 5.5141\n",
            "Epoch 88/100\n",
            "1/1 [==============================] - 0s 20ms/step - loss: 5.4830 - mae: 5.4830\n",
            "Epoch 89/100\n",
            "1/1 [==============================] - 0s 19ms/step - loss: 5.4516 - mae: 5.4516\n",
            "Epoch 90/100\n",
            "1/1 [==============================] - 0s 14ms/step - loss: 5.4198 - mae: 5.4198\n",
            "Epoch 91/100\n",
            "1/1 [==============================] - 0s 31ms/step - loss: 5.4076 - mae: 5.4076\n",
            "Epoch 92/100\n",
            "1/1 [==============================] - 0s 22ms/step - loss: 5.3959 - mae: 5.3959\n",
            "Epoch 93/100\n",
            "1/1 [==============================] - 0s 28ms/step - loss: 5.5137 - mae: 5.5137\n",
            "Epoch 94/100\n",
            "1/1 [==============================] - 0s 46ms/step - loss: 5.3183 - mae: 5.3183\n",
            "Epoch 95/100\n",
            "1/1 [==============================] - 0s 14ms/step - loss: 5.2852 - mae: 5.2852\n",
            "Epoch 96/100\n",
            "1/1 [==============================] - 0s 24ms/step - loss: 5.2518 - mae: 5.2518\n",
            "Epoch 97/100\n",
            "1/1 [==============================] - 0s 33ms/step - loss: 5.2181 - mae: 5.2181\n",
            "Epoch 98/100\n",
            "1/1 [==============================] - 0s 53ms/step - loss: 5.1839 - mae: 5.1839\n",
            "Epoch 99/100\n",
            "1/1 [==============================] - 0s 15ms/step - loss: 5.1493 - mae: 5.1493\n",
            "Epoch 100/100\n",
            "1/1 [==============================] - 0s 23ms/step - loss: 5.1144 - mae: 5.1144\n"
          ]
        },
        {
          "output_type": "execute_result",
          "data": {
            "text/plain": [
              "<keras.src.callbacks.History at 0x7ac6a8d33370>"
            ]
          },
          "metadata": {},
          "execution_count": 360
        }
      ]
    },
    {
      "cell_type": "code",
      "source": [
        "#Let's remind ourselves of the data\n",
        "\n",
        "X, y"
      ],
      "metadata": {
        "colab": {
          "base_uri": "https://localhost:8080/"
        },
        "id": "FJkYHSqQLO0A",
        "outputId": "95415fb3-1db5-40e6-8b32-9cda5daf780c"
      },
      "execution_count": 361,
      "outputs": [
        {
          "output_type": "execute_result",
          "data": {
            "text/plain": [
              "(<tf.Tensor: shape=(8,), dtype=float32, numpy=array([-7., -4., -1.,  2.,  5.,  8., 11., 14.], dtype=float32)>,\n",
              " <tf.Tensor: shape=(8,), dtype=float32, numpy=array([ 3.,  6.,  9., 12., 15., 18., 21., 24.], dtype=float32)>)"
            ]
          },
          "metadata": {},
          "execution_count": 361
        }
      ]
    },
    {
      "cell_type": "code",
      "source": [
        "model.predict([17])\n",
        "\n",
        "#1/1 [==============================] - 0s 37ms/step\n",
        "#array([[32.63552]], dtype=float32). before this model was better than this but this is better than the initial one\n"
      ],
      "metadata": {
        "colab": {
          "base_uri": "https://localhost:8080/"
        },
        "id": "NV71LYrmLdeR",
        "outputId": "191fd4c8-aca5-4da5-a69c-ad479a872936"
      },
      "execution_count": 362,
      "outputs": [
        {
          "output_type": "stream",
          "name": "stdout",
          "text": [
            "1/1 [==============================] - 0s 323ms/step\n"
          ]
        },
        {
          "output_type": "execute_result",
          "data": {
            "text/plain": [
              "array([[30.738218]], dtype=float32)"
            ]
          },
          "metadata": {},
          "execution_count": 362
        }
      ]
    },
    {
      "cell_type": "markdown",
      "source": [
        "**Evaluating the Models**\n",
        "\n",
        "1. In Practice a typical work flow u go through in building the neural networks model is : Build a model -> fit it -> evaluate it -> tweak a model. -> fit it -> evaluate it -> tweak a model -> fit it -> evaluate it ......\n",
        "\n",
        "2. When it comes to evaluation... there are 3 words you should momorize : \"Visualize, visualize, visualize\"\n",
        "\n",
        "3. When it comes to building a model...u should keep in mind that u have to \"Experiment Experiment and Experiment until u get the expected result\"\n",
        "\n",
        "**It's a goof idea to visualize :**\n",
        "\n",
        "* The data -> what data are we working with ? what does it look like\n",
        "* The model itself -> what does our model look like ?\n",
        "* The training model -> How does the model perform while it learns ?\n",
        "* The predictions of the model ->  How do the predictions of a model line up against the ground truth(Labels) ?\n",
        "\n"
      ],
      "metadata": {
        "id": "OnvHBQz3OAo3"
      }
    },
    {
      "cell_type": "code",
      "source": [
        "# Make a bigger dataset\n",
        "X = tf.range(-100, 100, 4)\n",
        "X"
      ],
      "metadata": {
        "colab": {
          "base_uri": "https://localhost:8080/"
        },
        "id": "hHg6DWd-Lniq",
        "outputId": "976cc457-300c-4485-a392-a2fc4cbd0e05"
      },
      "execution_count": 363,
      "outputs": [
        {
          "output_type": "execute_result",
          "data": {
            "text/plain": [
              "<tf.Tensor: shape=(50,), dtype=int32, numpy=\n",
              "array([-100,  -96,  -92,  -88,  -84,  -80,  -76,  -72,  -68,  -64,  -60,\n",
              "        -56,  -52,  -48,  -44,  -40,  -36,  -32,  -28,  -24,  -20,  -16,\n",
              "        -12,   -8,   -4,    0,    4,    8,   12,   16,   20,   24,   28,\n",
              "         32,   36,   40,   44,   48,   52,   56,   60,   64,   68,   72,\n",
              "         76,   80,   84,   88,   92,   96], dtype=int32)>"
            ]
          },
          "metadata": {},
          "execution_count": 363
        }
      ]
    },
    {
      "cell_type": "code",
      "source": [
        "# Make labels for the data\n",
        "y = X + 10\n",
        "y"
      ],
      "metadata": {
        "colab": {
          "base_uri": "https://localhost:8080/"
        },
        "id": "ZlBu-XsNQWST",
        "outputId": "c4e403f7-b10b-4e03-fb8f-1f5791ad02da"
      },
      "execution_count": 364,
      "outputs": [
        {
          "output_type": "execute_result",
          "data": {
            "text/plain": [
              "<tf.Tensor: shape=(50,), dtype=int32, numpy=\n",
              "array([-90, -86, -82, -78, -74, -70, -66, -62, -58, -54, -50, -46, -42,\n",
              "       -38, -34, -30, -26, -22, -18, -14, -10,  -6,  -2,   2,   6,  10,\n",
              "        14,  18,  22,  26,  30,  34,  38,  42,  46,  50,  54,  58,  62,\n",
              "        66,  70,  74,  78,  82,  86,  90,  94,  98, 102, 106], dtype=int32)>"
            ]
          },
          "metadata": {},
          "execution_count": 364
        }
      ]
    },
    {
      "cell_type": "code",
      "source": [
        "# Visualize the data\n",
        "\n",
        "import matplotlib.pyplot as plt\n",
        "\n",
        "plt.scatter(X, y)"
      ],
      "metadata": {
        "colab": {
          "base_uri": "https://localhost:8080/",
          "height": 447
        },
        "id": "hzNrAyU4QcjP",
        "outputId": "608397fe-1c64-4eeb-8579-cd399106732d"
      },
      "execution_count": 365,
      "outputs": [
        {
          "output_type": "execute_result",
          "data": {
            "text/plain": [
              "<matplotlib.collections.PathCollection at 0x7ac6a9d9fb50>"
            ]
          },
          "metadata": {},
          "execution_count": 365
        },
        {
          "output_type": "display_data",
          "data": {
            "text/plain": [
              "<Figure size 640x480 with 1 Axes>"
            ],
            "image/png": "[encoded data removed]"
          },
          "metadata": {}
        }
      ]
    },
    {
      "cell_type": "markdown",
      "source": [
        "### The 3 sets...\n",
        "\n",
        "*** Training Set** - The model learns from this data, which is typically 70 - 80% of the total data u have available\n",
        "\n",
        "*** Validation Set** - The model gets tuned on this data, which is typically 10 - 15% of the data available\n",
        "\n",
        "*** Test Set** - the model gets evaluated on this data to test what it has learned, this set typically 10 - 15% of the total data available."
      ],
      "metadata": {
        "id": "BB0lZJ7SRDhM"
      }
    },
    {
      "cell_type": "code",
      "source": [
        "## Check the length of how many data samples we have\n",
        "\n",
        "len(X) #Usually we will have more than 100 but we have 50 as of now"
      ],
      "metadata": {
        "colab": {
          "base_uri": "https://localhost:8080/"
        },
        "id": "QYll5JV1RFcw",
        "outputId": "f61eddb3-1893-42ba-9b66-cfcda162cf73"
      },
      "execution_count": 366,
      "outputs": [
        {
          "output_type": "execute_result",
          "data": {
            "text/plain": [
              "50"
            ]
          },
          "metadata": {},
          "execution_count": 366
        }
      ]
    },
    {
      "cell_type": "code",
      "source": [
        "# Split the data into train and test sets\n",
        "X_train = X[:40] # First 40 are training samples (80% of the data)\n",
        "y_train = y[:40]\n",
        "\n",
        "X_test = X[40:] # Last 10 are testing samples (20% of the data)\n",
        "y_test = y[40:]\n",
        "\n",
        "len(X_train), len(X_test), len(y_train), len(y_test)"
      ],
      "metadata": {
        "colab": {
          "base_uri": "https://localhost:8080/"
        },
        "id": "otIwDxIsSh6a",
        "outputId": "bd5b1a84-031c-49b8-f154-68b9e3b69ffa"
      },
      "execution_count": 367,
      "outputs": [
        {
          "output_type": "execute_result",
          "data": {
            "text/plain": [
              "(40, 10, 40, 10)"
            ]
          },
          "metadata": {},
          "execution_count": 367
        }
      ]
    },
    {
      "cell_type": "markdown",
      "source": [
        "**Visualizing the data**\n",
        "\n",
        "* Now we've got our training and test data sets.. Let's visualize them again to have better understanding\n"
      ],
      "metadata": {
        "id": "xs-Jeq9iUYbg"
      }
    },
    {
      "cell_type": "code",
      "source": [
        "plt.figure(figsize=(10,7)) #\n",
        "\n",
        "#Plot training data in blue\n",
        "plt.scatter(X_train, y_train, c=\"b\", label = \"Training Data\")  # c = \"b\" means color blue\n",
        "\n",
        "#Plot test data in green\n",
        "plt.scatter(X_test, y_test, c=\"g\", label = \"Test Data\") # c = \"g\" means color green\n",
        "plt.legend() # Gives the labels within the graph"
      ],
      "metadata": {
        "colab": {
          "base_uri": "https://localhost:8080/",
          "height": 616
        },
        "id": "KH7rX5NoTied",
        "outputId": "bd0a94be-574e-4ea4-e96b-12ccd165071d"
      },
      "execution_count": 368,
      "outputs": [
        {
          "output_type": "execute_result",
          "data": {
            "text/plain": [
              "<matplotlib.legend.Legend at 0x7ac6aa312bf0>"
            ]
          },
          "metadata": {},
          "execution_count": 368
        },
        {
          "output_type": "display_data",
          "data": {
            "text/plain": [
              "<Figure size 1000x700 with 1 Axes>"
            ],
            "image/png": "[encoded data removed]"
          },
          "metadata": {}
        }
      ]
    },
    {
      "cell_type": "code",
      "source": [
        "# Let's have a look at how to create the neural Netwrok\n",
        "\n",
        "#1.Create a model\n",
        "\n",
        "model = tf.keras.Sequential([\n",
        "    tf.keras.layers.Dense(1)\n",
        "])\n",
        "\n",
        "#2. Compile the model\n",
        "\n",
        "model.compile(loss = \"mae\", # or loss = tf.keras.losses.mae\n",
        "              optimizer = tf.keras.optimizers.SGD(),\n",
        "              metrics = [\"mae\"])\n",
        "\n",
        "# Fit the model\n",
        "\n",
        "model.fit(tf.expand_dims(X_train, axis = -1), y_train, epochs = 100) # can also build the models using the build() or fit()\n"
      ],
      "metadata": {
        "colab": {
          "base_uri": "https://localhost:8080/"
        },
        "id": "0SZ0CqnVVNfs",
        "outputId": "6f320e2d-9d82-4ddd-89c8-970a3d249d1f"
      },
      "execution_count": 369,
      "outputs": [
        {
          "output_type": "stream",
          "name": "stdout",
          "text": [
            "Epoch 1/100\n",
            "2/2 [==============================] - 1s 13ms/step - loss: 82.9730 - mae: 82.9730\n",
            "Epoch 2/100\n",
            "2/2 [==============================] - 0s 24ms/step - loss: 47.5655 - mae: 47.5655\n",
            "Epoch 3/100\n",
            "2/2 [==============================] - 0s 12ms/step - loss: 13.6153 - mae: 13.6153\n",
            "Epoch 4/100\n",
            "2/2 [==============================] - 0s 26ms/step - loss: 7.7621 - mae: 7.7621\n",
            "Epoch 5/100\n",
            "2/2 [==============================] - 0s 13ms/step - loss: 11.3288 - mae: 11.3288\n",
            "Epoch 6/100\n",
            "2/2 [==============================] - 0s 18ms/step - loss: 10.4552 - mae: 10.4552\n",
            "Epoch 7/100\n",
            "2/2 [==============================] - 0s 11ms/step - loss: 9.4302 - mae: 9.4302\n",
            "Epoch 8/100\n",
            "2/2 [==============================] - 0s 11ms/step - loss: 9.2958 - mae: 9.2958\n",
            "Epoch 9/100\n",
            "2/2 [==============================] - 0s 11ms/step - loss: 12.0086 - mae: 12.0086\n",
            "Epoch 10/100\n",
            "2/2 [==============================] - 0s 11ms/step - loss: 13.9794 - mae: 13.9794\n",
            "Epoch 11/100\n",
            "2/2 [==============================] - 0s 16ms/step - loss: 12.1307 - mae: 12.1307\n",
            "Epoch 12/100\n",
            "2/2 [==============================] - 0s 11ms/step - loss: 16.0268 - mae: 16.0268\n",
            "Epoch 13/100\n",
            "2/2 [==============================] - 0s 11ms/step - loss: 11.6834 - mae: 11.6834\n",
            "Epoch 14/100\n",
            "2/2 [==============================] - 0s 10ms/step - loss: 13.5181 - mae: 13.5181\n",
            "Epoch 15/100\n",
            "2/2 [==============================] - 0s 22ms/step - loss: 10.8313 - mae: 10.8313\n",
            "Epoch 16/100\n",
            "2/2 [==============================] - 0s 11ms/step - loss: 8.5477 - mae: 8.5477\n",
            "Epoch 17/100\n",
            "2/2 [==============================] - 0s 10ms/step - loss: 13.6301 - mae: 13.6301\n",
            "Epoch 18/100\n",
            "2/2 [==============================] - 0s 10ms/step - loss: 11.4514 - mae: 11.4514\n",
            "Epoch 19/100\n",
            "2/2 [==============================] - 0s 11ms/step - loss: 17.9719 - mae: 17.9719\n",
            "Epoch 20/100\n",
            "2/2 [==============================] - 0s 10ms/step - loss: 15.1062 - mae: 15.1062\n",
            "Epoch 21/100\n",
            "2/2 [==============================] - 0s 14ms/step - loss: 11.0745 - mae: 11.0745\n",
            "Epoch 22/100\n",
            "2/2 [==============================] - 0s 11ms/step - loss: 8.2080 - mae: 8.2080\n",
            "Epoch 23/100\n",
            "2/2 [==============================] - 0s 12ms/step - loss: 9.5133 - mae: 9.5133\n",
            "Epoch 24/100\n",
            "2/2 [==============================] - 0s 10ms/step - loss: 7.6923 - mae: 7.6923\n",
            "Epoch 25/100\n",
            "2/2 [==============================] - 0s 12ms/step - loss: 13.1437 - mae: 13.1437\n",
            "Epoch 26/100\n",
            "2/2 [==============================] - 0s 10ms/step - loss: 16.4771 - mae: 16.4771\n",
            "Epoch 27/100\n",
            "2/2 [==============================] - 0s 10ms/step - loss: 13.2166 - mae: 13.2166\n",
            "Epoch 28/100\n",
            "2/2 [==============================] - 0s 11ms/step - loss: 14.3165 - mae: 14.3165\n",
            "Epoch 29/100\n",
            "2/2 [==============================] - 0s 10ms/step - loss: 10.1004 - mae: 10.1004\n",
            "Epoch 30/100\n",
            "2/2 [==============================] - 0s 10ms/step - loss: 16.4180 - mae: 16.4180\n",
            "Epoch 31/100\n",
            "2/2 [==============================] - 0s 10ms/step - loss: 23.5914 - mae: 23.5914\n",
            "Epoch 32/100\n",
            "2/2 [==============================] - 0s 11ms/step - loss: 7.6353 - mae: 7.6353\n",
            "Epoch 33/100\n",
            "2/2 [==============================] - 0s 10ms/step - loss: 9.3320 - mae: 9.3320\n",
            "Epoch 34/100\n",
            "2/2 [==============================] - 0s 11ms/step - loss: 13.7067 - mae: 13.7067\n",
            "Epoch 35/100\n",
            "2/2 [==============================] - 0s 10ms/step - loss: 11.1744 - mae: 11.1744\n",
            "Epoch 36/100\n",
            "2/2 [==============================] - 0s 10ms/step - loss: 13.3882 - mae: 13.3882\n",
            "Epoch 37/100\n",
            "2/2 [==============================] - 0s 6ms/step - loss: 9.4793 - mae: 9.4793\n",
            "Epoch 38/100\n",
            "2/2 [==============================] - 0s 10ms/step - loss: 10.1339 - mae: 10.1339\n",
            "Epoch 39/100\n",
            "2/2 [==============================] - 0s 10ms/step - loss: 10.2265 - mae: 10.2265\n",
            "Epoch 40/100\n",
            "2/2 [==============================] - 0s 11ms/step - loss: 10.9674 - mae: 10.9674\n",
            "Epoch 41/100\n",
            "2/2 [==============================] - 0s 17ms/step - loss: 7.9558 - mae: 7.9558\n",
            "Epoch 42/100\n",
            "2/2 [==============================] - 0s 14ms/step - loss: 10.0909 - mae: 10.0909\n",
            "Epoch 43/100\n",
            "2/2 [==============================] - 0s 16ms/step - loss: 8.7140 - mae: 8.7140\n",
            "Epoch 44/100\n",
            "2/2 [==============================] - 0s 10ms/step - loss: 12.1797 - mae: 12.1797\n",
            "Epoch 45/100\n",
            "2/2 [==============================] - 0s 9ms/step - loss: 13.8572 - mae: 13.8572\n",
            "Epoch 46/100\n",
            "2/2 [==============================] - 0s 9ms/step - loss: 8.5201 - mae: 8.5201\n",
            "Epoch 47/100\n",
            "2/2 [==============================] - 0s 10ms/step - loss: 9.1353 - mae: 9.1353\n",
            "Epoch 48/100\n",
            "2/2 [==============================] - 0s 14ms/step - loss: 10.6124 - mae: 10.6124\n",
            "Epoch 49/100\n",
            "2/2 [==============================] - 0s 10ms/step - loss: 7.7541 - mae: 7.7541\n",
            "Epoch 50/100\n",
            "2/2 [==============================] - 0s 10ms/step - loss: 9.5357 - mae: 9.5357\n",
            "Epoch 51/100\n",
            "2/2 [==============================] - 0s 10ms/step - loss: 9.1745 - mae: 9.1745\n",
            "Epoch 52/100\n",
            "2/2 [==============================] - 0s 11ms/step - loss: 16.3112 - mae: 16.3112\n",
            "Epoch 53/100\n",
            "2/2 [==============================] - 0s 12ms/step - loss: 14.1724 - mae: 14.1724\n",
            "Epoch 54/100\n",
            "2/2 [==============================] - 0s 11ms/step - loss: 21.2018 - mae: 21.2018\n",
            "Epoch 55/100\n",
            "2/2 [==============================] - 0s 12ms/step - loss: 16.3543 - mae: 16.3543\n",
            "Epoch 56/100\n",
            "2/2 [==============================] - 0s 11ms/step - loss: 10.0396 - mae: 10.0396\n",
            "Epoch 57/100\n",
            "2/2 [==============================] - 0s 14ms/step - loss: 9.9586 - mae: 9.9586\n",
            "Epoch 58/100\n",
            "2/2 [==============================] - 0s 12ms/step - loss: 9.2231 - mae: 9.2231\n",
            "Epoch 59/100\n",
            "2/2 [==============================] - 0s 12ms/step - loss: 8.4231 - mae: 8.4231\n",
            "Epoch 60/100\n",
            "2/2 [==============================] - 0s 11ms/step - loss: 9.4934 - mae: 9.4934\n",
            "Epoch 61/100\n",
            "2/2 [==============================] - 0s 10ms/step - loss: 11.4239 - mae: 11.4239\n",
            "Epoch 62/100\n",
            "2/2 [==============================] - 0s 11ms/step - loss: 11.7485 - mae: 11.7485\n",
            "Epoch 63/100\n",
            "2/2 [==============================] - 0s 13ms/step - loss: 7.0953 - mae: 7.0953\n",
            "Epoch 64/100\n",
            "2/2 [==============================] - 0s 14ms/step - loss: 17.0254 - mae: 17.0254\n",
            "Epoch 65/100\n",
            "2/2 [==============================] - 0s 11ms/step - loss: 12.5101 - mae: 12.5101\n",
            "Epoch 66/100\n",
            "2/2 [==============================] - 0s 18ms/step - loss: 13.0778 - mae: 13.0778\n",
            "Epoch 67/100\n",
            "2/2 [==============================] - 0s 14ms/step - loss: 8.0983 - mae: 8.0983\n",
            "Epoch 68/100\n",
            "2/2 [==============================] - 0s 12ms/step - loss: 10.2348 - mae: 10.2348\n",
            "Epoch 69/100\n",
            "2/2 [==============================] - 0s 12ms/step - loss: 12.4262 - mae: 12.4262\n",
            "Epoch 70/100\n",
            "2/2 [==============================] - 0s 11ms/step - loss: 9.0546 - mae: 9.0546\n",
            "Epoch 71/100\n",
            "2/2 [==============================] - 0s 11ms/step - loss: 10.0378 - mae: 10.0378\n",
            "Epoch 72/100\n",
            "2/2 [==============================] - 0s 11ms/step - loss: 10.0569 - mae: 10.0569\n",
            "Epoch 73/100\n",
            "2/2 [==============================] - 0s 10ms/step - loss: 12.5970 - mae: 12.5970\n",
            "Epoch 74/100\n",
            "2/2 [==============================] - 0s 10ms/step - loss: 10.4452 - mae: 10.4452\n",
            "Epoch 75/100\n",
            "2/2 [==============================] - 0s 10ms/step - loss: 9.7248 - mae: 9.7248\n",
            "Epoch 76/100\n",
            "2/2 [==============================] - 0s 10ms/step - loss: 11.2202 - mae: 11.2202\n",
            "Epoch 77/100\n",
            "2/2 [==============================] - 0s 11ms/step - loss: 8.3665 - mae: 8.3665\n",
            "Epoch 78/100\n",
            "2/2 [==============================] - 0s 17ms/step - loss: 9.1159 - mae: 9.1159\n",
            "Epoch 79/100\n",
            "2/2 [==============================] - 0s 17ms/step - loss: 19.5787 - mae: 19.5787\n",
            "Epoch 80/100\n",
            "2/2 [==============================] - 0s 12ms/step - loss: 14.8592 - mae: 14.8592\n",
            "Epoch 81/100\n",
            "2/2 [==============================] - 0s 11ms/step - loss: 9.0725 - mae: 9.0725\n",
            "Epoch 82/100\n",
            "2/2 [==============================] - 0s 12ms/step - loss: 12.9957 - mae: 12.9957\n",
            "Epoch 83/100\n",
            "2/2 [==============================] - 0s 11ms/step - loss: 10.4590 - mae: 10.4590\n",
            "Epoch 84/100\n",
            "2/2 [==============================] - 0s 15ms/step - loss: 10.5053 - mae: 10.5053\n",
            "Epoch 85/100\n",
            "2/2 [==============================] - 0s 15ms/step - loss: 9.2446 - mae: 9.2446\n",
            "Epoch 86/100\n",
            "2/2 [==============================] - 0s 12ms/step - loss: 9.1214 - mae: 9.1214\n",
            "Epoch 87/100\n",
            "2/2 [==============================] - 0s 8ms/step - loss: 11.7874 - mae: 11.7874\n",
            "Epoch 88/100\n",
            "2/2 [==============================] - 0s 19ms/step - loss: 10.3943 - mae: 10.3943\n",
            "Epoch 89/100\n",
            "2/2 [==============================] - 0s 13ms/step - loss: 7.0114 - mae: 7.0114\n",
            "Epoch 90/100\n",
            "2/2 [==============================] - 0s 10ms/step - loss: 13.7005 - mae: 13.7005\n",
            "Epoch 91/100\n",
            "2/2 [==============================] - 0s 8ms/step - loss: 7.8370 - mae: 7.8370\n",
            "Epoch 92/100\n",
            "2/2 [==============================] - 0s 8ms/step - loss: 7.9928 - mae: 7.9928\n",
            "Epoch 93/100\n",
            "2/2 [==============================] - 0s 7ms/step - loss: 9.5015 - mae: 9.5015\n",
            "Epoch 94/100\n",
            "2/2 [==============================] - 0s 10ms/step - loss: 8.8118 - mae: 8.8118\n",
            "Epoch 95/100\n",
            "2/2 [==============================] - 0s 9ms/step - loss: 9.9586 - mae: 9.9586\n",
            "Epoch 96/100\n",
            "2/2 [==============================] - 0s 39ms/step - loss: 7.3297 - mae: 7.3297\n",
            "Epoch 97/100\n",
            "2/2 [==============================] - 0s 11ms/step - loss: 6.7759 - mae: 6.7759\n",
            "Epoch 98/100\n",
            "2/2 [==============================] - 0s 11ms/step - loss: 8.4334 - mae: 8.4334\n",
            "Epoch 99/100\n",
            "2/2 [==============================] - 0s 11ms/step - loss: 8.5162 - mae: 8.5162\n",
            "Epoch 100/100\n",
            "2/2 [==============================] - 0s 15ms/step - loss: 14.4161 - mae: 14.4161\n"
          ]
        },
        {
          "output_type": "execute_result",
          "data": {
            "text/plain": [
              "<keras.src.callbacks.History at 0x7ac6aa018eb0>"
            ]
          },
          "metadata": {},
          "execution_count": 369
        }
      ]
    },
    {
      "cell_type": "markdown",
      "source": [
        "#Visualizing the model"
      ],
      "metadata": {
        "id": "xoDV74OKawrC"
      }
    },
    {
      "cell_type": "code",
      "source": [
        "model.summary()"
      ],
      "metadata": {
        "colab": {
          "base_uri": "https://localhost:8080/"
        },
        "id": "0jT3cN2naf60",
        "outputId": "102e3bfe-a0c8-4412-f879-36d5ab9df730"
      },
      "execution_count": 370,
      "outputs": [
        {
          "output_type": "stream",
          "name": "stdout",
          "text": [
            "Model: \"sequential_68\"\n",
            "_________________________________________________________________\n",
            " Layer (type)                Output Shape              Param #   \n",
            "=================================================================\n",
            " dense_79 (Dense)            (None, 1)                 2         \n",
            "                                                                 \n",
            "=================================================================\n",
            "Total params: 2 (8.00 Byte)\n",
            "Trainable params: 2 (8.00 Byte)\n",
            "Non-trainable params: 0 (0.00 Byte)\n",
            "_________________________________________________________________\n"
          ]
        }
      ]
    },
    {
      "cell_type": "code",
      "source": [
        "# Let's create a model which builds automatically by defining the input_shape argument in the first layer\n",
        "\n",
        "tf.random.set_seed(42)\n",
        "\n",
        "#1. Creating the model\n",
        "model = tf.keras.Sequential([\n",
        "    tf.keras.layers.Dense(10, input_shape=[1], name = \"input_layer\"),\n",
        "    tf.keras.layers.Dense(1, name = \"output_layer\")\n",
        "],name =\"CHENCHU_MODEL\")\n",
        "\n",
        "#2 compile the model\n",
        "\n",
        "model.compile(loss = \"mae\",\n",
        "              optimizer = tf.keras.optimizers.SGD(),\n",
        "              metrics = [\"mae\"])\n",
        "\n",
        "#3 Fit the model\n",
        "\n",
        "\n",
        "\n"
      ],
      "metadata": {
        "id": "dFAuBUE3bFg9"
      },
      "execution_count": 371,
      "outputs": []
    },
    {
      "cell_type": "code",
      "source": [
        "model.summary()"
      ],
      "metadata": {
        "colab": {
          "base_uri": "https://localhost:8080/"
        },
        "id": "ht-g0GYGbTIK",
        "outputId": "01251be5-ac7d-4552-cb3c-24f0368744b8"
      },
      "execution_count": 372,
      "outputs": [
        {
          "output_type": "stream",
          "name": "stdout",
          "text": [
            "Model: \"CHENCHU_MODEL\"\n",
            "_________________________________________________________________\n",
            " Layer (type)                Output Shape              Param #   \n",
            "=================================================================\n",
            " input_layer (Dense)         (None, 10)                20        \n",
            "                                                                 \n",
            " output_layer (Dense)        (None, 1)                 11        \n",
            "                                                                 \n",
            "=================================================================\n",
            "Total params: 31 (124.00 Byte)\n",
            "Trainable params: 31 (124.00 Byte)\n",
            "Non-trainable params: 0 (0.00 Byte)\n",
            "_________________________________________________________________\n"
          ]
        }
      ]
    },
    {
      "cell_type": "markdown",
      "source": [
        "**ELABORATION OF THE SUMMARY**\n",
        "\n",
        "***Total params:** Total number of parameters in the model\n",
        "\n",
        " ***Trainable params:** These are the parameters (Patterns) the model can update as it trains\n",
        "\n",
        "***Non-trainable params:** these parameters aren't updated during the training(this is typical when you bring in already learn patterns or parameters from other models during the transfer learning)\n",
        "\n",
        "**Resource :**  For more in-depth overview of the trainable parameters within a layer, check out MIT's introduction to deep learning video https://youtu.be/QDX-1M5Nj7s\n",
        "\n",
        "**Excercise :**  Try playing with the number of hidden units in the dense layer see how that effects the number of parameters (Total and trainable ) by calling model.summary()"
      ],
      "metadata": {
        "id": "_21-WEmfdQYo"
      }
    },
    {
      "cell_type": "code",
      "source": [
        "#Let's fit our model to the training the data\n",
        "\n",
        "model.fit(X_train, y_train, epochs = 100, verbose=0) # Verbosity mode  0 = Silent 1= progress bar 2 = one line per epoch\n"
      ],
      "metadata": {
        "colab": {
          "base_uri": "https://localhost:8080/"
        },
        "id": "lzP7dsH2cc5O",
        "outputId": "ca72d1ba-8da5-474b-82c7-fe7ed94d3929"
      },
      "execution_count": 373,
      "outputs": [
        {
          "output_type": "execute_result",
          "data": {
            "text/plain": [
              "<keras.src.callbacks.History at 0x7ac6aa1c2800>"
            ]
          },
          "metadata": {},
          "execution_count": 373
        }
      ]
    },
    {
      "cell_type": "code",
      "source": [
        "# Get the model summary\n",
        "model.summary()"
      ],
      "metadata": {
        "colab": {
          "base_uri": "https://localhost:8080/"
        },
        "id": "T7qXuDu2gwY4",
        "outputId": "ee10d0a8-1c75-416c-e71d-50069b6d61a7"
      },
      "execution_count": 374,
      "outputs": [
        {
          "output_type": "stream",
          "name": "stdout",
          "text": [
            "Model: \"CHENCHU_MODEL\"\n",
            "_________________________________________________________________\n",
            " Layer (type)                Output Shape              Param #   \n",
            "=================================================================\n",
            " input_layer (Dense)         (None, 10)                20        \n",
            "                                                                 \n",
            " output_layer (Dense)        (None, 1)                 11        \n",
            "                                                                 \n",
            "=================================================================\n",
            "Total params: 31 (124.00 Byte)\n",
            "Trainable params: 31 (124.00 Byte)\n",
            "Non-trainable params: 0 (0.00 Byte)\n",
            "_________________________________________________________________\n"
          ]
        }
      ]
    },
    {
      "cell_type": "code",
      "source": [
        "# We can also visualize the data using the plot_model from utils\n",
        "\n",
        "from tensorflow.keras.utils import plot_model\n",
        "\n",
        "plot_model(model=model, show_shapes=True)"
      ],
      "metadata": {
        "colab": {
          "base_uri": "https://localhost:8080/",
          "height": 312
        },
        "id": "C_awP_9chR2s",
        "outputId": "c0b1cfb9-82b3-4d45-a77b-c0d2ec214157"
      },
      "execution_count": 375,
      "outputs": [
        {
          "output_type": "execute_result",
          "data": {
            "image/png": "[encoded data removed]",
            "text/plain": [
              "<IPython.core.display.Image object>"
            ]
          },
          "metadata": {},
          "execution_count": 375
        }
      ]
    },
    {
      "cell_type": "markdown",
      "source": [
        "**Visualizing the model predictions**\n",
        "\n",
        "To visualize the predictions, it's a good idea to plot them against the ground truth labels.\n",
        "\n",
        "Often you'll see this in the form of y_test or y_true versus y_pred (Ground truth versus model predictions)\n",
        "\n",
        "\n",
        "\n",
        "\n"
      ],
      "metadata": {
        "id": "XIcy1J10ks50"
      }
    },
    {
      "cell_type": "code",
      "source": [
        "# Make some predictions\n",
        "\n",
        "y_pred = model.predict(X_test)\n",
        "y_pred # Will print the predictions"
      ],
      "metadata": {
        "colab": {
          "base_uri": "https://localhost:8080/"
        },
        "id": "CbMuNATQh9_D",
        "outputId": "1d574a32-7f4d-4a2e-a97a-39fc419790d6"
      },
      "execution_count": 376,
      "outputs": [
        {
          "output_type": "stream",
          "name": "stdout",
          "text": [
            "1/1 [==============================] - 0s 175ms/step\n"
          ]
        },
        {
          "output_type": "execute_result",
          "data": {
            "text/plain": [
              "array([[ 76.28348 ],\n",
              "       [ 81.25434 ],\n",
              "       [ 86.22521 ],\n",
              "       [ 91.196075],\n",
              "       [ 96.16694 ],\n",
              "       [101.1378  ],\n",
              "       [106.108665],\n",
              "       [111.07953 ],\n",
              "       [116.05039 ],\n",
              "       [121.02126 ]], dtype=float32)"
            ]
          },
          "metadata": {},
          "execution_count": 376
        }
      ]
    },
    {
      "cell_type": "code",
      "source": [
        "y_test # will print the ground truth labels"
      ],
      "metadata": {
        "colab": {
          "base_uri": "https://localhost:8080/"
        },
        "id": "oFkvUk82laCt",
        "outputId": "a62609ab-4ab9-4ae0-e4ae-c34676595e48"
      },
      "execution_count": 377,
      "outputs": [
        {
          "output_type": "execute_result",
          "data": {
            "text/plain": [
              "<tf.Tensor: shape=(10,), dtype=int32, numpy=array([ 70,  74,  78,  82,  86,  90,  94,  98, 102, 106], dtype=int32)>"
            ]
          },
          "metadata": {},
          "execution_count": 377
        }
      ]
    },
    {
      "cell_type": "markdown",
      "source": [
        "**Note :** If you feel like u will use the functionality in the future it's better to make them as functions to reuse again"
      ],
      "metadata": {
        "id": "ERGMj1F0mY4C"
      }
    },
    {
      "cell_type": "code",
      "source": [
        "\n",
        "def plot_predictions(train_data=X_train,\n",
        "                     train_labels=y_train,\n",
        "                     test_data=X_test,\n",
        "                     test_labels=y_test,\n",
        "                     predictions=y_pred):\n",
        "  \"\"\"\n",
        "  Plots training data, test data and compares predictions.\n",
        "  \"\"\"\n",
        "  plt.figure(figsize=(10, 7))\n",
        "  # Plot training data in blue\n",
        "  plt.scatter(train_data, train_labels, c=\"b\", label=\"Training data\")\n",
        "  # Plot test data in green\n",
        "  plt.scatter(test_data, test_labels, c=\"g\", label=\"Testing data\")\n",
        "  # Plot the predictions in red (predictions were made on the test data)\n",
        "  plt.scatter(test_data, predictions, c=\"r\", label=\"Predictions\")\n",
        "  # Show the legend\n",
        "  plt.legend();"
      ],
      "metadata": {
        "id": "UdGBGD2Tlifu"
      },
      "execution_count": 378,
      "outputs": []
    },
    {
      "cell_type": "markdown",
      "source": [
        "def plot_predictions(train_data = X_train,\n",
        "                    train_labels = y_train,\n",
        "                    test_data = X_test,\n",
        "                    test_labels =y_test,\n",
        "                    predictions = y_pred):"
      ],
      "metadata": {
        "id": "UtjxUhDTSnAs"
      }
    },
    {
      "cell_type": "code",
      "source": [
        "plot_predictions()"
      ],
      "metadata": {
        "colab": {
          "base_uri": "https://localhost:8080/",
          "height": 599
        },
        "id": "8CdaKmKCnI-C",
        "outputId": "1d7f80ca-a44c-4bd8-ab90-909a64367cd0"
      },
      "execution_count": 379,
      "outputs": [
        {
          "output_type": "display_data",
          "data": {
            "text/plain": [
              "<Figure size 1000x700 with 1 Axes>"
            ],
            "image/png": "[encoded data removed]"
          },
          "metadata": {}
        }
      ]
    },
    {
      "cell_type": "markdown",
      "source": [
        "**Evaluation of Model Performance:**\n",
        "\n",
        "* Evaluating our models prediction with regression evaluation metrics\n",
        "* Depending on the problem that you are working on, There will be different evaluation metrics to evaluate your model's performance.\n",
        "* Since you are working on a regression, two of the main metrics:\n",
        "  * MAE : Mean Absolute Error (On average, how wrong is each of my model's prediction)\n",
        "  * MSE : Mean Square Error, (Square Average Errors)\n",
        "\n"
      ],
      "metadata": {
        "id": "3VCv5Dp3SwBo"
      }
    },
    {
      "cell_type": "code",
      "source": [
        "# Evaluate the model on the test s\n",
        "model.evaluate(X_test, y_test)"
      ],
      "metadata": {
        "colab": {
          "base_uri": "https://localhost:8080/"
        },
        "id": "Pg9Ra9bqRksE",
        "outputId": "42baaad3-5b95-4804-e46e-30aecb04d005"
      },
      "execution_count": 380,
      "outputs": [
        {
          "output_type": "stream",
          "name": "stdout",
          "text": [
            "1/1 [==============================] - 1s 546ms/step - loss: 10.6524 - mae: 10.6524\n"
          ]
        },
        {
          "output_type": "execute_result",
          "data": {
            "text/plain": [
              "[10.652371406555176, 10.652371406555176]"
            ]
          },
          "metadata": {},
          "execution_count": 380
        }
      ]
    },
    {
      "cell_type": "code",
      "source": [
        "# Calculate the Mean Absolute Error\n",
        "mae = tf.metrics.mean_absolute_error(y_true = y_test, y_pred=y_pred)\n",
        "mae"
      ],
      "metadata": {
        "colab": {
          "base_uri": "https://localhost:8080/"
        },
        "id": "VBTB4HmKXRcc",
        "outputId": "85d487a6-04a1-4f29-8ba3-98d56dc338eb"
      },
      "execution_count": 381,
      "outputs": [
        {
          "output_type": "execute_result",
          "data": {
            "text/plain": [
              "<tf.Tensor: shape=(10,), dtype=float32, numpy=\n",
              "array([13.4299135, 11.098264 , 10.       , 10.239215 , 11.666776 ,\n",
              "       14.282681 , 18.108665 , 23.079529 , 28.05039  , 33.021263 ],\n",
              "      dtype=float32)>"
            ]
          },
          "metadata": {},
          "execution_count": 381
        }
      ]
    },
    {
      "cell_type": "code",
      "source": [
        "tf.constant(y_pred)"
      ],
      "metadata": {
        "colab": {
          "base_uri": "https://localhost:8080/"
        },
        "id": "8qlzLv87WbpK",
        "outputId": "ff7b607d-a7da-4f63-ec2b-bdf53439c292"
      },
      "execution_count": 382,
      "outputs": [
        {
          "output_type": "execute_result",
          "data": {
            "text/plain": [
              "<tf.Tensor: shape=(10, 1), dtype=float32, numpy=\n",
              "array([[ 76.28348 ],\n",
              "       [ 81.25434 ],\n",
              "       [ 86.22521 ],\n",
              "       [ 91.196075],\n",
              "       [ 96.16694 ],\n",
              "       [101.1378  ],\n",
              "       [106.108665],\n",
              "       [111.07953 ],\n",
              "       [116.05039 ],\n",
              "       [121.02126 ]], dtype=float32)>"
            ]
          },
          "metadata": {},
          "execution_count": 382
        }
      ]
    },
    {
      "cell_type": "code",
      "source": [
        "y_test"
      ],
      "metadata": {
        "colab": {
          "base_uri": "https://localhost:8080/"
        },
        "id": "lvm3djxdWzJs",
        "outputId": "ccbbf2d1-eee2-4228-ee40-8a595d9f7748"
      },
      "execution_count": 383,
      "outputs": [
        {
          "output_type": "execute_result",
          "data": {
            "text/plain": [
              "<tf.Tensor: shape=(10,), dtype=int32, numpy=array([ 70,  74,  78,  82,  86,  90,  94,  98, 102, 106], dtype=int32)>"
            ]
          },
          "metadata": {},
          "execution_count": 383
        }
      ]
    },
    {
      "cell_type": "code",
      "source": [
        "tf.squeeze(y_pred)"
      ],
      "metadata": {
        "colab": {
          "base_uri": "https://localhost:8080/"
        },
        "id": "s1WlTqFeW1vL",
        "outputId": "a9bb6020-6876-46ee-a283-824c17a8320a"
      },
      "execution_count": 384,
      "outputs": [
        {
          "output_type": "execute_result",
          "data": {
            "text/plain": [
              "<tf.Tensor: shape=(10,), dtype=float32, numpy=\n",
              "array([ 76.28348 ,  81.25434 ,  86.22521 ,  91.196075,  96.16694 ,\n",
              "       101.1378  , 106.108665, 111.07953 , 116.05039 , 121.02126 ],\n",
              "      dtype=float32)>"
            ]
          },
          "metadata": {},
          "execution_count": 384
        }
      ]
    },
    {
      "cell_type": "code",
      "source": [
        "# Calculate the mean absolute error\n",
        "\n",
        "mae = tf.metrics.mean_absolute_error(y_true = y_test,\n",
        "                                     y_pred = tf.squeeze(y_pred))\n",
        "mae"
      ],
      "metadata": {
        "colab": {
          "base_uri": "https://localhost:8080/"
        },
        "id": "Cyp6IJvgXKX5",
        "outputId": "8b51b27e-522e-4353-b18c-17e4077cea1d"
      },
      "execution_count": 385,
      "outputs": [
        {
          "output_type": "execute_result",
          "data": {
            "text/plain": [
              "<tf.Tensor: shape=(), dtype=float32, numpy=10.6523695>"
            ]
          },
          "metadata": {},
          "execution_count": 385
        }
      ]
    },
    {
      "cell_type": "code",
      "source": [
        "# Calculate the mean squeare Error\n",
        "\n",
        "mse = tf.metrics.mean_squared_error(y_true = y_test,\n",
        "                                  y_pred = tf.squeeze(y_pred))\n",
        "mse"
      ],
      "metadata": {
        "colab": {
          "base_uri": "https://localhost:8080/"
        },
        "id": "6e4ibFLRZIon",
        "outputId": "a910993e-a6b0-4bf9-fa91-38da19a24697"
      },
      "execution_count": 386,
      "outputs": [
        {
          "output_type": "execute_result",
          "data": {
            "text/plain": [
              "<tf.Tensor: shape=(), dtype=float32, numpy=121.249245>"
            ]
          },
          "metadata": {},
          "execution_count": 386
        }
      ]
    },
    {
      "cell_type": "code",
      "source": [
        "# Make some functions to reuse the MAE and MSE\n",
        "\n",
        "def mae(y_true, y_pred):\n",
        "  return tf.metrics.mean_absolute_error(y_true=y_true,\n",
        "                                        y_pred = y_test)\n",
        "\n",
        "def mse(y_true, y_pred):\n",
        "  return tf.metrics.mean_squared_error(y_true = y_true,\n",
        "                                       y_pred = y_pred)\n",
        "\n"
      ],
      "metadata": {
        "id": "CH6dvSUJbPtE"
      },
      "execution_count": 387,
      "outputs": []
    },
    {
      "cell_type": "markdown",
      "source": [
        "# Running Experiments to improve our model\n",
        "\n",
        "Build model -> fit it -> Evaluate it -> tweak it -> fit it -> Evaluate it -> Tweak it -> fit it -> Evaluate it....\n",
        "\n",
        "1. Get More data : More exampled for your model to train on (More oppurtunities to learn patterns or relationships between and labels)\n",
        "2. Make your model larger : (Using more complex model) - this might come in the form of more layers or more hidden units in each layer.\n",
        "3. Train For longer : Give your model to more time to find the patterns in the data\n",
        "\n",
        "\n",
        "\n",
        "Let's do 3 modeling experiments :\n",
        "\n",
        "1. Model_1 - Same as original one, 1 layer, trained for 100 epochs\n",
        "2. Model_2 - 2 layers, trained for 100 epochs\n",
        "3. model_3 - 2 layers, trained for 500 epochs\n",
        "4. You experiment with your own\n",
        "\n",
        "**Now let's build the model1**\n",
        "\n"
      ],
      "metadata": {
        "id": "sMK0u5SUdGgE"
      }
    },
    {
      "cell_type": "code",
      "source": [
        "X_train, y_train"
      ],
      "metadata": {
        "colab": {
          "base_uri": "https://localhost:8080/"
        },
        "id": "FvZUxAalc4ir",
        "outputId": "28f5be99-00fc-4af2-9fe9-fe0d56f3609a"
      },
      "execution_count": 388,
      "outputs": [
        {
          "output_type": "execute_result",
          "data": {
            "text/plain": [
              "(<tf.Tensor: shape=(40,), dtype=int32, numpy=\n",
              " array([-100,  -96,  -92,  -88,  -84,  -80,  -76,  -72,  -68,  -64,  -60,\n",
              "         -56,  -52,  -48,  -44,  -40,  -36,  -32,  -28,  -24,  -20,  -16,\n",
              "         -12,   -8,   -4,    0,    4,    8,   12,   16,   20,   24,   28,\n",
              "          32,   36,   40,   44,   48,   52,   56], dtype=int32)>,\n",
              " <tf.Tensor: shape=(40,), dtype=int32, numpy=\n",
              " array([-90, -86, -82, -78, -74, -70, -66, -62, -58, -54, -50, -46, -42,\n",
              "        -38, -34, -30, -26, -22, -18, -14, -10,  -6,  -2,   2,   6,  10,\n",
              "         14,  18,  22,  26,  30,  34,  38,  42,  46,  50,  54,  58,  62,\n",
              "         66], dtype=int32)>)"
            ]
          },
          "metadata": {},
          "execution_count": 388
        }
      ]
    },
    {
      "cell_type": "code",
      "source": [
        "# Set random seed\n",
        "tf.random.set_seed(42)\n",
        "\n",
        "#1. Build a model\n",
        "model_1 = tf.keras.Sequential([\n",
        "    tf.keras.layers.Dense(1,input_shape=[1])\n",
        "])\n",
        "\n",
        "#2. Compile a model\n",
        "model_1.compile(loss=tf.keras.losses.mae,\n",
        "                optimizer = tf.keras.optimizers.SGD(),\n",
        "                metrics = [\"mae\"])\n",
        "\n",
        "#3. Fit the model\n",
        "model.fit(X_train, y_train, epochs = 100)\n",
        "\n",
        "\n",
        "\n"
      ],
      "metadata": {
        "colab": {
          "base_uri": "https://localhost:8080/"
        },
        "id": "pmcfa70CeXz4",
        "outputId": "2c310ab5-35c0-4283-badc-07ed1724b173"
      },
      "execution_count": 389,
      "outputs": [
        {
          "output_type": "stream",
          "name": "stdout",
          "text": [
            "Epoch 1/100\n",
            "2/2 [==============================] - 0s 48ms/step - loss: 15.4589 - mae: 15.4589\n",
            "Epoch 2/100\n",
            "2/2 [==============================] - 0s 37ms/step - loss: 8.0930 - mae: 8.0930\n",
            "Epoch 3/100\n",
            "2/2 [==============================] - 0s 43ms/step - loss: 17.6018 - mae: 17.6018\n",
            "Epoch 4/100\n",
            "2/2 [==============================] - 0s 36ms/step - loss: 9.8795 - mae: 9.8795\n",
            "Epoch 5/100\n",
            "2/2 [==============================] - 0s 32ms/step - loss: 12.2191 - mae: 12.2191\n",
            "Epoch 6/100\n",
            "2/2 [==============================] - 0s 28ms/step - loss: 9.7617 - mae: 9.7617\n",
            "Epoch 7/100\n",
            "2/2 [==============================] - 0s 44ms/step - loss: 10.8059 - mae: 10.8059\n",
            "Epoch 8/100\n",
            "2/2 [==============================] - 0s 34ms/step - loss: 13.7366 - mae: 13.7366\n",
            "Epoch 9/100\n",
            "2/2 [==============================] - 0s 25ms/step - loss: 24.8308 - mae: 24.8308\n",
            "Epoch 10/100\n",
            "2/2 [==============================] - 0s 34ms/step - loss: 15.3354 - mae: 15.3354\n",
            "Epoch 11/100\n",
            "2/2 [==============================] - 0s 38ms/step - loss: 10.7752 - mae: 10.7752\n",
            "Epoch 12/100\n",
            "2/2 [==============================] - 0s 36ms/step - loss: 22.9904 - mae: 22.9904\n",
            "Epoch 13/100\n",
            "2/2 [==============================] - 0s 34ms/step - loss: 22.0574 - mae: 22.0574\n",
            "Epoch 14/100\n",
            "2/2 [==============================] - 0s 35ms/step - loss: 23.1410 - mae: 23.1410\n",
            "Epoch 15/100\n",
            "2/2 [==============================] - 0s 26ms/step - loss: 13.7828 - mae: 13.7828\n",
            "Epoch 16/100\n",
            "2/2 [==============================] - 0s 35ms/step - loss: 8.9889 - mae: 8.9889\n",
            "Epoch 17/100\n",
            "2/2 [==============================] - 0s 28ms/step - loss: 18.8051 - mae: 18.8051\n",
            "Epoch 18/100\n",
            "2/2 [==============================] - 0s 25ms/step - loss: 8.8313 - mae: 8.8313\n",
            "Epoch 19/100\n",
            "2/2 [==============================] - 0s 15ms/step - loss: 14.2944 - mae: 14.2944\n",
            "Epoch 20/100\n",
            "2/2 [==============================] - 0s 36ms/step - loss: 9.2958 - mae: 9.2958\n",
            "Epoch 21/100\n",
            "2/2 [==============================] - 0s 38ms/step - loss: 16.1187 - mae: 16.1187\n",
            "Epoch 22/100\n",
            "2/2 [==============================] - 0s 22ms/step - loss: 14.3295 - mae: 14.3295\n",
            "Epoch 23/100\n",
            "2/2 [==============================] - 0s 33ms/step - loss: 13.0477 - mae: 13.0477\n",
            "Epoch 24/100\n",
            "2/2 [==============================] - 0s 40ms/step - loss: 13.8956 - mae: 13.8956\n",
            "Epoch 25/100\n",
            "2/2 [==============================] - 0s 25ms/step - loss: 16.9437 - mae: 16.9437\n",
            "Epoch 26/100\n",
            "2/2 [==============================] - 0s 20ms/step - loss: 23.3634 - mae: 23.3634\n",
            "Epoch 27/100\n",
            "2/2 [==============================] - 0s 14ms/step - loss: 20.3112 - mae: 20.3112\n",
            "Epoch 28/100\n",
            "2/2 [==============================] - 0s 11ms/step - loss: 15.4331 - mae: 15.4331\n",
            "Epoch 29/100\n",
            "2/2 [==============================] - 0s 11ms/step - loss: 8.1198 - mae: 8.1198\n",
            "Epoch 30/100\n",
            "2/2 [==============================] - 0s 7ms/step - loss: 29.2516 - mae: 29.2516\n",
            "Epoch 31/100\n",
            "2/2 [==============================] - 0s 18ms/step - loss: 52.8572 - mae: 52.8572\n",
            "Epoch 32/100\n",
            "2/2 [==============================] - 0s 15ms/step - loss: 12.0830 - mae: 12.0830\n",
            "Epoch 33/100\n",
            "2/2 [==============================] - 0s 18ms/step - loss: 10.0216 - mae: 10.0216\n",
            "Epoch 34/100\n",
            "2/2 [==============================] - 0s 15ms/step - loss: 20.3986 - mae: 20.3986\n",
            "Epoch 35/100\n",
            "2/2 [==============================] - 0s 8ms/step - loss: 13.8396 - mae: 13.8396\n",
            "Epoch 36/100\n",
            "2/2 [==============================] - 0s 18ms/step - loss: 20.2825 - mae: 20.2825\n",
            "Epoch 37/100\n",
            "2/2 [==============================] - 0s 12ms/step - loss: 11.5039 - mae: 11.5039\n",
            "Epoch 38/100\n",
            "2/2 [==============================] - 0s 21ms/step - loss: 17.1453 - mae: 17.1453\n",
            "Epoch 39/100\n",
            "2/2 [==============================] - 0s 11ms/step - loss: 18.0572 - mae: 18.0572\n",
            "Epoch 40/100\n",
            "2/2 [==============================] - 0s 20ms/step - loss: 18.8521 - mae: 18.8521\n",
            "Epoch 41/100\n",
            "2/2 [==============================] - 0s 23ms/step - loss: 17.6611 - mae: 17.6611\n",
            "Epoch 42/100\n",
            "2/2 [==============================] - 0s 21ms/step - loss: 9.2902 - mae: 9.2902\n",
            "Epoch 43/100\n",
            "2/2 [==============================] - 0s 13ms/step - loss: 8.8908 - mae: 8.8908\n",
            "Epoch 44/100\n",
            "2/2 [==============================] - 0s 15ms/step - loss: 33.9107 - mae: 33.9107\n",
            "Epoch 45/100\n",
            "2/2 [==============================] - 0s 17ms/step - loss: 13.7466 - mae: 13.7466\n",
            "Epoch 46/100\n",
            "2/2 [==============================] - 0s 43ms/step - loss: 7.5031 - mae: 7.5031\n",
            "Epoch 47/100\n",
            "2/2 [==============================] - 0s 11ms/step - loss: 10.8289 - mae: 10.8289\n",
            "Epoch 48/100\n",
            "2/2 [==============================] - 0s 10ms/step - loss: 15.5370 - mae: 15.5370\n",
            "Epoch 49/100\n",
            "2/2 [==============================] - 0s 19ms/step - loss: 11.1347 - mae: 11.1347\n",
            "Epoch 50/100\n",
            "2/2 [==============================] - 0s 11ms/step - loss: 13.7059 - mae: 13.7059\n",
            "Epoch 51/100\n",
            "2/2 [==============================] - 0s 12ms/step - loss: 14.5798 - mae: 14.5798\n",
            "Epoch 52/100\n",
            "2/2 [==============================] - 0s 29ms/step - loss: 18.1614 - mae: 18.1614\n",
            "Epoch 53/100\n",
            "2/2 [==============================] - 0s 17ms/step - loss: 23.2513 - mae: 23.2513\n",
            "Epoch 54/100\n",
            "2/2 [==============================] - 0s 16ms/step - loss: 25.4208 - mae: 25.4208\n",
            "Epoch 55/100\n",
            "2/2 [==============================] - 0s 16ms/step - loss: 24.7577 - mae: 24.7577\n",
            "Epoch 56/100\n",
            "2/2 [==============================] - 0s 14ms/step - loss: 9.7572 - mae: 9.7572\n",
            "Epoch 57/100\n",
            "2/2 [==============================] - 0s 13ms/step - loss: 11.8398 - mae: 11.8398\n",
            "Epoch 58/100\n",
            "2/2 [==============================] - 0s 20ms/step - loss: 8.7698 - mae: 8.7698\n",
            "Epoch 59/100\n",
            "2/2 [==============================] - 0s 8ms/step - loss: 14.4139 - mae: 14.4139\n",
            "Epoch 60/100\n",
            "2/2 [==============================] - 0s 17ms/step - loss: 8.0217 - mae: 8.0217\n",
            "Epoch 61/100\n",
            "2/2 [==============================] - 0s 30ms/step - loss: 17.5690 - mae: 17.5690\n",
            "Epoch 62/100\n",
            "2/2 [==============================] - 0s 13ms/step - loss: 14.5623 - mae: 14.5623\n",
            "Epoch 63/100\n",
            "2/2 [==============================] - 0s 11ms/step - loss: 16.8958 - mae: 16.8958\n",
            "Epoch 64/100\n",
            "2/2 [==============================] - 0s 13ms/step - loss: 20.1941 - mae: 20.1941\n",
            "Epoch 65/100\n",
            "2/2 [==============================] - 0s 26ms/step - loss: 15.8585 - mae: 15.8585\n",
            "Epoch 66/100\n",
            "2/2 [==============================] - 0s 8ms/step - loss: 10.2932 - mae: 10.2932\n",
            "Epoch 67/100\n",
            "2/2 [==============================] - 0s 8ms/step - loss: 16.7501 - mae: 16.7501\n",
            "Epoch 68/100\n",
            "2/2 [==============================] - 0s 8ms/step - loss: 7.0297 - mae: 7.0297\n",
            "Epoch 69/100\n",
            "2/2 [==============================] - 0s 14ms/step - loss: 21.4790 - mae: 21.4790\n",
            "Epoch 70/100\n",
            "2/2 [==============================] - 0s 11ms/step - loss: 13.7396 - mae: 13.7396\n",
            "Epoch 71/100\n",
            "2/2 [==============================] - 0s 12ms/step - loss: 10.2067 - mae: 10.2067\n",
            "Epoch 72/100\n",
            "2/2 [==============================] - 0s 11ms/step - loss: 15.2532 - mae: 15.2532\n",
            "Epoch 73/100\n",
            "2/2 [==============================] - 0s 11ms/step - loss: 10.2421 - mae: 10.2421\n",
            "Epoch 74/100\n",
            "2/2 [==============================] - 0s 14ms/step - loss: 23.3035 - mae: 23.3035\n",
            "Epoch 75/100\n",
            "2/2 [==============================] - 0s 15ms/step - loss: 6.5946 - mae: 6.5946\n",
            "Epoch 76/100\n",
            "2/2 [==============================] - 0s 12ms/step - loss: 19.7745 - mae: 19.7745\n",
            "Epoch 77/100\n",
            "2/2 [==============================] - 0s 16ms/step - loss: 29.4981 - mae: 29.4981\n",
            "Epoch 78/100\n",
            "2/2 [==============================] - 0s 13ms/step - loss: 10.2791 - mae: 10.2791\n",
            "Epoch 79/100\n",
            "2/2 [==============================] - 0s 13ms/step - loss: 22.5429 - mae: 22.5429\n",
            "Epoch 80/100\n",
            "2/2 [==============================] - 0s 10ms/step - loss: 24.9765 - mae: 24.9765\n",
            "Epoch 81/100\n",
            "2/2 [==============================] - 0s 10ms/step - loss: 9.8489 - mae: 9.8489\n",
            "Epoch 82/100\n",
            "2/2 [==============================] - 0s 11ms/step - loss: 12.5010 - mae: 12.5010\n",
            "Epoch 83/100\n",
            "2/2 [==============================] - 0s 12ms/step - loss: 16.3550 - mae: 16.3550\n",
            "Epoch 84/100\n",
            "2/2 [==============================] - 0s 14ms/step - loss: 11.4083 - mae: 11.4083\n",
            "Epoch 85/100\n",
            "2/2 [==============================] - 0s 21ms/step - loss: 28.0140 - mae: 28.0140\n",
            "Epoch 86/100\n",
            "2/2 [==============================] - 0s 14ms/step - loss: 8.8317 - mae: 8.8317\n",
            "Epoch 87/100\n",
            "2/2 [==============================] - 0s 13ms/step - loss: 23.6356 - mae: 23.6356\n",
            "Epoch 88/100\n",
            "2/2 [==============================] - 0s 13ms/step - loss: 18.3949 - mae: 18.3949\n",
            "Epoch 89/100\n",
            "2/2 [==============================] - 0s 17ms/step - loss: 7.3148 - mae: 7.3148\n",
            "Epoch 90/100\n",
            "2/2 [==============================] - 0s 46ms/step - loss: 23.0531 - mae: 23.0531\n",
            "Epoch 91/100\n",
            "2/2 [==============================] - 0s 30ms/step - loss: 21.9265 - mae: 21.9265\n",
            "Epoch 92/100\n",
            "2/2 [==============================] - 0s 25ms/step - loss: 14.7723 - mae: 14.7723\n",
            "Epoch 93/100\n",
            "2/2 [==============================] - 0s 20ms/step - loss: 10.2085 - mae: 10.2085\n",
            "Epoch 94/100\n",
            "2/2 [==============================] - 0s 27ms/step - loss: 15.8838 - mae: 15.8838\n",
            "Epoch 95/100\n",
            "2/2 [==============================] - 0s 14ms/step - loss: 15.2719 - mae: 15.2719\n",
            "Epoch 96/100\n",
            "2/2 [==============================] - 0s 12ms/step - loss: 14.3867 - mae: 14.3867\n",
            "Epoch 97/100\n",
            "2/2 [==============================] - 0s 19ms/step - loss: 10.0158 - mae: 10.0158\n",
            "Epoch 98/100\n",
            "2/2 [==============================] - 0s 12ms/step - loss: 13.5919 - mae: 13.5919\n",
            "Epoch 99/100\n",
            "2/2 [==============================] - 0s 19ms/step - loss: 18.2252 - mae: 18.2252\n",
            "Epoch 100/100\n",
            "2/2 [==============================] - 0s 18ms/step - loss: 28.6308 - mae: 28.6308\n"
          ]
        },
        {
          "output_type": "execute_result",
          "data": {
            "text/plain": [
              "<keras.src.callbacks.History at 0x7ac6afc436d0>"
            ]
          },
          "metadata": {},
          "execution_count": 389
        }
      ]
    },
    {
      "cell_type": "code",
      "source": [
        "#4.Predict from the model\n",
        "y_preds_1 = model_1.predict(X_test)\n",
        "plot_predictions(predictions = y_preds_1)"
      ],
      "metadata": {
        "colab": {
          "base_uri": "https://localhost:8080/",
          "height": 616
        },
        "id": "vXURcshJgamM",
        "outputId": "a4e2923f-1e9d-44ad-a5f5-0e9ccc8cf2b0"
      },
      "execution_count": 390,
      "outputs": [
        {
          "output_type": "stream",
          "name": "stdout",
          "text": [
            "1/1 [==============================] - 0s 264ms/step\n"
          ]
        },
        {
          "output_type": "display_data",
          "data": {
            "text/plain": [
              "<Figure size 1000x700 with 1 Axes>"
            ],
            "image/png": "[encoded data removed]"
          },
          "metadata": {}
        }
      ]
    },
    {
      "cell_type": "code",
      "source": [
        "tf.constant(y_preds_1), tf.squeeze(y_preds_1)"
      ],
      "metadata": {
        "colab": {
          "base_uri": "https://localhost:8080/"
        },
        "id": "1FIkzeGniYLb",
        "outputId": "b37ebb28-063a-4aba-a309-a0f9d3d80023"
      },
      "execution_count": 391,
      "outputs": [
        {
          "output_type": "execute_result",
          "data": {
            "text/plain": [
              "(<tf.Tensor: shape=(10, 1), dtype=float32, numpy=\n",
              " array([[ 74.61151 ],\n",
              "        [ 79.58561 ],\n",
              "        [ 84.55971 ],\n",
              "        [ 89.53381 ],\n",
              "        [ 94.50791 ],\n",
              "        [ 99.48201 ],\n",
              "        [104.456116],\n",
              "        [109.430214],\n",
              "        [114.40431 ],\n",
              "        [119.37842 ]], dtype=float32)>,\n",
              " <tf.Tensor: shape=(10,), dtype=float32, numpy=\n",
              " array([ 74.61151 ,  79.58561 ,  84.55971 ,  89.53381 ,  94.50791 ,\n",
              "         99.48201 , 104.456116, 109.430214, 114.40431 , 119.37842 ],\n",
              "       dtype=float32)>)"
            ]
          },
          "metadata": {},
          "execution_count": 391
        }
      ]
    },
    {
      "cell_type": "code",
      "source": [
        "#5. Evaluate the prediction for model 1\n",
        "\n",
        "mae_1 = mae(y_test, tf.squeeze(y_preds_1))\n",
        "mse_1 = mse(y_test, tf.squeeze(y_preds_1))\n",
        "\n",
        "mae_1, mse_1"
      ],
      "metadata": {
        "colab": {
          "base_uri": "https://localhost:8080/"
        },
        "id": "8b8CEotYgAYq",
        "outputId": "78729b26-3c62-47b6-df74-ac6e96deeaa1"
      },
      "execution_count": 392,
      "outputs": [
        {
          "output_type": "execute_result",
          "data": {
            "text/plain": [
              "(<tf.Tensor: shape=(), dtype=int32, numpy=0>,\n",
              " <tf.Tensor: shape=(), dtype=float32, numpy=88.73753>)"
            ]
          },
          "metadata": {},
          "execution_count": 392
        }
      ]
    },
    {
      "cell_type": "markdown",
      "source": [
        "**Build Model_2**\n",
        "  * 2 dense layers, trained for 100 epochs\n",
        "\n",
        "  "
      ],
      "metadata": {
        "id": "x34JHu3YjRFq"
      }
    },
    {
      "cell_type": "code",
      "source": [
        "#Model_2\n",
        "\n",
        "#Set the random seed\n",
        "tf.random.set_seed(42)\n",
        "\n",
        "# Build model\n",
        "model_2 = tf.keras.Sequential([\n",
        "    tf.keras.layers.Dense(10,input_shape=[1]),\n",
        "    tf.keras.layers.Dense(1)\n",
        "])\n",
        "\n",
        "# Compile the model\n",
        "model_2.compile(loss = tf.keras.losses.mae,\n",
        "                optimizer=tf.keras.optimizers.SGD(),\n",
        "                metrics = [\"mae\"])\n",
        "# 3. Fit the model\n",
        "\n",
        "model_2.fit(X_train, y_train, epochs = 100)\n"
      ],
      "metadata": {
        "id": "UzoW5WBKjp7_",
        "colab": {
          "base_uri": "https://localhost:8080/"
        },
        "outputId": "e75c7cfe-5a7b-4b12-f77b-1f3837ec8928"
      },
      "execution_count": 395,
      "outputs": [
        {
          "output_type": "stream",
          "name": "stdout",
          "text": [
            "Epoch 1/100\n",
            "2/2 [==============================] - 1s 24ms/step - loss: 40.2211 - mae: 40.2211\n",
            "Epoch 2/100\n",
            "2/2 [==============================] - 0s 9ms/step - loss: 28.0478 - mae: 28.0478\n",
            "Epoch 3/100\n",
            "2/2 [==============================] - 0s 9ms/step - loss: 33.5260 - mae: 33.5260\n",
            "Epoch 4/100\n",
            "2/2 [==============================] - 0s 13ms/step - loss: 25.9263 - mae: 25.9263\n",
            "Epoch 5/100\n",
            "2/2 [==============================] - 0s 11ms/step - loss: 14.2511 - mae: 14.2511\n",
            "Epoch 6/100\n",
            "2/2 [==============================] - 0s 19ms/step - loss: 11.4013 - mae: 11.4013\n",
            "Epoch 7/100\n",
            "2/2 [==============================] - 0s 17ms/step - loss: 12.4371 - mae: 12.4371\n",
            "Epoch 8/100\n",
            "2/2 [==============================] - 0s 13ms/step - loss: 10.9797 - mae: 10.9797\n",
            "Epoch 9/100\n",
            "2/2 [==============================] - 0s 9ms/step - loss: 38.9099 - mae: 38.9099\n",
            "Epoch 10/100\n",
            "2/2 [==============================] - 0s 17ms/step - loss: 26.5017 - mae: 26.5017\n",
            "Epoch 11/100\n",
            "2/2 [==============================] - 0s 8ms/step - loss: 11.8116 - mae: 11.8116\n",
            "Epoch 12/100\n",
            "2/2 [==============================] - 0s 19ms/step - loss: 23.6114 - mae: 23.6114\n",
            "Epoch 13/100\n",
            "2/2 [==============================] - 0s 9ms/step - loss: 21.1240 - mae: 21.1240\n",
            "Epoch 14/100\n",
            "2/2 [==============================] - 0s 8ms/step - loss: 23.5693 - mae: 23.5693\n",
            "Epoch 15/100\n",
            "2/2 [==============================] - 0s 8ms/step - loss: 15.6823 - mae: 15.6823\n",
            "Epoch 16/100\n",
            "2/2 [==============================] - 0s 12ms/step - loss: 10.4090 - mae: 10.4090\n",
            "Epoch 17/100\n",
            "2/2 [==============================] - 0s 8ms/step - loss: 19.5925 - mae: 19.5925\n",
            "Epoch 18/100\n",
            "2/2 [==============================] - 0s 10ms/step - loss: 13.2427 - mae: 13.2427\n",
            "Epoch 19/100\n",
            "2/2 [==============================] - 0s 21ms/step - loss: 15.9883 - mae: 15.9883\n",
            "Epoch 20/100\n",
            "2/2 [==============================] - 0s 18ms/step - loss: 10.1849 - mae: 10.1849\n",
            "Epoch 21/100\n",
            "2/2 [==============================] - 0s 19ms/step - loss: 13.7163 - mae: 13.7163\n",
            "Epoch 22/100\n",
            "2/2 [==============================] - 0s 12ms/step - loss: 21.8741 - mae: 21.8741\n",
            "Epoch 23/100\n",
            "2/2 [==============================] - 0s 11ms/step - loss: 10.4740 - mae: 10.4740\n",
            "Epoch 24/100\n",
            "2/2 [==============================] - 0s 15ms/step - loss: 15.7767 - mae: 15.7767\n",
            "Epoch 25/100\n",
            "2/2 [==============================] - 0s 19ms/step - loss: 14.9223 - mae: 14.9223\n",
            "Epoch 26/100\n",
            "2/2 [==============================] - 0s 15ms/step - loss: 19.5689 - mae: 19.5689\n",
            "Epoch 27/100\n",
            "2/2 [==============================] - 0s 19ms/step - loss: 20.4476 - mae: 20.4476\n",
            "Epoch 28/100\n",
            "2/2 [==============================] - 0s 13ms/step - loss: 14.5710 - mae: 14.5710\n",
            "Epoch 29/100\n",
            "2/2 [==============================] - 0s 14ms/step - loss: 9.3451 - mae: 9.3451\n",
            "Epoch 30/100\n",
            "2/2 [==============================] - 0s 10ms/step - loss: 27.4608 - mae: 27.4608\n",
            "Epoch 31/100\n",
            "2/2 [==============================] - 0s 25ms/step - loss: 49.5574 - mae: 49.5574\n",
            "Epoch 32/100\n",
            "2/2 [==============================] - 0s 37ms/step - loss: 11.0213 - mae: 11.0213\n",
            "Epoch 33/100\n",
            "2/2 [==============================] - 0s 19ms/step - loss: 17.6905 - mae: 17.6905\n",
            "Epoch 34/100\n",
            "2/2 [==============================] - 0s 19ms/step - loss: 10.8305 - mae: 10.8305\n",
            "Epoch 35/100\n",
            "2/2 [==============================] - 0s 18ms/step - loss: 9.1542 - mae: 9.1542\n",
            "Epoch 36/100\n",
            "2/2 [==============================] - 0s 18ms/step - loss: 16.2853 - mae: 16.2853\n",
            "Epoch 37/100\n",
            "2/2 [==============================] - 0s 10ms/step - loss: 11.1425 - mae: 11.1425\n",
            "Epoch 38/100\n",
            "2/2 [==============================] - 0s 18ms/step - loss: 18.2774 - mae: 18.2774\n",
            "Epoch 39/100\n",
            "2/2 [==============================] - 0s 15ms/step - loss: 19.2035 - mae: 19.2035\n",
            "Epoch 40/100\n",
            "2/2 [==============================] - 0s 14ms/step - loss: 20.6182 - mae: 20.6182\n",
            "Epoch 41/100\n",
            "2/2 [==============================] - 0s 18ms/step - loss: 14.6832 - mae: 14.6832\n",
            "Epoch 42/100\n",
            "2/2 [==============================] - 0s 17ms/step - loss: 12.1088 - mae: 12.1088\n",
            "Epoch 43/100\n",
            "2/2 [==============================] - 0s 14ms/step - loss: 10.6587 - mae: 10.6587\n",
            "Epoch 44/100\n",
            "2/2 [==============================] - 0s 21ms/step - loss: 31.9131 - mae: 31.9131\n",
            "Epoch 45/100\n",
            "2/2 [==============================] - 0s 14ms/step - loss: 12.3765 - mae: 12.3765\n",
            "Epoch 46/100\n",
            "2/2 [==============================] - 0s 17ms/step - loss: 17.2374 - mae: 17.2374\n",
            "Epoch 47/100\n",
            "2/2 [==============================] - 0s 18ms/step - loss: 15.8625 - mae: 15.8625\n",
            "Epoch 48/100\n",
            "2/2 [==============================] - 0s 18ms/step - loss: 8.8272 - mae: 8.8272\n",
            "Epoch 49/100\n",
            "2/2 [==============================] - 0s 15ms/step - loss: 13.0453 - mae: 13.0453\n",
            "Epoch 50/100\n",
            "2/2 [==============================] - 0s 17ms/step - loss: 12.6361 - mae: 12.6361\n",
            "Epoch 51/100\n",
            "2/2 [==============================] - 0s 17ms/step - loss: 14.6956 - mae: 14.6956\n",
            "Epoch 52/100\n",
            "2/2 [==============================] - 0s 19ms/step - loss: 18.6111 - mae: 18.6111\n",
            "Epoch 53/100\n",
            "2/2 [==============================] - 0s 14ms/step - loss: 23.9142 - mae: 23.9142\n",
            "Epoch 54/100\n",
            "2/2 [==============================] - 0s 14ms/step - loss: 24.0112 - mae: 24.0112\n",
            "Epoch 55/100\n",
            "2/2 [==============================] - 0s 15ms/step - loss: 23.2400 - mae: 23.2400\n",
            "Epoch 56/100\n",
            "2/2 [==============================] - 0s 13ms/step - loss: 10.9114 - mae: 10.9114\n",
            "Epoch 57/100\n",
            "2/2 [==============================] - 0s 13ms/step - loss: 12.7730 - mae: 12.7730\n",
            "Epoch 58/100\n",
            "2/2 [==============================] - 0s 14ms/step - loss: 9.6190 - mae: 9.6190\n",
            "Epoch 59/100\n",
            "2/2 [==============================] - 0s 15ms/step - loss: 12.5362 - mae: 12.5362\n",
            "Epoch 60/100\n",
            "2/2 [==============================] - 0s 14ms/step - loss: 12.3356 - mae: 12.3356\n",
            "Epoch 61/100\n",
            "2/2 [==============================] - 0s 13ms/step - loss: 12.7030 - mae: 12.7030\n",
            "Epoch 62/100\n",
            "2/2 [==============================] - 0s 15ms/step - loss: 21.1324 - mae: 21.1324\n",
            "Epoch 63/100\n",
            "2/2 [==============================] - 0s 18ms/step - loss: 8.9300 - mae: 8.9300\n",
            "Epoch 64/100\n",
            "2/2 [==============================] - 0s 11ms/step - loss: 17.1537 - mae: 17.1537\n",
            "Epoch 65/100\n",
            "2/2 [==============================] - 0s 15ms/step - loss: 10.3702 - mae: 10.3702\n",
            "Epoch 66/100\n",
            "2/2 [==============================] - 0s 13ms/step - loss: 20.5133 - mae: 20.5133\n",
            "Epoch 67/100\n",
            "2/2 [==============================] - 0s 11ms/step - loss: 10.3175 - mae: 10.3175\n",
            "Epoch 68/100\n",
            "2/2 [==============================] - 0s 16ms/step - loss: 13.5667 - mae: 13.5667\n",
            "Epoch 69/100\n",
            "2/2 [==============================] - 0s 13ms/step - loss: 11.4953 - mae: 11.4953\n",
            "Epoch 70/100\n",
            "2/2 [==============================] - 0s 14ms/step - loss: 14.1074 - mae: 14.1074\n",
            "Epoch 71/100\n",
            "2/2 [==============================] - 0s 15ms/step - loss: 15.6570 - mae: 15.6570\n",
            "Epoch 72/100\n",
            "2/2 [==============================] - 0s 13ms/step - loss: 11.8703 - mae: 11.8703\n",
            "Epoch 73/100\n",
            "2/2 [==============================] - 0s 12ms/step - loss: 16.6503 - mae: 16.6503\n",
            "Epoch 74/100\n",
            "2/2 [==============================] - 0s 17ms/step - loss: 24.1794 - mae: 24.1794\n",
            "Epoch 75/100\n",
            "2/2 [==============================] - 0s 12ms/step - loss: 9.6436 - mae: 9.6436\n",
            "Epoch 76/100\n",
            "2/2 [==============================] - 0s 10ms/step - loss: 12.4960 - mae: 12.4960\n",
            "Epoch 77/100\n",
            "2/2 [==============================] - 0s 12ms/step - loss: 16.7336 - mae: 16.7336\n",
            "Epoch 78/100\n",
            "2/2 [==============================] - 0s 12ms/step - loss: 9.0917 - mae: 9.0917\n",
            "Epoch 79/100\n",
            "2/2 [==============================] - 0s 12ms/step - loss: 24.0520 - mae: 24.0520\n",
            "Epoch 80/100\n",
            "2/2 [==============================] - 0s 11ms/step - loss: 26.8487 - mae: 26.8487\n",
            "Epoch 81/100\n",
            "2/2 [==============================] - 0s 22ms/step - loss: 11.7353 - mae: 11.7353\n",
            "Epoch 82/100\n",
            "2/2 [==============================] - 0s 23ms/step - loss: 12.0064 - mae: 12.0064\n",
            "Epoch 83/100\n",
            "2/2 [==============================] - 0s 19ms/step - loss: 17.4008 - mae: 17.4008\n",
            "Epoch 84/100\n",
            "2/2 [==============================] - 0s 19ms/step - loss: 7.2758 - mae: 7.2758\n",
            "Epoch 85/100\n",
            "2/2 [==============================] - 0s 14ms/step - loss: 14.9567 - mae: 14.9567\n",
            "Epoch 86/100\n",
            "2/2 [==============================] - 0s 22ms/step - loss: 15.2825 - mae: 15.2825\n",
            "Epoch 87/100\n",
            "2/2 [==============================] - 0s 15ms/step - loss: 19.0949 - mae: 19.0949\n",
            "Epoch 88/100\n",
            "2/2 [==============================] - 0s 13ms/step - loss: 29.8654 - mae: 29.8654\n",
            "Epoch 89/100\n",
            "2/2 [==============================] - 0s 9ms/step - loss: 10.1979 - mae: 10.1979\n",
            "Epoch 90/100\n",
            "2/2 [==============================] - 0s 15ms/step - loss: 21.5474 - mae: 21.5474\n",
            "Epoch 91/100\n",
            "2/2 [==============================] - 0s 12ms/step - loss: 10.5928 - mae: 10.5928\n",
            "Epoch 92/100\n",
            "2/2 [==============================] - 0s 13ms/step - loss: 18.4107 - mae: 18.4107\n",
            "Epoch 93/100\n",
            "2/2 [==============================] - 0s 41ms/step - loss: 7.4294 - mae: 7.4294\n",
            "Epoch 94/100\n",
            "2/2 [==============================] - 0s 18ms/step - loss: 17.7414 - mae: 17.7414\n",
            "Epoch 95/100\n",
            "2/2 [==============================] - 0s 42ms/step - loss: 11.1280 - mae: 11.1280\n",
            "Epoch 96/100\n",
            "2/2 [==============================] - 0s 39ms/step - loss: 19.4333 - mae: 19.4333\n",
            "Epoch 97/100\n",
            "2/2 [==============================] - 0s 41ms/step - loss: 12.1677 - mae: 12.1677\n",
            "Epoch 98/100\n",
            "2/2 [==============================] - 0s 39ms/step - loss: 11.5723 - mae: 11.5723\n",
            "Epoch 99/100\n",
            "2/2 [==============================] - 0s 31ms/step - loss: 13.8755 - mae: 13.8755\n",
            "Epoch 100/100\n",
            "2/2 [==============================] - 0s 36ms/step - loss: 20.1957 - mae: 20.1957\n"
          ]
        },
        {
          "output_type": "execute_result",
          "data": {
            "text/plain": [
              "<keras.src.callbacks.History at 0x7ac6aaa52140>"
            ]
          },
          "metadata": {},
          "execution_count": 395
        }
      ]
    },
    {
      "cell_type": "code",
      "source": [
        "# Make and plot predictions of model_2\n",
        "\n",
        "y_preds_2 = model_2.predict(X_test)\n",
        "plot_predictions(predictions=y_preds_2)"
      ],
      "metadata": {
        "colab": {
          "base_uri": "https://localhost:8080/",
          "height": 616
        },
        "id": "ztASNAEeyBnu",
        "outputId": "c3457cec-1094-438d-cd39-56e2cff55e0a"
      },
      "execution_count": 396,
      "outputs": [
        {
          "output_type": "stream",
          "name": "stdout",
          "text": [
            "1/1 [==============================] - 0s 51ms/step\n"
          ]
        },
        {
          "output_type": "display_data",
          "data": {
            "text/plain": [
              "<Figure size 1000x700 with 1 Axes>"
            ],
            "image/png": "[encoded data removed]"
          },
          "metadata": {}
        }
      ]
    },
    {
      "cell_type": "code",
      "source": [
        "# Calculate model2 Evaluation metrics\n",
        "\n",
        "mae_2 = mae(y_test, y_preds_2)\n",
        "mse_2 = mse(y_test,y_preds_2)\n",
        "mae_2, mse_2"
      ],
      "metadata": {
        "colab": {
          "base_uri": "https://localhost:8080/"
        },
        "id": "DRyU8QoVyk_-",
        "outputId": "2631e203-633f-4742-b07c-087d606ab88e"
      },
      "execution_count": 398,
      "outputs": [
        {
          "output_type": "execute_result",
          "data": {
            "text/plain": [
              "(<tf.Tensor: shape=(), dtype=int32, numpy=0>,\n",
              " <tf.Tensor: shape=(10,), dtype=float32, numpy=\n",
              " array([440.3208 , 300.4064 , 202.4802 , 146.54144, 132.59071, 160.62779,\n",
              "        230.65263, 342.6655 , 496.66632, 692.65424], dtype=float32)>)"
            ]
          },
          "metadata": {},
          "execution_count": 398
        }
      ]
    },
    {
      "cell_type": "markdown",
      "source": [
        "**Build Model 3**\n",
        "\n",
        "2 layers, trained for 500 epochs"
      ],
      "metadata": {
        "id": "7YvNjrVHzHPC"
      }
    },
    {
      "cell_type": "code",
      "source": [
        "# Build Model 3\n",
        "\n",
        "#Set the seeds to 42\n",
        "tf.random.set_seed(42)\n",
        "\n",
        "#1. Create the model3\n",
        "model_3 = tf.keras.Sequential([\n",
        "    tf.keras.layers.Dense(10, input_shape =[1]),\n",
        "    tf.keras.layers.Dense(1)])\n",
        "\n",
        "#2. Compile the model\n",
        "model_3.compile(loss = tf.keras.losses.mae,\n",
        "    optimizer = tf.keras.optimizers.SGD(),\n",
        "    metrics = [\"mae\"])\n",
        "\n",
        "#3. Fit the model\n",
        "model_3.fit(X_train, y_train, epochs = 500)\n",
        "\n",
        "\n"
      ],
      "metadata": {
        "colab": {
          "base_uri": "https://localhost:8080/"
        },
        "id": "3Kn4-p3Oy8Pg",
        "outputId": "4e4e0891-73bf-41c4-9efe-600b497f6fe4"
      },
      "execution_count": 399,
      "outputs": [
        {
          "output_type": "stream",
          "name": "stdout",
          "text": [
            "Epoch 1/500\n",
            "2/2 [==============================] - 1s 23ms/step - loss: 61.2688 - mae: 61.2688\n",
            "Epoch 2/500\n",
            "2/2 [==============================] - 0s 11ms/step - loss: 41.6175 - mae: 41.6175\n",
            "Epoch 3/500\n",
            "2/2 [==============================] - 0s 11ms/step - loss: 44.0969 - mae: 44.0969\n",
            "Epoch 4/500\n",
            "2/2 [==============================] - 0s 10ms/step - loss: 32.1393 - mae: 32.1393\n",
            "Epoch 5/500\n",
            "2/2 [==============================] - 0s 17ms/step - loss: 16.7476 - mae: 16.7476\n",
            "Epoch 6/500\n",
            "2/2 [==============================] - 0s 12ms/step - loss: 11.3814 - mae: 11.3814\n",
            "Epoch 7/500\n",
            "2/2 [==============================] - 0s 12ms/step - loss: 12.4681 - mae: 12.4681\n",
            "Epoch 8/500\n",
            "2/2 [==============================] - 0s 9ms/step - loss: 11.0659 - mae: 11.0659\n",
            "Epoch 9/500\n",
            "2/2 [==============================] - 0s 26ms/step - loss: 39.5301 - mae: 39.5301\n",
            "Epoch 10/500\n",
            "2/2 [==============================] - 0s 15ms/step - loss: 27.0449 - mae: 27.0449\n",
            "Epoch 11/500\n",
            "2/2 [==============================] - 0s 9ms/step - loss: 11.0565 - mae: 11.0565\n",
            "Epoch 12/500\n",
            "2/2 [==============================] - 0s 9ms/step - loss: 24.5447 - mae: 24.5447\n",
            "Epoch 13/500\n",
            "2/2 [==============================] - 0s 17ms/step - loss: 19.2202 - mae: 19.2202\n",
            "Epoch 14/500\n",
            "2/2 [==============================] - 0s 15ms/step - loss: 23.4259 - mae: 23.4259\n",
            "Epoch 15/500\n",
            "2/2 [==============================] - 0s 9ms/step - loss: 15.2392 - mae: 15.2392\n",
            "Epoch 16/500\n",
            "2/2 [==============================] - 0s 12ms/step - loss: 11.3504 - mae: 11.3504\n",
            "Epoch 17/500\n",
            "2/2 [==============================] - 0s 16ms/step - loss: 23.1595 - mae: 23.1595\n",
            "Epoch 18/500\n",
            "2/2 [==============================] - 0s 11ms/step - loss: 11.7681 - mae: 11.7681\n",
            "Epoch 19/500\n",
            "2/2 [==============================] - 0s 11ms/step - loss: 16.4445 - mae: 16.4445\n",
            "Epoch 20/500\n",
            "2/2 [==============================] - 0s 12ms/step - loss: 8.2496 - mae: 8.2496\n",
            "Epoch 21/500\n",
            "2/2 [==============================] - 0s 15ms/step - loss: 14.4393 - mae: 14.4393\n",
            "Epoch 22/500\n",
            "2/2 [==============================] - 0s 12ms/step - loss: 12.8542 - mae: 12.8542\n",
            "Epoch 23/500\n",
            "2/2 [==============================] - 0s 12ms/step - loss: 15.4913 - mae: 15.4913\n",
            "Epoch 24/500\n",
            "2/2 [==============================] - 0s 10ms/step - loss: 15.2810 - mae: 15.2810\n",
            "Epoch 25/500\n",
            "2/2 [==============================] - 0s 10ms/step - loss: 14.3515 - mae: 14.3515\n",
            "Epoch 26/500\n",
            "2/2 [==============================] - 0s 10ms/step - loss: 19.3629 - mae: 19.3629\n",
            "Epoch 27/500\n",
            "2/2 [==============================] - 0s 9ms/step - loss: 11.4492 - mae: 11.4492\n",
            "Epoch 28/500\n",
            "2/2 [==============================] - 0s 12ms/step - loss: 29.0408 - mae: 29.0408\n",
            "Epoch 29/500\n",
            "2/2 [==============================] - 0s 15ms/step - loss: 9.2558 - mae: 9.2558\n",
            "Epoch 30/500\n",
            "2/2 [==============================] - 0s 10ms/step - loss: 29.7858 - mae: 29.7858\n",
            "Epoch 31/500\n",
            "2/2 [==============================] - 0s 12ms/step - loss: 54.0416 - mae: 54.0416\n",
            "Epoch 32/500\n",
            "2/2 [==============================] - 0s 10ms/step - loss: 9.5637 - mae: 9.5637\n",
            "Epoch 33/500\n",
            "2/2 [==============================] - 0s 12ms/step - loss: 12.1532 - mae: 12.1532\n",
            "Epoch 34/500\n",
            "2/2 [==============================] - 0s 9ms/step - loss: 23.8361 - mae: 23.8361\n",
            "Epoch 35/500\n",
            "2/2 [==============================] - 0s 8ms/step - loss: 12.6368 - mae: 12.6368\n",
            "Epoch 36/500\n",
            "2/2 [==============================] - 0s 18ms/step - loss: 21.5595 - mae: 21.5595\n",
            "Epoch 37/500\n",
            "2/2 [==============================] - 0s 16ms/step - loss: 11.3596 - mae: 11.3596\n",
            "Epoch 38/500\n",
            "2/2 [==============================] - 0s 9ms/step - loss: 13.4246 - mae: 13.4246\n",
            "Epoch 39/500\n",
            "2/2 [==============================] - 0s 8ms/step - loss: 10.7739 - mae: 10.7739\n",
            "Epoch 40/500\n",
            "2/2 [==============================] - 0s 8ms/step - loss: 16.5353 - mae: 16.5353\n",
            "Epoch 41/500\n",
            "2/2 [==============================] - 0s 11ms/step - loss: 10.9458 - mae: 10.9458\n",
            "Epoch 42/500\n",
            "2/2 [==============================] - 0s 11ms/step - loss: 9.2803 - mae: 9.2803\n",
            "Epoch 43/500\n",
            "2/2 [==============================] - 0s 9ms/step - loss: 9.5898 - mae: 9.5898\n",
            "Epoch 44/500\n",
            "2/2 [==============================] - 0s 18ms/step - loss: 27.8880 - mae: 27.8880\n",
            "Epoch 45/500\n",
            "2/2 [==============================] - 0s 15ms/step - loss: 11.2616 - mae: 11.2616\n",
            "Epoch 46/500\n",
            "2/2 [==============================] - 0s 15ms/step - loss: 13.8463 - mae: 13.8463\n",
            "Epoch 47/500\n",
            "2/2 [==============================] - 0s 12ms/step - loss: 11.9291 - mae: 11.9291\n",
            "Epoch 48/500\n",
            "2/2 [==============================] - 0s 17ms/step - loss: 16.9672 - mae: 16.9672\n",
            "Epoch 49/500\n",
            "2/2 [==============================] - 0s 18ms/step - loss: 9.7717 - mae: 9.7717\n",
            "Epoch 50/500\n",
            "2/2 [==============================] - 0s 25ms/step - loss: 14.1583 - mae: 14.1583\n",
            "Epoch 51/500\n",
            "2/2 [==============================] - 0s 10ms/step - loss: 11.7356 - mae: 11.7356\n",
            "Epoch 52/500\n",
            "2/2 [==============================] - 0s 9ms/step - loss: 31.3469 - mae: 31.3469\n",
            "Epoch 53/500\n",
            "2/2 [==============================] - 0s 8ms/step - loss: 14.7093 - mae: 14.7093\n",
            "Epoch 54/500\n",
            "2/2 [==============================] - 0s 8ms/step - loss: 24.5843 - mae: 24.5843\n",
            "Epoch 55/500\n",
            "2/2 [==============================] - 0s 12ms/step - loss: 23.8658 - mae: 23.8658\n",
            "Epoch 56/500\n",
            "2/2 [==============================] - 0s 13ms/step - loss: 11.1152 - mae: 11.1152\n",
            "Epoch 57/500\n",
            "2/2 [==============================] - 0s 8ms/step - loss: 13.0498 - mae: 13.0498\n",
            "Epoch 58/500\n",
            "2/2 [==============================] - 0s 7ms/step - loss: 9.7762 - mae: 9.7762\n",
            "Epoch 59/500\n",
            "2/2 [==============================] - 0s 10ms/step - loss: 13.2247 - mae: 13.2247\n",
            "Epoch 60/500\n",
            "2/2 [==============================] - 0s 8ms/step - loss: 10.8273 - mae: 10.8273\n",
            "Epoch 61/500\n",
            "2/2 [==============================] - 0s 12ms/step - loss: 13.4036 - mae: 13.4036\n",
            "Epoch 62/500\n",
            "2/2 [==============================] - 0s 10ms/step - loss: 17.3561 - mae: 17.3561\n",
            "Epoch 63/500\n",
            "2/2 [==============================] - 0s 10ms/step - loss: 9.1345 - mae: 9.1345\n",
            "Epoch 64/500\n",
            "2/2 [==============================] - 0s 11ms/step - loss: 17.9771 - mae: 17.9771\n",
            "Epoch 65/500\n",
            "2/2 [==============================] - 0s 7ms/step - loss: 10.6203 - mae: 10.6203\n",
            "Epoch 66/500\n",
            "2/2 [==============================] - 0s 8ms/step - loss: 21.5000 - mae: 21.5000\n",
            "Epoch 67/500\n",
            "2/2 [==============================] - 0s 8ms/step - loss: 10.6326 - mae: 10.6326\n",
            "Epoch 68/500\n",
            "2/2 [==============================] - 0s 7ms/step - loss: 14.8789 - mae: 14.8789\n",
            "Epoch 69/500\n",
            "2/2 [==============================] - 0s 7ms/step - loss: 10.7796 - mae: 10.7796\n",
            "Epoch 70/500\n",
            "2/2 [==============================] - 0s 7ms/step - loss: 12.8822 - mae: 12.8822\n",
            "Epoch 71/500\n",
            "2/2 [==============================] - 0s 7ms/step - loss: 13.3024 - mae: 13.3024\n",
            "Epoch 72/500\n",
            "2/2 [==============================] - 0s 6ms/step - loss: 20.1654 - mae: 20.1654\n",
            "Epoch 73/500\n",
            "2/2 [==============================] - 0s 6ms/step - loss: 9.7385 - mae: 9.7385\n",
            "Epoch 74/500\n",
            "2/2 [==============================] - 0s 7ms/step - loss: 27.4783 - mae: 27.4783\n",
            "Epoch 75/500\n",
            "2/2 [==============================] - 0s 7ms/step - loss: 10.0285 - mae: 10.0285\n",
            "Epoch 76/500\n",
            "2/2 [==============================] - 0s 7ms/step - loss: 12.9494 - mae: 12.9494\n",
            "Epoch 77/500\n",
            "2/2 [==============================] - 0s 9ms/step - loss: 17.9598 - mae: 17.9598\n",
            "Epoch 78/500\n",
            "2/2 [==============================] - 0s 7ms/step - loss: 8.9642 - mae: 8.9642\n",
            "Epoch 79/500\n",
            "2/2 [==============================] - 0s 11ms/step - loss: 28.8128 - mae: 28.8128\n",
            "Epoch 80/500\n",
            "2/2 [==============================] - 0s 7ms/step - loss: 31.1660 - mae: 31.1660\n",
            "Epoch 81/500\n",
            "2/2 [==============================] - 0s 10ms/step - loss: 13.5830 - mae: 13.5830\n",
            "Epoch 82/500\n",
            "2/2 [==============================] - 0s 10ms/step - loss: 15.8621 - mae: 15.8621\n",
            "Epoch 83/500\n",
            "2/2 [==============================] - 0s 7ms/step - loss: 9.1367 - mae: 9.1367\n",
            "Epoch 84/500\n",
            "2/2 [==============================] - 0s 7ms/step - loss: 8.2037 - mae: 8.2037\n",
            "Epoch 85/500\n",
            "2/2 [==============================] - 0s 6ms/step - loss: 18.8734 - mae: 18.8734\n",
            "Epoch 86/500\n",
            "2/2 [==============================] - 0s 10ms/step - loss: 21.9815 - mae: 21.9815\n",
            "Epoch 87/500\n",
            "2/2 [==============================] - 0s 11ms/step - loss: 11.2148 - mae: 11.2148\n",
            "Epoch 88/500\n",
            "2/2 [==============================] - 0s 10ms/step - loss: 25.9411 - mae: 25.9411\n",
            "Epoch 89/500\n",
            "2/2 [==============================] - 0s 10ms/step - loss: 9.5221 - mae: 9.5221\n",
            "Epoch 90/500\n",
            "2/2 [==============================] - 0s 9ms/step - loss: 18.2502 - mae: 18.2502\n",
            "Epoch 91/500\n",
            "2/2 [==============================] - 0s 7ms/step - loss: 10.3257 - mae: 10.3257\n",
            "Epoch 92/500\n",
            "2/2 [==============================] - 0s 7ms/step - loss: 17.5011 - mae: 17.5011\n",
            "Epoch 93/500\n",
            "2/2 [==============================] - 0s 7ms/step - loss: 6.8259 - mae: 6.8259\n",
            "Epoch 94/500\n",
            "2/2 [==============================] - 0s 7ms/step - loss: 17.6558 - mae: 17.6558\n",
            "Epoch 95/500\n",
            "2/2 [==============================] - 0s 7ms/step - loss: 17.3707 - mae: 17.3707\n",
            "Epoch 96/500\n",
            "2/2 [==============================] - 0s 7ms/step - loss: 11.5382 - mae: 11.5382\n",
            "Epoch 97/500\n",
            "2/2 [==============================] - 0s 7ms/step - loss: 18.3104 - mae: 18.3104\n",
            "Epoch 98/500\n",
            "2/2 [==============================] - 0s 7ms/step - loss: 9.7547 - mae: 9.7547\n",
            "Epoch 99/500\n",
            "2/2 [==============================] - 0s 6ms/step - loss: 16.9419 - mae: 16.9419\n",
            "Epoch 100/500\n",
            "2/2 [==============================] - 0s 11ms/step - loss: 17.8136 - mae: 17.8136\n",
            "Epoch 101/500\n",
            "2/2 [==============================] - 0s 6ms/step - loss: 16.4839 - mae: 16.4839\n",
            "Epoch 102/500\n",
            "2/2 [==============================] - 0s 8ms/step - loss: 12.9254 - mae: 12.9254\n",
            "Epoch 103/500\n",
            "2/2 [==============================] - 0s 6ms/step - loss: 16.0796 - mae: 16.0796\n",
            "Epoch 104/500\n",
            "2/2 [==============================] - 0s 6ms/step - loss: 22.2601 - mae: 22.2601\n",
            "Epoch 105/500\n",
            "2/2 [==============================] - 0s 7ms/step - loss: 20.3109 - mae: 20.3109\n",
            "Epoch 106/500\n",
            "2/2 [==============================] - 0s 8ms/step - loss: 10.1054 - mae: 10.1054\n",
            "Epoch 107/500\n",
            "2/2 [==============================] - 0s 8ms/step - loss: 24.7828 - mae: 24.7828\n",
            "Epoch 108/500\n",
            "2/2 [==============================] - 0s 8ms/step - loss: 14.9168 - mae: 14.9168\n",
            "Epoch 109/500\n",
            "2/2 [==============================] - 0s 10ms/step - loss: 9.0508 - mae: 9.0508\n",
            "Epoch 110/500\n",
            "2/2 [==============================] - 0s 8ms/step - loss: 9.2927 - mae: 9.2927\n",
            "Epoch 111/500\n",
            "2/2 [==============================] - 0s 11ms/step - loss: 12.9158 - mae: 12.9158\n",
            "Epoch 112/500\n",
            "2/2 [==============================] - 0s 10ms/step - loss: 15.7491 - mae: 15.7491\n",
            "Epoch 113/500\n",
            "2/2 [==============================] - 0s 7ms/step - loss: 11.2547 - mae: 11.2547\n",
            "Epoch 114/500\n",
            "2/2 [==============================] - 0s 10ms/step - loss: 24.9948 - mae: 24.9948\n",
            "Epoch 115/500\n",
            "2/2 [==============================] - 0s 11ms/step - loss: 13.5711 - mae: 13.5711\n",
            "Epoch 116/500\n",
            "2/2 [==============================] - 0s 10ms/step - loss: 14.4617 - mae: 14.4617\n",
            "Epoch 117/500\n",
            "2/2 [==============================] - 0s 6ms/step - loss: 10.0186 - mae: 10.0186\n",
            "Epoch 118/500\n",
            "2/2 [==============================] - 0s 6ms/step - loss: 11.1355 - mae: 11.1355\n",
            "Epoch 119/500\n",
            "2/2 [==============================] - 0s 6ms/step - loss: 8.1650 - mae: 8.1650\n",
            "Epoch 120/500\n",
            "2/2 [==============================] - 0s 7ms/step - loss: 30.8579 - mae: 30.8579\n",
            "Epoch 121/500\n",
            "2/2 [==============================] - 0s 6ms/step - loss: 8.1834 - mae: 8.1834\n",
            "Epoch 122/500\n",
            "2/2 [==============================] - 0s 6ms/step - loss: 29.2314 - mae: 29.2314\n",
            "Epoch 123/500\n",
            "2/2 [==============================] - 0s 7ms/step - loss: 34.0356 - mae: 34.0356\n",
            "Epoch 124/500\n",
            "2/2 [==============================] - 0s 7ms/step - loss: 20.5017 - mae: 20.5017\n",
            "Epoch 125/500\n",
            "2/2 [==============================] - 0s 7ms/step - loss: 9.1412 - mae: 9.1412\n",
            "Epoch 126/500\n",
            "2/2 [==============================] - 0s 7ms/step - loss: 9.2837 - mae: 9.2837\n",
            "Epoch 127/500\n",
            "2/2 [==============================] - 0s 7ms/step - loss: 11.3288 - mae: 11.3288\n",
            "Epoch 128/500\n",
            "2/2 [==============================] - 0s 12ms/step - loss: 17.1163 - mae: 17.1163\n",
            "Epoch 129/500\n",
            "2/2 [==============================] - 0s 10ms/step - loss: 9.0195 - mae: 9.0195\n",
            "Epoch 130/500\n",
            "2/2 [==============================] - 0s 7ms/step - loss: 23.7899 - mae: 23.7899\n",
            "Epoch 131/500\n",
            "2/2 [==============================] - 0s 8ms/step - loss: 9.7419 - mae: 9.7419\n",
            "Epoch 132/500\n",
            "2/2 [==============================] - 0s 8ms/step - loss: 18.0673 - mae: 18.0673\n",
            "Epoch 133/500\n",
            "2/2 [==============================] - 0s 7ms/step - loss: 6.7741 - mae: 6.7741\n",
            "Epoch 134/500\n",
            "2/2 [==============================] - 0s 6ms/step - loss: 20.2542 - mae: 20.2542\n",
            "Epoch 135/500\n",
            "2/2 [==============================] - 0s 7ms/step - loss: 10.5383 - mae: 10.5383\n",
            "Epoch 136/500\n",
            "2/2 [==============================] - 0s 7ms/step - loss: 18.1570 - mae: 18.1570\n",
            "Epoch 137/500\n",
            "2/2 [==============================] - 0s 7ms/step - loss: 22.9921 - mae: 22.9921\n",
            "Epoch 138/500\n",
            "2/2 [==============================] - 0s 7ms/step - loss: 9.1025 - mae: 9.1025\n",
            "Epoch 139/500\n",
            "2/2 [==============================] - 0s 9ms/step - loss: 8.9077 - mae: 8.9077\n",
            "Epoch 140/500\n",
            "2/2 [==============================] - 0s 6ms/step - loss: 16.3132 - mae: 16.3132\n",
            "Epoch 141/500\n",
            "2/2 [==============================] - 0s 8ms/step - loss: 8.4588 - mae: 8.4588\n",
            "Epoch 142/500\n",
            "2/2 [==============================] - 0s 9ms/step - loss: 36.5549 - mae: 36.5549\n",
            "Epoch 143/500\n",
            "2/2 [==============================] - 0s 9ms/step - loss: 25.2879 - mae: 25.2879\n",
            "Epoch 144/500\n",
            "2/2 [==============================] - 0s 8ms/step - loss: 10.4819 - mae: 10.4819\n",
            "Epoch 145/500\n",
            "2/2 [==============================] - 0s 7ms/step - loss: 25.8058 - mae: 25.8058\n",
            "Epoch 146/500\n",
            "2/2 [==============================] - 0s 9ms/step - loss: 10.0097 - mae: 10.0097\n",
            "Epoch 147/500\n",
            "2/2 [==============================] - 0s 7ms/step - loss: 14.7118 - mae: 14.7118\n",
            "Epoch 148/500\n",
            "2/2 [==============================] - 0s 8ms/step - loss: 17.8132 - mae: 17.8132\n",
            "Epoch 149/500\n",
            "2/2 [==============================] - 0s 8ms/step - loss: 8.4920 - mae: 8.4920\n",
            "Epoch 150/500\n",
            "2/2 [==============================] - 0s 8ms/step - loss: 7.6419 - mae: 7.6419\n",
            "Epoch 151/500\n",
            "2/2 [==============================] - 0s 9ms/step - loss: 18.9173 - mae: 18.9173\n",
            "Epoch 152/500\n",
            "2/2 [==============================] - 0s 11ms/step - loss: 10.4922 - mae: 10.4922\n",
            "Epoch 153/500\n",
            "2/2 [==============================] - 0s 8ms/step - loss: 30.4785 - mae: 30.4785\n",
            "Epoch 154/500\n",
            "2/2 [==============================] - 0s 8ms/step - loss: 9.9802 - mae: 9.9802\n",
            "Epoch 155/500\n",
            "2/2 [==============================] - 0s 8ms/step - loss: 15.7295 - mae: 15.7295\n",
            "Epoch 156/500\n",
            "2/2 [==============================] - 0s 9ms/step - loss: 17.6240 - mae: 17.6240\n",
            "Epoch 157/500\n",
            "2/2 [==============================] - 0s 8ms/step - loss: 31.2370 - mae: 31.2370\n",
            "Epoch 158/500\n",
            "2/2 [==============================] - 0s 8ms/step - loss: 10.2622 - mae: 10.2622\n",
            "Epoch 159/500\n",
            "2/2 [==============================] - 0s 8ms/step - loss: 8.7164 - mae: 8.7164\n",
            "Epoch 160/500\n",
            "2/2 [==============================] - 0s 10ms/step - loss: 20.8295 - mae: 20.8295\n",
            "Epoch 161/500\n",
            "2/2 [==============================] - 0s 7ms/step - loss: 11.8560 - mae: 11.8560\n",
            "Epoch 162/500\n",
            "2/2 [==============================] - 0s 8ms/step - loss: 21.8070 - mae: 21.8070\n",
            "Epoch 163/500\n",
            "2/2 [==============================] - 0s 8ms/step - loss: 19.4772 - mae: 19.4772\n",
            "Epoch 164/500\n",
            "2/2 [==============================] - 0s 9ms/step - loss: 11.3960 - mae: 11.3960\n",
            "Epoch 165/500\n",
            "2/2 [==============================] - 0s 8ms/step - loss: 11.6304 - mae: 11.6304\n",
            "Epoch 166/500\n",
            "2/2 [==============================] - 0s 9ms/step - loss: 21.3929 - mae: 21.3929\n",
            "Epoch 167/500\n",
            "2/2 [==============================] - 0s 9ms/step - loss: 26.7976 - mae: 26.7976\n",
            "Epoch 168/500\n",
            "2/2 [==============================] - 0s 8ms/step - loss: 10.0098 - mae: 10.0098\n",
            "Epoch 169/500\n",
            "2/2 [==============================] - 0s 8ms/step - loss: 23.0277 - mae: 23.0277\n",
            "Epoch 170/500\n",
            "2/2 [==============================] - 0s 8ms/step - loss: 10.1058 - mae: 10.1058\n",
            "Epoch 171/500\n",
            "2/2 [==============================] - 0s 9ms/step - loss: 17.8647 - mae: 17.8647\n",
            "Epoch 172/500\n",
            "2/2 [==============================] - 0s 9ms/step - loss: 29.2821 - mae: 29.2821\n",
            "Epoch 173/500\n",
            "2/2 [==============================] - 0s 9ms/step - loss: 16.8977 - mae: 16.8977\n",
            "Epoch 174/500\n",
            "2/2 [==============================] - 0s 9ms/step - loss: 11.2000 - mae: 11.2000\n",
            "Epoch 175/500\n",
            "2/2 [==============================] - 0s 9ms/step - loss: 27.4758 - mae: 27.4758\n",
            "Epoch 176/500\n",
            "2/2 [==============================] - 0s 12ms/step - loss: 8.4416 - mae: 8.4416\n",
            "Epoch 177/500\n",
            "2/2 [==============================] - 0s 11ms/step - loss: 9.4041 - mae: 9.4041\n",
            "Epoch 178/500\n",
            "2/2 [==============================] - 0s 8ms/step - loss: 18.4778 - mae: 18.4778\n",
            "Epoch 179/500\n",
            "2/2 [==============================] - 0s 8ms/step - loss: 10.4663 - mae: 10.4663\n",
            "Epoch 180/500\n",
            "2/2 [==============================] - 0s 11ms/step - loss: 8.0070 - mae: 8.0070\n",
            "Epoch 181/500\n",
            "2/2 [==============================] - 0s 8ms/step - loss: 17.6544 - mae: 17.6544\n",
            "Epoch 182/500\n",
            "2/2 [==============================] - 0s 9ms/step - loss: 11.1742 - mae: 11.1742\n",
            "Epoch 183/500\n",
            "2/2 [==============================] - 0s 8ms/step - loss: 11.8307 - mae: 11.8307\n",
            "Epoch 184/500\n",
            "2/2 [==============================] - 0s 11ms/step - loss: 30.7347 - mae: 30.7347\n",
            "Epoch 185/500\n",
            "2/2 [==============================] - 0s 8ms/step - loss: 7.5806 - mae: 7.5806\n",
            "Epoch 186/500\n",
            "2/2 [==============================] - 0s 7ms/step - loss: 15.9218 - mae: 15.9218\n",
            "Epoch 187/500\n",
            "2/2 [==============================] - 0s 10ms/step - loss: 8.6396 - mae: 8.6396\n",
            "Epoch 188/500\n",
            "2/2 [==============================] - 0s 11ms/step - loss: 28.9717 - mae: 28.9717\n",
            "Epoch 189/500\n",
            "2/2 [==============================] - 0s 10ms/step - loss: 13.1423 - mae: 13.1423\n",
            "Epoch 190/500\n",
            "2/2 [==============================] - 0s 9ms/step - loss: 18.2835 - mae: 18.2835\n",
            "Epoch 191/500\n",
            "2/2 [==============================] - 0s 10ms/step - loss: 13.7072 - mae: 13.7072\n",
            "Epoch 192/500\n",
            "2/2 [==============================] - 0s 10ms/step - loss: 13.7189 - mae: 13.7189\n",
            "Epoch 193/500\n",
            "2/2 [==============================] - 0s 8ms/step - loss: 28.5561 - mae: 28.5561\n",
            "Epoch 194/500\n",
            "2/2 [==============================] - 0s 7ms/step - loss: 7.1510 - mae: 7.1510\n",
            "Epoch 195/500\n",
            "2/2 [==============================] - 0s 8ms/step - loss: 7.0988 - mae: 7.0988\n",
            "Epoch 196/500\n",
            "2/2 [==============================] - 0s 9ms/step - loss: 21.9928 - mae: 21.9928\n",
            "Epoch 197/500\n",
            "2/2 [==============================] - 0s 9ms/step - loss: 20.8844 - mae: 20.8844\n",
            "Epoch 198/500\n",
            "2/2 [==============================] - 0s 8ms/step - loss: 12.5102 - mae: 12.5102\n",
            "Epoch 199/500\n",
            "2/2 [==============================] - 0s 8ms/step - loss: 17.9401 - mae: 17.9401\n",
            "Epoch 200/500\n",
            "2/2 [==============================] - 0s 8ms/step - loss: 13.7798 - mae: 13.7798\n",
            "Epoch 201/500\n",
            "2/2 [==============================] - 0s 9ms/step - loss: 5.5223 - mae: 5.5223\n",
            "Epoch 202/500\n",
            "2/2 [==============================] - 0s 7ms/step - loss: 13.7182 - mae: 13.7182\n",
            "Epoch 203/500\n",
            "2/2 [==============================] - 0s 8ms/step - loss: 9.4603 - mae: 9.4603\n",
            "Epoch 204/500\n",
            "2/2 [==============================] - 0s 8ms/step - loss: 20.9307 - mae: 20.9307\n",
            "Epoch 205/500\n",
            "2/2 [==============================] - 0s 9ms/step - loss: 9.5785 - mae: 9.5785\n",
            "Epoch 206/500\n",
            "2/2 [==============================] - 0s 8ms/step - loss: 11.2151 - mae: 11.2151\n",
            "Epoch 207/500\n",
            "2/2 [==============================] - 0s 11ms/step - loss: 17.7820 - mae: 17.7820\n",
            "Epoch 208/500\n",
            "2/2 [==============================] - 0s 8ms/step - loss: 14.4686 - mae: 14.4686\n",
            "Epoch 209/500\n",
            "2/2 [==============================] - 0s 9ms/step - loss: 16.7949 - mae: 16.7949\n",
            "Epoch 210/500\n",
            "2/2 [==============================] - 0s 8ms/step - loss: 18.3268 - mae: 18.3268\n",
            "Epoch 211/500\n",
            "2/2 [==============================] - 0s 7ms/step - loss: 10.0108 - mae: 10.0108\n",
            "Epoch 212/500\n",
            "2/2 [==============================] - 0s 8ms/step - loss: 18.8081 - mae: 18.8081\n",
            "Epoch 213/500\n",
            "2/2 [==============================] - 0s 7ms/step - loss: 14.9339 - mae: 14.9339\n",
            "Epoch 214/500\n",
            "2/2 [==============================] - 0s 11ms/step - loss: 14.5249 - mae: 14.5249\n",
            "Epoch 215/500\n",
            "2/2 [==============================] - 0s 6ms/step - loss: 23.1572 - mae: 23.1572\n",
            "Epoch 216/500\n",
            "2/2 [==============================] - 0s 7ms/step - loss: 13.6296 - mae: 13.6296\n",
            "Epoch 217/500\n",
            "2/2 [==============================] - 0s 10ms/step - loss: 10.1026 - mae: 10.1026\n",
            "Epoch 218/500\n",
            "2/2 [==============================] - 0s 8ms/step - loss: 12.4142 - mae: 12.4142\n",
            "Epoch 219/500\n",
            "2/2 [==============================] - 0s 8ms/step - loss: 5.8856 - mae: 5.8856\n",
            "Epoch 220/500\n",
            "2/2 [==============================] - 0s 9ms/step - loss: 10.2183 - mae: 10.2183\n",
            "Epoch 221/500\n",
            "2/2 [==============================] - 0s 10ms/step - loss: 28.8931 - mae: 28.8931\n",
            "Epoch 222/500\n",
            "2/2 [==============================] - 0s 9ms/step - loss: 28.0788 - mae: 28.0788\n",
            "Epoch 223/500\n",
            "2/2 [==============================] - 0s 10ms/step - loss: 10.0769 - mae: 10.0769\n",
            "Epoch 224/500\n",
            "2/2 [==============================] - 0s 8ms/step - loss: 14.6303 - mae: 14.6303\n",
            "Epoch 225/500\n",
            "2/2 [==============================] - 0s 13ms/step - loss: 16.6498 - mae: 16.6498\n",
            "Epoch 226/500\n",
            "2/2 [==============================] - 0s 9ms/step - loss: 15.8722 - mae: 15.8722\n",
            "Epoch 227/500\n",
            "2/2 [==============================] - 0s 10ms/step - loss: 16.0905 - mae: 16.0905\n",
            "Epoch 228/500\n",
            "2/2 [==============================] - 0s 10ms/step - loss: 13.8686 - mae: 13.8686\n",
            "Epoch 229/500\n",
            "2/2 [==============================] - 0s 8ms/step - loss: 17.9922 - mae: 17.9922\n",
            "Epoch 230/500\n",
            "2/2 [==============================] - 0s 8ms/step - loss: 15.5884 - mae: 15.5884\n",
            "Epoch 231/500\n",
            "2/2 [==============================] - 0s 9ms/step - loss: 21.1140 - mae: 21.1140\n",
            "Epoch 232/500\n",
            "2/2 [==============================] - 0s 11ms/step - loss: 25.4791 - mae: 25.4791\n",
            "Epoch 233/500\n",
            "2/2 [==============================] - 0s 7ms/step - loss: 16.4886 - mae: 16.4886\n",
            "Epoch 234/500\n",
            "2/2 [==============================] - 0s 6ms/step - loss: 7.3685 - mae: 7.3685\n",
            "Epoch 235/500\n",
            "2/2 [==============================] - 0s 11ms/step - loss: 17.1230 - mae: 17.1230\n",
            "Epoch 236/500\n",
            "2/2 [==============================] - 0s 11ms/step - loss: 7.2228 - mae: 7.2228\n",
            "Epoch 237/500\n",
            "2/2 [==============================] - 0s 7ms/step - loss: 9.3139 - mae: 9.3139\n",
            "Epoch 238/500\n",
            "2/2 [==============================] - 0s 8ms/step - loss: 8.1791 - mae: 8.1791\n",
            "Epoch 239/500\n",
            "2/2 [==============================] - 0s 13ms/step - loss: 17.1147 - mae: 17.1147\n",
            "Epoch 240/500\n",
            "2/2 [==============================] - 0s 9ms/step - loss: 8.9405 - mae: 8.9405\n",
            "Epoch 241/500\n",
            "2/2 [==============================] - 0s 7ms/step - loss: 13.2247 - mae: 13.2247\n",
            "Epoch 242/500\n",
            "2/2 [==============================] - 0s 9ms/step - loss: 8.8543 - mae: 8.8543\n",
            "Epoch 243/500\n",
            "2/2 [==============================] - 0s 6ms/step - loss: 18.8128 - mae: 18.8128\n",
            "Epoch 244/500\n",
            "2/2 [==============================] - 0s 10ms/step - loss: 14.0847 - mae: 14.0847\n",
            "Epoch 245/500\n",
            "2/2 [==============================] - 0s 7ms/step - loss: 14.7087 - mae: 14.7087\n",
            "Epoch 246/500\n",
            "2/2 [==============================] - 0s 10ms/step - loss: 15.8428 - mae: 15.8428\n",
            "Epoch 247/500\n",
            "2/2 [==============================] - 0s 9ms/step - loss: 17.7310 - mae: 17.7310\n",
            "Epoch 248/500\n",
            "2/2 [==============================] - 0s 11ms/step - loss: 13.2866 - mae: 13.2866\n",
            "Epoch 249/500\n",
            "2/2 [==============================] - 0s 10ms/step - loss: 14.5503 - mae: 14.5503\n",
            "Epoch 250/500\n",
            "2/2 [==============================] - 0s 8ms/step - loss: 23.2915 - mae: 23.2915\n",
            "Epoch 251/500\n",
            "2/2 [==============================] - 0s 7ms/step - loss: 9.3253 - mae: 9.3253\n",
            "Epoch 252/500\n",
            "2/2 [==============================] - 0s 6ms/step - loss: 36.4479 - mae: 36.4479\n",
            "Epoch 253/500\n",
            "2/2 [==============================] - 0s 6ms/step - loss: 21.6789 - mae: 21.6789\n",
            "Epoch 254/500\n",
            "2/2 [==============================] - 0s 7ms/step - loss: 7.3154 - mae: 7.3154\n",
            "Epoch 255/500\n",
            "2/2 [==============================] - 0s 7ms/step - loss: 24.5326 - mae: 24.5326\n",
            "Epoch 256/500\n",
            "2/2 [==============================] - 0s 7ms/step - loss: 11.9689 - mae: 11.9689\n",
            "Epoch 257/500\n",
            "2/2 [==============================] - 0s 8ms/step - loss: 14.4870 - mae: 14.4870\n",
            "Epoch 258/500\n",
            "2/2 [==============================] - 0s 7ms/step - loss: 5.8562 - mae: 5.8562\n",
            "Epoch 259/500\n",
            "2/2 [==============================] - 0s 8ms/step - loss: 14.8510 - mae: 14.8510\n",
            "Epoch 260/500\n",
            "2/2 [==============================] - 0s 7ms/step - loss: 14.9952 - mae: 14.9952\n",
            "Epoch 261/500\n",
            "2/2 [==============================] - 0s 7ms/step - loss: 17.4897 - mae: 17.4897\n",
            "Epoch 262/500\n",
            "2/2 [==============================] - 0s 8ms/step - loss: 15.5440 - mae: 15.5440\n",
            "Epoch 263/500\n",
            "2/2 [==============================] - 0s 7ms/step - loss: 10.1101 - mae: 10.1101\n",
            "Epoch 264/500\n",
            "2/2 [==============================] - 0s 8ms/step - loss: 18.1448 - mae: 18.1448\n",
            "Epoch 265/500\n",
            "2/2 [==============================] - 0s 7ms/step - loss: 14.4031 - mae: 14.4031\n",
            "Epoch 266/500\n",
            "2/2 [==============================] - 0s 10ms/step - loss: 11.0534 - mae: 11.0534\n",
            "Epoch 267/500\n",
            "2/2 [==============================] - 0s 9ms/step - loss: 6.0256 - mae: 6.0256\n",
            "Epoch 268/500\n",
            "2/2 [==============================] - 0s 7ms/step - loss: 18.6755 - mae: 18.6755\n",
            "Epoch 269/500\n",
            "2/2 [==============================] - 0s 7ms/step - loss: 42.3884 - mae: 42.3884\n",
            "Epoch 270/500\n",
            "2/2 [==============================] - 0s 7ms/step - loss: 14.1567 - mae: 14.1567\n",
            "Epoch 271/500\n",
            "2/2 [==============================] - 0s 6ms/step - loss: 15.4457 - mae: 15.4457\n",
            "Epoch 272/500\n",
            "2/2 [==============================] - 0s 6ms/step - loss: 29.8172 - mae: 29.8172\n",
            "Epoch 273/500\n",
            "2/2 [==============================] - 0s 9ms/step - loss: 8.0340 - mae: 8.0340\n",
            "Epoch 274/500\n",
            "2/2 [==============================] - 0s 7ms/step - loss: 13.3757 - mae: 13.3757\n",
            "Epoch 275/500\n",
            "2/2 [==============================] - 0s 7ms/step - loss: 29.4710 - mae: 29.4710\n",
            "Epoch 276/500\n",
            "2/2 [==============================] - 0s 7ms/step - loss: 8.1266 - mae: 8.1266\n",
            "Epoch 277/500\n",
            "2/2 [==============================] - 0s 7ms/step - loss: 30.6677 - mae: 30.6677\n",
            "Epoch 278/500\n",
            "2/2 [==============================] - 0s 7ms/step - loss: 11.5071 - mae: 11.5071\n",
            "Epoch 279/500\n",
            "2/2 [==============================] - 0s 7ms/step - loss: 16.2423 - mae: 16.2423\n",
            "Epoch 280/500\n",
            "2/2 [==============================] - 0s 7ms/step - loss: 21.5334 - mae: 21.5334\n",
            "Epoch 281/500\n",
            "2/2 [==============================] - 0s 7ms/step - loss: 23.0558 - mae: 23.0558\n",
            "Epoch 282/500\n",
            "2/2 [==============================] - 0s 7ms/step - loss: 8.0361 - mae: 8.0361\n",
            "Epoch 283/500\n",
            "2/2 [==============================] - 0s 6ms/step - loss: 8.3145 - mae: 8.3145\n",
            "Epoch 284/500\n",
            "2/2 [==============================] - 0s 9ms/step - loss: 25.8125 - mae: 25.8125\n",
            "Epoch 285/500\n",
            "2/2 [==============================] - 0s 7ms/step - loss: 14.3628 - mae: 14.3628\n",
            "Epoch 286/500\n",
            "2/2 [==============================] - 0s 7ms/step - loss: 4.5383 - mae: 4.5383\n",
            "Epoch 287/500\n",
            "2/2 [==============================] - 0s 10ms/step - loss: 12.9740 - mae: 12.9740\n",
            "Epoch 288/500\n",
            "2/2 [==============================] - 0s 7ms/step - loss: 24.7500 - mae: 24.7500\n",
            "Epoch 289/500\n",
            "2/2 [==============================] - 0s 7ms/step - loss: 9.6888 - mae: 9.6888\n",
            "Epoch 290/500\n",
            "2/2 [==============================] - 0s 10ms/step - loss: 11.7585 - mae: 11.7585\n",
            "Epoch 291/500\n",
            "2/2 [==============================] - 0s 11ms/step - loss: 10.1242 - mae: 10.1242\n",
            "Epoch 292/500\n",
            "2/2 [==============================] - 0s 10ms/step - loss: 16.7328 - mae: 16.7328\n",
            "Epoch 293/500\n",
            "2/2 [==============================] - 0s 11ms/step - loss: 17.5662 - mae: 17.5662\n",
            "Epoch 294/500\n",
            "2/2 [==============================] - 0s 11ms/step - loss: 29.9777 - mae: 29.9777\n",
            "Epoch 295/500\n",
            "2/2 [==============================] - 0s 11ms/step - loss: 8.0424 - mae: 8.0424\n",
            "Epoch 296/500\n",
            "2/2 [==============================] - 0s 7ms/step - loss: 16.2061 - mae: 16.2061\n",
            "Epoch 297/500\n",
            "2/2 [==============================] - 0s 7ms/step - loss: 14.4867 - mae: 14.4867\n",
            "Epoch 298/500\n",
            "2/2 [==============================] - 0s 7ms/step - loss: 27.0169 - mae: 27.0169\n",
            "Epoch 299/500\n",
            "2/2 [==============================] - 0s 11ms/step - loss: 11.0395 - mae: 11.0395\n",
            "Epoch 300/500\n",
            "2/2 [==============================] - 0s 12ms/step - loss: 7.6708 - mae: 7.6708\n",
            "Epoch 301/500\n",
            "2/2 [==============================] - 0s 7ms/step - loss: 21.9285 - mae: 21.9285\n",
            "Epoch 302/500\n",
            "2/2 [==============================] - 0s 7ms/step - loss: 7.5514 - mae: 7.5514\n",
            "Epoch 303/500\n",
            "2/2 [==============================] - 0s 7ms/step - loss: 18.5511 - mae: 18.5511\n",
            "Epoch 304/500\n",
            "2/2 [==============================] - 0s 7ms/step - loss: 12.3524 - mae: 12.3524\n",
            "Epoch 305/500\n",
            "2/2 [==============================] - 0s 7ms/step - loss: 7.5686 - mae: 7.5686\n",
            "Epoch 306/500\n",
            "2/2 [==============================] - 0s 8ms/step - loss: 21.7099 - mae: 21.7099\n",
            "Epoch 307/500\n",
            "2/2 [==============================] - 0s 7ms/step - loss: 8.2864 - mae: 8.2864\n",
            "Epoch 308/500\n",
            "2/2 [==============================] - 0s 8ms/step - loss: 20.9502 - mae: 20.9502\n",
            "Epoch 309/500\n",
            "2/2 [==============================] - 0s 12ms/step - loss: 19.2191 - mae: 19.2191\n",
            "Epoch 310/500\n",
            "2/2 [==============================] - 0s 7ms/step - loss: 6.0192 - mae: 6.0192\n",
            "Epoch 311/500\n",
            "2/2 [==============================] - 0s 7ms/step - loss: 7.8936 - mae: 7.8936\n",
            "Epoch 312/500\n",
            "2/2 [==============================] - 0s 7ms/step - loss: 30.5732 - mae: 30.5732\n",
            "Epoch 313/500\n",
            "2/2 [==============================] - 0s 9ms/step - loss: 5.2098 - mae: 5.2098\n",
            "Epoch 314/500\n",
            "2/2 [==============================] - 0s 8ms/step - loss: 12.6976 - mae: 12.6976\n",
            "Epoch 315/500\n",
            "2/2 [==============================] - 0s 7ms/step - loss: 13.0401 - mae: 13.0401\n",
            "Epoch 316/500\n",
            "2/2 [==============================] - 0s 7ms/step - loss: 4.7876 - mae: 4.7876\n",
            "Epoch 317/500\n",
            "2/2 [==============================] - 0s 7ms/step - loss: 27.7298 - mae: 27.7298\n",
            "Epoch 318/500\n",
            "2/2 [==============================] - 0s 7ms/step - loss: 11.3764 - mae: 11.3764\n",
            "Epoch 319/500\n",
            "2/2 [==============================] - 0s 7ms/step - loss: 6.4039 - mae: 6.4039\n",
            "Epoch 320/500\n",
            "2/2 [==============================] - 0s 7ms/step - loss: 22.8668 - mae: 22.8668\n",
            "Epoch 321/500\n",
            "2/2 [==============================] - 0s 9ms/step - loss: 4.5547 - mae: 4.5547\n",
            "Epoch 322/500\n",
            "2/2 [==============================] - 0s 7ms/step - loss: 18.2119 - mae: 18.2119\n",
            "Epoch 323/500\n",
            "2/2 [==============================] - 0s 8ms/step - loss: 6.6750 - mae: 6.6750\n",
            "Epoch 324/500\n",
            "2/2 [==============================] - 0s 11ms/step - loss: 12.7867 - mae: 12.7867\n",
            "Epoch 325/500\n",
            "2/2 [==============================] - 0s 8ms/step - loss: 9.4749 - mae: 9.4749\n",
            "Epoch 326/500\n",
            "2/2 [==============================] - 0s 7ms/step - loss: 20.3720 - mae: 20.3720\n",
            "Epoch 327/500\n",
            "2/2 [==============================] - 0s 8ms/step - loss: 26.8810 - mae: 26.8810\n",
            "Epoch 328/500\n",
            "2/2 [==============================] - 0s 14ms/step - loss: 11.9798 - mae: 11.9798\n",
            "Epoch 329/500\n",
            "2/2 [==============================] - 0s 9ms/step - loss: 16.7608 - mae: 16.7608\n",
            "Epoch 330/500\n",
            "2/2 [==============================] - 0s 7ms/step - loss: 7.1615 - mae: 7.1615\n",
            "Epoch 331/500\n",
            "2/2 [==============================] - 0s 9ms/step - loss: 21.6254 - mae: 21.6254\n",
            "Epoch 332/500\n",
            "2/2 [==============================] - 0s 9ms/step - loss: 12.4291 - mae: 12.4291\n",
            "Epoch 333/500\n",
            "2/2 [==============================] - 0s 7ms/step - loss: 11.9456 - mae: 11.9456\n",
            "Epoch 334/500\n",
            "2/2 [==============================] - 0s 10ms/step - loss: 8.3457 - mae: 8.3457\n",
            "Epoch 335/500\n",
            "2/2 [==============================] - 0s 7ms/step - loss: 12.5057 - mae: 12.5057\n",
            "Epoch 336/500\n",
            "2/2 [==============================] - 0s 7ms/step - loss: 32.1959 - mae: 32.1959\n",
            "Epoch 337/500\n",
            "2/2 [==============================] - 0s 11ms/step - loss: 10.4340 - mae: 10.4340\n",
            "Epoch 338/500\n",
            "2/2 [==============================] - 0s 10ms/step - loss: 19.6476 - mae: 19.6476\n",
            "Epoch 339/500\n",
            "2/2 [==============================] - 0s 9ms/step - loss: 35.1839 - mae: 35.1839\n",
            "Epoch 340/500\n",
            "2/2 [==============================] - 0s 10ms/step - loss: 10.0600 - mae: 10.0600\n",
            "Epoch 341/500\n",
            "2/2 [==============================] - 0s 9ms/step - loss: 13.7469 - mae: 13.7469\n",
            "Epoch 342/500\n",
            "2/2 [==============================] - 0s 9ms/step - loss: 15.3769 - mae: 15.3769\n",
            "Epoch 343/500\n",
            "2/2 [==============================] - 0s 7ms/step - loss: 11.0149 - mae: 11.0149\n",
            "Epoch 344/500\n",
            "2/2 [==============================] - 0s 11ms/step - loss: 9.9740 - mae: 9.9740\n",
            "Epoch 345/500\n",
            "2/2 [==============================] - 0s 11ms/step - loss: 30.9884 - mae: 30.9884\n",
            "Epoch 346/500\n",
            "2/2 [==============================] - 0s 10ms/step - loss: 10.6957 - mae: 10.6957\n",
            "Epoch 347/500\n",
            "2/2 [==============================] - 0s 8ms/step - loss: 25.6796 - mae: 25.6796\n",
            "Epoch 348/500\n",
            "2/2 [==============================] - 0s 8ms/step - loss: 13.0238 - mae: 13.0238\n",
            "Epoch 349/500\n",
            "2/2 [==============================] - 0s 9ms/step - loss: 13.1417 - mae: 13.1417\n",
            "Epoch 350/500\n",
            "2/2 [==============================] - 0s 9ms/step - loss: 15.4444 - mae: 15.4444\n",
            "Epoch 351/500\n",
            "2/2 [==============================] - 0s 7ms/step - loss: 32.9382 - mae: 32.9382\n",
            "Epoch 352/500\n",
            "2/2 [==============================] - 0s 9ms/step - loss: 14.1874 - mae: 14.1874\n",
            "Epoch 353/500\n",
            "2/2 [==============================] - 0s 8ms/step - loss: 15.9072 - mae: 15.9072\n",
            "Epoch 354/500\n",
            "2/2 [==============================] - 0s 11ms/step - loss: 19.0570 - mae: 19.0570\n",
            "Epoch 355/500\n",
            "2/2 [==============================] - 0s 7ms/step - loss: 34.2160 - mae: 34.2160\n",
            "Epoch 356/500\n",
            "2/2 [==============================] - 0s 7ms/step - loss: 7.7449 - mae: 7.7449\n",
            "Epoch 357/500\n",
            "2/2 [==============================] - 0s 7ms/step - loss: 25.2664 - mae: 25.2664\n",
            "Epoch 358/500\n",
            "2/2 [==============================] - 0s 7ms/step - loss: 22.7419 - mae: 22.7419\n",
            "Epoch 359/500\n",
            "2/2 [==============================] - 0s 7ms/step - loss: 8.9178 - mae: 8.9178\n",
            "Epoch 360/500\n",
            "2/2 [==============================] - 0s 7ms/step - loss: 21.4715 - mae: 21.4715\n",
            "Epoch 361/500\n",
            "2/2 [==============================] - 0s 7ms/step - loss: 20.6157 - mae: 20.6157\n",
            "Epoch 362/500\n",
            "2/2 [==============================] - 0s 7ms/step - loss: 7.1255 - mae: 7.1255\n",
            "Epoch 363/500\n",
            "2/2 [==============================] - 0s 7ms/step - loss: 25.7892 - mae: 25.7892\n",
            "Epoch 364/500\n",
            "2/2 [==============================] - 0s 13ms/step - loss: 32.2033 - mae: 32.2033\n",
            "Epoch 365/500\n",
            "2/2 [==============================] - 0s 7ms/step - loss: 10.0480 - mae: 10.0480\n",
            "Epoch 366/500\n",
            "2/2 [==============================] - 0s 7ms/step - loss: 9.7145 - mae: 9.7145\n",
            "Epoch 367/500\n",
            "2/2 [==============================] - 0s 8ms/step - loss: 30.4354 - mae: 30.4354\n",
            "Epoch 368/500\n",
            "2/2 [==============================] - 0s 7ms/step - loss: 10.5402 - mae: 10.5402\n",
            "Epoch 369/500\n",
            "2/2 [==============================] - 0s 8ms/step - loss: 15.0303 - mae: 15.0303\n",
            "Epoch 370/500\n",
            "2/2 [==============================] - 0s 7ms/step - loss: 14.6863 - mae: 14.6863\n",
            "Epoch 371/500\n",
            "2/2 [==============================] - 0s 7ms/step - loss: 23.4206 - mae: 23.4206\n",
            "Epoch 372/500\n",
            "2/2 [==============================] - 0s 9ms/step - loss: 13.0325 - mae: 13.0325\n",
            "Epoch 373/500\n",
            "2/2 [==============================] - 0s 8ms/step - loss: 8.9471 - mae: 8.9471\n",
            "Epoch 374/500\n",
            "2/2 [==============================] - 0s 8ms/step - loss: 5.8910 - mae: 5.8910\n",
            "Epoch 375/500\n",
            "2/2 [==============================] - 0s 7ms/step - loss: 14.7810 - mae: 14.7810\n",
            "Epoch 376/500\n",
            "2/2 [==============================] - 0s 7ms/step - loss: 16.5232 - mae: 16.5232\n",
            "Epoch 377/500\n",
            "2/2 [==============================] - 0s 7ms/step - loss: 5.3763 - mae: 5.3763\n",
            "Epoch 378/500\n",
            "2/2 [==============================] - 0s 8ms/step - loss: 19.9868 - mae: 19.9868\n",
            "Epoch 379/500\n",
            "2/2 [==============================] - 0s 7ms/step - loss: 30.8358 - mae: 30.8358\n",
            "Epoch 380/500\n",
            "2/2 [==============================] - 0s 8ms/step - loss: 26.8450 - mae: 26.8450\n",
            "Epoch 381/500\n",
            "2/2 [==============================] - 0s 9ms/step - loss: 6.5763 - mae: 6.5763\n",
            "Epoch 382/500\n",
            "2/2 [==============================] - 0s 8ms/step - loss: 7.6093 - mae: 7.6093\n",
            "Epoch 383/500\n",
            "2/2 [==============================] - 0s 8ms/step - loss: 15.4944 - mae: 15.4944\n",
            "Epoch 384/500\n",
            "2/2 [==============================] - 0s 7ms/step - loss: 15.9393 - mae: 15.9393\n",
            "Epoch 385/500\n",
            "2/2 [==============================] - 0s 8ms/step - loss: 11.5819 - mae: 11.5819\n",
            "Epoch 386/500\n",
            "2/2 [==============================] - 0s 8ms/step - loss: 19.8400 - mae: 19.8400\n",
            "Epoch 387/500\n",
            "2/2 [==============================] - 0s 8ms/step - loss: 24.6396 - mae: 24.6396\n",
            "Epoch 388/500\n",
            "2/2 [==============================] - 0s 8ms/step - loss: 8.2828 - mae: 8.2828\n",
            "Epoch 389/500\n",
            "2/2 [==============================] - 0s 7ms/step - loss: 10.8191 - mae: 10.8191\n",
            "Epoch 390/500\n",
            "2/2 [==============================] - 0s 8ms/step - loss: 4.8302 - mae: 4.8302\n",
            "Epoch 391/500\n",
            "2/2 [==============================] - 0s 9ms/step - loss: 18.8201 - mae: 18.8201\n",
            "Epoch 392/500\n",
            "2/2 [==============================] - 0s 7ms/step - loss: 27.0065 - mae: 27.0065\n",
            "Epoch 393/500\n",
            "2/2 [==============================] - 0s 8ms/step - loss: 12.3385 - mae: 12.3385\n",
            "Epoch 394/500\n",
            "2/2 [==============================] - 0s 7ms/step - loss: 11.8491 - mae: 11.8491\n",
            "Epoch 395/500\n",
            "2/2 [==============================] - 0s 7ms/step - loss: 25.3014 - mae: 25.3014\n",
            "Epoch 396/500\n",
            "2/2 [==============================] - 0s 7ms/step - loss: 18.2643 - mae: 18.2643\n",
            "Epoch 397/500\n",
            "2/2 [==============================] - 0s 8ms/step - loss: 11.8185 - mae: 11.8185\n",
            "Epoch 398/500\n",
            "2/2 [==============================] - 0s 7ms/step - loss: 19.6699 - mae: 19.6699\n",
            "Epoch 399/500\n",
            "2/2 [==============================] - 0s 7ms/step - loss: 24.9313 - mae: 24.9313\n",
            "Epoch 400/500\n",
            "2/2 [==============================] - 0s 7ms/step - loss: 14.6120 - mae: 14.6120\n",
            "Epoch 401/500\n",
            "2/2 [==============================] - 0s 12ms/step - loss: 14.5486 - mae: 14.5486\n",
            "Epoch 402/500\n",
            "2/2 [==============================] - 0s 9ms/step - loss: 24.0003 - mae: 24.0003\n",
            "Epoch 403/500\n",
            "2/2 [==============================] - 0s 10ms/step - loss: 17.0050 - mae: 17.0050\n",
            "Epoch 404/500\n",
            "2/2 [==============================] - 0s 8ms/step - loss: 9.8820 - mae: 9.8820\n",
            "Epoch 405/500\n",
            "2/2 [==============================] - 0s 7ms/step - loss: 7.0038 - mae: 7.0038\n",
            "Epoch 406/500\n",
            "2/2 [==============================] - 0s 7ms/step - loss: 20.2944 - mae: 20.2944\n",
            "Epoch 407/500\n",
            "2/2 [==============================] - 0s 7ms/step - loss: 9.1364 - mae: 9.1364\n",
            "Epoch 408/500\n",
            "2/2 [==============================] - 0s 8ms/step - loss: 21.9189 - mae: 21.9189\n",
            "Epoch 409/500\n",
            "2/2 [==============================] - 0s 8ms/step - loss: 27.8025 - mae: 27.8025\n",
            "Epoch 410/500\n",
            "2/2 [==============================] - 0s 7ms/step - loss: 10.7837 - mae: 10.7837\n",
            "Epoch 411/500\n",
            "2/2 [==============================] - 0s 8ms/step - loss: 14.8832 - mae: 14.8832\n",
            "Epoch 412/500\n",
            "2/2 [==============================] - 0s 8ms/step - loss: 21.7339 - mae: 21.7339\n",
            "Epoch 413/500\n",
            "2/2 [==============================] - 0s 7ms/step - loss: 12.6670 - mae: 12.6670\n",
            "Epoch 414/500\n",
            "2/2 [==============================] - 0s 8ms/step - loss: 6.1249 - mae: 6.1249\n",
            "Epoch 415/500\n",
            "2/2 [==============================] - 0s 7ms/step - loss: 13.2298 - mae: 13.2298\n",
            "Epoch 416/500\n",
            "2/2 [==============================] - 0s 8ms/step - loss: 27.4415 - mae: 27.4415\n",
            "Epoch 417/500\n",
            "2/2 [==============================] - 0s 7ms/step - loss: 10.6078 - mae: 10.6078\n",
            "Epoch 418/500\n",
            "2/2 [==============================] - 0s 7ms/step - loss: 12.8521 - mae: 12.8521\n",
            "Epoch 419/500\n",
            "2/2 [==============================] - 0s 7ms/step - loss: 15.9182 - mae: 15.9182\n",
            "Epoch 420/500\n",
            "2/2 [==============================] - 0s 7ms/step - loss: 24.7922 - mae: 24.7922\n",
            "Epoch 421/500\n",
            "2/2 [==============================] - 0s 9ms/step - loss: 17.2913 - mae: 17.2913\n",
            "Epoch 422/500\n",
            "2/2 [==============================] - 0s 8ms/step - loss: 7.8845 - mae: 7.8845\n",
            "Epoch 423/500\n",
            "2/2 [==============================] - 0s 8ms/step - loss: 25.4350 - mae: 25.4350\n",
            "Epoch 424/500\n",
            "2/2 [==============================] - 0s 9ms/step - loss: 14.9800 - mae: 14.9800\n",
            "Epoch 425/500\n",
            "2/2 [==============================] - 0s 9ms/step - loss: 7.1952 - mae: 7.1952\n",
            "Epoch 426/500\n",
            "2/2 [==============================] - 0s 10ms/step - loss: 20.1700 - mae: 20.1700\n",
            "Epoch 427/500\n",
            "2/2 [==============================] - 0s 10ms/step - loss: 6.3418 - mae: 6.3418\n",
            "Epoch 428/500\n",
            "2/2 [==============================] - 0s 8ms/step - loss: 12.6452 - mae: 12.6452\n",
            "Epoch 429/500\n",
            "2/2 [==============================] - 0s 10ms/step - loss: 12.0673 - mae: 12.0673\n",
            "Epoch 430/500\n",
            "2/2 [==============================] - 0s 8ms/step - loss: 11.0798 - mae: 11.0798\n",
            "Epoch 431/500\n",
            "2/2 [==============================] - 0s 11ms/step - loss: 10.0210 - mae: 10.0210\n",
            "Epoch 432/500\n",
            "2/2 [==============================] - 0s 10ms/step - loss: 13.3325 - mae: 13.3325\n",
            "Epoch 433/500\n",
            "2/2 [==============================] - 0s 9ms/step - loss: 11.4359 - mae: 11.4359\n",
            "Epoch 434/500\n",
            "2/2 [==============================] - 0s 8ms/step - loss: 30.4426 - mae: 30.4426\n",
            "Epoch 435/500\n",
            "2/2 [==============================] - 0s 8ms/step - loss: 10.5689 - mae: 10.5689\n",
            "Epoch 436/500\n",
            "2/2 [==============================] - 0s 8ms/step - loss: 28.9405 - mae: 28.9405\n",
            "Epoch 437/500\n",
            "2/2 [==============================] - 0s 7ms/step - loss: 8.7106 - mae: 8.7106\n",
            "Epoch 438/500\n",
            "2/2 [==============================] - 0s 10ms/step - loss: 12.7794 - mae: 12.7794\n",
            "Epoch 439/500\n",
            "2/2 [==============================] - 0s 8ms/step - loss: 33.7147 - mae: 33.7147\n",
            "Epoch 440/500\n",
            "2/2 [==============================] - 0s 7ms/step - loss: 15.1945 - mae: 15.1945\n",
            "Epoch 441/500\n",
            "2/2 [==============================] - 0s 9ms/step - loss: 17.5599 - mae: 17.5599\n",
            "Epoch 442/500\n",
            "2/2 [==============================] - 0s 8ms/step - loss: 22.4417 - mae: 22.4417\n",
            "Epoch 443/500\n",
            "2/2 [==============================] - 0s 7ms/step - loss: 23.2643 - mae: 23.2643\n",
            "Epoch 444/500\n",
            "2/2 [==============================] - 0s 11ms/step - loss: 10.7611 - mae: 10.7611\n",
            "Epoch 445/500\n",
            "2/2 [==============================] - 0s 9ms/step - loss: 15.0180 - mae: 15.0180\n",
            "Epoch 446/500\n",
            "2/2 [==============================] - 0s 10ms/step - loss: 18.1431 - mae: 18.1431\n",
            "Epoch 447/500\n",
            "2/2 [==============================] - 0s 9ms/step - loss: 5.3722 - mae: 5.3722\n",
            "Epoch 448/500\n",
            "2/2 [==============================] - 0s 9ms/step - loss: 10.2089 - mae: 10.2089\n",
            "Epoch 449/500\n",
            "2/2 [==============================] - 0s 9ms/step - loss: 14.1297 - mae: 14.1297\n",
            "Epoch 450/500\n",
            "2/2 [==============================] - 0s 7ms/step - loss: 16.9081 - mae: 16.9081\n",
            "Epoch 451/500\n",
            "2/2 [==============================] - 0s 10ms/step - loss: 14.3658 - mae: 14.3658\n",
            "Epoch 452/500\n",
            "2/2 [==============================] - 0s 6ms/step - loss: 30.7230 - mae: 30.7230\n",
            "Epoch 453/500\n",
            "2/2 [==============================] - 0s 10ms/step - loss: 8.4531 - mae: 8.4531\n",
            "Epoch 454/500\n",
            "2/2 [==============================] - 0s 8ms/step - loss: 27.6557 - mae: 27.6557\n",
            "Epoch 455/500\n",
            "2/2 [==============================] - 0s 7ms/step - loss: 9.9495 - mae: 9.9495\n",
            "Epoch 456/500\n",
            "2/2 [==============================] - 0s 7ms/step - loss: 14.6283 - mae: 14.6283\n",
            "Epoch 457/500\n",
            "2/2 [==============================] - 0s 8ms/step - loss: 17.7854 - mae: 17.7854\n",
            "Epoch 458/500\n",
            "2/2 [==============================] - 0s 11ms/step - loss: 14.0851 - mae: 14.0851\n",
            "Epoch 459/500\n",
            "2/2 [==============================] - 0s 9ms/step - loss: 25.9931 - mae: 25.9931\n",
            "Epoch 460/500\n",
            "2/2 [==============================] - 0s 8ms/step - loss: 14.7975 - mae: 14.7975\n",
            "Epoch 461/500\n",
            "2/2 [==============================] - 0s 8ms/step - loss: 12.0499 - mae: 12.0499\n",
            "Epoch 462/500\n",
            "2/2 [==============================] - 0s 7ms/step - loss: 13.3157 - mae: 13.3157\n",
            "Epoch 463/500\n",
            "2/2 [==============================] - 0s 9ms/step - loss: 29.5309 - mae: 29.5309\n",
            "Epoch 464/500\n",
            "2/2 [==============================] - 0s 8ms/step - loss: 3.5255 - mae: 3.5255\n",
            "Epoch 465/500\n",
            "2/2 [==============================] - 0s 9ms/step - loss: 15.2013 - mae: 15.2013\n",
            "Epoch 466/500\n",
            "2/2 [==============================] - 0s 8ms/step - loss: 20.8197 - mae: 20.8197\n",
            "Epoch 467/500\n",
            "2/2 [==============================] - 0s 7ms/step - loss: 30.5450 - mae: 30.5450\n",
            "Epoch 468/500\n",
            "2/2 [==============================] - 0s 7ms/step - loss: 10.7547 - mae: 10.7547\n",
            "Epoch 469/500\n",
            "2/2 [==============================] - 0s 9ms/step - loss: 15.2333 - mae: 15.2333\n",
            "Epoch 470/500\n",
            "2/2 [==============================] - 0s 8ms/step - loss: 6.8587 - mae: 6.8587\n",
            "Epoch 471/500\n",
            "2/2 [==============================] - 0s 7ms/step - loss: 22.9883 - mae: 22.9883\n",
            "Epoch 472/500\n",
            "2/2 [==============================] - 0s 13ms/step - loss: 13.3270 - mae: 13.3270\n",
            "Epoch 473/500\n",
            "2/2 [==============================] - 0s 8ms/step - loss: 15.2537 - mae: 15.2537\n",
            "Epoch 474/500\n",
            "2/2 [==============================] - 0s 7ms/step - loss: 11.7305 - mae: 11.7305\n",
            "Epoch 475/500\n",
            "2/2 [==============================] - 0s 8ms/step - loss: 16.3583 - mae: 16.3583\n",
            "Epoch 476/500\n",
            "2/2 [==============================] - 0s 7ms/step - loss: 13.8843 - mae: 13.8843\n",
            "Epoch 477/500\n",
            "2/2 [==============================] - 0s 7ms/step - loss: 30.6315 - mae: 30.6315\n",
            "Epoch 478/500\n",
            "2/2 [==============================] - 0s 7ms/step - loss: 8.2911 - mae: 8.2911\n",
            "Epoch 479/500\n",
            "2/2 [==============================] - 0s 6ms/step - loss: 11.3375 - mae: 11.3375\n",
            "Epoch 480/500\n",
            "2/2 [==============================] - 0s 7ms/step - loss: 18.0024 - mae: 18.0024\n",
            "Epoch 481/500\n",
            "2/2 [==============================] - 0s 7ms/step - loss: 15.8943 - mae: 15.8943\n",
            "Epoch 482/500\n",
            "2/2 [==============================] - 0s 10ms/step - loss: 21.4526 - mae: 21.4526\n",
            "Epoch 483/500\n",
            "2/2 [==============================] - 0s 7ms/step - loss: 25.0464 - mae: 25.0464\n",
            "Epoch 484/500\n",
            "2/2 [==============================] - 0s 7ms/step - loss: 23.6639 - mae: 23.6639\n",
            "Epoch 485/500\n",
            "2/2 [==============================] - 0s 11ms/step - loss: 5.8063 - mae: 5.8063\n",
            "Epoch 486/500\n",
            "2/2 [==============================] - 0s 7ms/step - loss: 19.5482 - mae: 19.5482\n",
            "Epoch 487/500\n",
            "2/2 [==============================] - 0s 8ms/step - loss: 13.9791 - mae: 13.9791\n",
            "Epoch 488/500\n",
            "2/2 [==============================] - 0s 10ms/step - loss: 30.4711 - mae: 30.4711\n",
            "Epoch 489/500\n",
            "2/2 [==============================] - 0s 7ms/step - loss: 11.7465 - mae: 11.7465\n",
            "Epoch 490/500\n",
            "2/2 [==============================] - 0s 13ms/step - loss: 12.4713 - mae: 12.4713\n",
            "Epoch 491/500\n",
            "2/2 [==============================] - 0s 8ms/step - loss: 23.6660 - mae: 23.6660\n",
            "Epoch 492/500\n",
            "2/2 [==============================] - 0s 9ms/step - loss: 20.2829 - mae: 20.2829\n",
            "Epoch 493/500\n",
            "2/2 [==============================] - 0s 10ms/step - loss: 5.0268 - mae: 5.0268\n",
            "Epoch 494/500\n",
            "2/2 [==============================] - 0s 10ms/step - loss: 12.5893 - mae: 12.5893\n",
            "Epoch 495/500\n",
            "2/2 [==============================] - 0s 9ms/step - loss: 13.5037 - mae: 13.5037\n",
            "Epoch 496/500\n",
            "2/2 [==============================] - 0s 11ms/step - loss: 12.7647 - mae: 12.7647\n",
            "Epoch 497/500\n",
            "2/2 [==============================] - 0s 8ms/step - loss: 17.7950 - mae: 17.7950\n",
            "Epoch 498/500\n",
            "2/2 [==============================] - 0s 8ms/step - loss: 23.2072 - mae: 23.2072\n",
            "Epoch 499/500\n",
            "2/2 [==============================] - 0s 8ms/step - loss: 8.9940 - mae: 8.9940\n",
            "Epoch 500/500\n",
            "2/2 [==============================] - 0s 9ms/step - loss: 14.4320 - mae: 14.4320\n"
          ]
        },
        {
          "output_type": "execute_result",
          "data": {
            "text/plain": [
              "<keras.src.callbacks.History at 0x7ac6ab4c9060>"
            ]
          },
          "metadata": {},
          "execution_count": 399
        }
      ]
    },
    {
      "cell_type": "code",
      "source": [
        "# Make and plot predictions of model_3\n",
        "y_preds_3 = model_3.predict(X_test)\n",
        "plot_predictions(predictions=y_preds_3)"
      ],
      "metadata": {
        "colab": {
          "base_uri": "https://localhost:8080/",
          "height": 616
        },
        "id": "GHFqSsiv0kBV",
        "outputId": "d1386f52-3d5f-4e30-a421-6d4c9e5c4e8c"
      },
      "execution_count": 400,
      "outputs": [
        {
          "output_type": "stream",
          "name": "stdout",
          "text": [
            "1/1 [==============================] - 0s 52ms/step\n"
          ]
        },
        {
          "output_type": "display_data",
          "data": {
            "text/plain": [
              "<Figure size 1000x700 with 1 Axes>"
            ],
            "image/png": "[encoded data removed]"
          },
          "metadata": {}
        }
      ]
    },
    {
      "cell_type": "code",
      "source": [
        "# Evaluation of model3\n",
        "mae_3 =mae(y_test, y_preds_3)\n",
        "mse_3 =mse( y_test, y_preds_3)\n",
        "mae_3, mse_3"
      ],
      "metadata": {
        "colab": {
          "base_uri": "https://localhost:8080/"
        },
        "id": "xpfjWSpc1Crk",
        "outputId": "810a1dd0-a011-4a45-9824-255ebf929f11"
      },
      "execution_count": 404,
      "outputs": [
        {
          "output_type": "execute_result",
          "data": {
            "text/plain": [
              "(<tf.Tensor: shape=(), dtype=int32, numpy=0>,\n",
              " <tf.Tensor: shape=(10,), dtype=float32, numpy=\n",
              " array([5270.9487, 5157.3037, 5044.928 , 4933.824 , 4823.9907, 4715.428 ,\n",
              "        4608.1357, 4502.1143, 4397.364 , 4293.884 ], dtype=float32)>)"
            ]
          },
          "metadata": {},
          "execution_count": 404
        }
      ]
    },
    {
      "cell_type": "markdown",
      "source": [
        "**Compare the model Results of Experiments**\n",
        "\n",
        "  * We have run few models and evaluated them so let's compare the predictions\n",
        "  * When u build the models, make sure to start small and gradually increase the complexity\n",
        "  *"
      ],
      "metadata": {
        "id": "UmZ_RU_i2TRJ"
      }
    },
    {
      "cell_type": "code",
      "source": [
        "# Let's compare the models results using the pandas DataFrame\n",
        "\n",
        "import pandas as pd\n",
        "\n",
        "model_results = [[\"model_1\",mae_1.numpy(),mse_1.numpy()],\n",
        "                 [\"model_2\",mae_2.numpy(),mse_2.numpy()],\n",
        "                 [\"model_3\",mae_3.numpy(),mse_3.numpy()]]\n",
        "all_results = pd.DataFrame(model_results, columns=[\"model\",\"mae\",\"mse\"])\n",
        "all_results"
      ],
      "metadata": {
        "colab": {
          "base_uri": "https://localhost:8080/",
          "height": 446
        },
        "id": "QlKBJkUP2vxp",
        "outputId": "0532b02a-d78e-434d-ce87-84e5f516db00"
      },
      "execution_count": 406,
      "outputs": [
        {
          "output_type": "execute_result",
          "data": {
            "text/plain": [
              "     model  mae                                                mse\n",
              "0  model_1    0                                          88.737534\n",
              "1  model_2    0  [440.3208, 300.4064, 202.4802, 146.54144, 132....\n",
              "2  model_3    0  [5270.9487, 5157.3037, 5044.928, 4933.824, 482..."
            ],
            "text/html": [
              "\n",
              "  <div id=\"df-f3f49ab2-a261-49b8-8358-cc4ab6c81585\" class=\"colab-df-container\">\n",
              "    <div>\n",
              "<style scoped>\n",
              "    .dataframe tbody tr th:only-of-type {\n",
              "        vertical-align: middle;\n",
              "    }\n",
              "\n",
              "    .dataframe tbody tr th {\n",
              "        vertical-align: top;\n",
              "    }\n",
              "\n",
              "    .dataframe thead th {\n",
              "        text-align: right;\n",
              "    }\n",
              "</style>\n",
              "<table border=\"1\" class=\"dataframe\">\n",
              "  <thead>\n",
              "    <tr style=\"text-align: right;\">\n",
              "      <th></th>\n",
              "      <th>model</th>\n",
              "      <th>mae</th>\n",
              "      <th>mse</th>\n",
              "    </tr>\n",
              "  </thead>\n",
              "  <tbody>\n",
              "    <tr>\n",
              "      <th>0</th>\n",
              "      <td>model_1</td>\n",
              "      <td>0</td>\n",
              "      <td>88.737534</td>\n",
              "    </tr>\n",
              "    <tr>\n",
              "      <th>1</th>\n",
              "      <td>model_2</td>\n",
              "      <td>0</td>\n",
              "      <td>[440.3208, 300.4064, 202.4802, 146.54144, 132....</td>\n",
              "    </tr>\n",
              "    <tr>\n",
              "      <th>2</th>\n",
              "      <td>model_3</td>\n",
              "      <td>0</td>\n",
              "      <td>[5270.9487, 5157.3037, 5044.928, 4933.824, 482...</td>\n",
              "    </tr>\n",
              "  </tbody>\n",
              "</table>\n",
              "</div>\n",
              "    <div class=\"colab-df-buttons\">\n",
              "\n",
              "  <div class=\"colab-df-container\">\n",
              "    <button class=\"colab-df-convert\" onclick=\"convertToInteractive('df-f3f49ab2-a261-49b8-8358-cc4ab6c81585')\"\n",
              "            title=\"Convert this dataframe to an interactive table.\"\n",
              "            style=\"display:none;\">\n",
              "\n",
              "  <svg xmlns=\"http://www.w3.org/2000/svg\" height=\"24px\" viewBox=\"0 -960 960 960\">\n",
              "    <path d=\"M120-120v-720h720v720H120Zm60-500h600v-160H180v160Zm220 220h160v-160H400v160Zm0 220h160v-160H400v160ZM180-400h160v-160H180v160Zm440 0h160v-160H620v160ZM180-180h160v-160H180v160Zm440 0h160v-160H620v160Z\"/>\n",
              "  </svg>\n",
              "    </button>\n",
              "\n",
              "  <style>\n",
              "    .colab-df-container {\n",
              "      display:flex;\n",
              "      gap: 12px;\n",
              "    }\n",
              "\n",
              "    .colab-df-convert {\n",
              "      background-color: #E8F0FE;\n",
              "      border: none;\n",
              "      border-radius: 50%;\n",
              "      cursor: pointer;\n",
              "      display: none;\n",
              "      fill: #1967D2;\n",
              "      height: 32px;\n",
              "      padding: 0 0 0 0;\n",
              "      width: 32px;\n",
              "    }\n",
              "\n",
              "    .colab-df-convert:hover {\n",
              "      background-color: #E2EBFA;\n",
              "      box-shadow: 0px 1px 2px rgba(60, 64, 67, 0.3), 0px 1px 3px 1px rgba(60, 64, 67, 0.15);\n",
              "      fill: #174EA6;\n",
              "    }\n",
              "\n",
              "    .colab-df-buttons div {\n",
              "      margin-bottom: 4px;\n",
              "    }\n",
              "\n",
              "    [theme=dark] .colab-df-convert {\n",
              "      background-color: #3B4455;\n",
              "      fill: #D2E3FC;\n",
              "    }\n",
              "\n",
              "    [theme=dark] .colab-df-convert:hover {\n",
              "      background-color: #434B5C;\n",
              "      box-shadow: 0px 1px 3px 1px rgba(0, 0, 0, 0.15);\n",
              "      filter: drop-shadow(0px 1px 2px rgba(0, 0, 0, 0.3));\n",
              "      fill: #FFFFFF;\n",
              "    }\n",
              "  </style>\n",
              "\n",
              "    <script>\n",
              "      const buttonEl =\n",
              "        document.querySelector('#df-f3f49ab2-a261-49b8-8358-cc4ab6c81585 button.colab-df-convert');\n",
              "      buttonEl.style.display =\n",
              "        google.colab.kernel.accessAllowed ? 'block' : 'none';\n",
              "\n",
              "      async function convertToInteractive(key) {\n",
              "        const element = document.querySelector('#df-f3f49ab2-a261-49b8-8358-cc4ab6c81585');\n",
              "        const dataTable =\n",
              "          await google.colab.kernel.invokeFunction('convertToInteractive',\n",
              "                                                    [key], {});\n",
              "        if (!dataTable) return;\n",
              "\n",
              "        const docLinkHtml = 'Like what you see? Visit the ' +\n",
              "          '<a target=\"_blank\" href=https://colab.research.google.com/notebooks/data_table.ipynb>data table notebook</a>'\n",
              "          + ' to learn more about interactive tables.';\n",
              "        element.innerHTML = '';\n",
              "        dataTable['output_type'] = 'display_data';\n",
              "        await google.colab.output.renderOutput(dataTable, element);\n",
              "        const docLink = document.createElement('div');\n",
              "        docLink.innerHTML = docLinkHtml;\n",
              "        element.appendChild(docLink);\n",
              "      }\n",
              "    </script>\n",
              "  </div>\n",
              "\n",
              "\n",
              "<div id=\"df-67de0bf5-6c8d-49c6-829c-eb7d745682f3\">\n",
              "  <button class=\"colab-df-quickchart\" onclick=\"quickchart('df-67de0bf5-6c8d-49c6-829c-eb7d745682f3')\"\n",
              "            title=\"Suggest charts\"\n",
              "            style=\"display:none;\">\n",
              "\n",
              "<svg xmlns=\"http://www.w3.org/2000/svg\" height=\"24px\"viewBox=\"0 0 24 24\"\n",
              "     width=\"24px\">\n",
              "    <g>\n",
              "        <path d=\"M19 3H5c-1.1 0-2 .9-2 2v14c0 1.1.9 2 2 2h14c1.1 0 2-.9 2-2V5c0-1.1-.9-2-2-2zM9 17H7v-7h2v7zm4 0h-2V7h2v10zm4 0h-2v-4h2v4z\"/>\n",
              "    </g>\n",
              "</svg>\n",
              "  </button>\n",
              "\n",
              "<style>\n",
              "  .colab-df-quickchart {\n",
              "      --bg-color: #E8F0FE;\n",
              "      --fill-color: #1967D2;\n",
              "      --hover-bg-color: #E2EBFA;\n",
              "      --hover-fill-color: #174EA6;\n",
              "      --disabled-fill-color: #AAA;\n",
              "      --disabled-bg-color: #DDD;\n",
              "  }\n",
              "\n",
              "  [theme=dark] .colab-df-quickchart {\n",
              "      --bg-color: #3B4455;\n",
              "      --fill-color: #D2E3FC;\n",
              "      --hover-bg-color: #434B5C;\n",
              "      --hover-fill-color: #FFFFFF;\n",
              "      --disabled-bg-color: #3B4455;\n",
              "      --disabled-fill-color: #666;\n",
              "  }\n",
              "\n",
              "  .colab-df-quickchart {\n",
              "    background-color: var(--bg-color);\n",
              "    border: none;\n",
              "    border-radius: 50%;\n",
              "    cursor: pointer;\n",
              "    display: none;\n",
              "    fill: var(--fill-color);\n",
              "    height: 32px;\n",
              "    padding: 0;\n",
              "    width: 32px;\n",
              "  }\n",
              "\n",
              "  .colab-df-quickchart:hover {\n",
              "    background-color: var(--hover-bg-color);\n",
              "    box-shadow: 0 1px 2px rgba(60, 64, 67, 0.3), 0 1px 3px 1px rgba(60, 64, 67, 0.15);\n",
              "    fill: var(--button-hover-fill-color);\n",
              "  }\n",
              "\n",
              "  .colab-df-quickchart-complete:disabled,\n",
              "  .colab-df-quickchart-complete:disabled:hover {\n",
              "    background-color: var(--disabled-bg-color);\n",
              "    fill: var(--disabled-fill-color);\n",
              "    box-shadow: none;\n",
              "  }\n",
              "\n",
              "  .colab-df-spinner {\n",
              "    border: 2px solid var(--fill-color);\n",
              "    border-color: transparent;\n",
              "    border-bottom-color: var(--fill-color);\n",
              "    animation:\n",
              "      spin 1s steps(1) infinite;\n",
              "  }\n",
              "\n",
              "  @keyframes spin {\n",
              "    0% {\n",
              "      border-color: transparent;\n",
              "      border-bottom-color: var(--fill-color);\n",
              "      border-left-color: var(--fill-color);\n",
              "    }\n",
              "    20% {\n",
              "      border-color: transparent;\n",
              "      border-left-color: var(--fill-color);\n",
              "      border-top-color: var(--fill-color);\n",
              "    }\n",
              "    30% {\n",
              "      border-color: transparent;\n",
              "      border-left-color: var(--fill-color);\n",
              "      border-top-color: var(--fill-color);\n",
              "      border-right-color: var(--fill-color);\n",
              "    }\n",
              "    40% {\n",
              "      border-color: transparent;\n",
              "      border-right-color: var(--fill-color);\n",
              "      border-top-color: var(--fill-color);\n",
              "    }\n",
              "    60% {\n",
              "      border-color: transparent;\n",
              "      border-right-color: var(--fill-color);\n",
              "    }\n",
              "    80% {\n",
              "      border-color: transparent;\n",
              "      border-right-color: var(--fill-color);\n",
              "      border-bottom-color: var(--fill-color);\n",
              "    }\n",
              "    90% {\n",
              "      border-color: transparent;\n",
              "      border-bottom-color: var(--fill-color);\n",
              "    }\n",
              "  }\n",
              "</style>\n",
              "\n",
              "  <script>\n",
              "    async function quickchart(key) {\n",
              "      const quickchartButtonEl =\n",
              "        document.querySelector('#' + key + ' button');\n",
              "      quickchartButtonEl.disabled = true;  // To prevent multiple clicks.\n",
              "      quickchartButtonEl.classList.add('colab-df-spinner');\n",
              "      try {\n",
              "        const charts = await google.colab.kernel.invokeFunction(\n",
              "            'suggestCharts', [key], {});\n",
              "      } catch (error) {\n",
              "        console.error('Error during call to suggestCharts:', error);\n",
              "      }\n",
              "      quickchartButtonEl.classList.remove('colab-df-spinner');\n",
              "      quickchartButtonEl.classList.add('colab-df-quickchart-complete');\n",
              "    }\n",
              "    (() => {\n",
              "      let quickchartButtonEl =\n",
              "        document.querySelector('#df-67de0bf5-6c8d-49c6-829c-eb7d745682f3 button');\n",
              "      quickchartButtonEl.style.display =\n",
              "        google.colab.kernel.accessAllowed ? 'block' : 'none';\n",
              "    })();\n",
              "  </script>\n",
              "</div>\n",
              "    </div>\n",
              "  </div>\n"
            ]
          },
          "metadata": {},
          "execution_count": 406
        },
        {
          "output_type": "stream",
          "name": "stderr",
          "text": [
            "WARNING:root:Quickchart encountered unexpected dtypes in columns: \"(['mse'],)\"\n"
          ]
        },
        {
          "output_type": "display_data",
          "data": {
            "text/plain": [
              "<google.colab._quickchart_helpers.SectionTitle at 0x7ac6afd81330>"
            ],
            "text/html": [
              "<h4 class=\"colab-quickchart-section-title\">Categorical distributions</h4>\n",
              "<style>\n",
              "  .colab-quickchart-section-title {\n",
              "      clear: both;\n",
              "  }\n",
              "</style>"
            ]
          },
          "metadata": {}
        },
        {
          "output_type": "display_data",
          "data": {
            "text/plain": [
              "from matplotlib import pyplot as plt\n",
              "import seaborn as sns\n",
              "all_results.groupby('model').size().plot(kind='barh', color=sns.palettes.mpl_palette('Dark2'))\n",
              "plt.gca().spines[['top', 'right',]].set_visible(False)"
            ],
            "text/html": [
              "      <div class=\"colab-quickchart-chart-with-code\" id=\"chart-76c26209-f9f2-4ea6-9877-65eb4f497e33\">\n",
              "        <img style=\"width: 180px;\" src=\"data:image/png;base64,iVBORw0KGgoAAAANSUhEUgAAAkgAAAGZCAYAAABylM64AAAAOXRFWHRTb2Z0d2FyZQBNYXRwbG90\n",
              "bGliIHZlcnNpb24zLjcuMSwgaHR0cHM6Ly9tYXRwbG90bGliLm9yZy/bCgiHAAAACXBIWXMAAA9h\n",
              "AAAPYQGoP6dpAAAZoElEQVR4nO3df6yW9X3/8dfxEI7tLNTlWythKtUeNwEPP3o8Z6MeB6LxDJDh\n",
              "2k3mmEQGdsPZ1U7sWJo06wp0mHXRdQ3FUEzPSYyp62BDdEsBq5jMDWlRcONLtypMsPUbFs4kjnMO\n",
              "5/r+0eysfPzRc+yBm3N8PJI78T7nuu/rfX9CvJ+5ruu+T11VVVUAAOh3Tq0HAAA42wgkAICCQAIA\n",
              "KAgkAICCQAIAKAgkAICCQAIAKAgkAICCQAIAKAikn8J9991X6xEAgNNAIP0UXnrppVqPAACcBgIJ\n",
              "AKAgkAAACgIJAKAgkAAACgIJAKAgkAAACgIJAKAgkAAACgIJAKAgkAAACgIJAKAgkAAACgIJAKAg\n",
              "kAAACgIJAKAgkAAACgIJAKAgkAAACgIJAKAgkAAACgIJAKAgkAAACgIJAKAgkAAACgIJAKAgkAAA\n",
              "CgIJAKAgkAAACnVVVVW1HmK4ap6+INf+8tJajwEAI8rav5hX6xEcQQIAKAkkAICCQAIAKAgkAICC\n",
              "QAIAKAgkAICCQAIAKAgkAICCQAIAKAgkAICCQAIAKAgkAICCQAIAKAgkAICCQAIAKAgkAICCQAIA\n",
              "KAgkAICCQAIAKAgkAICCQAIAKAgkAICCQAIAKAgkAICCQAIAKAgkAICCQAIAKAgkAIDCsAukLVu2\n",
              "ZObMmT9xuwcffDALFix4223+6q/+KldeeWWmTp2ayZMn5/777x+aIQGAYW1UrQeopUWLFuWOO+5I\n",
              "knR1dWXy5Mlpa2vLtGnT3rDtiRMncuLEiVN+VvX1nZE5AYAz67QeQaqrq8uqVavS2tqaCRMmZNOm\n",
              "TVmzZk2am5vT2NiYJ554on/bjo6ONDU1pampKXPnzs3LL7+cJOnp6cny5cvT2NiYlpaW7Nix45R9\n",
              "dHR0pLW1NdOnT88111yTPXv2DHi+sWPH9v/38ePH09PT85bbrlmzJmPHjj3lduQH/3fA+wIAho/T\n",
              "fortvPPOyzPPPJMNGzZk0aJFGTduXHbt2pXVq1dnxYoVSZK9e/dmxYoVeeyxx/Lcc89lxowZWbp0\n",
              "aZJk/fr12b9/f/bt25edO3dm9+7d/c/99NNP56GHHsqTTz6Z3bt3Z9WqVbnlllsGNd8jjzySSZMm\n",
              "ZcKECbn77rvf9OhRkqxcuTLHjh075Tbug5e/w1UBAM5mpz2Qbr755iRJc3Nzjh8/noULFyZJWlpa\n",
              "cuDAgSTJjh070t7envHjxydJli9fnu3bt+fkyZPZtm1bbr311owePTqjR4/OkiVL+p978+bN2bNn\n",
              "T1pbWzN16tTceeedOXr0aF5//fUBz/fxj388+/bty/79+9PZ2Zn9+/e/6XYNDQ0ZM2bMKbe6c4bd\n",
              "JVwAwACc9muQzj333CRJfX39G+739va+6WPq6ure8vl+/HdVVWXx4sVZvXr1Tz3nhAkT0trami1b\n",
              "tuTnf/7nf+rnAwCGr7PiEMisWbPy+OOP5/Dhw0mSdevWZfbs2amvr891112Xzs7O9PT0pLu7Oxs3\n",
              "bux/3Pz589PZ2ZmDBw8mSfr6+rJr164B7/eFF17o/+9XX30127dvT1NT0xC9KgBguDorPsU2efLk\n",
              "3HvvvWlvb0+SXHTRRXnggQeSJMuWLcvevXszceLEnH/++Wlra8uzzz6bJGlra8vatWtz0003pbe3\n",
              "N93d3Zk7d26am5sHtN/77rsvTz31VEaPHp2qqvKpT30q119//el5kQDAsFFXVVVV6yGGq+bpC3Lt\n",
              "Ly+t9RgAMKKs/Yt5tR7h7DjFBgBwNhnxgbR169ZMnTr1DbeHH3641qMBAGeps+IapNNpzpw5mTNn\n",
              "Tq3HAACGkRF/BAkAYLAEEgBAQSABABQEEgBAQSABABQEEgBAQSABABQEEgBAQSABABQEEgBAQSAB\n",
              "ABQEEgBAQSABABQEEgBAQSABABQEEgBAQSABABQEEgBAQSABABQEEgBAQSABABRG1XqA4eyamZdm\n",
              "7Zfm1XoMAGCIOYIEAFAQSAAABYEEAFAQSAAABYEEAFAQSAAABYEEAFAQSAAABYEEAFAQSAAABYEE\n",
              "AFAQSAAABYEEAFAQSAAABYEEAFAQSAAABYEEAFAQSAAABYEEAFAQSAAABYEEAFAQSAAABYEEAFAQ\n",
              "SAAABYEEAFAQSAAABYEEAFAQSAAABYEEAFAQSAAABYEEAFAQSAAABYEEAFAQSAAABYEEAFAQSAAA\n",
              "BYEEAFAQSAAABYEEAFAQSAAABYEEAFAQSAAABYEEAFAQSAAABYEEAFAQSAAABYEEAFAQSAAABYEE\n",
              "AFAQSAAABYEEAFAQSAAABYEEAFAQSAAABYEEAFAQSAAABYEEAFAQSAAABYEEAFAQSAAABYEEAFCo\n",
              "q6qqqvUQw9Vtk+qy8iqNCQBD6fIHT9Z6BEeQAABKAgkAoCCQAAAKAgkAoCCQAAAKAgkAoCCQAAAK\n",
              "AgkAoCCQAAAKAgkAoCCQAAAKAgkAoCCQAAAKAgkAoCCQAAAKowa64U033ZS6urq3/P03v/nNIRkI\n",
              "AKDWBhxICxYsOI1jAACcPQYcSIsXLz7l/okTJ9LQ0DDkAwEA1Nqgr0F6/vnnM3ny5Fx22WVJkmef\n",
              "fTb33HPPkA8GAFArgw6kO++8M+vWrcsHPvCBJMn06dPz6KOPDvlgAAC1MuhAeu2113L11Vf336+r\n",
              "q8vo0aOHdCgAgFoadCCNGjUqPT09/Z9oO3ToUOrr64d8MACAWhl0IP3+7/9+FixYkFdffTWf/exn\n",
              "09bW5hokAGBEGfCn2P7HokWLcumll2bz5s3p7u5OZ2fnKafcAACGu0EHUpLMmDEjM2bMGOpZAADO\n",
              "CgMOpFmzZr3tN2lv3759SAYCAKi1AQfS3XffnSTZsWNHdu/enSVLlqSuri4bN27MtGnTTtuAAABn\n",
              "2oAv0p47d27mzp2bnTt35h/+4R+yaNGi/NZv/Va2bt2ap5566nTO2G/Lli2ZOXPmT9zuwQcf/Il/\n",
              "GuX+++/P5MmTc+WVV6apqSmdnZ1DMyQAMOwN+hqko0ePnnKq7ZxzzsnRo0eHdKgzYdKkSXn66acz\n",
              "duzYHDp0KNOmTcsv/dIv9X9DeOnEiRM5ceLEKT872XcmJgUAzrRBf8z/uuuuS3t7ezo6OtLR0ZG5\n",
              "c+fm+uuvf8N2dXV1WbVqVVpbWzNhwoRs2rQpa9asSXNzcxobG/PEE0/0b9vR0ZGmpqY0NTVl7ty5\n",
              "efnll5MkPT09Wb58eRobG9PS0pIdO3acso+Ojo60trZm+vTpueaaa7Jnz54Bv47Zs2dn7NixSZKL\n",
              "LrooF154YQ4dOvSW269ZsyZjx4495fbc/xvw7gCAYWTQgXT//fdnwYIF2bRpUzZt2pQFCxbkvvvu\n",
              "e9NtzzvvvDzzzDPZsGFDFi1alHHjxmXXrl1ZvXp1VqxYkSTZu3dvVqxYkcceeyzPPfdcZsyYkaVL\n",
              "lyZJ1q9fn/3792ffvn3ZuXNndu/e3f/cTz/9dB566KE8+eST2b17d1atWpVbbrnlnaxBvvWtb+U/\n",
              "//M/c9VVV73lNitXrsyxY8dOuTX9n3e0OwDgLDfoU2yjRo3KHXfckeXLlyfJ236y7eabb06SNDc3\n",
              "5/jx41m4cGGSpKWlJQcOHEjyo4u+29vbM378+CTJ8uXL8/nPfz4nT57Mtm3bcuutt/b/KZMlS5Zk\n",
              "w4YNSZLNmzdnz549aW1t7d/f0aNH8/rrrw/q9Tz//PO57bbb8vDDD+dnfuZn3nK7hoaGNDQ0nPKz\n",
              "+kHnJQAwHAz6Lf7w4cOZM2dO3vve9+a9731v5s2blyNHjrzptueee26S9P8pkh+/39vb+6aPebvg\n",
              "+vHfVVWVxYsX57vf/W7/7ciRI3nPe94z4NfywgsvZN68efna177myy4BgH6DDqRPfOITufrqq3Pk\n",
              "yJEcOXIkV199dW6//fZ3PMCsWbPy+OOP5/Dhw0mSdevWZfbs2amvr891112Xzs7O9PT0pLu7Oxs3\n",
              "bux/3Pz589PZ2ZmDBw8mSfr6+rJr164B7/df/uVfMmfOnKxfv/5Nr6ECAN69Bn2K7dChQ/m7v/u7\n",
              "/vt/9Ed/lKlTp77jASZPnpx777037e3tSX50wfQDDzyQJFm2bFn27t2biRMn5vzzz09bW1ueffbZ\n",
              "JElbW1vWrl2bm266Kb29venu7s7cuXPT3Nw8oP1+8pOfzLFjx/KZz3wmn/nMZ5Ikf/Znf5Ybbrjh\n",
              "Hb8WAGBkqKuqqhrMA6ZMmZK///u/z4UXXpgkeeWVV3LDDTcM6hNkI8Vtk+qy8ioXIgHAULr8wZO1\n",
              "HmHwR5DuvvvuTJs2Lb/yK7+SJHn88cdz7733DvlgAAC1MuhA+u3f/u1Mmzat/3uM/vAP/zCTJk0a\n",
              "6rmGxNatW/PHf/zHb/j5ypUr+z9hBwBQGvQpNv6XU2wAMPTOhlNsg353f/LJJ9PS0pKf/dmfzZgx\n",
              "Y/K+970vY8aMOR2zAQDUxKBPsS1btiyrVq1KS0tL//cbAQCMJIMOpDFjxuTjH//46ZgFAOCsMOhT\n",
              "bB/72MfS0dGR7u7u0zEPAEDNDTqQrrjiiixfvjzvec97Ul9fn3POOcepNgBgRBn0Kba77rormzdv\n",
              "TnNzszACAEakQQfSBRdckGuvvfZ0zAIAcFYY9Cm2+fPn58tf/nJ++MMfpqurq/8GADBSDPqLIs85\n",
              "53+bqq6uLlVVpa6uLidP1v5Lnc40XxQJAEPvbPiiyEGfYuvr6zsdcwAAnDUc/gAAKAgkAICCQAIA\n",
              "KAgkAICCQAIAKAgkAICCQAIAKAgkAICCQAIAKAgkAICCQAIAKAz6b7Hxv86/4a5c/qUv1XoMAGCI\n",
              "OYIEAFAQSAAABYEEAFAQSAAABYEEAFAQSAAABYEEAFAQSAAABYEEAFAQSAAABYEEAFAQSAAABYEE\n",
              "AFAQSAAABYEEAFAQSAAABYEEAFAQSAAABYEEAFAQSAAABYEEAFAQSAAABYEEAFAQSAAABYEEAFAQ\n",
              "SAAABYEEAFAQSAAABYEEAFAQSAAABYEEAFAQSAAABYEEAFAQSAAABYEEAFAQSAAABYEEAFAQSAAA\n",
              "BYEEAFAQSAAABYEEAFAQSAAABYEEAFAQSAAABYEEAFAQSAAABYEEAFAQSAAABYEEAFAQSAAABYEE\n",
              "AFAQSAAABYEEAFAQSAAABYEEAFAQSAAABYEEAFAQSAAABYEEAFAQSAAABYEEAFCoq6qqqvUQw9V5\n",
              "N1yV9y+cXesxAGBE+Y/bvljrERxBAgAoCSQAgIJAAgAoCCQAgIJAAgAoCCQAgIJAAgAoCCQAgIJA\n",
              "AgAoCCQAgIJAAgAoCCQAgIJAAgAoCCQAgIJAAgAoCCQAgIJAAgAoCCQAgIJAAgAoCCQAgIJAAgAo\n",
              "CCQAgIJAAgAoCCQAgIJAAgAoCCQAgIJAAgAoDLtA2rJlS2bOnPkTt3vwwQezYMGCt93m0UcfzUc+\n",
              "8pE0NDTkU5/61JDMBwAMf6NqPUAtNTY25mtf+1q+8Y1v5LXXXqv1OADAWeK0HkGqq6vLqlWr0tra\n",
              "mgkTJmTTpk1Zs2ZNmpub09jYmCeeeKJ/246OjjQ1NaWpqSlz587Nyy+/nCTp6enJ8uXL09jYmJaW\n",
              "luzYseOUfXR0dKS1tTXTp0/PNddckz179gx4vssvvzxTpkzJqFE/uRNPnDiRrq6uU245WQ14XwDA\n",
              "8HHaT7Gdd955eeaZZ7Jhw4YsWrQo48aNy65du7J69eqsWLEiSbJ3796sWLEijz32WJ577rnMmDEj\n",
              "S5cuTZKsX78++/fvz759+7Jz587s3r27/7mffvrpPPTQQ3nyySeze/furFq1KrfccstpeR1r1qzJ\n",
              "2LFjT7l1f//IadkXAFBbpz2Qbr755iRJc3Nzjh8/noULFyZJWlpacuDAgSTJjh070t7envHjxydJ\n",
              "li9fnu3bt+fkyZPZtm1bbr311owePTqjR4/OkiVL+p978+bN2bNnT1pbWzN16tTceeedOXr0aF5/\n",
              "/fUhfx0rV67MsWPHTrmN/tC4Id8PAFB7p/0apHPPPTdJUl9f/4b7vb29b/qYurq6t3y+H/9dVVVZ\n",
              "vHhxVq9ePVTjvqWGhoY0NDSc+sP6t54TABi+zopPsc2aNSuPP/54Dh8+nCRZt25dZs+enfr6+lx3\n",
              "3XXp7OxMT09Puru7s3Hjxv7HzZ8/P52dnTl48GCSpK+vL7t27arJawAARo6z4lNskydPzr333pv2\n",
              "9vYkyUUXXZQHHnggSbJs2bLs3bs3EydOzPnnn5+2trY8++yzSZK2trasXbs2N910U3p7e9Pd3Z25\n",
              "c+emubl5QPvdtm1bFi9enK6urlRVlUceeSRf+cpXMn/+/NPzQgGAYaGuqiofxXqHzrvhqrx/4exa\n",
              "jwEAI8p/3PbFWo9wdpxiAwA4m4z4QNq6dWumTp36htvDDz9c69EAgLPUWXEN0uk0Z86czJkzp9Zj\n",
              "AADDyIg/ggQAMFgCCQCgIJAAAAoCCQCgIJAAAAoCCQCgIJAAAAoCCQCgIJAAAAoCCQCgIJAAAAoC\n",
              "CQCgIJAAAAoCCQCgIJAAAAoCCQCgIJAAAAoCCQCgIJAAAAoCCQCgIJAAAAqjaj3AcHb7pLZ86bYv\n",
              "1noMAGCIOYIEAFAQSAAABYEEAFAQSAAABYEEAFAQSAAABYEEAFAQSAAABYEEAFAQSAAABYEEAFAQ\n",
              "SAAABYEEAFAQSAAABYEEAFAQSAAABYEEAFAQSAAABYEEAFAQSAAABYEEAFAQSAAABYEEAFAQSAAA\n",
              "BYEEAFAQSAAABYEEAFAQSAAABYEEAFAQSAAAhVG1HmC4OnHiRB577LGcPHky9fX1tR7nXePkyZP5\n",
              "p3/6p7S0tFj3M8za14Z1rx1rXxtnYt0vueSS/MEf/MHbblNXVVV1WvY+wnV1dWXs2LE5duxYxowZ\n",
              "U+tx3jWse+1Y+9qw7rVj7WvjbFl3p9gAAAoCCQCgIJAAAAoC6R1qaGjI5z73uTQ0NNR6lHcV6147\n",
              "1r42rHvtWPvaOFvW3UXaAAAFR5AAAAoCCQCgIJAAAAoC6Sc4cOBAZsyYkcsvvzxXXXVV9u3b96bb\n",
              "bdiwIY2NjbnsssuybNmy9PT0nOFJR5aBrPv27dvT0tKSiRMnZtKkSbnnnnvS19dXg2lHjoH+e0+S\n",
              "qqpy7bXX5v3vf/+ZG3AEG+jaP//885k5c2auuOKKXHHFFfnmN795hicdWQay7n19ffn0pz+diRMn\n",
              "pqmpKbNmzcr3vve9Gkw7cnzyk5/MhAkTUldXl+9+97tvuV1N31sr3tasWbOqjRs3VlVVVd/4xjeq\n",
              "5ubmN2zz7//+79W4ceOqI0eOVH19fdWNN95YffnLXz7Dk44sA1n33bt3V//2b/9WVVVVvf7669VH\n",
              "P/rR/sfwzgxk3f/Hn//5n1dLly6txo4de2aGG+EGsvbHjx+vPvShD1VPPfVUVVVV1dvbW/3whz88\n",
              "k2OOOANZ97/5m7+pWlpaqu7u7qqqqupP//RPq1//9V8/k2OOON/+9rerQ4cOVZdcckn1ne985023\n",
              "qfV7q0B6Gz/4wQ+q973vfVVPT09VVVXV19dXffCDH6wOHDhwynZr166tPvGJT/Tff/TRR6uPfvSj\n",
              "Z3TWkWSg61664447qs997nNnYMKRaTDrvnfv3qqtra363ve+J5CGwEDX/oEHHqh+8zd/sxYjjkgD\n",
              "XfdNmzZVU6ZMqbq6uqq+vr5qxYoV1V133VWLkUectwukWr+3OsX2Ng4dOpRx48Zl1Kgf/U3furq6\n",
              "XHzxxTl48OAp2x08eDCXXHJJ//0JEya8YRsGbqDr/uNeeeWVPPLII5k3b96ZGnPEGei69/T0ZNmy\n",
              "ZfnqV7/qD3gOkYGu/QsvvJCGhobMmzcvU6dOza233ppXX321FiOPCANd9xtvvDEzZ87MhRdemHHj\n",
              "xmXbtm35/Oc/X4uR31Vq/d4qkBj2urq6cuONN+aee+5Jc3NzrccZ8f7kT/4kv/Zrv5Yrrrii1qO8\n",
              "6/T29uZb3/pWvvrVr+Y73/lOxo8fn9/7vd+r9Vgj3q5du7J37968/PLLOXz4cGbPnp3f/d3frfVY\n",
              "nGYC6W1cdNFFOXLkSHp7e5P86KLUgwcP5uKLLz5lu4svvjgvvfRS//0XX3zxDdswcANd9yT5r//6\n",
              "r7S3t+dXf/VX8+lPf/pMjzqiDHTdv/3tb+cv//IvM2HChFx99dXp6urKhAkTHMn4KQzm/zWzZs3K\n",
              "+PHjU1dXl0WLFuUf//EfazHyiDDQdf/617/e/4GEc845J4sXL86OHTtqMfK7Sq3fWwXS27jgggsy\n",
              "ffr0dHZ2Jkn++q//Oj/3cz+XD3/4w6ds97GPfSx/+7d/m1deeSVVVWXdunVZuHBhLUYeEQa67q+9\n",
              "9lra29vT3t6ez372s7UYdUQZ6Lo/9dRTeemll/Liiy9m586dGTNmTF588cV84AMfqMXYI8JA1/43\n",
              "fuM38s///M/p6upKkmzdujVTpkw54/OOFANd90svvTTbt29Pd3d3kmTLli2ZPHnyGZ/33abm761n\n",
              "7GqnYepf//Vfq1/8xV+sGhsbq4985CPVc889V1VVVf3O7/xOtXnz5v7t1q9fX1166aXVpZdeWi1Z\n",
              "sqT/0w68MwNZ9y984QvVqFGjqilTpvTfvvCFL9Ry7GFvoP/e/8f3v/99F2kPkYGu/de//vVq0qRJ\n",
              "1ZVXXlm1t7dXBw8erNXII8JA1v2///u/q6VLl1a/8Au/UF155ZXV9ddf3/8JWt6Z22+/vRo/fnxV\n",
              "X19fXXDBBdVll11WVdXZ9d7qb7EBABScYgMAKAgkAICCQAIAKAgkAICCQAIAKAgkAICCQAIAKAgk\n",
              "AICCQAIAKAgkAICCQAIAKPx/5QUjzwxrC0MAAAAASUVORK5CYII=\n",
              "\">\n",
              "      </div>\n",
              "      <script type=\"text/javascript\">\n",
              "        (() => {\n",
              "          const chartElement = document.getElementById(\"chart-76c26209-f9f2-4ea6-9877-65eb4f497e33\");\n",
              "          async function getCodeForChartHandler(event) {\n",
              "            const chartCodeResponse =  await google.colab.kernel.invokeFunction(\n",
              "                'getCodeForChart', [\"chart-76c26209-f9f2-4ea6-9877-65eb4f497e33\"], {});\n",
              "            const responseJson = chartCodeResponse.data['application/json'];\n",
              "            await google.colab.notebook.addCell(responseJson.code, 'code');\n",
              "          }\n",
              "          chartElement.onclick = getCodeForChartHandler;\n",
              "        })();\n",
              "      </script>\n",
              "      <style>\n",
              "        .colab-quickchart-chart-with-code  {\n",
              "            display: block;\n",
              "            float: left;\n",
              "            border: 1px solid transparent;\n",
              "        }\n",
              "\n",
              "        .colab-quickchart-chart-with-code:hover {\n",
              "            cursor: pointer;\n",
              "            border: 1px solid #aaa;\n",
              "        }\n",
              "      </style>"
            ]
          },
          "metadata": {}
        },
        {
          "output_type": "display_data",
          "data": {
            "text/plain": [
              "<google.colab._quickchart_helpers.SectionTitle at 0x7ac6afd81ba0>"
            ],
            "text/html": [
              "<h4 class=\"colab-quickchart-section-title\">Time series</h4>\n",
              "<style>\n",
              "  .colab-quickchart-section-title {\n",
              "      clear: both;\n",
              "  }\n",
              "</style>"
            ]
          },
          "metadata": {}
        },
        {
          "output_type": "display_data",
          "data": {
            "text/plain": [
              "from matplotlib import pyplot as plt\n",
              "import seaborn as sns\n",
              "def _plot_series(series, series_name, series_index=0):\n",
              "  from matplotlib import pyplot as plt\n",
              "  import seaborn as sns\n",
              "  palette = list(sns.palettes.mpl_palette('Dark2'))\n",
              "  counted = (series['mae']\n",
              "                .value_counts()\n",
              "              .reset_index(name='counts')\n",
              "              .rename({'index': 'mae'}, axis=1)\n",
              "              .sort_values('mae', ascending=True))\n",
              "  xs = counted['mae']\n",
              "  ys = counted['counts']\n",
              "  plt.plot(xs, ys, label=series_name, color=palette[series_index % len(palette)])\n",
              "\n",
              "fig, ax = plt.subplots(figsize=(10, 5.2), layout='constrained')\n",
              "df_sorted = all_results.sort_values('mae', ascending=True)\n",
              "for i, (series_name, series) in enumerate(df_sorted.groupby('model')):\n",
              "  _plot_series(series, series_name, i)\n",
              "  fig.legend(title='model', bbox_to_anchor=(1, 1), loc='upper left')\n",
              "sns.despine(fig=fig, ax=ax)\n",
              "plt.xlabel('mae')\n",
              "_ = plt.ylabel('count()')"
            ],
            "text/html": [
              "      <div class=\"colab-quickchart-chart-with-code\" id=\"chart-6df6da58-57ac-4623-a1af-5bb545295a24\">\n",
              "        <img style=\"width: 180px;\" src=\"data:image/png;base64,iVBORw0KGgoAAAANSUhEUgAABFQAAAITCAYAAAApcEi+AAAAOXRFWHRTb2Z0d2FyZQBNYXRwbG90\n",
              "bGliIHZlcnNpb24zLjcuMSwgaHR0cHM6Ly9tYXRwbG90bGliLm9yZy/bCgiHAAAACXBIWXMAAA9h\n",
              "AAAPYQGoP6dpAAAxDklEQVR4nO3de7SWdZ3//9e9QQ6KoJPkIQJEQAUEVNyeQ8sCHSXUSpeiMorR\n",
              "VKPFKGkzTJGpnaQIHE+L8cSIlpoy5dhBxkNaIoOHxCMGbsxjZaAEyN77/v3h1/2LUYGP7s1mw+Ox\n",
              "1r3k3vfnvq/3xbrWXoun13XdlWq1Wg0AAAAA662mtQcAAAAAaGsEFQAAAIBCggoAAABAIUEFAAAA\n",
              "oJCgAgAAAFBIUAEAAAAoJKgAAAAAFBJUAAAAAApt8kFl6tSprT0CAAAAsIlp39oDtLRnn322tUcA\n",
              "AACAZtfQ0JC//vWvWblyZWuPsknp0qVLOnfuvM51m3xQAQAAgE3NX/7ylyxevDhJUqlUWneYTUxj\n",
              "Y2O6d++eHj16rHWdoAIAAABtyBtvvJFFixalc+fO+eAHP5gOHTqIKs2kWq3mlVdeySuvvJIPfOAD\n",
              "az1TRVABAACANmTp0qWpqanJhz70oWy99datPc4madmyZXn99dfXGlQ2+ZvSAgAAwKaopsY/6VvC\n",
              "+p7t428fAAAAoJCgAgAAAGxws2bNSm1t7TrXTZ06NYcddtgGmKiMoAIAAABQSFABAAAA1qpSqWTi\n",
              "xIkZPHhwdtppp1x77bU555xzMnDgwPTq1Ss//elPm9ZefPHF6d+/f/r3759DDjkkv//975Mkq1at\n",
              "ypgxY9KrV6/sscceueOOO9bYxsUXX5zBgwdnwIABGTZsWH7zm99s0H0sJagAAAAA69SlS5c88sgj\n",
              "ueSSSzJ+/PjsuOOOWbBgQf7t3/4t55xzTpJk7ty5+drXvpbbb789Tz31VGprazN27NgkyUUXXZSF\n",
              "CxfmySefzAMPPJDf/e53TZ/9i1/8IjfccEPuv//+PPbYYznvvPNy0kkntcZurjdfmwwAAACs01th\n",
              "5KCDDsqKFSsybty4pudf+tKXkrwZRoYPH54+ffokSc4666z06NEj9fX1ufPOO3PiiSemU6dOSZKT\n",
              "Tz45V199dZLk5ptvzhNPPJE999yzaXtLly7N66+/voH2rpygAgAAAKxT586dkyTt2rVLkmy11VZJ\n",
              "kvbt26ehoeEd37O2ryD+29eq1Wo+85nPZPr06c01botzyQ8AAADQLD7xiU/krrvuyqJFi5IkU6ZM\n",
              "yX777Zf27dvn0EMPzaxZs7Jq1aqsXLky11xzTdP7Ro8enZtuuilPPfVUkqShoSF33XVXq+zD+nKG\n",
              "CgAAANAsamtrM3ny5IwYMSJJstNOO+Wqq65KkkyYMCELFixI//7907Vr1+y777555JFHkiSHH354\n",
              "Jk+enNGjR6ehoSGrV6/OYYcdluHDh7fWrqxTpVqtVlt7iJY0YcKETJkypbXHAAAAgGbxyiuv5Pnn\n",
              "n0/fvn2bLruh+SxfvjwLFy7MTjvtlO7du7/rOpf8AAAAABQSVAAAAAAKCSoAAAAAhQQVAAAAgEKC\n",
              "CgAAAEAhQQUAAACgkKACAAAAUEhQAQAAADZKs2bNSm1t7TrXTZ06NYcddtha11x//fUZMGBAOnTo\n",
              "kFNPPfV9z9b+fX8CAAAA0GoaGxuzfPUbLbqNrbbokJqatn1Oxu67754ZM2bkuuuuy/Lly9/35wkq\n",
              "AAAA0IYtX/1Gdr/u6y26jcdP+Hq27thprWsqlUrOPvvs3H777fnjH/+Yb3/721mwYEH+67/+K6+/\n",
              "/nouvvjiHHnkkUmSiy++OFOnTk2S7LTTTvmP//iP9OnTJ6tWrcppp52We+65J127ds2+++67xjYu\n",
              "vvjiXHbZZamvr8+WW26ZadOmZf/991+vfRgyZEiS5Ec/+lHp7r+jtp2XAAAAgI1Gly5d8sgjj+SS\n",
              "Sy7J+PHjs+OOO2bBggX5t3/7t5xzzjlJkrlz5+ZrX/tabr/99jz11FOpra3N2LFjkyQXXXRRFi5c\n",
              "mCeffDIPPPBAfve73zV99i9+8YvccMMNuf/++/PYY4/lvPPOy0knndQau5nEGSoAAADQpm21RYc8\n",
              "fsLXW3wb6+OtMHLQQQdlxYoVGTduXNPzL33pS0neDCPDhw9Pnz59kiRnnXVWevTokfr6+tx55505\n",
              "8cQT06nTm2fDnHzyybn66quTJDfffHOeeOKJ7Lnnnk3bW7p0aV5//fXm2MViggoAAAC0YTU1Neu8\n",
              "HGdD6dy5c5KkXbt2SZKtttoqSdK+ffs0NDS843sqlcq7ft7fvlatVvOZz3wm06dPb65x3xeX/AAA\n",
              "AAAbzCc+8YncddddWbRoUZJkypQp2W+//dK+ffsceuihmTVrVlatWpWVK1fmmmuuaXrf6NGjc9NN\n",
              "N+Wpp55KkjQ0NOSuu+5qlX1IBBUAAABgA6qtrc3kyZMzYsSI9O/fP7/5zW9y1VVXJUkmTJiQPn36\n",
              "pH///tlnn30yaNCgpvcdfvjhmTx5ckaPHp1dd901/fr1y3/+53+u93ZvvfXWbL/99rniiityww03\n",
              "ZPvtt8/MmTPf835UqtVq9T2/uw2YMGFCpkyZ0tpjAAAAQLN45ZVX8vzzz6dv375Nl9TQfJYvX56F\n",
              "Cxdmp512Svfu3d91nTNUAAAAAAoJKgAAAMAm4YYbbshuu+32tscVV1zR7NvyLT8AAADAJuG4447L\n",
              "cccdt0G25QwVAAAAgELOUAEAAIA2pH37N/8pX61Ws4l/z0yrateu3VpfF1QAAACgDampqUmlUkml\n",
              "UhFUWkC1Wk2lUhFUAAAAYFP0VlShedXUrN/dUQQVAAAAaKMEldbjprQAAADQhjU2NqZhxbIWfTQ2\n",
              "NrbKvl1//fWpra1d57pp06bl4x//+FrXnH/++enXr1/69++f/v3755JLLnlfszlDBQAAANqw6qrX\n",
              "88w/btui29jlkleTzl1bdBstbY899shvf/vbfOADH8gzzzyTYcOGZfjw4RkwYMB7+jxnqAAAAADv\n",
              "W6VSyTnnnJPBgwfnQx/6UGbOnJmvfvWrGTRoUHr16pXbbrutae0ll1zSdKbIIYcckkWLFiVJVq1a\n",
              "lZNOOim9evXK4MGDM2fOnDW2cckll2Tw4MEZMGBAhg0blt/+9rfrPd+oUaPygQ98IEmyyy67ZLvt\n",
              "tsvixYvf8/46QwUAAADasErHLm+eQdLC21gfXbp0ySOPPJLZs2fn+OOPz7e//e08+uijufLKKzNx\n",
              "4sQcccQRmTdvXiZNmpQHHnggO++8c84555yccsopufvuu/P9738/CxcuzJNPPpkkGT58eNNn//KX\n",
              "v8z111+f+++/P507d87Pf/7zjBkzJgsXLizen1tvvTVLly7NQQcdVPzetwgqAAAA0IbV1NRsNJfj\n",
              "nHLKKUmSAw88MCtWrMhpp53W9PyMM85Ikvz85z/PIYcckp133jlJ8s///M+ZMmVK6uvrM2fOnJx4\n",
              "4onp1KlTkmTs2LG58sorkyQ333xzHn/88ey5555N21u6dGmWL19eNOPcuXMzfvz4zJw5M127vve/\n",
              "N0EFAAAAaBadO3dOkrRv/2Zu2HLLLZueNzQ0vON71vebiqrVaj7zmc9k+vTp73m++fPnZ/To0bn0\n",
              "0kvziU984j1/TuIeKgAAAMAGNGLEiNx5551N9y+ZMmVK9t9//7Rv3z4f+9jHMmvWrKxatSorV67M\n",
              "Nddc0/S+o48+OjfddFOefvrpJElDQ0Puueee9d7ugw8+mKOOOirTp0/P6NGj3/d+CCoAAADABjNs\n",
              "2LCcd955+cQnPpH+/fvnvvvuy1VXXZUk+dKXvpQ+ffqkf//+qa2tzR577NH0vhEjRuS8887L6NGj\n",
              "s+uuu6Zfv36ZOXPmem/3i1/8Yl577bV89atfzW677ZbddtstN99883vej0q1Wq2+53e3ARMmTMiU\n",
              "KVNaewwAAABoFkuXLs2zzz6bvn37Nl1SQ/P561//moULF6ZXr17p1q3bu65zhgoAAABAIUEFAAAA\n",
              "2CT8+Mc/brqc528fM2bMaPZt+ZYfAAAAYJPw6U9/Op/+9Kc3yLacoQIAAABtyFtfSdzY2NjKk2ya\n",
              "3vp7ralZezJxhgoAAAC0Ie3atUtNTU3q6+tTX1+/zn/4s/6q1WoaGhpSqVSawtW7EVQAAACgjXkr\n",
              "qqxevbq1R9kktWvXLpVKZa1rBBUAAABogzp06JCOHTumWq229iibnHXFlMQ9VAAAAKDNqlQqqamp\n",
              "2WQft912Wz760Y+uc90111yTY445Zq1rLrnkkgwZMiR77bVXBg8enOnTp7/juvWJKYkzVAAAAKBN\n",
              "q1arWf1GQ4tuY4sO674EZmM3ZsyYfOELX0iSLFu2LIMGDcrBBx+cPffc8z19nqACAAAAbdjqNxry\n",
              "r+fc3qLb+Oa3RqZDx7UnhEqlkm9+85uZPXt2XnrppfzgBz/I448/nptuuilLly7NFVdckUMOOSRJ\n",
              "cu211+a73/1ukuTDH/5wLr/88nzoQx/K6tWrc+aZZ+aXv/xltt122xx88MFrbOPaa6/N9OnTs3r1\n",
              "6nTp0iXTpk3LkCFD1msfunXr1vTn5cuXv+/7z7jkBwAAAGgWXbp0yf33358ZM2ZkzJgx2XHHHTNv\n",
              "3rxccMEFOfvss5Mkjz76aM4+++z893//dx555JEccMABGTduXJLk8ssvz5NPPpkFCxbk17/+debP\n",
              "n9/02ffee29mzZqVu+++O/Pnz8/555+fE044oWi+G2+8MQMHDkzv3r1z1llnveezUxJnqAAAAECb\n",
              "tkWHdvnmt0a2+DbWx3HHHZckGTZsWJYvX57jjz8+SVJbW5unn346SfI///M/GTlyZD70oQ8lST7/\n",
              "+c/nG9/4RhoaGnLHHXfk5JNPTocOHZIkp556ambMmJEkufXWW/Pwww9n3333bdren//856xYsWK9\n",
              "9+NTn/pUPvWpT2Xx4sU5+uijc+SRR2bXXXdd7/f/LUEFAAAA2rBKpbLOy3E2lE6dOiV582uH/+/z\n",
              "+vr6d3zP2u7N8revVavVnHLKKbngggve95y9e/fOvvvum5/+9KfvOai45AcAAADYYA499NDcfvvt\n",
              "ef7555Mkl156aT72sY+lXbt2OeywwzJz5sysXr06b7zxRq688sqm940aNSozZ85MXV1dkqSxsTHz\n",
              "5s1b7+0+9thjTX9+5ZVXMmfOnAwePPg970eLBpUzzjgjvXv3TqVSyUMPPfSu62bMmJF+/fpll112\n",
              "yemnn/62G8NUq9V89KMfzTbbbNOS4wIAAAAtbNCgQfnud7+bkSNHZvDgwbnnnntyxRVXJElOP/30\n",
              "9OvXLwMGDMhBBx2UoUOHNr3v4IMPzne+850cffTRGTJkSAYOHJjrr79+vbc7derUDBgwIEOHDs1h\n",
              "hx2WL33pS/n4xz/+nvejUq1Wq+/53etw9913p0+fPjnooINyyy23rPEX8ZZFixblwAMPzPz587P9\n",
              "9tvnk5/8ZEaMGNH0VUZJMmXKlDz++OP58Y9/nL/85S9FM0yYMCFTpkx5n3sCAAAAG4eVK1dm0aJF\n",
              "2XnnnZsuqaH5rO/fb4ueofKRj3wkPXr0WOuaG2+8MaNGjcoOO+yQSqWSz33uc5k1a1bT6wsWLMgt\n",
              "t9ySc845Z53bW7VqVZYtW7bGo6GhZb+LGwAAANj8tPo9VOrq6tKrV6+m57179266Hmr16tU5/fTT\n",
              "c9lllzXd0GZtLrzwwnTr1m2Nx9y5c1tsdgAAAGDjcdttt2Xo0KFve9xwww3Nvq2N4zbA72Ly5Mk5\n",
              "5phjsvvuu2fx4sXrXH/uuedmwoQJa/xs0qRJLTQdAAAAsDE54ogjcsQRR2yQbbV6UOnZs2eeeeaZ\n",
              "pueLFy9Oz549kyR33XVX6urqMn369NTX12fZsmXp3bt3HnjggXTv3v1tn9WxY8d07NhxjZ+tz5kt\n",
              "AAAA0NY0Nja29gibpPW91WyrB5Vjjz02Bx10UL7+9a9n++23z6WXXprjjz8+SXLPPfc0rVu8eHGG\n",
              "Dh26XmeqAAAAwKaqQ4cOqampyfPPP5/u3bunQ4cOqVQqrT3WJqFareaVV15JpVLJFltssda1LRpU\n",
              "xo8fn5/97Gd58cUXM2LEiGy99dZZuHBhxo0bl1GjRmXUqFHp06dPJk+enAMPPDBJcsghh2T8+PEt\n",
              "ORYAAAC0WTU1Ndl5553zwgsv5Pnnn2/tcTY5lUolPXr0WOcVLy36tckbA1+bDAAAwKaoWq2mvr7e\n",
              "t9s2sy222GK9bh/S6pf8AAAAAOXeuixlXZem0DJa/WuTAQAAANoaQQUAAACgkKACAAAAUEhQAQAA\n",
              "ACgkqAAAAAAUElQAAAAACgkqAAAAAIUEFQAAAIBCggoAAABAIUEFAAAAoJCgAgAAAFBIUAEAAAAo\n",
              "JKgAAAAAFBJUAAAAAAoJKgAAAACFBBUAAACAQoIKAAAAQCFBBQAAAKCQoAIAAABQSFABAAAAKCSo\n",
              "AAAAABQSVAAAAAAKCSoAAAAAhQQVAAAAgEKCCgAAAEAhQQUAAACgkKACAAAAUEhQAQAAACgkqAAA\n",
              "AAAUElQAAAAACgkqAAAAAIUEFQAAAIBCggoAAABAIUEFAAAAoJCgAgAAAFBIUAEAAAAoJKgAAAAA\n",
              "FBJUAAAAAAoJKgAAAACFBBUAAACAQoIKAAAAQCFBBQAAAKCQoAIAAABQSFABAAAAKCSoAAAAABQS\n",
              "VAAAAAAKCSoAAAAAhQQVAAAAgEKCCgAAAEAhQQUAAACgkKACAAAAUEhQAQAAACgkqAAAAAAUElQA\n",
              "AAAACgkqAAAAAIUEFQAAAIBCggoAAABAIUEFAAAAoJCgAgAAAFBIUAEAAAAoJKgAAAAAFBJUAAAA\n",
              "AAoJKgAAAACFBBUAAACAQoIKAAAAQCFBBQAAAKCQoAIAAABQSFABAAAAKCSoAAAAABQSVAAAAAAK\n",
              "CSoAAAAAhQQVAAAAgEKCCgAAAEAhQQUAAACgkKACAAAAUEhQAQAAACgkqAAAAAAUatGgcsYZZ6R3\n",
              "796pVCp56KGH3nXdjBkz0q9fv+yyyy45/fTTs3r16iTJnDlzUltbmwEDBmTgwIGZOHFiGhsbW3Jk\n",
              "AAAAgHVq0aDyqU99Kr/+9a/Tq1evd12zaNGiTJo0Kffcc08WLlyYl156KZdffnmSZNttt83111+f\n",
              "xx57LP/7v/+b++67L9dcc01LjgwAAACwTi0aVD7ykY+kR48ea11z4403ZtSoUdlhhx1SqVTyuc99\n",
              "LrNmzUqS7LnnnunTp0+SpFOnThk6dGgWL178rp+1atWqLFu2bI1HQ0NDs+0PAAAAQLIR3EOlrq5u\n",
              "jTNYevfunbq6urete/HFF3PjjTfmyCOPfNfPuvDCC9OtW7c1HnPnzm2RuQEAAIDNV6sHlfWxbNmy\n",
              "HHXUUZk4cWKGDRv2ruvOPffcLF26dI1HbW3tBpwUAAAA2By0b+0BevbsmWeeeabp+eLFi9OzZ8+m\n",
              "56+99lpGjhyZT37yk5kwYcJaP6tjx47p2LHjGj9r165d8w4MAAAAbPZa/QyVY489NrNnz86LL76Y\n",
              "arWaSy+9NMcff3yS5PXXX8/IkSMzcuTI/Ou//msrTwoAAADwphYNKuPHj0+PHj3y3HPPZcSIEenb\n",
              "t2+SZNy4cZk9e3aSpE+fPpk8eXIOPPDA9O3bN927d8/48eOTJFOnTs3cuXNz8803Z+jQoRk6dGjO\n",
              "P//8lhwZAAAAYJ0q1Wq12tpDtKQJEyZkypQprT0GAAAAsAlp9Ut+AAAAANoaQQUAAACgkKACAAAA\n",
              "UEhQAQAAACgkqAAAAAAUElQAAAAACgkqAAAAAIUEFQAAAIBCggoAAABAIUEFAAAAoJCgAgAAAFBI\n",
              "UAEAAAAoJKgAAAAAFBJUAAAAAAoJKgAAAACFBBUAAACAQoIKAAAAQCFBBQAAAKCQoAIAAABQSFAB\n",
              "AAAAKCSoAAAAABQSVAAAAAAKCSoAAAAAhQQVAAAAgEKCCgAAAEAhQQUAAACgkKACAAAAUEhQAQAA\n",
              "ACgkqAAAAAAUElQAAAAACgkqAAAAAIUEFQAAAIBCggoAAABAIUEFAAAAoJCgAgAAAFBIUAEAAAAo\n",
              "JKgAAAAAFBJUAAAAAAoJKgAAAACFBBUAAACAQoIKAAAAQCFBBQAAAKCQoAIAAABQSFABAAAAKCSo\n",
              "AAAAABQSVAAAAAAKCSoAAAAAhQQVAAAAgEKCCgAAAEAhQQUAAACgkKACAAAAUEhQAQAAACgkqAAA\n",
              "AAAUElQAAAAACgkqAAAAAIUEFQAAAIBCggoAAABAIUEFAAAAoJCgAgAAAFBIUAEAAAAoJKgAAAAA\n",
              "FBJUAAAAAAoJKgAAAACFBBUAAACAQu3fy5see+yxPPfcc+ncuXP22GOPbLPNNs08FgAAAMDGa72D\n",
              "ymuvvZbvfe97ueKKK7Lllltm++23z8qVK/PMM8+ktrY2X/nKV/Kxj32sJWcFAAAA2Cisd1A59NBD\n",
              "c/LJJ+fBBx/M9ttv3/TzxsbG3HPPPbn00kuzcOHCjB8/vkUGBQAAANhYrHdQuffee9OxY8e3/bym\n",
              "pibDhw/P8OHDs2rVqmYdDgAAAGBjtN43pX2nmPJe1gAAAAC0desdVI488sjcd9997/jaX/7yl1x0\n",
              "0UW57LLLmm0wAAAAgI3Vel/yc8EFF+Tcc8/NY489ln322afpprRPPPFE/vCHP+QLX/hCTj311Jac\n",
              "FQAAAGCjsN5BZfDgwfnZz36WJUuW5K677spzzz2XLbfcMieeeGIOOuigtG//nr6BGQAAAKDNKa4g\n",
              "r776asaMGbPGzx555JEMHjy42YYCAAAA2Jit9z1U3jJ27Nj1+hkAAADApmq9z1B5+eWX8+KLL2bF\n",
              "ihX53e9+l2q1miRZunRpli9f3mIDAgAAAGxs1juozJo1Kz/4wQ/y/PPPZ9SoUU0/79atWyZOnNgi\n",
              "wwEAAABsjNY7qJx55pk588wzc95552XSpEktORMAAADARq34prSTJk1KY2NjXnzxxdTX1zf9vGfP\n",
              "ns06GAAAAMDGqvimtFdffXW22Wab7LHHHtl7772z9957Z9iwYe+49owzzkjv3r1TqVTy0EMPvetn\n",
              "zpgxI/369csuu+yS008/PatXr16v1wAAAABaQ3FQ+cY3vpEHHnggf/rTn/LKK6/klVdeycsvv/yO\n",
              "az/1qU/l17/+dXr16vWun7do0aJMmjQp99xzTxYuXJiXXnopl19++TpfAwAAAGgtxUFlu+22y667\n",
              "7rpeaz/ykY+kR48ea11z4403ZtSoUdlhhx1SqVTyuc99LrNmzVrnawAAAACtpfgeKqNHj84PfvCD\n",
              "nHDCCenUqVPTz7t27fqeBqirq1vjDJbevXunrq5una+9k1WrVmXVqlVr/KyhoeE9zQUAAADwborP\n",
              "UPmXf/mXTJgwITvssEO23XbbbLPNNtl2221bYrZiF154Ybp167bGY+7cua09FgAAALCJKQ4qjY2N\n",
              "TY+Ghoam/75XPXv2zLPPPtv0fPHixU3fGLS2197Jueeem6VLl67xqK2tfc+zAQAAALyT4qDS3I49\n",
              "9tjMnj07L774YqrVai699NIcf/zx63ztnXTs2DFdu3Zd49GuXbsNtSsAAADAZqI4qNTU1KRdu3Zv\n",
              "e7yT8ePHp0ePHnnuuecyYsSI9O3bN0kybty4zJ49O0nSp0+fTJ48OQceeGD69u2b7t27Z/z48et8\n",
              "DQAAAKC1VKrVarXkDcuXL2/684oVK3LNNdekoaEhZ599drMP1xwmTJiQKVOmtPYYAAAAwCak+AyV\n",
              "rbbaqumx3XbbZcKECbnxxhtbYjYAAACAjdL7vofKE088kT/+8Y/NMQsAAABAm9C+9A3bbrttKpVK\n",
              "kqS+vj5JMm3atOadCgAAAGAjVhxUHnroof//ze3bZ4cddvBNOgAAAMBmpTio9OrVK3/961+bwsq2\n",
              "226bLbfcsrnnAgAAANhoFQeV++67L8cee2x22GGHJMlLL72Um266Kfvvv3+zDwcAAACwMSoOKm99\n",
              "q8+BBx6Y5M3A8uUvfzm//e1vm304AAAAgI1R8bf8rFixoimmJMkBBxyQlStXNutQAAAAABuz4qDS\n",
              "pUuX/OpXv2p6fscdd2SrrbZq1qEAAAAANmbFl/z88Ic/zDHHHNP0zT6NjY25+eabm30wAAAAgI1V\n",
              "cVB5/vnnM2/evLz00ktJku233z5z585t9sEAAAAANlbFl/xMmjQp3bt3z6BBgzJo0KBst912mTRp\n",
              "UkvMBgAAALBRKg4q/1elUklDQ0NzzAIAAADQJhQHla233jr33Xdf0/N77703W2+9dbMOBQAAALAx\n",
              "K76Hyne+850cffTR2W233ZIkTz/9dH7yk580+2AAAAAAG6vioLL//vvn8ccfz29+85skyQEHHJBt\n",
              "ttmmuecCAAAA2GgVB5Uk2XbbbXPEEUc09ywAAAAAbcL7viktAAAAwOZGUAEAAAAoJKgAAAAAFBJU\n",
              "AAAAAAoJKgAAAACFBBUAAACAQoIKAAAAQCFBBQAAAKCQoAIAAABQSFABAAAAKCSoAAAAABQSVAAA\n",
              "AAAKCSoAAAAAhQQVAAAAgEKCCgAAAEAhQQUAAACgkKACAAAAUEhQAQAAACgkqAAAAAAUElQAAAAA\n",
              "CgkqAAAAAIUEFQAAAIBCggoAAABAIUEFAAAAoJCgAgAAAFBIUAEAAAAoJKgAAAAAFBJUAAAAAAoJ\n",
              "KgAAAACFBBUAAACAQoIKAAAAQCFBBQAAAKCQoAIAAABQSFABAAAAKCSoAAAAABQSVAAAAAAKCSoA\n",
              "AAAAhQQVAAAAgEKCCgAAAEAhQQUAAACgkKACAAAAUEhQAQAAACgkqAAAAAAUElQAAAAACgkqAAAA\n",
              "AIUEFQAAAIBCggoAAABAIUEFAAAAoJCgAgAAAFBIUAEAAAAoJKgAAAAAFBJUAAAAAAoJKgAAAACF\n",
              "BBUAAACAQoIKAAAAQCFBBQAAAKCQoAIAAABQSFABAAAAKCSoAAAAABQSVAAAAAAKCSoAAAAAhQQV\n",
              "AAAAgEItGlSefvrpHHDAAenfv3/22WefLFiw4G1rGhsbc9ZZZ2XQoEHZbbfdctppp+WNN95oev3b\n",
              "3/52BgwYkKFDh2a//fbL3LlzW3JkAAAAgHVq0aAyfvz4fPazn81TTz2Vr3zlKxk7duzb1syYMSPz\n",
              "58/P/Pnz8/jjj6empiZTp05Nkjz00EP593//98ydOzcPPfRQvvjFL+aLX/xiS44MAAAAsE4tFlRe\n",
              "fvnlzJs3L2PGjEmSHHvssVmyZEkWLly4xrqHH344hx12WDp06JBKpZLDDz881157bZKkUqlk9erV\n",
              "Wb58eZLkL3/5S3r06PGu21y1alWWLVu2xqOhoaGF9hAAAADYXLVYUFmyZEl23HHHtG/fPsmbcaRn\n",
              "z56pq6tbY93ee++d2bNnZ9myZVm9enV+9KMfZfHixUmSIUOG5Mtf/nJ23nnn9OjRI9///vczbdq0\n",
              "d93mhRdemG7duq3xcIkQAAAA0Nxa/aa0Y8eOzciRIzN8+PAMHz48/fv3b4owixYtys0335yFCxfm\n",
              "ueeey5e//OUcd9xx7/pZ5557bpYuXbrGo7a2dkPtCgAAALCZaLGg8uEPfzgvvPBC6uvrkyTVajV1\n",
              "dXXp2bPnGusqlUq+/vWv58EHH8x9992XAQMGZODAgUmSm266KXvssUd22mmnJMk//MM/5N57713j\n",
              "prV/q2PHjunatesaj3bt2rXULgIAAACbqRYLKh/84Aez1157ZebMmUnejCM9evRI375911i3cuXK\n",
              "vPrqq0mSP/7xj/nWt76ViRMnJkn69OmTe++9N6+//nqS5Kc//Wn69++fDh06tNTYAAAAAOvUviU/\n",
              "/LLLLsvYsWNzwQUXpGvXrrnyyiuTJOPGjcuoUaMyatSoLF26NIccckhqamrS2NiYM888M0cddVSS\n",
              "5Oijj84DDzyQYcOGpWPHjtlqq61y3XXXteTIAAAAAOtUqVar1dYeoiVNmDAhU6ZMae0xAAAAgE1I\n",
              "q9+UFgAAAKCtEVQAAAAACgkqAAAAAIUEFQAAAIBCggoAAABAIUEFAAAAoJCgAgAAAFBIUAEAAAAo\n",
              "JKgAAAAAFBJUAAAAAAoJKgAAAACFBBUAAACAQoIKAAAAQCFBBQAAAKCQoAIAAABQSFABAAAAKCSo\n",
              "AAAAABQSVAAAAAAKCSoAAAAAhQQVAAAAgEKCCgAAAEAhQQUAAACgkKACAAAAUEhQAQAAACgkqAAA\n",
              "AAAUElQAAAAACgkqAAAAAIUEFQAAAIBCggoAAABAIUEFAAAAoJCgAgAAAFBIUAEAAAAoJKgAAAAA\n",
              "FBJUAAAAAAoJKgAAAACFBBUAAACAQoIKAAAAQCFBBQAAAKCQoAIAAABQSFABAAAAKCSoAAAAABQS\n",
              "VAAAAAAKCSoAAAAAhQQVAAAAgEKCCgAAAEAhQQUAAACgkKACAAAAUEhQAQAAACgkqAAAAAAUElQA\n",
              "AAAACgkqAAAAAIUEFQAAAIBCggoAAABAIUEFAAAAoJCgAgAAAFBIUAEAAAAoJKgAAAAAFBJUAAAA\n",
              "AAoJKgAAAACFBBUAAACAQoIKAAAAQCFBBQAAAKCQoAIAAABQSFABAAAAKCSoAAAAABQSVAAAAAAK\n",
              "CSoAAAAAhQQVAAAAgEKCCgAAAEAhQQUAAACgkKACAAAAUEhQAQAAACgkqAAAAAAUElQAAAAACgkq\n",
              "AAAAAIUEFQAAAIBCggoAAABAIUEFAAAAoFCLBpWnn346BxxwQPr375999tknCxYseNuaxsbGnHXW\n",
              "WRk0aFB22223nHbaaXnjjTeaXq+rq8tRRx2VXXfdNQMGDMi0adNacmQAAACAdWrRoDJ+/Ph89rOf\n",
              "zVNPPZWvfOUrGTt27NvWzJgxI/Pnz8/8+fPz+OOPp6amJlOnTk2SVKvVHH300Tn55JPz5JNP5rHH\n",
              "HstnPvOZlhwZAAAAYJ1aLKi8/PLLmTdvXsaMGZMkOfbYY7NkyZIsXLhwjXUPP/xwDjvssHTo0CGV\n",
              "SiWHH354rr322iTJHXfckY4dO+bTn/500/rtt9/+Xbe5atWqLFu2bI1HQ0NDC+wdAAAAsDlrsaCy\n",
              "ZMmS7Ljjjmnfvn2SpFKppGfPnqmrq1tj3d57753Zs2dn2bJlWb16dX70ox9l8eLFSZLHHnss3bt3\n",
              "z/HHH58999wzRx99dH7/+9+/6zYvvPDCdOvWbY3H3LlzW2oXAQAAgM1Uq9+UduzYsRk5cmSGDx+e\n",
              "4cOHp3///k0Rpr6+PnPmzMmkSZPy4IMPZsSIEWu95Ofcc8/N0qVL13jU1tZuqF0BAAAANhMtFlQ+\n",
              "/OEP54UXXkh9fX2SN++HUldXl549e66xrlKp5Otf/3oefPDB3HfffRkwYEAGDhyYJOnZs2f23HPP\n",
              "pucnnXRS5s+fn9WrV7/jNjt27JiuXbuu8WjXrl1L7SIAAACwmWqxoPLBD34we+21V2bOnJkkuemm\n",
              "m9KjR4/07dt3jXUrV67Mq6++miT54x//mG9961uZOHFikuTwww/Pc889lz/84Q9Jkttuuy277757\n",
              "tthii5YaGwAAAGCd2rfkh1922WUZO3ZsLrjggnTt2jVXXnllkmTcuHEZNWpURo0alaVLl+aQQw5J\n",
              "TU1NGhsbc+aZZ+aoo45Kkmy11Va59NJL8/d///epVqvp1q1brr/++pYcGQAAAGCdKtVqtdraQ7Sk\n",
              "CRMmZMqUKa09BgAAALAJafWb0gIAAAC0NYIKAAAAQCFBBQAAAKCQoAIAAABQSFABAAAAKCSoAAAA\n",
              "ABQSVAAAAAAKCSoAAAAAhQQVAAAAgEKCCgAAAEAhQQUAAACgkKACAAAAUEhQAQAAACgkqAAAAAAU\n",
              "ElQAAAAACgkqAAAAAIUEFQAAAIBCggoAAABAIUEFAAAAoJCgAgAAAFBIUAEAAAAoJKgAAAAAFBJU\n",
              "AAAAAAoJKgAAAACFBBUAAACAQoIKAAAAQCFBBQAAAKCQoAIAAABQSFABAAAAKCSoAAAAABQSVAAA\n",
              "AAAKCSoAAAAAhQQVAAAAgEKCCgAAAEAhQQUAAACgkKACAAAAUEhQAQAAACgkqAAAAAAUElQAAAAA\n",
              "CgkqAAAAAIUEFQAAAIBCggoAAABAIUEFAAAAoJCgAgAAAFBIUAEAAAAoJKgAAAAAFBJUAAAAAAoJ\n",
              "KgAAAACFBBUAAACAQoIKAAAAQCFBBQAAAKCQoAIAAABQSFABAAAAKCSoAAAAABQSVAAAAAAKCSoA\n",
              "AAAAhQQVAAAAgEKCCgAAAEAhQQUAAACgkKACAAAAUKhSrVarrT1ESzrmmGPSu3fv1h6DVtLQ0JC5\n",
              "c+emtrY27dq1a+1xYK0cr7QljlfaEscrbYnjlSTp1atXzjzzzNYeg3XY5IMKm7dly5alW7duWbp0\n",
              "abp27dra48BaOV5pSxyvtCWOV9oSxyu0HS75AQAAACgkqAAAAAAUElQAAAAACgkqbNI6duyYr33t\n",
              "a+nYsWNrjwLr5HilLXG80pY4XmlLHK/QdrgpLQAAAEAhZ6gAAAAAFBJUAAAAAAoJKgAAAACFBBXa\n",
              "vMbGxvzTP/1Tdtlll/Tt2zfTp09/17VPP/10DjjggPTv3z/77LNPFixY8LY1V155ZSqVSm655ZYW\n",
              "nJrNVXMcrytXrszo0aPTv3//DBkyJB//+MezcOHCDbULbOLW5/dkksyYMSP9+vXLLrvsktNPPz2r\n",
              "V69er9egOb3f43XOnDmpra3NgAEDMnDgwEycODGNjY0bchfYjDTH79ckqVar+ehHP5ptttlmA0wN\n",
              "rFUV2rirr766+tGPfrRaX19f/dOf/lTt2bNn9dFHH33HtYceemj1yiuvrFar1eqPf/zj6rBhw9Z4\n",
              "fdGiRdX999+/ut9++1V/8pOftPDkbI6a43hdsWJF9Wc/+1m1sbGxWq1Wq9OmTasOHz58Q4zPZmBd\n",
              "vyer1Wr197//fXXHHXesvvDCC9XGxsbqUUcdVZ0+ffo6X4Pm9n6P1/nz51efeeaZarX65u/WAw88\n",
              "sOnzoLm93+P1LRdddFF13Lhx1W7dum2AqYG1cYYKbd4NN9yQ008/Pe3atcvf/d3f5bjjjsusWbPe\n",
              "tu7ll1/OvHnzMmbMmCTJsccemyVLljT9n/3GxsaMGzcu06ZN8zV1tJjmOF47deqUI444IpVKJUmy\n",
              "3377ZfHixRtyN9hErev35FtuvPHGjBo1KjvssEMqlUo+97nPNR3Ha3sNmlNzHK977rln+vTpkyTp\n",
              "1KlThg4d6vcpLaI5jtckWbBgQW655Zacc845G3R+4J0JKrR5dXV16dWrV9Pz3r17p66u7m3rlixZ\n",
              "kh133DHt27dPklQqlfTs2bNp7ZQpU3LggQdm77333jCDs1lqruP1b02dOjWf/OQnW25oNhvre9yt\n",
              "7The32Mc3q/mOF7/1osvvpgbb7wxRx55ZMsOzmapOY7X1atX5/TTT89ll12Wdu3abbjhgXfVvrUH\n",
              "gHXZf//98/TTT7/jaw8++GCzbOPRRx/NTTfdlLvvvrtZPo/N14Y4Xv/WBRdckIULF+aOO+5o9s8G\n",
              "2FwsW7YsRx11VCZOnJhhw4a19jjwjiZPnpxjjjkmu+++uzOpYCMhqLDR+81vfrPW13v27Jlnn302\n",
              "+++/f5Jk8eLF6dmz59vWffjDH84LL7yQ+vr6tG/fPtVqNXV1denZs2d++ctfZvHixenXr1+SN/8v\n",
              "1Wc/+9m88MIL+cd//Mfm3yk2WRvieH3L9773vdx888351a9+lS233LJ5d4TN0vocd8mbx/EzzzzT\n",
              "9Pxvj+O1vQbNqTmO1yR57bXXMnLkyHzyk5/MhAkTNtj8bF6a43i96667UldXl+nTp6e+vj7Lli1L\n",
              "796988ADD6R79+4bdH+A/6dV7+ACzeDKK698200+H3nkkXdcO3z48DVuBrb33nu/6zo3paUlNNfx\n",
              "etFFF1X32muv6p///OcNMTabkfX5PfnMM8+87aaJ06ZNW+dr0Nze7/H62muvVQ844IDq5MmTN+TY\n",
              "bKbe7/H6txYtWuSmtLAREFRo8+rr66uf//znqzvvvHO1T58+1R/84AdNr916663V0047ren5E088\n",
              "Ud1vv/2q/fr1q+69995r/YesoEJLaI7jdcmSJdUk1T59+lSHDBlSHTJkSLW2tnaD7wubpnc77k47\n",
              "7bTqrbfe2rTu8ssvr/bp06fap0+f6qmnnlp944031us1aE7v93j95je/WW3fvn3T79IhQ4ZUv/nN\n",
              "b7bKvrDpa47fr28RVGDjUKlWq9XWPksGAAAAoC3xLT8AAAAAhQQVAAAAgEKCCgAAAEAhQQUAAACg\n",
              "kKACAAAAUEhQAQCaVCqVnH/++dl3333Tu3fv3HLLLbnwwgszbNiw9OvXL3feeWeSpL6+PiNGjMiw\n",
              "YcMycODAnHDCCVm+fHnT51x77bXZd999s9dee+UjH/lIHn744VbaIwCAliGoAABr6NKlS+6///7M\n",
              "mDEjY8aMyY477ph58+blggsuyNlnn50kadeuXa677rrMmzcvjz76aLp165Zp06YlSe69997MmjUr\n",
              "d999d+bPn5/zzz8/J5xwQmvuEgBAs2vf2gMAABuX4447LkkybNiwLF++PMcff3ySpLa2Nk8//XSS\n",
              "pFqt5vvf/35+9rOfpb6+PkuXLs0BBxyQJLn11lvz8MMPZ9999236zD//+c9ZsWJFOnfuvIH3BgCg\n",
              "ZQgqAMAaOnXqlOTNs1D+7/P6+vokyXXXXZc5c+bkrrvuSteuXfPDH/4wc+bMSfJmbDnllFNywQUX\n",
              "tML0AAAbhkt+AIBir776arbbbrt07do1r732Wq666qqm10aNGpWZM2emrq4uSdLY2Jh58+a10qQA\n",
              "AC1DUAEAip188sn561//ml133TWHH354Dj744KbXDj744HznO9/J0UcfnSFDhmTgwIG5/vrrW3Fa\n",
              "AIDmV6lWq9XWHgIAAACgLXGGCgAAAEAhQQUAAACgkKACAAAAUEhQAQAAACgkqAAAAAAUElQAAAAA\n",
              "CgkqAAAAAIUEFQAAAIBCggoAAABAIUEFAAAAoND/B9AUs++mis12AAAAAElFTkSuQmCC\n",
              "\">\n",
              "      </div>\n",
              "      <script type=\"text/javascript\">\n",
              "        (() => {\n",
              "          const chartElement = document.getElementById(\"chart-6df6da58-57ac-4623-a1af-5bb545295a24\");\n",
              "          async function getCodeForChartHandler(event) {\n",
              "            const chartCodeResponse =  await google.colab.kernel.invokeFunction(\n",
              "                'getCodeForChart', [\"chart-6df6da58-57ac-4623-a1af-5bb545295a24\"], {});\n",
              "            const responseJson = chartCodeResponse.data['application/json'];\n",
              "            await google.colab.notebook.addCell(responseJson.code, 'code');\n",
              "          }\n",
              "          chartElement.onclick = getCodeForChartHandler;\n",
              "        })();\n",
              "      </script>\n",
              "      <style>\n",
              "        .colab-quickchart-chart-with-code  {\n",
              "            display: block;\n",
              "            float: left;\n",
              "            border: 1px solid transparent;\n",
              "        }\n",
              "\n",
              "        .colab-quickchart-chart-with-code:hover {\n",
              "            cursor: pointer;\n",
              "            border: 1px solid #aaa;\n",
              "        }\n",
              "      </style>"
            ]
          },
          "metadata": {}
        }
      ]
    },
    {
      "cell_type": "code",
      "source": [
        "model_2.summary()"
      ],
      "metadata": {
        "colab": {
          "base_uri": "https://localhost:8080/"
        },
        "id": "scflZasi3Pof",
        "outputId": "bc8834ce-8695-469b-bef5-142153f7c568"
      },
      "execution_count": 407,
      "outputs": [
        {
          "output_type": "stream",
          "name": "stdout",
          "text": [
            "Model: \"sequential_72\"\n",
            "_________________________________________________________________\n",
            " Layer (type)                Output Shape              Param #   \n",
            "=================================================================\n",
            " dense_85 (Dense)            (None, 10)                20        \n",
            "                                                                 \n",
            " dense_86 (Dense)            (None, 1)                 11        \n",
            "                                                                 \n",
            "=================================================================\n",
            "Total params: 31 (124.00 Byte)\n",
            "Trainable params: 31 (124.00 Byte)\n",
            "Non-trainable params: 0 (0.00 Byte)\n",
            "_________________________________________________________________\n"
          ]
        }
      ]
    },
    {
      "cell_type": "code",
      "source": [],
      "metadata": {
        "id": "C_8E3sE83r-H"
      },
      "execution_count": null,
      "outputs": []
    },
    {
      "cell_type": "markdown",
      "source": [
        "**Tracking the experiments**\n",
        "\n",
        "\n",
        "\n",
        "*   One really good habit in machine learning modeling is to track the results of your experiments\n",
        "*   And when doing so, it can be tedious if you are running lot's of experiments\n",
        "\n",
        "*   Luckly there are toold to help us\n",
        "\n",
        "*   Resource : As u build more models' ypu will want to look into using\n",
        "\n",
        "TensorBoard : A component of the TensorFlow library to help track modelling experiments (we'll see this one later)\n",
        "\n",
        "Weights and Biases - A tool for tracking all of kinds of machine learning experiments (Plugs strait into TensorBoard)\n",
        "\n",
        "\n"
      ],
      "metadata": {
        "id": "b8s9iBVM4SnZ"
      }
    },
    {
      "cell_type": "markdown",
      "source": [
        "**Saving the model**\n",
        "\n",
        "1.   Saving the models allows us to use them outside of the colab\n",
        "2.   We can use them in the websites and mobile applications\n",
        "\n",
        "**There are 2 formats to save the models:**\n",
        "1. SavedModel Format\n",
        "2. HDF5 format\n"
      ],
      "metadata": {
        "id": "U6hhbyQf5j_f"
      }
    },
    {
      "cell_type": "code",
      "source": [
        "# Save the model using the SavedModel Format\n",
        "\n",
        "model_2.save(\"best_model_SavedModel_format\")"
      ],
      "metadata": {
        "id": "okI1oBdS516w"
      },
      "execution_count": 408,
      "outputs": []
    },
    {
      "cell_type": "code",
      "source": [],
      "metadata": {
        "id": "bPlIh_Fe6nCf"
      },
      "execution_count": null,
      "outputs": []
    }
  ]
}