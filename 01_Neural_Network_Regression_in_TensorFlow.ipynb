{
  "nbformat": 4,
  "nbformat_minor": 0,
  "metadata": {
    "colab": {
      "provenance": [],
      "authorship_tag": "ABX9TyNEiWkKTYMnh12hdGcpWzj/",
      "include_colab_link": true
    },
    "kernelspec": {
      "name": "python3",
      "display_name": "Python 3"
    },
    "language_info": {
      "name": "python"
    }
  },
  "cells": [
    {
      "cell_type": "markdown",
      "metadata": {
        "id": "view-in-github",
        "colab_type": "text"
      },
      "source": [
        "<a href=\"https://colab.research.google.com/github/iamchenchu/Deep-Learnig-with-TensorFlow/blob/main/01_Neural_Network_Regression_in_TensorFlow.ipynb\" target=\"_parent\"><img src=\"https://colab.research.google.com/assets/colab-badge.svg\" alt=\"Open In Colab\"/></a>"
      ]
    },
    {
      "cell_type": "markdown",
      "source": [
        "**Introduction Regression with Neural Network in TensorFlow**\n",
        "\n",
        "There are many definitions for the regression problem but in our case, we're going to simplify it. Predicting a number based few inputs called features and label called output\n",
        "\n",
        "More simple : Predicting a number"
      ],
      "metadata": {
        "id": "wneBPCYpwbgq"
      }
    },
    {
      "cell_type": "code",
      "source": [
        "# Import TensorFlow\n",
        "\n",
        "import tensorflow as tf\n",
        "\n",
        "print(tf.__version__)\n",
        "\n",
        "import datetime\n",
        "print(f\"Notebook last run (end-to-end): {datetime.datetime.now()}\")"
      ],
      "metadata": {
        "colab": {
          "base_uri": "https://localhost:8080/"
        },
        "id": "LGPvIUEDwl3F",
        "outputId": "6fe9dad7-77a1-4edf-88ea-b5c1798a22f1"
      },
      "execution_count": 35,
      "outputs": [
        {
          "output_type": "stream",
          "name": "stdout",
          "text": [
            "2.14.0\n",
            "Notebook last run (end-to-end): 2023-11-25 19:37:51.253655\n"
          ]
        }
      ]
    },
    {
      "cell_type": "markdown",
      "source": [
        "**Creating data to view and fit**"
      ],
      "metadata": {
        "id": "wjc3i6OhxgGl"
      }
    },
    {
      "cell_type": "code",
      "source": [
        "import numpy as np\n",
        "import matplotlib.pyplot as plt\n",
        "\n",
        "#Create features\n",
        "\n",
        "X = np.array([-7.0, -4.0,-1.0, 2.0, 5.0, 8.0, 11.0, 14.0])\n",
        "\n",
        "#Create labels\n",
        "\n",
        "y = np.array([3.0, 6.0, 9.0, 12.0, 15.0, 18.0, 21.0, 24.0])\n",
        "\n",
        "#Visualize it\n",
        "plt.scatter(X,y)\n",
        "\n"
      ],
      "metadata": {
        "colab": {
          "base_uri": "https://localhost:8080/",
          "height": 452
        },
        "id": "V2rh8JRGxJ5w",
        "outputId": "cb95653b-19c8-4960-be10-50800eb40c2c"
      },
      "execution_count": 36,
      "outputs": [
        {
          "output_type": "execute_result",
          "data": {
            "text/plain": [
              "<matplotlib.collections.PathCollection at 0x7ac6afe0c040>"
            ]
          },
          "metadata": {},
          "execution_count": 36
        },
        {
          "output_type": "display_data",
          "data": {
            "text/plain": [
              "<Figure size 640x480 with 1 Axes>"
            ],
            "image/png": "[encoded data removed]"
          },
          "metadata": {}
        }
      ]
    },
    {
      "cell_type": "code",
      "source": [
        "y == X + 10 #if we closely observe the relation between above graph then we can realize as it is as true y == X + 10"
      ],
      "metadata": {
        "colab": {
          "base_uri": "https://localhost:8080/"
        },
        "id": "3BMS8toEyc5A",
        "outputId": "36fc92bb-3986-461b-dd33-250a6d7c471e"
      },
      "execution_count": 16,
      "outputs": [
        {
          "output_type": "execute_result",
          "data": {
            "text/plain": [
              "array([ True,  True,  True,  True,  True,  True,  True,  True])"
            ]
          },
          "metadata": {},
          "execution_count": 16
        }
      ]
    },
    {
      "cell_type": "markdown",
      "source": [
        "**Input and Output Shapes**"
      ],
      "metadata": {
        "id": "1Ek_Nfm3y_BF"
      }
    },
    {
      "cell_type": "code",
      "source": [
        "#Create a demo tensor for our housing price prediction problems\n",
        "\n",
        "house_info = tf.constant([\"bedroom\", \"bathroom\", \"garage\"]) # Shape would be 3\n",
        "house_price = tf.constant([939700])   # Shape would be 1\n",
        "house_info, house_price"
      ],
      "metadata": {
        "colab": {
          "base_uri": "https://localhost:8080/"
        },
        "id": "NV8a2Zf6yuPC",
        "outputId": "6d574164-3981-4b29-fd92-191ee2e5a1c0"
      },
      "execution_count": 17,
      "outputs": [
        {
          "output_type": "execute_result",
          "data": {
            "text/plain": [
              "(<tf.Tensor: shape=(3,), dtype=string, numpy=array([b'bedroom', b'bathroom', b'garage'], dtype=object)>,\n",
              " <tf.Tensor: shape=(1,), dtype=int32, numpy=array([939700], dtype=int32)>)"
            ]
          },
          "metadata": {},
          "execution_count": 17
        }
      ]
    },
    {
      "cell_type": "code",
      "source": [
        "house_info.shape"
      ],
      "metadata": {
        "colab": {
          "base_uri": "https://localhost:8080/"
        },
        "id": "-9erAt-1_iFr",
        "outputId": "697cb949-4c5d-45e8-cda6-ce5939c3f316"
      },
      "execution_count": 37,
      "outputs": [
        {
          "output_type": "execute_result",
          "data": {
            "text/plain": [
              "TensorShape([3])"
            ]
          },
          "metadata": {},
          "execution_count": 37
        }
      ]
    },
    {
      "cell_type": "code",
      "source": [
        "input_shape = X.shape\n",
        "output_shape = y.shape\n",
        "input_shape, output_shape"
      ],
      "metadata": {
        "colab": {
          "base_uri": "https://localhost:8080/"
        },
        "id": "DqOARgI_zrw8",
        "outputId": "67683d02-c6f7-41d3-ef52-fe69812ab7ec"
      },
      "execution_count": 18,
      "outputs": [
        {
          "output_type": "execute_result",
          "data": {
            "text/plain": [
              "((8,), (8,))"
            ]
          },
          "metadata": {},
          "execution_count": 18
        }
      ]
    },
    {
      "cell_type": "code",
      "source": [
        "X[0], y[0]"
      ],
      "metadata": {
        "colab": {
          "base_uri": "https://localhost:8080/"
        },
        "id": "a1d4UYDNz3cj",
        "outputId": "e2d55f2a-60da-42a7-f9c0-65e9a200f40c"
      },
      "execution_count": 19,
      "outputs": [
        {
          "output_type": "execute_result",
          "data": {
            "text/plain": [
              "(-7.0, 3.0)"
            ]
          },
          "metadata": {},
          "execution_count": 19
        }
      ]
    },
    {
      "cell_type": "code",
      "source": [
        "X[1], y[1]"
      ],
      "metadata": {
        "colab": {
          "base_uri": "https://localhost:8080/"
        },
        "id": "-Vfvqji8z9t-",
        "outputId": "549d3725-fbfa-41d2-b140-339c1867f35a"
      },
      "execution_count": 20,
      "outputs": [
        {
          "output_type": "execute_result",
          "data": {
            "text/plain": [
              "(-4.0, 6.0)"
            ]
          },
          "metadata": {},
          "execution_count": 20
        }
      ]
    },
    {
      "cell_type": "code",
      "source": [
        "# turn our numpy arrays as tensors with dtype float32\n",
        "\n",
        "X = tf.cast(tf.constant(X), dtype = tf.float32)\n",
        "y = tf.cast(tf.constant(y), dtype = tf.float32)\n",
        "X, y"
      ],
      "metadata": {
        "colab": {
          "base_uri": "https://localhost:8080/"
        },
        "id": "yCDNYWUE0AWE",
        "outputId": "53bfc75e-a913-4fa7-8b40-02731148530b"
      },
      "execution_count": 29,
      "outputs": [
        {
          "output_type": "execute_result",
          "data": {
            "text/plain": [
              "(<tf.Tensor: shape=(8,), dtype=float32, numpy=array([-7., -4., -1.,  2.,  5.,  8., 11., 14.], dtype=float32)>,\n",
              " <tf.Tensor: shape=(8,), dtype=float32, numpy=array([ 3.,  6.,  9., 12., 15., 18., 21., 24.], dtype=float32)>)"
            ]
          },
          "metadata": {},
          "execution_count": 29
        }
      ]
    },
    {
      "cell_type": "code",
      "source": [
        "input_shape = X[0].shape    # as scalar has shape 0 it will not give us the shape\n",
        "output_shape = y[0].shape   # as scalar has shape 0 it will not give us the shape\n",
        "input_shape, output_shape"
      ],
      "metadata": {
        "colab": {
          "base_uri": "https://localhost:8080/"
        },
        "id": "WCkDOBrj0pRb",
        "outputId": "2b337a56-5651-40f9-f2b0-598c7c6ff5a8"
      },
      "execution_count": 30,
      "outputs": [
        {
          "output_type": "execute_result",
          "data": {
            "text/plain": [
              "(TensorShape([]), TensorShape([]))"
            ]
          },
          "metadata": {},
          "execution_count": 30
        }
      ]
    },
    {
      "cell_type": "code",
      "source": [
        "plt.scatter(X,y)"
      ],
      "metadata": {
        "colab": {
          "base_uri": "https://localhost:8080/",
          "height": 452
        },
        "id": "bfyPIgrs01UK",
        "outputId": "ba479154-21dc-46bc-f965-0a56be9d133b"
      },
      "execution_count": 23,
      "outputs": [
        {
          "output_type": "execute_result",
          "data": {
            "text/plain": [
              "<matplotlib.collections.PathCollection at 0x7ac6adbd0430>"
            ]
          },
          "metadata": {},
          "execution_count": 23
        },
        {
          "output_type": "display_data",
          "data": {
            "text/plain": [
              "<Figure size 640x480 with 1 Axes>"
            ],
            "image/png": "[encoded data removed]"
          },
          "metadata": {}
        }
      ]
    },
    {
      "cell_type": "markdown",
      "source": [
        "**Steps in modeling with TensorFlow**\n",
        "\n",
        "Now we know what data we have as well as the input and output shapes, let's see how we'd build a neural network to model it.\n",
        "\n",
        "In TensorFlow, there are typically 3 fundamental steps to creating and training a model.\n",
        "\n",
        "**1.Creating a model** - piece together the layers of a neural network yourself (using the Functional or Sequential API) or import a previously built model (known as transfer learning).\n",
        "\n",
        "**2.Compiling a model** - defining how a models performance should be measured (loss/metrics) as well as defining how it should improve (optimizer).\n",
        "\n",
        "**3.Fitting a model** - letting the model try to find patterns in the data (how does X get to y).\n",
        "\n",
        "Let's see these in action using the Keras Sequential API to build a model for our regression data. And then we'll step through each.\n",
        "\n",
        "Note: If you're using TensorFlow 2.7.0+, the fit() function no longer upscales input data to go from (batch_size, ) to (batch_size, 1). To fix this, you'll need to expand the dimension of input data using tf.expand_dims(input_data, axis=-1).\n",
        "\n",
        "In our case, this means instead of using model.fit(X, y, epochs=5), use model.fit(tf.expand_dims(X, axis=-1), y, epochs=5)."
      ],
      "metadata": {
        "id": "cfUv0lMa1OkS"
      }
    },
    {
      "cell_type": "code",
      "source": [
        "# Set random seed\n",
        "tf.random.set_seed(42)\n",
        "\n",
        "# Create a model using the Sequential API\n",
        "model = tf.keras.Sequential([\n",
        "  tf.keras.layers.Dense(1)\n",
        "])\n",
        "\n",
        "# Compile the model\n",
        "model.compile(loss=tf.keras.losses.mae, # mae is short for mean absolute error\n",
        "              optimizer=tf.keras.optimizers.SGD(), # SGD is short for stochastic gradient descent\n",
        "              metrics=[\"mae\"])\n",
        "\n",
        "# Fit the model\n",
        "# model.fit(X, y, epochs=5) # this will break with TensorFlow 2.7.0+\n",
        "model.fit(tf.expand_dims(X, axis=-1), y, epochs=5)\n"
      ],
      "metadata": {
        "id": "MU36AGjp1HCd",
        "colab": {
          "base_uri": "https://localhost:8080/"
        },
        "outputId": "94b79463-fdd6-4b6a-bdb4-37339fefa4c0"
      },
      "execution_count": 38,
      "outputs": [
        {
          "output_type": "stream",
          "name": "stdout",
          "text": [
            "Epoch 1/5\n",
            "1/1 [==============================] - 1s 872ms/step - loss: 11.8223 - mae: 11.8223\n",
            "Epoch 2/5\n",
            "1/1 [==============================] - 0s 25ms/step - loss: 11.6898 - mae: 11.6898\n",
            "Epoch 3/5\n",
            "1/1 [==============================] - 0s 16ms/step - loss: 11.5573 - mae: 11.5573\n",
            "Epoch 4/5\n",
            "1/1 [==============================] - 0s 22ms/step - loss: 11.4248 - mae: 11.4248\n",
            "Epoch 5/5\n",
            "1/1 [==============================] - 0s 16ms/step - loss: 11.2923 - mae: 11.2923\n"
          ]
        },
        {
          "output_type": "execute_result",
          "data": {
            "text/plain": [
              "<keras.src.callbacks.History at 0x7ac6add33760>"
            ]
          },
          "metadata": {},
          "execution_count": 38
        }
      ]
    },
    {
      "cell_type": "code",
      "source": [
        "# Chench the X and y\n",
        "\n",
        "X, y"
      ],
      "metadata": {
        "id": "qjnQySvV2_EN",
        "colab": {
          "base_uri": "https://localhost:8080/"
        },
        "outputId": "d027be20-74bb-4dcd-e4c8-4044f8fa9aaa"
      },
      "execution_count": 39,
      "outputs": [
        {
          "output_type": "execute_result",
          "data": {
            "text/plain": [
              "(array([-7., -4., -1.,  2.,  5.,  8., 11., 14.]),\n",
              " array([ 3.,  6.,  9., 12., 15., 18., 21., 24.]))"
            ]
          },
          "metadata": {},
          "execution_count": 39
        }
      ]
    },
    {
      "cell_type": "code",
      "source": [
        "#Try and make a prediction using a model\n",
        "y_pred = model.predict([17.0])\n",
        "y_pred"
      ],
      "metadata": {
        "colab": {
          "base_uri": "https://localhost:8080/"
        },
        "id": "Dv-SsiPmA7Nj",
        "outputId": "b8115ed2-72d3-4075-b193-3eadc4e04808"
      },
      "execution_count": 42,
      "outputs": [
        {
          "output_type": "stream",
          "name": "stdout",
          "text": [
            "1/1 [==============================] - 0s 35ms/step\n"
          ]
        },
        {
          "output_type": "execute_result",
          "data": {
            "text/plain": [
              "array([[11.174046]], dtype=float32)"
            ]
          },
          "metadata": {},
          "execution_count": 42
        }
      ]
    },
    {
      "cell_type": "code",
      "source": [
        "y_pred + 11"
      ],
      "metadata": {
        "colab": {
          "base_uri": "https://localhost:8080/"
        },
        "id": "89dikh6iBE-g",
        "outputId": "d35fb4de-9927-4f0c-be68-83f23ec6c212"
      },
      "execution_count": 43,
      "outputs": [
        {
          "output_type": "execute_result",
          "data": {
            "text/plain": [
              "array([[22.174046]], dtype=float32)"
            ]
          },
          "metadata": {},
          "execution_count": 43
        }
      ]
    },
    {
      "cell_type": "markdown",
      "source": [
        "**Improving the model**\n",
        "\n",
        "We can improve our model by altering the steps we taken to create our model\n",
        "\n",
        "1. **Creating model** : here We might add more layers, increase the number of hidden layers, chnage the activation function of each layer.\n",
        "\n",
        "2. **Compiling a model** : Here we might change the optimization function or perhaps the **Learning rate** of the optimization function.\n",
        "\n",
        "3. **Fitting a model** : Here we might fit a model for more **Epochs** (Leave it training for longer) or on more data (Give the model more examples to learn from)"
      ],
      "metadata": {
        "id": "C2ogYWveDS_Z"
      }
    },
    {
      "cell_type": "code",
      "source": [
        "\n",
        "# Create a model using the Sequential API\n",
        "\n",
        "model = tf.keras.Sequential([\n",
        "  tf.keras.layers.Dense(1)\n",
        "])\n",
        "\n",
        "# Compile the model\n",
        "\n",
        "model.compile(loss=tf.keras.losses.mae, # mae is short for mean absolute error\n",
        "              optimizer=tf.keras.optimizers.SGD(), # SGD is short for stochastic gradient descent\n",
        "              metrics=[\"mae\"])\n",
        "\n",
        "# Fit the model\n",
        "# model.fit(X, y, epochs=5) # this will break with TensorFlow 2.7.0+\n",
        "model.fit(tf.expand_dims(X, axis=-1), y, epochs=100)\n",
        "\n",
        "# in the output it would be improved for better than before by just increasing the epochs to 100 training examples"
      ],
      "metadata": {
        "colab": {
          "base_uri": "https://localhost:8080/"
        },
        "id": "7os6zuR6BWdc",
        "outputId": "90fc85b4-92c4-4404-fc6d-f139edda0d0c"
      },
      "execution_count": 51,
      "outputs": [
        {
          "output_type": "stream",
          "name": "stdout",
          "text": [
            "Epoch 1/100\n",
            "1/1 [==============================] - 1s 555ms/step - loss: 10.4640 - mae: 10.4640\n",
            "Epoch 2/100\n",
            "1/1 [==============================] - 0s 16ms/step - loss: 10.3315 - mae: 10.3315\n",
            "Epoch 3/100\n",
            "1/1 [==============================] - 0s 15ms/step - loss: 10.1990 - mae: 10.1990\n",
            "Epoch 4/100\n",
            "1/1 [==============================] - 0s 15ms/step - loss: 10.0665 - mae: 10.0665\n",
            "Epoch 5/100\n",
            "1/1 [==============================] - 0s 22ms/step - loss: 9.9340 - mae: 9.9340\n",
            "Epoch 6/100\n",
            "1/1 [==============================] - 0s 20ms/step - loss: 9.8015 - mae: 9.8015\n",
            "Epoch 7/100\n",
            "1/1 [==============================] - 0s 26ms/step - loss: 9.6690 - mae: 9.6690\n",
            "Epoch 8/100\n",
            "1/1 [==============================] - 0s 21ms/step - loss: 9.5365 - mae: 9.5365\n",
            "Epoch 9/100\n",
            "1/1 [==============================] - 0s 14ms/step - loss: 9.4040 - mae: 9.4040\n",
            "Epoch 10/100\n",
            "1/1 [==============================] - 0s 16ms/step - loss: 9.2715 - mae: 9.2715\n",
            "Epoch 11/100\n",
            "1/1 [==============================] - 0s 11ms/step - loss: 9.1390 - mae: 9.1390\n",
            "Epoch 12/100\n",
            "1/1 [==============================] - 0s 11ms/step - loss: 9.0065 - mae: 9.0065\n",
            "Epoch 13/100\n",
            "1/1 [==============================] - 0s 11ms/step - loss: 8.8740 - mae: 8.8740\n",
            "Epoch 14/100\n",
            "1/1 [==============================] - 0s 11ms/step - loss: 8.7415 - mae: 8.7415\n",
            "Epoch 15/100\n",
            "1/1 [==============================] - 0s 21ms/step - loss: 8.6090 - mae: 8.6090\n",
            "Epoch 16/100\n",
            "1/1 [==============================] - 0s 20ms/step - loss: 8.4765 - mae: 8.4765\n",
            "Epoch 17/100\n",
            "1/1 [==============================] - 0s 15ms/step - loss: 8.3440 - mae: 8.3440\n",
            "Epoch 18/100\n",
            "1/1 [==============================] - 0s 17ms/step - loss: 8.2115 - mae: 8.2115\n",
            "Epoch 19/100\n",
            "1/1 [==============================] - 0s 17ms/step - loss: 8.0790 - mae: 8.0790\n",
            "Epoch 20/100\n",
            "1/1 [==============================] - 0s 16ms/step - loss: 7.9465 - mae: 7.9465\n",
            "Epoch 21/100\n",
            "1/1 [==============================] - 0s 18ms/step - loss: 7.8140 - mae: 7.8140\n",
            "Epoch 22/100\n",
            "1/1 [==============================] - 0s 12ms/step - loss: 7.6815 - mae: 7.6815\n",
            "Epoch 23/100\n",
            "1/1 [==============================] - 0s 11ms/step - loss: 7.5490 - mae: 7.5490\n",
            "Epoch 24/100\n",
            "1/1 [==============================] - 0s 19ms/step - loss: 7.4165 - mae: 7.4165\n",
            "Epoch 25/100\n",
            "1/1 [==============================] - 0s 14ms/step - loss: 7.3200 - mae: 7.3200\n",
            "Epoch 26/100\n",
            "1/1 [==============================] - 0s 13ms/step - loss: 7.3144 - mae: 7.3144\n",
            "Epoch 27/100\n",
            "1/1 [==============================] - 0s 13ms/step - loss: 7.3087 - mae: 7.3087\n",
            "Epoch 28/100\n",
            "1/1 [==============================] - 0s 14ms/step - loss: 7.3031 - mae: 7.3031\n",
            "Epoch 29/100\n",
            "1/1 [==============================] - 0s 18ms/step - loss: 7.2975 - mae: 7.2975\n",
            "Epoch 30/100\n",
            "1/1 [==============================] - 0s 12ms/step - loss: 7.2919 - mae: 7.2919\n",
            "Epoch 31/100\n",
            "1/1 [==============================] - 0s 12ms/step - loss: 7.2863 - mae: 7.2863\n",
            "Epoch 32/100\n",
            "1/1 [==============================] - 0s 12ms/step - loss: 7.2806 - mae: 7.2806\n",
            "Epoch 33/100\n",
            "1/1 [==============================] - 0s 11ms/step - loss: 7.2750 - mae: 7.2750\n",
            "Epoch 34/100\n",
            "1/1 [==============================] - 0s 12ms/step - loss: 7.2694 - mae: 7.2694\n",
            "Epoch 35/100\n",
            "1/1 [==============================] - 0s 12ms/step - loss: 7.2638 - mae: 7.2638\n",
            "Epoch 36/100\n",
            "1/1 [==============================] - 0s 18ms/step - loss: 7.2581 - mae: 7.2581\n",
            "Epoch 37/100\n",
            "1/1 [==============================] - 0s 13ms/step - loss: 7.2525 - mae: 7.2525\n",
            "Epoch 38/100\n",
            "1/1 [==============================] - 0s 12ms/step - loss: 7.2469 - mae: 7.2469\n",
            "Epoch 39/100\n",
            "1/1 [==============================] - 0s 21ms/step - loss: 7.2413 - mae: 7.2413\n",
            "Epoch 40/100\n",
            "1/1 [==============================] - 0s 12ms/step - loss: 7.2356 - mae: 7.2356\n",
            "Epoch 41/100\n",
            "1/1 [==============================] - 0s 13ms/step - loss: 7.2300 - mae: 7.2300\n",
            "Epoch 42/100\n",
            "1/1 [==============================] - 0s 13ms/step - loss: 7.2244 - mae: 7.2244\n",
            "Epoch 43/100\n",
            "1/1 [==============================] - 0s 12ms/step - loss: 7.2188 - mae: 7.2188\n",
            "Epoch 44/100\n",
            "1/1 [==============================] - 0s 26ms/step - loss: 7.2131 - mae: 7.2131\n",
            "Epoch 45/100\n",
            "1/1 [==============================] - 0s 11ms/step - loss: 7.2075 - mae: 7.2075\n",
            "Epoch 46/100\n",
            "1/1 [==============================] - 0s 12ms/step - loss: 7.2019 - mae: 7.2019\n",
            "Epoch 47/100\n",
            "1/1 [==============================] - 0s 11ms/step - loss: 7.1962 - mae: 7.1962\n",
            "Epoch 48/100\n",
            "1/1 [==============================] - 0s 15ms/step - loss: 7.1906 - mae: 7.1906\n",
            "Epoch 49/100\n",
            "1/1 [==============================] - 0s 11ms/step - loss: 7.1850 - mae: 7.1850\n",
            "Epoch 50/100\n",
            "1/1 [==============================] - 0s 13ms/step - loss: 7.1794 - mae: 7.1794\n",
            "Epoch 51/100\n",
            "1/1 [==============================] - 0s 13ms/step - loss: 7.1738 - mae: 7.1738\n",
            "Epoch 52/100\n",
            "1/1 [==============================] - 0s 11ms/step - loss: 7.1681 - mae: 7.1681\n",
            "Epoch 53/100\n",
            "1/1 [==============================] - 0s 11ms/step - loss: 7.1625 - mae: 7.1625\n",
            "Epoch 54/100\n",
            "1/1 [==============================] - 0s 15ms/step - loss: 7.1569 - mae: 7.1569\n",
            "Epoch 55/100\n",
            "1/1 [==============================] - 0s 13ms/step - loss: 7.1512 - mae: 7.1512\n",
            "Epoch 56/100\n",
            "1/1 [==============================] - 0s 11ms/step - loss: 7.1456 - mae: 7.1456\n",
            "Epoch 57/100\n",
            "1/1 [==============================] - 0s 11ms/step - loss: 7.1400 - mae: 7.1400\n",
            "Epoch 58/100\n",
            "1/1 [==============================] - 0s 10ms/step - loss: 7.1344 - mae: 7.1344\n",
            "Epoch 59/100\n",
            "1/1 [==============================] - 0s 11ms/step - loss: 7.1288 - mae: 7.1288\n",
            "Epoch 60/100\n",
            "1/1 [==============================] - 0s 16ms/step - loss: 7.1231 - mae: 7.1231\n",
            "Epoch 61/100\n",
            "1/1 [==============================] - 0s 13ms/step - loss: 7.1175 - mae: 7.1175\n",
            "Epoch 62/100\n",
            "1/1 [==============================] - 0s 17ms/step - loss: 7.1119 - mae: 7.1119\n",
            "Epoch 63/100\n",
            "1/1 [==============================] - 0s 16ms/step - loss: 7.1063 - mae: 7.1063\n",
            "Epoch 64/100\n",
            "1/1 [==============================] - 0s 12ms/step - loss: 7.1006 - mae: 7.1006\n",
            "Epoch 65/100\n",
            "1/1 [==============================] - 0s 11ms/step - loss: 7.0950 - mae: 7.0950\n",
            "Epoch 66/100\n",
            "1/1 [==============================] - 0s 11ms/step - loss: 7.0894 - mae: 7.0894\n",
            "Epoch 67/100\n",
            "1/1 [==============================] - 0s 13ms/step - loss: 7.0838 - mae: 7.0838\n",
            "Epoch 68/100\n",
            "1/1 [==============================] - 0s 12ms/step - loss: 7.0781 - mae: 7.0781\n",
            "Epoch 69/100\n",
            "1/1 [==============================] - 0s 18ms/step - loss: 7.0725 - mae: 7.0725\n",
            "Epoch 70/100\n",
            "1/1 [==============================] - 0s 22ms/step - loss: 7.0669 - mae: 7.0669\n",
            "Epoch 71/100\n",
            "1/1 [==============================] - 0s 24ms/step - loss: 7.0613 - mae: 7.0613\n",
            "Epoch 72/100\n",
            "1/1 [==============================] - 0s 14ms/step - loss: 7.0556 - mae: 7.0556\n",
            "Epoch 73/100\n",
            "1/1 [==============================] - 0s 12ms/step - loss: 7.0500 - mae: 7.0500\n",
            "Epoch 74/100\n",
            "1/1 [==============================] - 0s 13ms/step - loss: 7.0444 - mae: 7.0444\n",
            "Epoch 75/100\n",
            "1/1 [==============================] - 0s 10ms/step - loss: 7.0388 - mae: 7.0388\n",
            "Epoch 76/100\n",
            "1/1 [==============================] - 0s 10ms/step - loss: 7.0331 - mae: 7.0331\n",
            "Epoch 77/100\n",
            "1/1 [==============================] - 0s 11ms/step - loss: 7.0275 - mae: 7.0275\n",
            "Epoch 78/100\n",
            "1/1 [==============================] - 0s 10ms/step - loss: 7.0219 - mae: 7.0219\n",
            "Epoch 79/100\n",
            "1/1 [==============================] - 0s 15ms/step - loss: 7.0163 - mae: 7.0163\n",
            "Epoch 80/100\n",
            "1/1 [==============================] - 0s 10ms/step - loss: 7.0106 - mae: 7.0106\n",
            "Epoch 81/100\n",
            "1/1 [==============================] - 0s 10ms/step - loss: 7.0050 - mae: 7.0050\n",
            "Epoch 82/100\n",
            "1/1 [==============================] - 0s 9ms/step - loss: 6.9994 - mae: 6.9994\n",
            "Epoch 83/100\n",
            "1/1 [==============================] - 0s 10ms/step - loss: 6.9938 - mae: 6.9938\n",
            "Epoch 84/100\n",
            "1/1 [==============================] - 0s 9ms/step - loss: 6.9881 - mae: 6.9881\n",
            "Epoch 85/100\n",
            "1/1 [==============================] - 0s 9ms/step - loss: 6.9825 - mae: 6.9825\n",
            "Epoch 86/100\n",
            "1/1 [==============================] - 0s 9ms/step - loss: 6.9769 - mae: 6.9769\n",
            "Epoch 87/100\n",
            "1/1 [==============================] - 0s 10ms/step - loss: 6.9713 - mae: 6.9713\n",
            "Epoch 88/100\n",
            "1/1 [==============================] - 0s 9ms/step - loss: 6.9656 - mae: 6.9656\n",
            "Epoch 89/100\n",
            "1/1 [==============================] - 0s 10ms/step - loss: 6.9600 - mae: 6.9600\n",
            "Epoch 90/100\n",
            "1/1 [==============================] - 0s 14ms/step - loss: 6.9544 - mae: 6.9544\n",
            "Epoch 91/100\n",
            "1/1 [==============================] - 0s 10ms/step - loss: 6.9488 - mae: 6.9488\n",
            "Epoch 92/100\n",
            "1/1 [==============================] - 0s 13ms/step - loss: 6.9431 - mae: 6.9431\n",
            "Epoch 93/100\n",
            "1/1 [==============================] - 0s 9ms/step - loss: 6.9375 - mae: 6.9375\n",
            "Epoch 94/100\n",
            "1/1 [==============================] - 0s 10ms/step - loss: 6.9319 - mae: 6.9319\n",
            "Epoch 95/100\n",
            "1/1 [==============================] - 0s 9ms/step - loss: 6.9263 - mae: 6.9263\n",
            "Epoch 96/100\n",
            "1/1 [==============================] - 0s 9ms/step - loss: 6.9206 - mae: 6.9206\n",
            "Epoch 97/100\n",
            "1/1 [==============================] - 0s 9ms/step - loss: 6.9150 - mae: 6.9150\n",
            "Epoch 98/100\n",
            "1/1 [==============================] - 0s 9ms/step - loss: 6.9094 - mae: 6.9094\n",
            "Epoch 99/100\n",
            "1/1 [==============================] - 0s 9ms/step - loss: 6.9038 - mae: 6.9038\n",
            "Epoch 100/100\n",
            "1/1 [==============================] - 0s 9ms/step - loss: 6.8981 - mae: 6.8981\n"
          ]
        },
        {
          "output_type": "execute_result",
          "data": {
            "text/plain": [
              "<keras.src.callbacks.History at 0x7ac6adf0ea10>"
            ]
          },
          "metadata": {},
          "execution_count": 51
        }
      ]
    },
    {
      "cell_type": "code",
      "source": [
        "# Reming ourselves of the data\n",
        "\n",
        "model.predict([17.0])"
      ],
      "metadata": {
        "colab": {
          "base_uri": "https://localhost:8080/"
        },
        "id": "WJyNu3ANG5GY",
        "outputId": "2ea30762-6cc1-4265-a80b-b21dd2ebdc91"
      },
      "execution_count": 52,
      "outputs": [
        {
          "output_type": "stream",
          "name": "stdout",
          "text": [
            "1/1 [==============================] - 0s 66ms/step\n"
          ]
        },
        {
          "output_type": "execute_result",
          "data": {
            "text/plain": [
              "array([[29.836191]], dtype=float32)"
            ]
          },
          "metadata": {},
          "execution_count": 52
        }
      ]
    },
    {
      "cell_type": "code",
      "source": [
        "#Create a model\n",
        "model = tf.keras.Sequential([\n",
        "    tf.keras.layers.Dense(1)\n",
        "])\n",
        "\n",
        "#compile a model\n",
        "model.compile(loss=tf.keras.losses.mae,\n",
        "              optimizer=tf.keras.optimizers.Adam(learning_rate = 0.1),\n",
        "              metrics = [\"mae\"])\n",
        "\n",
        "#fit the model\n",
        "model.fit(tf.expand_dims(X, axis = -1), y, epochs = 100)"
      ],
      "metadata": {
        "colab": {
          "base_uri": "https://localhost:8080/"
        },
        "id": "0djpPni6Iuv9",
        "outputId": "7be52cd7-bbee-4ac4-b8ba-5ee301085d0c"
      },
      "execution_count": 59,
      "outputs": [
        {
          "output_type": "stream",
          "name": "stdout",
          "text": [
            "Epoch 1/100\n",
            "1/1 [==============================] - 1s 778ms/step - loss: 10.2309 - mae: 10.2309\n",
            "Epoch 2/100\n",
            "1/1 [==============================] - 0s 10ms/step - loss: 9.7809 - mae: 9.7809\n",
            "Epoch 3/100\n",
            "1/1 [==============================] - 0s 14ms/step - loss: 9.3309 - mae: 9.3309\n",
            "Epoch 4/100\n",
            "1/1 [==============================] - 0s 10ms/step - loss: 8.8809 - mae: 8.8809\n",
            "Epoch 5/100\n",
            "1/1 [==============================] - 0s 9ms/step - loss: 8.4310 - mae: 8.4310\n",
            "Epoch 6/100\n",
            "1/1 [==============================] - 0s 9ms/step - loss: 7.9810 - mae: 7.9810\n",
            "Epoch 7/100\n",
            "1/1 [==============================] - 0s 10ms/step - loss: 7.5310 - mae: 7.5310\n",
            "Epoch 8/100\n",
            "1/1 [==============================] - 0s 10ms/step - loss: 7.0810 - mae: 7.0810\n",
            "Epoch 9/100\n",
            "1/1 [==============================] - 0s 11ms/step - loss: 6.9000 - mae: 6.9000\n",
            "Epoch 10/100\n",
            "1/1 [==============================] - 0s 13ms/step - loss: 6.8262 - mae: 6.8262\n",
            "Epoch 11/100\n",
            "1/1 [==============================] - 0s 11ms/step - loss: 6.9828 - mae: 6.9828\n",
            "Epoch 12/100\n",
            "1/1 [==============================] - 0s 9ms/step - loss: 7.0885 - mae: 7.0885\n",
            "Epoch 13/100\n",
            "1/1 [==============================] - 0s 10ms/step - loss: 7.1411 - mae: 7.1411\n",
            "Epoch 14/100\n",
            "1/1 [==============================] - 0s 14ms/step - loss: 7.1491 - mae: 7.1491\n",
            "Epoch 15/100\n",
            "1/1 [==============================] - 0s 10ms/step - loss: 7.1191 - mae: 7.1191\n",
            "Epoch 16/100\n",
            "1/1 [==============================] - 0s 14ms/step - loss: 7.0567 - mae: 7.0567\n",
            "Epoch 17/100\n",
            "1/1 [==============================] - 0s 12ms/step - loss: 6.9662 - mae: 6.9662\n",
            "Epoch 18/100\n",
            "1/1 [==============================] - 0s 11ms/step - loss: 6.8515 - mae: 6.8515\n",
            "Epoch 19/100\n",
            "1/1 [==============================] - 0s 10ms/step - loss: 6.7157 - mae: 6.7157\n",
            "Epoch 20/100\n",
            "1/1 [==============================] - 0s 9ms/step - loss: 6.5613 - mae: 6.5613\n",
            "Epoch 21/100\n",
            "1/1 [==============================] - 0s 9ms/step - loss: 6.3906 - mae: 6.3906\n",
            "Epoch 22/100\n",
            "1/1 [==============================] - 0s 12ms/step - loss: 6.2056 - mae: 6.2056\n",
            "Epoch 23/100\n",
            "1/1 [==============================] - 0s 10ms/step - loss: 6.0079 - mae: 6.0079\n",
            "Epoch 24/100\n",
            "1/1 [==============================] - 0s 10ms/step - loss: 5.9346 - mae: 5.9346\n",
            "Epoch 25/100\n",
            "1/1 [==============================] - 0s 9ms/step - loss: 5.8736 - mae: 5.8736\n",
            "Epoch 26/100\n",
            "1/1 [==============================] - 0s 9ms/step - loss: 5.8109 - mae: 5.8109\n",
            "Epoch 27/100\n",
            "1/1 [==============================] - 0s 9ms/step - loss: 5.8561 - mae: 5.8561\n",
            "Epoch 28/100\n",
            "1/1 [==============================] - 0s 9ms/step - loss: 5.8639 - mae: 5.8639\n",
            "Epoch 29/100\n",
            "1/1 [==============================] - 0s 12ms/step - loss: 5.8111 - mae: 5.8111\n",
            "Epoch 30/100\n",
            "1/1 [==============================] - 0s 9ms/step - loss: 5.7054 - mae: 5.7054\n",
            "Epoch 31/100\n",
            "1/1 [==============================] - 0s 9ms/step - loss: 5.5537 - mae: 5.5537\n",
            "Epoch 32/100\n",
            "1/1 [==============================] - 0s 8ms/step - loss: 5.3895 - mae: 5.3895\n",
            "Epoch 33/100\n",
            "1/1 [==============================] - 0s 10ms/step - loss: 5.3146 - mae: 5.3146\n",
            "Epoch 34/100\n",
            "1/1 [==============================] - 0s 9ms/step - loss: 5.2398 - mae: 5.2398\n",
            "Epoch 35/100\n",
            "1/1 [==============================] - 0s 9ms/step - loss: 5.1653 - mae: 5.1653\n",
            "Epoch 36/100\n",
            "1/1 [==============================] - 0s 9ms/step - loss: 5.0909 - mae: 5.0909\n",
            "Epoch 37/100\n",
            "1/1 [==============================] - 0s 9ms/step - loss: 5.0531 - mae: 5.0531\n",
            "Epoch 38/100\n",
            "1/1 [==============================] - 0s 9ms/step - loss: 5.0167 - mae: 5.0167\n",
            "Epoch 39/100\n",
            "1/1 [==============================] - 0s 9ms/step - loss: 4.9515 - mae: 4.9515\n",
            "Epoch 40/100\n",
            "1/1 [==============================] - 0s 10ms/step - loss: 4.8606 - mae: 4.8606\n",
            "Epoch 41/100\n",
            "1/1 [==============================] - 0s 10ms/step - loss: 4.7467 - mae: 4.7467\n",
            "Epoch 42/100\n",
            "1/1 [==============================] - 0s 9ms/step - loss: 4.6727 - mae: 4.6727\n",
            "Epoch 43/100\n",
            "1/1 [==============================] - 0s 9ms/step - loss: 4.6059 - mae: 4.6059\n",
            "Epoch 44/100\n",
            "1/1 [==============================] - 0s 9ms/step - loss: 4.5384 - mae: 4.5384\n",
            "Epoch 45/100\n",
            "1/1 [==============================] - 0s 9ms/step - loss: 4.4700 - mae: 4.4700\n",
            "Epoch 46/100\n",
            "1/1 [==============================] - 0s 9ms/step - loss: 4.4010 - mae: 4.4010\n",
            "Epoch 47/100\n",
            "1/1 [==============================] - 0s 9ms/step - loss: 4.3314 - mae: 4.3314\n",
            "Epoch 48/100\n",
            "1/1 [==============================] - 0s 9ms/step - loss: 4.2806 - mae: 4.2806\n",
            "Epoch 49/100\n",
            "1/1 [==============================] - 0s 9ms/step - loss: 4.1933 - mae: 4.1933\n",
            "Epoch 50/100\n",
            "1/1 [==============================] - 0s 9ms/step - loss: 4.1140 - mae: 4.1140\n",
            "Epoch 51/100\n",
            "1/1 [==============================] - 0s 10ms/step - loss: 4.0394 - mae: 4.0394\n",
            "Epoch 52/100\n",
            "1/1 [==============================] - 0s 9ms/step - loss: 3.9649 - mae: 3.9649\n",
            "Epoch 53/100\n",
            "1/1 [==============================] - 0s 9ms/step - loss: 3.8904 - mae: 3.8904\n",
            "Epoch 54/100\n",
            "1/1 [==============================] - 0s 9ms/step - loss: 3.8160 - mae: 3.8160\n",
            "Epoch 55/100\n",
            "1/1 [==============================] - 0s 10ms/step - loss: 3.7416 - mae: 3.7416\n",
            "Epoch 56/100\n",
            "1/1 [==============================] - 0s 9ms/step - loss: 3.7061 - mae: 3.7061\n",
            "Epoch 57/100\n",
            "1/1 [==============================] - 0s 9ms/step - loss: 3.6423 - mae: 3.6423\n",
            "Epoch 58/100\n",
            "1/1 [==============================] - 0s 9ms/step - loss: 3.5500 - mae: 3.5500\n",
            "Epoch 59/100\n",
            "1/1 [==============================] - 0s 9ms/step - loss: 3.4560 - mae: 3.4560\n",
            "Epoch 60/100\n",
            "1/1 [==============================] - 0s 9ms/step - loss: 3.3867 - mae: 3.3867\n",
            "Epoch 61/100\n",
            "1/1 [==============================] - 0s 9ms/step - loss: 3.3169 - mae: 3.3169\n",
            "Epoch 62/100\n",
            "1/1 [==============================] - 0s 9ms/step - loss: 3.2465 - mae: 3.2465\n",
            "Epoch 63/100\n",
            "1/1 [==============================] - 0s 9ms/step - loss: 3.1757 - mae: 3.1757\n",
            "Epoch 64/100\n",
            "1/1 [==============================] - 0s 13ms/step - loss: 3.1045 - mae: 3.1045\n",
            "Epoch 65/100\n",
            "1/1 [==============================] - 0s 9ms/step - loss: 3.0328 - mae: 3.0328\n",
            "Epoch 66/100\n",
            "1/1 [==============================] - 0s 9ms/step - loss: 2.9608 - mae: 2.9608\n",
            "Epoch 67/100\n",
            "1/1 [==============================] - 0s 10ms/step - loss: 2.9012 - mae: 2.9012\n",
            "Epoch 68/100\n",
            "1/1 [==============================] - 0s 12ms/step - loss: 2.8139 - mae: 2.8139\n",
            "Epoch 69/100\n",
            "1/1 [==============================] - 0s 9ms/step - loss: 2.7393 - mae: 2.7393\n",
            "Epoch 70/100\n",
            "1/1 [==============================] - 0s 9ms/step - loss: 2.6647 - mae: 2.6647\n",
            "Epoch 71/100\n",
            "1/1 [==============================] - 0s 11ms/step - loss: 2.5901 - mae: 2.5901\n",
            "Epoch 72/100\n",
            "1/1 [==============================] - 0s 10ms/step - loss: 2.5154 - mae: 2.5154\n",
            "Epoch 73/100\n",
            "1/1 [==============================] - 0s 10ms/step - loss: 2.4408 - mae: 2.4408\n",
            "Epoch 74/100\n",
            "1/1 [==============================] - 0s 10ms/step - loss: 2.3909 - mae: 2.3909\n",
            "Epoch 75/100\n",
            "1/1 [==============================] - 0s 15ms/step - loss: 2.3145 - mae: 2.3145\n",
            "Epoch 76/100\n",
            "1/1 [==============================] - 0s 11ms/step - loss: 2.2232 - mae: 2.2232\n",
            "Epoch 77/100\n",
            "1/1 [==============================] - 0s 10ms/step - loss: 2.1523 - mae: 2.1523\n",
            "Epoch 78/100\n",
            "1/1 [==============================] - 0s 9ms/step - loss: 2.0809 - mae: 2.0809\n",
            "Epoch 79/100\n",
            "1/1 [==============================] - 0s 13ms/step - loss: 2.0092 - mae: 2.0092\n",
            "Epoch 80/100\n",
            "1/1 [==============================] - 0s 11ms/step - loss: 1.9371 - mae: 1.9371\n",
            "Epoch 81/100\n",
            "1/1 [==============================] - 0s 10ms/step - loss: 1.8647 - mae: 1.8647\n",
            "Epoch 82/100\n",
            "1/1 [==============================] - 0s 9ms/step - loss: 1.7920 - mae: 1.7920\n",
            "Epoch 83/100\n",
            "1/1 [==============================] - 0s 10ms/step - loss: 1.7323 - mae: 1.7323\n",
            "Epoch 84/100\n",
            "1/1 [==============================] - 0s 10ms/step - loss: 1.6438 - mae: 1.6438\n",
            "Epoch 85/100\n",
            "1/1 [==============================] - 0s 10ms/step - loss: 1.5685 - mae: 1.5685\n",
            "Epoch 86/100\n",
            "1/1 [==============================] - 0s 10ms/step - loss: 1.4933 - mae: 1.4933\n",
            "Epoch 87/100\n",
            "1/1 [==============================] - 0s 10ms/step - loss: 1.4499 - mae: 1.4499\n",
            "Epoch 88/100\n",
            "1/1 [==============================] - 0s 10ms/step - loss: 1.3777 - mae: 1.3777\n",
            "Epoch 89/100\n",
            "1/1 [==============================] - 0s 10ms/step - loss: 1.2744 - mae: 1.2744\n",
            "Epoch 90/100\n",
            "1/1 [==============================] - 0s 12ms/step - loss: 1.2031 - mae: 1.2031\n",
            "Epoch 91/100\n",
            "1/1 [==============================] - 0s 12ms/step - loss: 1.1314 - mae: 1.1314\n",
            "Epoch 92/100\n",
            "1/1 [==============================] - 0s 10ms/step - loss: 1.0593 - mae: 1.0593\n",
            "Epoch 93/100\n",
            "1/1 [==============================] - 0s 11ms/step - loss: 1.0040 - mae: 1.0040\n",
            "Epoch 94/100\n",
            "1/1 [==============================] - 0s 11ms/step - loss: 0.9121 - mae: 0.9121\n",
            "Epoch 95/100\n",
            "1/1 [==============================] - 0s 12ms/step - loss: 0.8372 - mae: 0.8372\n",
            "Epoch 96/100\n",
            "1/1 [==============================] - 0s 11ms/step - loss: 0.7864 - mae: 0.7864\n",
            "Epoch 97/100\n",
            "1/1 [==============================] - 0s 10ms/step - loss: 0.7103 - mae: 0.7103\n",
            "Epoch 98/100\n",
            "1/1 [==============================] - 0s 11ms/step - loss: 0.6192 - mae: 0.6192\n",
            "Epoch 99/100\n",
            "1/1 [==============================] - 0s 13ms/step - loss: 0.5604 - mae: 0.5604\n",
            "Epoch 100/100\n",
            "1/1 [==============================] - 0s 9ms/step - loss: 0.4744 - mae: 0.4744\n"
          ]
        },
        {
          "output_type": "execute_result",
          "data": {
            "text/plain": [
              "<keras.src.callbacks.History at 0x7ac6ace516c0>"
            ]
          },
          "metadata": {},
          "execution_count": 59
        }
      ]
    },
    {
      "cell_type": "code",
      "source": [
        "model.predict([17.0])"
      ],
      "metadata": {
        "colab": {
          "base_uri": "https://localhost:8080/"
        },
        "id": "yTxNUsQYJ5vo",
        "outputId": "603880dd-b50b-46d0-e332-cb2806979ee3"
      },
      "execution_count": 60,
      "outputs": [
        {
          "output_type": "stream",
          "name": "stdout",
          "text": [
            "1/1 [==============================] - 0s 93ms/step\n"
          ]
        },
        {
          "output_type": "execute_result",
          "data": {
            "text/plain": [
              "array([[27.255775]], dtype=float32)"
            ]
          },
          "metadata": {},
          "execution_count": 60
        }
      ]
    },
    {
      "cell_type": "code",
      "source": [
        "# Create the model with the extra layers which are hidden\n",
        "\n",
        "#Creare a model\n",
        "\n",
        "model = tf.keras.Sequential([\n",
        "    tf.keras.layers.Dense(100, activation = None),  # We can use any kind of activation\n",
        "    #tf.keras.layers.Dense(1000, activation = \"relu\"),\n",
        "    tf.keras.layers.Dense(1)\n",
        "])\n",
        "\n",
        "#Compile the model\n",
        "model.compile(loss=\"mae\",\n",
        "              optimizer=tf.keras.optimizers.SGD(),\n",
        "              metrics =[\"mae\"])\n",
        "\n",
        "#Fit the model\n",
        "model.fit(tf.expand_dims(X, axis =-1), y, epochs = 100) # it would get more optimized after this modiciation by adding 1 more hidden layer with 100 neurons\n"
      ],
      "metadata": {
        "colab": {
          "base_uri": "https://localhost:8080/"
        },
        "id": "cMg3ywB9KYuK",
        "outputId": "310b6fef-5e61-470b-bc4c-dd3f80004560"
      },
      "execution_count": 74,
      "outputs": [
        {
          "output_type": "stream",
          "name": "stdout",
          "text": [
            "Epoch 1/100\n",
            "1/1 [==============================] - 1s 580ms/step - loss: 13.0956 - mae: 13.0956\n",
            "Epoch 2/100\n",
            "1/1 [==============================] - 0s 13ms/step - loss: 12.5909 - mae: 12.5909\n",
            "Epoch 3/100\n",
            "1/1 [==============================] - 0s 18ms/step - loss: 12.0828 - mae: 12.0828\n",
            "Epoch 4/100\n",
            "1/1 [==============================] - 0s 10ms/step - loss: 11.5686 - mae: 11.5686\n",
            "Epoch 5/100\n",
            "1/1 [==============================] - 0s 11ms/step - loss: 11.0457 - mae: 11.0457\n",
            "Epoch 6/100\n",
            "1/1 [==============================] - 0s 11ms/step - loss: 10.5113 - mae: 10.5113\n",
            "Epoch 7/100\n",
            "1/1 [==============================] - 0s 11ms/step - loss: 9.9628 - mae: 9.9628\n",
            "Epoch 8/100\n",
            "1/1 [==============================] - 0s 12ms/step - loss: 9.3972 - mae: 9.3972\n",
            "Epoch 9/100\n",
            "1/1 [==============================] - 0s 13ms/step - loss: 8.8118 - mae: 8.8118\n",
            "Epoch 10/100\n",
            "1/1 [==============================] - 0s 13ms/step - loss: 8.2034 - mae: 8.2034\n",
            "Epoch 11/100\n",
            "1/1 [==============================] - 0s 11ms/step - loss: 7.5691 - mae: 7.5691\n",
            "Epoch 12/100\n",
            "1/1 [==============================] - 0s 13ms/step - loss: 7.2335 - mae: 7.2335\n",
            "Epoch 13/100\n",
            "1/1 [==============================] - 0s 9ms/step - loss: 7.2135 - mae: 7.2135\n",
            "Epoch 14/100\n",
            "1/1 [==============================] - 0s 9ms/step - loss: 7.1934 - mae: 7.1934\n",
            "Epoch 15/100\n",
            "1/1 [==============================] - 0s 12ms/step - loss: 7.1732 - mae: 7.1732\n",
            "Epoch 16/100\n",
            "1/1 [==============================] - 0s 13ms/step - loss: 7.1531 - mae: 7.1531\n",
            "Epoch 17/100\n",
            "1/1 [==============================] - 0s 13ms/step - loss: 7.1328 - mae: 7.1328\n",
            "Epoch 18/100\n",
            "1/1 [==============================] - 0s 12ms/step - loss: 7.1125 - mae: 7.1125\n",
            "Epoch 19/100\n",
            "1/1 [==============================] - 0s 11ms/step - loss: 7.0922 - mae: 7.0922\n",
            "Epoch 20/100\n",
            "1/1 [==============================] - 0s 9ms/step - loss: 7.0717 - mae: 7.0717\n",
            "Epoch 21/100\n",
            "1/1 [==============================] - 0s 9ms/step - loss: 7.0513 - mae: 7.0513\n",
            "Epoch 22/100\n",
            "1/1 [==============================] - 0s 10ms/step - loss: 7.0307 - mae: 7.0307\n",
            "Epoch 23/100\n",
            "1/1 [==============================] - 0s 10ms/step - loss: 7.0101 - mae: 7.0101\n",
            "Epoch 24/100\n",
            "1/1 [==============================] - 0s 10ms/step - loss: 6.9894 - mae: 6.9894\n",
            "Epoch 25/100\n",
            "1/1 [==============================] - 0s 9ms/step - loss: 6.9686 - mae: 6.9686\n",
            "Epoch 26/100\n",
            "1/1 [==============================] - 0s 9ms/step - loss: 6.9477 - mae: 6.9477\n",
            "Epoch 27/100\n",
            "1/1 [==============================] - 0s 10ms/step - loss: 6.9268 - mae: 6.9268\n",
            "Epoch 28/100\n",
            "1/1 [==============================] - 0s 11ms/step - loss: 6.9057 - mae: 6.9057\n",
            "Epoch 29/100\n",
            "1/1 [==============================] - 0s 10ms/step - loss: 6.8846 - mae: 6.8846\n",
            "Epoch 30/100\n",
            "1/1 [==============================] - 0s 9ms/step - loss: 6.8633 - mae: 6.8633\n",
            "Epoch 31/100\n",
            "1/1 [==============================] - 0s 10ms/step - loss: 6.8420 - mae: 6.8420\n",
            "Epoch 32/100\n",
            "1/1 [==============================] - 0s 10ms/step - loss: 6.8206 - mae: 6.8206\n",
            "Epoch 33/100\n",
            "1/1 [==============================] - 0s 10ms/step - loss: 6.8030 - mae: 6.8030\n",
            "Epoch 34/100\n",
            "1/1 [==============================] - 0s 9ms/step - loss: 6.7935 - mae: 6.7935\n",
            "Epoch 35/100\n",
            "1/1 [==============================] - 0s 9ms/step - loss: 6.7723 - mae: 6.7723\n",
            "Epoch 36/100\n",
            "1/1 [==============================] - 0s 9ms/step - loss: 6.7510 - mae: 6.7510\n",
            "Epoch 37/100\n",
            "1/1 [==============================] - 0s 10ms/step - loss: 6.7296 - mae: 6.7296\n",
            "Epoch 38/100\n",
            "1/1 [==============================] - 0s 19ms/step - loss: 6.7081 - mae: 6.7081\n",
            "Epoch 39/100\n",
            "1/1 [==============================] - 0s 13ms/step - loss: 6.6864 - mae: 6.6864\n",
            "Epoch 40/100\n",
            "1/1 [==============================] - 0s 14ms/step - loss: 6.6646 - mae: 6.6646\n",
            "Epoch 41/100\n",
            "1/1 [==============================] - 0s 10ms/step - loss: 6.6427 - mae: 6.6427\n",
            "Epoch 42/100\n",
            "1/1 [==============================] - 0s 10ms/step - loss: 6.6207 - mae: 6.6207\n",
            "Epoch 43/100\n",
            "1/1 [==============================] - 0s 10ms/step - loss: 6.5985 - mae: 6.5985\n",
            "Epoch 44/100\n",
            "1/1 [==============================] - 0s 10ms/step - loss: 6.5761 - mae: 6.5761\n",
            "Epoch 45/100\n",
            "1/1 [==============================] - 0s 10ms/step - loss: 6.5537 - mae: 6.5537\n",
            "Epoch 46/100\n",
            "1/1 [==============================] - 0s 10ms/step - loss: 6.5310 - mae: 6.5310\n",
            "Epoch 47/100\n",
            "1/1 [==============================] - 0s 9ms/step - loss: 6.5082 - mae: 6.5082\n",
            "Epoch 48/100\n",
            "1/1 [==============================] - 0s 10ms/step - loss: 6.4853 - mae: 6.4853\n",
            "Epoch 49/100\n",
            "1/1 [==============================] - 0s 10ms/step - loss: 6.4622 - mae: 6.4622\n",
            "Epoch 50/100\n",
            "1/1 [==============================] - 0s 10ms/step - loss: 6.4389 - mae: 6.4389\n",
            "Epoch 51/100\n",
            "1/1 [==============================] - 0s 14ms/step - loss: 6.4154 - mae: 6.4154\n",
            "Epoch 52/100\n",
            "1/1 [==============================] - 0s 11ms/step - loss: 6.3918 - mae: 6.3918\n",
            "Epoch 53/100\n",
            "1/1 [==============================] - 0s 10ms/step - loss: 6.3680 - mae: 6.3680\n",
            "Epoch 54/100\n",
            "1/1 [==============================] - 0s 14ms/step - loss: 6.3440 - mae: 6.3440\n",
            "Epoch 55/100\n",
            "1/1 [==============================] - 0s 11ms/step - loss: 6.3199 - mae: 6.3199\n",
            "Epoch 56/100\n",
            "1/1 [==============================] - 0s 11ms/step - loss: 6.3175 - mae: 6.3175\n",
            "Epoch 57/100\n",
            "1/1 [==============================] - 0s 11ms/step - loss: 6.2937 - mae: 6.2937\n",
            "Epoch 58/100\n",
            "1/1 [==============================] - 0s 9ms/step - loss: 6.2695 - mae: 6.2695\n",
            "Epoch 59/100\n",
            "1/1 [==============================] - 0s 13ms/step - loss: 6.2452 - mae: 6.2452\n",
            "Epoch 60/100\n",
            "1/1 [==============================] - 0s 10ms/step - loss: 6.2206 - mae: 6.2206\n",
            "Epoch 61/100\n",
            "1/1 [==============================] - 0s 10ms/step - loss: 6.1958 - mae: 6.1958\n",
            "Epoch 62/100\n",
            "1/1 [==============================] - 0s 9ms/step - loss: 6.1709 - mae: 6.1709\n",
            "Epoch 63/100\n",
            "1/1 [==============================] - 0s 13ms/step - loss: 6.1457 - mae: 6.1457\n",
            "Epoch 64/100\n",
            "1/1 [==============================] - 0s 9ms/step - loss: 6.1203 - mae: 6.1203\n",
            "Epoch 65/100\n",
            "1/1 [==============================] - 0s 10ms/step - loss: 6.0946 - mae: 6.0946\n",
            "Epoch 66/100\n",
            "1/1 [==============================] - 0s 10ms/step - loss: 6.0688 - mae: 6.0688\n",
            "Epoch 67/100\n",
            "1/1 [==============================] - 0s 9ms/step - loss: 6.0427 - mae: 6.0427\n",
            "Epoch 68/100\n",
            "1/1 [==============================] - 0s 10ms/step - loss: 6.0164 - mae: 6.0164\n",
            "Epoch 69/100\n",
            "1/1 [==============================] - 0s 9ms/step - loss: 5.9898 - mae: 5.9898\n",
            "Epoch 70/100\n",
            "1/1 [==============================] - 0s 13ms/step - loss: 5.9630 - mae: 5.9630\n",
            "Epoch 71/100\n",
            "1/1 [==============================] - 0s 14ms/step - loss: 5.9359 - mae: 5.9359\n",
            "Epoch 72/100\n",
            "1/1 [==============================] - 0s 12ms/step - loss: 5.9085 - mae: 5.9085\n",
            "Epoch 73/100\n",
            "1/1 [==============================] - 0s 12ms/step - loss: 5.8912 - mae: 5.8912\n",
            "Epoch 74/100\n",
            "1/1 [==============================] - 0s 10ms/step - loss: 5.8806 - mae: 5.8806\n",
            "Epoch 75/100\n",
            "1/1 [==============================] - 0s 12ms/step - loss: 5.8530 - mae: 5.8530\n",
            "Epoch 76/100\n",
            "1/1 [==============================] - 0s 11ms/step - loss: 5.8252 - mae: 5.8252\n",
            "Epoch 77/100\n",
            "1/1 [==============================] - 0s 11ms/step - loss: 5.7972 - mae: 5.7972\n",
            "Epoch 78/100\n",
            "1/1 [==============================] - 0s 10ms/step - loss: 5.7688 - mae: 5.7688\n",
            "Epoch 79/100\n",
            "1/1 [==============================] - 0s 9ms/step - loss: 5.7402 - mae: 5.7402\n",
            "Epoch 80/100\n",
            "1/1 [==============================] - 0s 12ms/step - loss: 5.7113 - mae: 5.7113\n",
            "Epoch 81/100\n",
            "1/1 [==============================] - 0s 8ms/step - loss: 5.6820 - mae: 5.6820\n",
            "Epoch 82/100\n",
            "1/1 [==============================] - 0s 9ms/step - loss: 5.6525 - mae: 5.6525\n",
            "Epoch 83/100\n",
            "1/1 [==============================] - 0s 9ms/step - loss: 5.6227 - mae: 5.6227\n",
            "Epoch 84/100\n",
            "1/1 [==============================] - 0s 9ms/step - loss: 5.5925 - mae: 5.5925\n",
            "Epoch 85/100\n",
            "1/1 [==============================] - 0s 9ms/step - loss: 5.5621 - mae: 5.5621\n",
            "Epoch 86/100\n",
            "1/1 [==============================] - 0s 13ms/step - loss: 5.5313 - mae: 5.5313\n",
            "Epoch 87/100\n",
            "1/1 [==============================] - 0s 13ms/step - loss: 5.5002 - mae: 5.5002\n",
            "Epoch 88/100\n",
            "1/1 [==============================] - 0s 11ms/step - loss: 5.4689 - mae: 5.4689\n",
            "Epoch 89/100\n",
            "1/1 [==============================] - 0s 15ms/step - loss: 5.5127 - mae: 5.5127\n",
            "Epoch 90/100\n",
            "1/1 [==============================] - 0s 17ms/step - loss: 5.5788 - mae: 5.5788\n",
            "Epoch 91/100\n",
            "1/1 [==============================] - 0s 14ms/step - loss: 5.4009 - mae: 5.4009\n",
            "Epoch 92/100\n",
            "1/1 [==============================] - 0s 12ms/step - loss: 5.3686 - mae: 5.3686\n",
            "Epoch 93/100\n",
            "1/1 [==============================] - 0s 15ms/step - loss: 5.3359 - mae: 5.3359\n",
            "Epoch 94/100\n",
            "1/1 [==============================] - 0s 11ms/step - loss: 5.3029 - mae: 5.3029\n",
            "Epoch 95/100\n",
            "1/1 [==============================] - 0s 11ms/step - loss: 5.2695 - mae: 5.2695\n",
            "Epoch 96/100\n",
            "1/1 [==============================] - 0s 11ms/step - loss: 5.2357 - mae: 5.2357\n",
            "Epoch 97/100\n",
            "1/1 [==============================] - 0s 12ms/step - loss: 5.2016 - mae: 5.2016\n",
            "Epoch 98/100\n",
            "1/1 [==============================] - 0s 12ms/step - loss: 5.1670 - mae: 5.1670\n",
            "Epoch 99/100\n",
            "1/1 [==============================] - 0s 11ms/step - loss: 5.1380 - mae: 5.1380\n",
            "Epoch 100/100\n",
            "1/1 [==============================] - 0s 14ms/step - loss: 5.2171 - mae: 5.2171\n"
          ]
        },
        {
          "output_type": "execute_result",
          "data": {
            "text/plain": [
              "<keras.src.callbacks.History at 0x7ac6a4d7ca60>"
            ]
          },
          "metadata": {},
          "execution_count": 74
        }
      ]
    },
    {
      "cell_type": "code",
      "source": [
        "#Let's remind ourselves of the data\n",
        "\n",
        "X, y"
      ],
      "metadata": {
        "colab": {
          "base_uri": "https://localhost:8080/"
        },
        "id": "FJkYHSqQLO0A",
        "outputId": "3bf020a6-a21f-432f-b7ad-d4ff20b2efe9"
      },
      "execution_count": 72,
      "outputs": [
        {
          "output_type": "execute_result",
          "data": {
            "text/plain": [
              "(array([-7., -4., -1.,  2.,  5.,  8., 11., 14.]),\n",
              " array([ 3.,  6.,  9., 12., 15., 18., 21., 24.]))"
            ]
          },
          "metadata": {},
          "execution_count": 72
        }
      ]
    },
    {
      "cell_type": "code",
      "source": [
        "model.predict([17])\n",
        "\n",
        "#1/1 [==============================] - 0s 37ms/step\n",
        "#array([[32.63552]], dtype=float32). before this model was better than this but this is better than the initial one\n"
      ],
      "metadata": {
        "colab": {
          "base_uri": "https://localhost:8080/"
        },
        "id": "NV71LYrmLdeR",
        "outputId": "74df9400-70d8-42be-dc73-d30c305ce618"
      },
      "execution_count": 75,
      "outputs": [
        {
          "output_type": "stream",
          "name": "stdout",
          "text": [
            "1/1 [==============================] - 0s 102ms/step\n"
          ]
        },
        {
          "output_type": "execute_result",
          "data": {
            "text/plain": [
              "array([[31.879534]], dtype=float32)"
            ]
          },
          "metadata": {},
          "execution_count": 75
        }
      ]
    },
    {
      "cell_type": "markdown",
      "source": [
        "**Evaluating the Models**\n",
        "\n",
        "1. In Practice a typical work flow u go through in building the neural networks model is : Build a model -> fit it -> evaluate it -> tweak a model. -> fit it -> evaluate it -> tweak a model -> fit it -> evaluate it ......\n",
        "\n",
        "2. When it comes to evaluation... there are 3 words you should momorize : \"Visualize, visualize, visualize\"\n",
        "\n",
        "3. When it comes to building a model...u should keep in mind that u have to \"Experiment Experiment and Experiment until u get the expected result\"\n",
        "\n",
        "**It's a goof idea to visualize :**\n",
        "\n",
        "* The data -> what data are we working with ? what does it look like\n",
        "* The model itself -> what does our model look like ?\n",
        "* The training model -> How does the model perform while it learns ?\n",
        "* The predictions of the model ->  How do the predictions of a model line up against the ground truth(Labels) ?\n",
        "\n"
      ],
      "metadata": {
        "id": "OnvHBQz3OAo3"
      }
    },
    {
      "cell_type": "code",
      "source": [
        "# Make a bigger dataset\n",
        "X = tf.range(-100, 100, 4)\n",
        "X"
      ],
      "metadata": {
        "colab": {
          "base_uri": "https://localhost:8080/"
        },
        "id": "hHg6DWd-Lniq",
        "outputId": "8beeb881-6a52-4a53-da27-7d7dee3df8f9"
      },
      "execution_count": 76,
      "outputs": [
        {
          "output_type": "execute_result",
          "data": {
            "text/plain": [
              "<tf.Tensor: shape=(50,), dtype=int32, numpy=\n",
              "array([-100,  -96,  -92,  -88,  -84,  -80,  -76,  -72,  -68,  -64,  -60,\n",
              "        -56,  -52,  -48,  -44,  -40,  -36,  -32,  -28,  -24,  -20,  -16,\n",
              "        -12,   -8,   -4,    0,    4,    8,   12,   16,   20,   24,   28,\n",
              "         32,   36,   40,   44,   48,   52,   56,   60,   64,   68,   72,\n",
              "         76,   80,   84,   88,   92,   96], dtype=int32)>"
            ]
          },
          "metadata": {},
          "execution_count": 76
        }
      ]
    },
    {
      "cell_type": "code",
      "source": [
        "# Make labels for the data\n",
        "y = X + 10\n",
        "y"
      ],
      "metadata": {
        "colab": {
          "base_uri": "https://localhost:8080/"
        },
        "id": "ZlBu-XsNQWST",
        "outputId": "7512ff16-2e8f-4943-8b77-a9e87529eeea"
      },
      "execution_count": 78,
      "outputs": [
        {
          "output_type": "execute_result",
          "data": {
            "text/plain": [
              "<tf.Tensor: shape=(50,), dtype=int32, numpy=\n",
              "array([-90, -86, -82, -78, -74, -70, -66, -62, -58, -54, -50, -46, -42,\n",
              "       -38, -34, -30, -26, -22, -18, -14, -10,  -6,  -2,   2,   6,  10,\n",
              "        14,  18,  22,  26,  30,  34,  38,  42,  46,  50,  54,  58,  62,\n",
              "        66,  70,  74,  78,  82,  86,  90,  94,  98, 102, 106], dtype=int32)>"
            ]
          },
          "metadata": {},
          "execution_count": 78
        }
      ]
    },
    {
      "cell_type": "code",
      "source": [
        "# Visualize the data\n",
        "\n",
        "import matplotlib.pyplot as plt\n",
        "\n",
        "plt.scatter(X, y)"
      ],
      "metadata": {
        "colab": {
          "base_uri": "https://localhost:8080/",
          "height": 447
        },
        "id": "hzNrAyU4QcjP",
        "outputId": "13dadceb-e2a8-46be-f02e-6948b0d8a8f3"
      },
      "execution_count": 79,
      "outputs": [
        {
          "output_type": "execute_result",
          "data": {
            "text/plain": [
              "<matplotlib.collections.PathCollection at 0x7ac6a582cc10>"
            ]
          },
          "metadata": {},
          "execution_count": 79
        },
        {
          "output_type": "display_data",
          "data": {
            "text/plain": [
              "<Figure size 640x480 with 1 Axes>"
            ],
            "image/png": "[encoded data removed]"
          },
          "metadata": {}
        }
      ]
    },
    {
      "cell_type": "markdown",
      "source": [
        "### The 3 sets...\n",
        "\n",
        "*** Training Set** - The model learns from this data, which is typically 70 - 80% of the total data u have available\n",
        "\n",
        "*** Validation Set** - The model gets tuned on this data, which is typically 10 - 15% of the data available\n",
        "\n",
        "*** Test Set** - the model gets evaluated on this data to test what it has learned, this set typically 10 - 15% of the total data available."
      ],
      "metadata": {
        "id": "BB0lZJ7SRDhM"
      }
    },
    {
      "cell_type": "code",
      "source": [
        "## Check the length of how many data samples we have\n",
        "\n",
        "len(X) #Usually we will have more than 100 but we have 50 as of now"
      ],
      "metadata": {
        "colab": {
          "base_uri": "https://localhost:8080/"
        },
        "id": "QYll5JV1RFcw",
        "outputId": "6245219e-d7ce-465e-de96-15a4bf1ab004"
      },
      "execution_count": 81,
      "outputs": [
        {
          "output_type": "execute_result",
          "data": {
            "text/plain": [
              "50"
            ]
          },
          "metadata": {},
          "execution_count": 81
        }
      ]
    },
    {
      "cell_type": "code",
      "source": [
        "# Split the data into train and test sets\n",
        "X_train = X[:40] # First 40 are training samples (80% of the data)\n",
        "y_train = y[:40]\n",
        "\n",
        "X_test = X[40:] # Last 10 are testing samples (20% of the data)\n",
        "y_test = y[40:]\n",
        "\n",
        "len(X_train), len(X_test), len(y_train), len(y_test)"
      ],
      "metadata": {
        "colab": {
          "base_uri": "https://localhost:8080/"
        },
        "id": "otIwDxIsSh6a",
        "outputId": "f4a6d5af-bbec-44a7-ffd4-fcc8061ea08f"
      },
      "execution_count": 85,
      "outputs": [
        {
          "output_type": "execute_result",
          "data": {
            "text/plain": [
              "(40, 10, 40, 10)"
            ]
          },
          "metadata": {},
          "execution_count": 85
        }
      ]
    },
    {
      "cell_type": "markdown",
      "source": [
        "**Visualizing the data**\n",
        "\n",
        "* Now we've got our training and test data sets.. Let's visualize them again to have better understanding\n"
      ],
      "metadata": {
        "id": "xs-Jeq9iUYbg"
      }
    },
    {
      "cell_type": "code",
      "source": [
        "plt.figure(figsize=(10,7)) #\n",
        "\n",
        "#Plot training data in blue\n",
        "plt.scatter(X_train, y_train, c=\"b\", label = \"Training Data\")  # c = \"b\" means color blue\n",
        "\n",
        "#Plot test data in green\n",
        "plt.scatter(X_test, y_test, c=\"g\", label = \"Test Data\") # c = \"g\" means color green\n",
        "plt.legend() # Gives the labels within the graph"
      ],
      "metadata": {
        "colab": {
          "base_uri": "https://localhost:8080/",
          "height": 616
        },
        "id": "KH7rX5NoTied",
        "outputId": "52a971bb-3b95-436e-f835-eda86ce72793"
      },
      "execution_count": 92,
      "outputs": [
        {
          "output_type": "execute_result",
          "data": {
            "text/plain": [
              "<matplotlib.legend.Legend at 0x7ac6a4cf69e0>"
            ]
          },
          "metadata": {},
          "execution_count": 92
        },
        {
          "output_type": "display_data",
          "data": {
            "text/plain": [
              "<Figure size 1000x700 with 1 Axes>"
            ],
            "image/png": "[encoded data removed]"
          },
          "metadata": {}
        }
      ]
    },
    {
      "cell_type": "code",
      "source": [
        "# Let's have a look at how to create the neural Netwrok\n",
        "\n",
        "#1.Create a model\n",
        "\n",
        "model = tf.keras.Sequential([\n",
        "    tf.keras.layers.Dense(1)\n",
        "])\n",
        "\n",
        "#2. Compile the model\n",
        "\n",
        "model.compile(loss = \"mae\", # or loss = tf.keras.losses.mae\n",
        "              optimizer = tf.keras.optimizers.SGD(),\n",
        "              metrics = [\"mae\"])\n",
        "\n",
        "# Fit the model\n",
        "\n",
        "model.fit(tf.expand_dims(X_train, axis = -1), y_train, epochs = 100) # can also build the models using the build() or fit()\n"
      ],
      "metadata": {
        "colab": {
          "base_uri": "https://localhost:8080/"
        },
        "id": "0SZ0CqnVVNfs",
        "outputId": "474c537e-26b7-4f75-cd2a-8e8e15bc85fb"
      },
      "execution_count": 98,
      "outputs": [
        {
          "output_type": "stream",
          "name": "stdout",
          "text": [
            "Epoch 1/100\n",
            "2/2 [==============================] - 0s 7ms/step - loss: 13.5718 - mae: 13.5718\n",
            "Epoch 2/100\n",
            "2/2 [==============================] - 0s 8ms/step - loss: 8.4005 - mae: 8.4005\n",
            "Epoch 3/100\n",
            "2/2 [==============================] - 0s 7ms/step - loss: 10.5479 - mae: 10.5479\n",
            "Epoch 4/100\n",
            "2/2 [==============================] - 0s 8ms/step - loss: 13.0658 - mae: 13.0658\n",
            "Epoch 5/100\n",
            "2/2 [==============================] - 0s 7ms/step - loss: 12.1255 - mae: 12.1255\n",
            "Epoch 6/100\n",
            "2/2 [==============================] - 0s 7ms/step - loss: 9.3783 - mae: 9.3783\n",
            "Epoch 7/100\n",
            "2/2 [==============================] - 0s 6ms/step - loss: 8.5261 - mae: 8.5261\n",
            "Epoch 8/100\n",
            "2/2 [==============================] - 0s 7ms/step - loss: 9.0346 - mae: 9.0346\n",
            "Epoch 9/100\n",
            "2/2 [==============================] - 0s 8ms/step - loss: 18.6522 - mae: 18.6522\n",
            "Epoch 10/100\n",
            "2/2 [==============================] - 0s 7ms/step - loss: 10.0545 - mae: 10.0545\n",
            "Epoch 11/100\n",
            "2/2 [==============================] - 0s 8ms/step - loss: 8.3711 - mae: 8.3711\n",
            "Epoch 12/100\n",
            "2/2 [==============================] - 0s 6ms/step - loss: 10.6149 - mae: 10.6149\n",
            "Epoch 13/100\n",
            "2/2 [==============================] - 0s 6ms/step - loss: 9.7744 - mae: 9.7744\n",
            "Epoch 14/100\n",
            "2/2 [==============================] - 0s 7ms/step - loss: 15.9052 - mae: 15.9052\n",
            "Epoch 15/100\n",
            "2/2 [==============================] - 0s 6ms/step - loss: 11.4816 - mae: 11.4816\n",
            "Epoch 16/100\n",
            "2/2 [==============================] - 0s 6ms/step - loss: 8.5098 - mae: 8.5098\n",
            "Epoch 17/100\n",
            "2/2 [==============================] - 0s 6ms/step - loss: 13.5733 - mae: 13.5733\n",
            "Epoch 18/100\n",
            "2/2 [==============================] - 0s 6ms/step - loss: 11.3877 - mae: 11.3877\n",
            "Epoch 19/100\n",
            "2/2 [==============================] - 0s 6ms/step - loss: 17.9934 - mae: 17.9934\n",
            "Epoch 20/100\n",
            "2/2 [==============================] - 0s 6ms/step - loss: 15.1275 - mae: 15.1275\n",
            "Epoch 21/100\n",
            "2/2 [==============================] - 0s 7ms/step - loss: 11.0850 - mae: 11.0850\n",
            "Epoch 22/100\n",
            "2/2 [==============================] - 0s 8ms/step - loss: 8.2123 - mae: 8.2123\n",
            "Epoch 23/100\n",
            "2/2 [==============================] - 0s 8ms/step - loss: 9.4617 - mae: 9.4617\n",
            "Epoch 24/100\n",
            "2/2 [==============================] - 0s 8ms/step - loss: 7.6701 - mae: 7.6701\n",
            "Epoch 25/100\n",
            "2/2 [==============================] - 0s 6ms/step - loss: 13.0766 - mae: 13.0766\n",
            "Epoch 26/100\n",
            "2/2 [==============================] - 0s 6ms/step - loss: 16.4979 - mae: 16.4979\n",
            "Epoch 27/100\n",
            "2/2 [==============================] - 0s 6ms/step - loss: 13.2286 - mae: 13.2286\n",
            "Epoch 28/100\n",
            "2/2 [==============================] - 0s 6ms/step - loss: 14.3371 - mae: 14.3371\n",
            "Epoch 29/100\n",
            "2/2 [==============================] - 0s 5ms/step - loss: 10.0854 - mae: 10.0854\n",
            "Epoch 30/100\n",
            "2/2 [==============================] - 0s 6ms/step - loss: 16.4653 - mae: 16.4653\n",
            "Epoch 31/100\n",
            "2/2 [==============================] - 0s 6ms/step - loss: 23.5267 - mae: 23.5267\n",
            "Epoch 32/100\n",
            "2/2 [==============================] - 0s 6ms/step - loss: 7.5976 - mae: 7.5976\n",
            "Epoch 33/100\n",
            "2/2 [==============================] - 0s 7ms/step - loss: 9.2921 - mae: 9.2921\n",
            "Epoch 34/100\n",
            "2/2 [==============================] - 0s 8ms/step - loss: 13.6412 - mae: 13.6412\n",
            "Epoch 35/100\n",
            "2/2 [==============================] - 0s 7ms/step - loss: 11.1728 - mae: 11.1728\n",
            "Epoch 36/100\n",
            "2/2 [==============================] - 0s 7ms/step - loss: 13.4176 - mae: 13.4176\n",
            "Epoch 37/100\n",
            "2/2 [==============================] - 0s 7ms/step - loss: 9.4325 - mae: 9.4325\n",
            "Epoch 38/100\n",
            "2/2 [==============================] - 0s 8ms/step - loss: 10.0818 - mae: 10.0818\n",
            "Epoch 39/100\n",
            "2/2 [==============================] - 0s 7ms/step - loss: 8.9600 - mae: 8.9600\n",
            "Epoch 40/100\n",
            "2/2 [==============================] - 0s 7ms/step - loss: 9.5868 - mae: 9.5868\n",
            "Epoch 41/100\n",
            "2/2 [==============================] - 0s 7ms/step - loss: 10.5464 - mae: 10.5464\n",
            "Epoch 42/100\n",
            "2/2 [==============================] - 0s 11ms/step - loss: 10.5978 - mae: 10.5978\n",
            "Epoch 43/100\n",
            "2/2 [==============================] - 0s 8ms/step - loss: 7.2037 - mae: 7.2037\n",
            "Epoch 44/100\n",
            "2/2 [==============================] - 0s 10ms/step - loss: 8.0031 - mae: 8.0031\n",
            "Epoch 45/100\n",
            "2/2 [==============================] - 0s 8ms/step - loss: 9.8012 - mae: 9.8012\n",
            "Epoch 46/100\n",
            "2/2 [==============================] - 0s 7ms/step - loss: 8.8800 - mae: 8.8800\n",
            "Epoch 47/100\n",
            "2/2 [==============================] - 0s 7ms/step - loss: 7.5618 - mae: 7.5618\n",
            "Epoch 48/100\n",
            "2/2 [==============================] - 0s 7ms/step - loss: 8.5426 - mae: 8.5426\n",
            "Epoch 49/100\n",
            "2/2 [==============================] - 0s 7ms/step - loss: 10.0102 - mae: 10.0102\n",
            "Epoch 50/100\n",
            "2/2 [==============================] - 0s 6ms/step - loss: 8.9912 - mae: 8.9912\n",
            "Epoch 51/100\n",
            "2/2 [==============================] - 0s 7ms/step - loss: 10.6841 - mae: 10.6841\n",
            "Epoch 52/100\n",
            "2/2 [==============================] - 0s 7ms/step - loss: 15.2690 - mae: 15.2690\n",
            "Epoch 53/100\n",
            "2/2 [==============================] - 0s 8ms/step - loss: 14.2962 - mae: 14.2962\n",
            "Epoch 54/100\n",
            "2/2 [==============================] - 0s 8ms/step - loss: 21.5669 - mae: 21.5669\n",
            "Epoch 55/100\n",
            "2/2 [==============================] - 0s 7ms/step - loss: 16.0226 - mae: 16.0226\n",
            "Epoch 56/100\n",
            "2/2 [==============================] - 0s 7ms/step - loss: 10.2566 - mae: 10.2566\n",
            "Epoch 57/100\n",
            "2/2 [==============================] - 0s 7ms/step - loss: 9.7772 - mae: 9.7772\n",
            "Epoch 58/100\n",
            "2/2 [==============================] - 0s 8ms/step - loss: 9.0606 - mae: 9.0606\n",
            "Epoch 59/100\n",
            "2/2 [==============================] - 0s 8ms/step - loss: 8.2660 - mae: 8.2660\n",
            "Epoch 60/100\n",
            "2/2 [==============================] - 0s 7ms/step - loss: 9.3594 - mae: 9.3594\n",
            "Epoch 61/100\n",
            "2/2 [==============================] - 0s 7ms/step - loss: 11.1802 - mae: 11.1802\n",
            "Epoch 62/100\n",
            "2/2 [==============================] - 0s 7ms/step - loss: 12.0440 - mae: 12.0440\n",
            "Epoch 63/100\n",
            "2/2 [==============================] - 0s 8ms/step - loss: 7.2645 - mae: 7.2645\n",
            "Epoch 64/100\n",
            "2/2 [==============================] - 0s 8ms/step - loss: 12.4464 - mae: 12.4464\n",
            "Epoch 65/100\n",
            "2/2 [==============================] - 0s 7ms/step - loss: 10.5161 - mae: 10.5161\n",
            "Epoch 66/100\n",
            "2/2 [==============================] - 0s 8ms/step - loss: 15.5770 - mae: 15.5770\n",
            "Epoch 67/100\n",
            "2/2 [==============================] - 0s 8ms/step - loss: 9.9851 - mae: 9.9851\n",
            "Epoch 68/100\n",
            "2/2 [==============================] - 0s 8ms/step - loss: 8.7062 - mae: 8.7062\n",
            "Epoch 69/100\n",
            "2/2 [==============================] - 0s 8ms/step - loss: 13.4528 - mae: 13.4528\n",
            "Epoch 70/100\n",
            "2/2 [==============================] - 0s 7ms/step - loss: 7.4614 - mae: 7.4614\n",
            "Epoch 71/100\n",
            "2/2 [==============================] - 0s 7ms/step - loss: 12.2429 - mae: 12.2429\n",
            "Epoch 72/100\n",
            "2/2 [==============================] - 0s 7ms/step - loss: 8.5102 - mae: 8.5102\n",
            "Epoch 73/100\n",
            "2/2 [==============================] - 0s 7ms/step - loss: 7.0299 - mae: 7.0299\n",
            "Epoch 74/100\n",
            "2/2 [==============================] - 0s 8ms/step - loss: 9.8960 - mae: 9.8960\n",
            "Epoch 75/100\n",
            "2/2 [==============================] - 0s 7ms/step - loss: 9.9459 - mae: 9.9459\n",
            "Epoch 76/100\n",
            "2/2 [==============================] - 0s 8ms/step - loss: 10.1083 - mae: 10.1083\n",
            "Epoch 77/100\n",
            "2/2 [==============================] - 0s 8ms/step - loss: 12.9747 - mae: 12.9747\n",
            "Epoch 78/100\n",
            "2/2 [==============================] - 0s 8ms/step - loss: 10.8920 - mae: 10.8920\n",
            "Epoch 79/100\n",
            "2/2 [==============================] - 0s 7ms/step - loss: 15.3815 - mae: 15.3815\n",
            "Epoch 80/100\n",
            "2/2 [==============================] - 0s 8ms/step - loss: 11.7146 - mae: 11.7146\n",
            "Epoch 81/100\n",
            "2/2 [==============================] - 0s 8ms/step - loss: 9.2522 - mae: 9.2522\n",
            "Epoch 82/100\n",
            "2/2 [==============================] - 0s 8ms/step - loss: 12.7170 - mae: 12.7170\n",
            "Epoch 83/100\n",
            "2/2 [==============================] - 0s 7ms/step - loss: 8.2699 - mae: 8.2699\n",
            "Epoch 84/100\n",
            "2/2 [==============================] - 0s 8ms/step - loss: 7.2994 - mae: 7.2994\n",
            "Epoch 85/100\n",
            "2/2 [==============================] - 0s 7ms/step - loss: 10.4675 - mae: 10.4675\n",
            "Epoch 86/100\n",
            "2/2 [==============================] - 0s 7ms/step - loss: 9.1364 - mae: 9.1364\n",
            "Epoch 87/100\n",
            "2/2 [==============================] - 0s 8ms/step - loss: 11.8537 - mae: 11.8537\n",
            "Epoch 88/100\n",
            "2/2 [==============================] - 0s 7ms/step - loss: 10.4617 - mae: 10.4617\n",
            "Epoch 89/100\n",
            "2/2 [==============================] - 0s 7ms/step - loss: 6.9607 - mae: 6.9607\n",
            "Epoch 90/100\n",
            "2/2 [==============================] - 0s 7ms/step - loss: 13.7887 - mae: 13.7887\n",
            "Epoch 91/100\n",
            "2/2 [==============================] - 0s 7ms/step - loss: 7.8628 - mae: 7.8628\n",
            "Epoch 92/100\n",
            "2/2 [==============================] - 0s 7ms/step - loss: 7.9036 - mae: 7.9036\n",
            "Epoch 93/100\n",
            "2/2 [==============================] - 0s 8ms/step - loss: 9.3951 - mae: 9.3951\n",
            "Epoch 94/100\n",
            "2/2 [==============================] - 0s 8ms/step - loss: 8.7179 - mae: 8.7179\n",
            "Epoch 95/100\n",
            "2/2 [==============================] - 0s 7ms/step - loss: 9.8310 - mae: 9.8310\n",
            "Epoch 96/100\n",
            "2/2 [==============================] - 0s 8ms/step - loss: 7.3386 - mae: 7.3386\n",
            "Epoch 97/100\n",
            "2/2 [==============================] - 0s 7ms/step - loss: 6.8472 - mae: 6.8472\n",
            "Epoch 98/100\n",
            "2/2 [==============================] - 0s 8ms/step - loss: 7.3576 - mae: 7.3576\n",
            "Epoch 99/100\n",
            "2/2 [==============================] - 0s 7ms/step - loss: 7.5219 - mae: 7.5219\n",
            "Epoch 100/100\n",
            "2/2 [==============================] - 0s 7ms/step - loss: 14.6560 - mae: 14.6560\n"
          ]
        },
        {
          "output_type": "execute_result",
          "data": {
            "text/plain": [
              "<keras.src.callbacks.History at 0x7ac6aac3d630>"
            ]
          },
          "metadata": {},
          "execution_count": 98
        }
      ]
    },
    {
      "cell_type": "markdown",
      "source": [
        "#Visualizing the model"
      ],
      "metadata": {
        "id": "xoDV74OKawrC"
      }
    },
    {
      "cell_type": "code",
      "source": [
        "model.summary()"
      ],
      "metadata": {
        "colab": {
          "base_uri": "https://localhost:8080/"
        },
        "id": "0jT3cN2naf60",
        "outputId": "6773ab73-ec93-43e0-b88c-ac33ed66e4e5"
      },
      "execution_count": 99,
      "outputs": [
        {
          "output_type": "stream",
          "name": "stdout",
          "text": [
            "Model: \"sequential_32\"\n",
            "_________________________________________________________________\n",
            " Layer (type)                Output Shape              Param #   \n",
            "=================================================================\n",
            " dense_38 (Dense)            (None, 1)                 2         \n",
            "                                                                 \n",
            "=================================================================\n",
            "Total params: 2 (8.00 Byte)\n",
            "Trainable params: 2 (8.00 Byte)\n",
            "Non-trainable params: 0 (0.00 Byte)\n",
            "_________________________________________________________________\n"
          ]
        }
      ]
    },
    {
      "cell_type": "code",
      "source": [
        "# Let's create a model which builds automatically by defining the input_shape argument in the first layer\n",
        "\n",
        "tf.random.set_seed(42)\n",
        "\n",
        "#1. Creating the model\n",
        "model = tf.keras.Sequential([\n",
        "    tf.keras.layers.Dense(10, input_shape=[1], name = \"input_layer\"),\n",
        "    tf.keras.layers.Dense(1, name = \"output_layer\")\n",
        "],name =\"CHENCHU_MODEL\")\n",
        "\n",
        "#2 compile the model\n",
        "\n",
        "model.compile(loss = \"mae\",\n",
        "              optimizer = tf.keras.optimizers.SGD(),\n",
        "              metrics = [\"mae\"])\n",
        "\n",
        "#3 Fit the model\n",
        "\n",
        "\n",
        "\n"
      ],
      "metadata": {
        "id": "dFAuBUE3bFg9"
      },
      "execution_count": 138,
      "outputs": []
    },
    {
      "cell_type": "code",
      "source": [
        "model.summary()"
      ],
      "metadata": {
        "colab": {
          "base_uri": "https://localhost:8080/"
        },
        "id": "ht-g0GYGbTIK",
        "outputId": "e1cb5cae-7fc3-401e-88f6-f19174728659"
      },
      "execution_count": 134,
      "outputs": [
        {
          "output_type": "stream",
          "name": "stdout",
          "text": [
            "Model: \"CHENCHU_MODEL\"\n",
            "_________________________________________________________________\n",
            " Layer (type)                Output Shape              Param #   \n",
            "=================================================================\n",
            " input_layer (Dense)         (None, 10)                20        \n",
            "                                                                 \n",
            " output_shape (Dense)        (None, 1)                 11        \n",
            "                                                                 \n",
            "=================================================================\n",
            "Total params: 31 (124.00 Byte)\n",
            "Trainable params: 31 (124.00 Byte)\n",
            "Non-trainable params: 0 (0.00 Byte)\n",
            "_________________________________________________________________\n"
          ]
        }
      ]
    },
    {
      "cell_type": "markdown",
      "source": [
        "**ELABORATION OF THE SUMMARY**\n",
        "\n",
        "***Total params:** Total number of parameters in the model\n",
        "\n",
        " ***Trainable params:** These are the parameters (Patterns) the model can update as it trains\n",
        "\n",
        "***Non-trainable params:** these parameters aren't updated during the training(this is typical when you bring in already learn patterns or parameters from other models during the transfer learning)\n",
        "\n",
        "**Resource :**  For more in-depth overview of the trainable parameters within a layer, check out MIT's introduction to deep learning video https://youtu.be/QDX-1M5Nj7s\n",
        "\n",
        "**Excercise :**  Try playing with the number of hidden units in the dense layer see how that effects the number of parameters (Total and trainable ) by calling model.summary()"
      ],
      "metadata": {
        "id": "_21-WEmfdQYo"
      }
    },
    {
      "cell_type": "code",
      "source": [
        "#Let's fit our model to the training the data\n",
        "\n",
        "model.fit(X_train, y_train, epochs = 100, verbose=0) # Verbosity mode  0 = Silent 1= progress bar 2 = one line per epoch\n"
      ],
      "metadata": {
        "colab": {
          "base_uri": "https://localhost:8080/"
        },
        "id": "lzP7dsH2cc5O",
        "outputId": "3bbbf2b6-eb95-4f89-ed64-aa3a63f252ba"
      },
      "execution_count": 139,
      "outputs": [
        {
          "output_type": "execute_result",
          "data": {
            "text/plain": [
              "<keras.src.callbacks.History at 0x7ac6a1769600>"
            ]
          },
          "metadata": {},
          "execution_count": 139
        }
      ]
    },
    {
      "cell_type": "code",
      "source": [
        "# Get the model summary\n",
        "model.summary()"
      ],
      "metadata": {
        "colab": {
          "base_uri": "https://localhost:8080/"
        },
        "id": "T7qXuDu2gwY4",
        "outputId": "5b537984-ffc7-48d7-8018-cd6236f42124"
      },
      "execution_count": 140,
      "outputs": [
        {
          "output_type": "stream",
          "name": "stdout",
          "text": [
            "Model: \"CHENCHU_MODEL\"\n",
            "_________________________________________________________________\n",
            " Layer (type)                Output Shape              Param #   \n",
            "=================================================================\n",
            " input_layer (Dense)         (None, 10)                20        \n",
            "                                                                 \n",
            " output_layer (Dense)        (None, 1)                 11        \n",
            "                                                                 \n",
            "=================================================================\n",
            "Total params: 31 (124.00 Byte)\n",
            "Trainable params: 31 (124.00 Byte)\n",
            "Non-trainable params: 0 (0.00 Byte)\n",
            "_________________________________________________________________\n"
          ]
        }
      ]
    },
    {
      "cell_type": "code",
      "source": [
        "# We can also visualize the data using the plot_model from utils\n",
        "\n",
        "from tensorflow.keras.utils import plot_model\n",
        "\n",
        "plot_model(model=model, show_shapes=True)"
      ],
      "metadata": {
        "colab": {
          "base_uri": "https://localhost:8080/",
          "height": 312
        },
        "id": "C_awP_9chR2s",
        "outputId": "4ab92242-1e49-4442-8d0f-259c9da3ea0b"
      },
      "execution_count": 141,
      "outputs": [
        {
          "output_type": "execute_result",
          "data": {
            "image/png": "[encoded data removed]",
            "text/plain": [
              "<IPython.core.display.Image object>"
            ]
          },
          "metadata": {},
          "execution_count": 141
        }
      ]
    },
    {
      "cell_type": "code",
      "source": [],
      "metadata": {
        "id": "CbMuNATQh9_D"
      },
      "execution_count": null,
      "outputs": []
    }
  ]
}