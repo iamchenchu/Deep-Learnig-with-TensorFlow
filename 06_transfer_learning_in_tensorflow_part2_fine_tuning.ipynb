{
  "nbformat": 4,
  "nbformat_minor": 0,
  "metadata": {
    "colab": {
      "provenance": [],
      "gpuType": "T4",
      "authorship_tag": "ABX9TyNRfFXkDCnQAz/B3XlEiKM1",
      "include_colab_link": true
    },
    "kernelspec": {
      "name": "python3",
      "display_name": "Python 3"
    },
    "language_info": {
      "name": "python"
    },
    "accelerator": "GPU"
  },
  "cells": [
    {
      "cell_type": "markdown",
      "metadata": {
        "id": "view-in-github",
        "colab_type": "text"
      },
      "source": [
        "<a href=\"https://colab.research.google.com/github/iamchenchu/Deep-Learnig-with-TensorFlow/blob/main/06_transfer_learning_in_tensorflow_part2_fine_tuning.ipynb\" target=\"_parent\"><img src=\"https://colab.research.google.com/assets/colab-badge.svg\" alt=\"Open In Colab\"/></a>"
      ]
    },
    {
      "cell_type": "markdown",
      "source": [
        "# Transfer Learning with TensorFlow Part 2: Fine Tuning\n",
        "\n",
        "In previous notebook, we covered transfer learning feature extraction, now it's time to learn about a new kind of transfer learning : Fine tuning\n"
      ],
      "metadata": {
        "id": "8VzmE4aMbk2Q"
      }
    },
    {
      "cell_type": "code",
      "source": [
        "#Check if we are using the GPU\n",
        "\n",
        "!nvidia-smi"
      ],
      "metadata": {
        "colab": {
          "base_uri": "https://localhost:8080/"
        },
        "id": "Ob5zLilyb__h",
        "outputId": "31f620d3-7977-463a-a3fe-eadfba97aeeb"
      },
      "execution_count": null,
      "outputs": [
        {
          "output_type": "stream",
          "name": "stdout",
          "text": [
            "Wed Dec 20 20:19:09 2023       \n",
            "+---------------------------------------------------------------------------------------+\n",
            "| NVIDIA-SMI 535.104.05             Driver Version: 535.104.05   CUDA Version: 12.2     |\n",
            "|-----------------------------------------+----------------------+----------------------+\n",
            "| GPU  Name                 Persistence-M | Bus-Id        Disp.A | Volatile Uncorr. ECC |\n",
            "| Fan  Temp   Perf          Pwr:Usage/Cap |         Memory-Usage | GPU-Util  Compute M. |\n",
            "|                                         |                      |               MIG M. |\n",
            "|=========================================+======================+======================|\n",
            "|   0  Tesla T4                       Off | 00000000:00:04.0 Off |                    0 |\n",
            "| N/A   34C    P8               9W /  70W |      0MiB / 15360MiB |      0%      Default |\n",
            "|                                         |                      |                  N/A |\n",
            "+-----------------------------------------+----------------------+----------------------+\n",
            "                                                                                         \n",
            "+---------------------------------------------------------------------------------------+\n",
            "| Processes:                                                                            |\n",
            "|  GPU   GI   CI        PID   Type   Process name                            GPU Memory |\n",
            "|        ID   ID                                                             Usage      |\n",
            "|=======================================================================================|\n",
            "|  No running processes found                                                           |\n",
            "+---------------------------------------------------------------------------------------+\n"
          ]
        }
      ]
    },
    {
      "cell_type": "markdown",
      "source": [
        "# Creating helper functions\n",
        "In previous notebooks, we've created a bunch of helper functions, now we could rewrite them all, however, this is tedious.\n",
        "\n",
        "Instead of creating helper functions every time, create them in one notebook and keep them available maybe in your github and download that helper functions to the current notebook and inport the respective functions as per your requirement.\n",
        "\n",
        "\n",
        "\n"
      ],
      "metadata": {
        "id": "zZwoAAvkcUXt"
      }
    },
    {
      "cell_type": "code",
      "source": [
        "# Get helper_functions.py script from course GitHub\n",
        "!wget https://raw.githubusercontent.com/mrdbourke/tensorflow-deep-learning/main/extras/helper_functions.py\n",
        "\n",
        "# Import helper functions we're going to use\n",
        "from helper_functions import create_tensorboard_callback, plot_loss_curves, unzip_data, walk_through_dir"
      ],
      "metadata": {
        "colab": {
          "base_uri": "https://localhost:8080/"
        },
        "id": "1ng5dcCncP6F",
        "outputId": "ce70aa8a-79bd-415e-827f-3513390e1390"
      },
      "execution_count": null,
      "outputs": [
        {
          "output_type": "stream",
          "name": "stdout",
          "text": [
            "--2023-12-20 19:49:02--  https://raw.githubusercontent.com/mrdbourke/tensorflow-deep-learning/main/extras/helper_functions.py\n",
            "Resolving raw.githubusercontent.com (raw.githubusercontent.com)... 185.199.108.133, 185.199.109.133, 185.199.110.133, ...\n",
            "Connecting to raw.githubusercontent.com (raw.githubusercontent.com)|185.199.108.133|:443... connected.\n",
            "HTTP request sent, awaiting response... 200 OK\n",
            "Length: 10246 (10K) [text/plain]\n",
            "Saving to: ‘helper_functions.py’\n",
            "\n",
            "\rhelper_functions.py   0%[                    ]       0  --.-KB/s               \rhelper_functions.py 100%[===================>]  10.01K  --.-KB/s    in 0s      \n",
            "\n",
            "2023-12-20 19:49:02 (75.9 MB/s) - ‘helper_functions.py’ saved [10246/10246]\n",
            "\n"
          ]
        }
      ]
    },
    {
      "cell_type": "markdown",
      "source": [
        "**Note :** If you're running this notebook in google colab. when it times out Colab will delete `helper_functions.py`, so you will have to re download it, if you want to use the helper functions.\n"
      ],
      "metadata": {
        "id": "yWetOPSD4A7m"
      }
    },
    {
      "cell_type": "markdown",
      "source": [
        "#Let's get some data\n",
        "\n",
        "this time we're going to see how we can use the pretrained models ithin `tf.keras.applications` and apply them to our own problem (Recognizing images of food)\n",
        "\n",
        "Link : https://www.tensorflow.org/api_docs/python/tf/keras/applications"
      ],
      "metadata": {
        "id": "XlVOfTOx6qcj"
      }
    },
    {
      "cell_type": "code",
      "source": [
        "# Get 10% of the training data of classes of Food101\n",
        "\n",
        "!wget https://storage.googleapis.com/ztm_tf_course/food_vision/10_food_classes_10_percent.zip\n",
        "\n",
        "#Unzip the data\n",
        "\n",
        "unzip_data(\"10_food_classes_10_percent.zip\")\n",
        "\n",
        "\n"
      ],
      "metadata": {
        "colab": {
          "base_uri": "https://localhost:8080/"
        },
        "id": "We_YKMQjgVMs",
        "outputId": "d2d8973f-a6e7-485a-a3c6-6b2c9140047e"
      },
      "execution_count": null,
      "outputs": [
        {
          "output_type": "stream",
          "name": "stdout",
          "text": [
            "--2023-12-20 20:51:58--  https://storage.googleapis.com/ztm_tf_course/food_vision/10_food_classes_10_percent.zip\n",
            "Resolving storage.googleapis.com (storage.googleapis.com)... 74.125.135.207, 74.125.142.207, 74.125.195.207, ...\n",
            "Connecting to storage.googleapis.com (storage.googleapis.com)|74.125.135.207|:443... connected.\n",
            "HTTP request sent, awaiting response... 200 OK\n",
            "Length: 168546183 (161M) [application/zip]\n",
            "Saving to: ‘10_food_classes_10_percent.zip’\n",
            "\n",
            "10_food_classes_10_ 100%[===================>] 160.74M   193MB/s    in 0.8s    \n",
            "\n",
            "2023-12-20 20:51:59 (193 MB/s) - ‘10_food_classes_10_percent.zip’ saved [168546183/168546183]\n",
            "\n"
          ]
        }
      ]
    },
    {
      "cell_type": "code",
      "source": [
        "#Check out how many images are there in the our dataset\n",
        "\n",
        "walk_through_dir(\"10_food_classes_10_percent\")"
      ],
      "metadata": {
        "colab": {
          "base_uri": "https://localhost:8080/"
        },
        "id": "u3dLm-5h_9Sl",
        "outputId": "7288f19e-ad7b-46c7-c803-777a9473efb6"
      },
      "execution_count": null,
      "outputs": [
        {
          "output_type": "stream",
          "name": "stdout",
          "text": [
            "There are 2 directories and 0 images in '10_food_classes_10_percent'.\n",
            "There are 10 directories and 0 images in '10_food_classes_10_percent/train'.\n",
            "There are 0 directories and 75 images in '10_food_classes_10_percent/train/chicken_wings'.\n",
            "There are 0 directories and 75 images in '10_food_classes_10_percent/train/sushi'.\n",
            "There are 0 directories and 75 images in '10_food_classes_10_percent/train/grilled_salmon'.\n",
            "There are 0 directories and 75 images in '10_food_classes_10_percent/train/chicken_curry'.\n",
            "There are 0 directories and 75 images in '10_food_classes_10_percent/train/hamburger'.\n",
            "There are 0 directories and 75 images in '10_food_classes_10_percent/train/fried_rice'.\n",
            "There are 0 directories and 75 images in '10_food_classes_10_percent/train/ice_cream'.\n",
            "There are 0 directories and 75 images in '10_food_classes_10_percent/train/ramen'.\n",
            "There are 0 directories and 75 images in '10_food_classes_10_percent/train/steak'.\n",
            "There are 0 directories and 75 images in '10_food_classes_10_percent/train/pizza'.\n",
            "There are 10 directories and 0 images in '10_food_classes_10_percent/test'.\n",
            "There are 0 directories and 250 images in '10_food_classes_10_percent/test/chicken_wings'.\n",
            "There are 0 directories and 250 images in '10_food_classes_10_percent/test/sushi'.\n",
            "There are 0 directories and 250 images in '10_food_classes_10_percent/test/grilled_salmon'.\n",
            "There are 0 directories and 250 images in '10_food_classes_10_percent/test/chicken_curry'.\n",
            "There are 0 directories and 250 images in '10_food_classes_10_percent/test/hamburger'.\n",
            "There are 0 directories and 250 images in '10_food_classes_10_percent/test/fried_rice'.\n",
            "There are 0 directories and 250 images in '10_food_classes_10_percent/test/ice_cream'.\n",
            "There are 0 directories and 250 images in '10_food_classes_10_percent/test/ramen'.\n",
            "There are 0 directories and 250 images in '10_food_classes_10_percent/test/steak'.\n",
            "There are 0 directories and 250 images in '10_food_classes_10_percent/test/pizza'.\n"
          ]
        }
      ]
    },
    {
      "cell_type": "code",
      "source": [
        "# Create a training and test direcotry paths\n",
        "\n",
        "train_dir = \"10_food_classes_10_percent/train\"\n",
        "test_dir = \"10_food_classes_10_percent/test\""
      ],
      "metadata": {
        "id": "GXC7k-viADAG"
      },
      "execution_count": null,
      "outputs": []
    },
    {
      "cell_type": "code",
      "source": [
        "# so far we were using ImageDataGenerator now let's use image_dataset_from_directory\n",
        "\n",
        "import tensorflow as tf\n",
        "IMG_SIZE = (224, 224)\n",
        "BATCH_SIZE = 32\n",
        "train_data_10_percent = tf.keras.preprocessing.image_dataset_from_directory(directory = train_dir,\n",
        "                                                                            image_size = IMG_SIZE,\n",
        "                                                                            label_mode = \"categorical\",\n",
        "                                                                            batch_size = BATCH_SIZE)\n",
        "\n",
        "test_data = tf.keras.preprocessing.image_dataset_from_directory(directory = test_dir,\n",
        "                                                                image_size = IMG_SIZE,\n",
        "                                                                label_mode = \"categorical\",\n",
        "                                                                batch_size = BATCH_SIZE)"
      ],
      "metadata": {
        "colab": {
          "base_uri": "https://localhost:8080/"
        },
        "id": "xHvDulYsAYuO",
        "outputId": "6369b304-9cc0-4bd2-db05-525a251d4f91"
      },
      "execution_count": null,
      "outputs": [
        {
          "output_type": "stream",
          "name": "stdout",
          "text": [
            "Found 750 files belonging to 10 classes.\n",
            "Found 2500 files belonging to 10 classes.\n"
          ]
        }
      ]
    },
    {
      "cell_type": "code",
      "source": [
        "train_data_10_percent"
      ],
      "metadata": {
        "colab": {
          "base_uri": "https://localhost:8080/"
        },
        "id": "u3trEd_lZwp-",
        "outputId": "b02ecfbe-530a-44ac-ad17-ad8514e0af98"
      },
      "execution_count": null,
      "outputs": [
        {
          "output_type": "execute_result",
          "data": {
            "text/plain": [
              "<_PrefetchDataset element_spec=(TensorSpec(shape=(None, 224, 224, 3), dtype=tf.float32, name=None), TensorSpec(shape=(None, 10), dtype=tf.float32, name=None))>"
            ]
          },
          "metadata": {},
          "execution_count": 10
        }
      ]
    },
    {
      "cell_type": "code",
      "source": [
        "#Check out the class names of our dataset\n",
        "\n",
        "train_data_10_percent.class_names"
      ],
      "metadata": {
        "colab": {
          "base_uri": "https://localhost:8080/"
        },
        "id": "DX0KjME0Z3sO",
        "outputId": "2f5ecab9-ac0e-4ca7-e356-8613866e747b"
      },
      "execution_count": null,
      "outputs": [
        {
          "output_type": "execute_result",
          "data": {
            "text/plain": [
              "['chicken_curry',\n",
              " 'chicken_wings',\n",
              " 'fried_rice',\n",
              " 'grilled_salmon',\n",
              " 'hamburger',\n",
              " 'ice_cream',\n",
              " 'pizza',\n",
              " 'ramen',\n",
              " 'steak',\n",
              " 'sushi']"
            ]
          },
          "metadata": {},
          "execution_count": 11
        }
      ]
    },
    {
      "cell_type": "code",
      "source": [
        "# See an example of a batch of the data\n",
        "\n",
        "for images, labels in train_data_10_percent.take(1):\n",
        "  print(images, labels)"
      ],
      "metadata": {
        "colab": {
          "base_uri": "https://localhost:8080/"
        },
        "id": "BADDVwrXbagW",
        "outputId": "579953e4-09e4-4bd0-86b1-f5b37c577a8d"
      },
      "execution_count": null,
      "outputs": [
        {
          "output_type": "stream",
          "name": "stdout",
          "text": [
            "tf.Tensor(\n",
            "[[[[  2.           6.           5.        ]\n",
            "   [  2.           6.           5.        ]\n",
            "   [  1.           5.           4.        ]\n",
            "   ...\n",
            "   [ 33.785736    30.785736    21.785736  ]\n",
            "   [ 33.92856     30.928558    21.928558  ]\n",
            "   [ 31.642822    28.642822    19.642822  ]]\n",
            "\n",
            "  [[  2.           6.           5.        ]\n",
            "   [  1.0714283    5.0714283    4.0714283 ]\n",
            "   [  1.           5.           4.        ]\n",
            "   ...\n",
            "   [ 33.785736    30.785736    21.785736  ]\n",
            "   [ 33.92856     30.928558    21.928558  ]\n",
            "   [ 31.642822    28.642822    19.642822  ]]\n",
            "\n",
            "  [[  1.2142859    5.214286     4.214286  ]\n",
            "   [  1.0153061    5.015306     4.015306  ]\n",
            "   [  1.7857141    5.785714     4.785714  ]\n",
            "   ...\n",
            "   [ 33.785736    30.785736    21.785736  ]\n",
            "   [ 33.92856     30.928558    21.928558  ]\n",
            "   [ 31.642822    28.642822    19.642822  ]]\n",
            "\n",
            "  ...\n",
            "\n",
            "  [[143.28572    153.28572    154.28572   ]\n",
            "   [149.95915    159.95915    160.95915   ]\n",
            "   [150.32652    161.83162    163.66325   ]\n",
            "   ...\n",
            "   [ 32.42862     15.260302     0.55105215]\n",
            "   [ 38.21934     30.576517    11.392812  ]\n",
            "   [ 53.827477    50.526566    29.608114  ]]\n",
            "\n",
            "  [[140.83159    150.83159    151.83159   ]\n",
            "   [145.00507    155.00507    156.00507   ]\n",
            "   [149.82654    160.82654    162.82654   ]\n",
            "   ...\n",
            "   [ 38.30113     22.086864     6.0868645 ]\n",
            "   [ 37.602192    30.877754    12.734901  ]\n",
            "   [ 79.771576    79.76659     59.40941   ]]\n",
            "\n",
            "  [[139.69897    149.69897    150.69897   ]\n",
            "   [145.5        155.5        156.5       ]\n",
            "   [147.65308    157.86736    159.86736   ]\n",
            "   ...\n",
            "   [ 39.510315    25.867525     9.081789  ]\n",
            "   [ 47.490067    42.775833    23.704391  ]\n",
            "   [ 97.54613     99.26048     80.903305  ]]]\n",
            "\n",
            "\n",
            " [[[150.35715     64.35714     64.07143   ]\n",
            "   [148.40306     63.377552    59.765305  ]\n",
            "   [147.13776     64.78062     56.566326  ]\n",
            "   ...\n",
            "   [209.15305    235.15305    248.15305   ]\n",
            "   [211.         237.         250.        ]\n",
            "   [209.57137    235.57137    248.57137   ]]\n",
            "\n",
            "  [[148.09694     62.09694     61.09694   ]\n",
            "   [147.93367     62.933674    59.933674  ]\n",
            "   [145.41325     65.44388     58.5       ]\n",
            "   ...\n",
            "   [208.72961    234.72961    247.72961   ]\n",
            "   [211.0051     237.0051     250.0051    ]\n",
            "   [211.97449    237.97449    250.97449   ]]\n",
            "\n",
            "  [[146.79082     58.790813    57.57653   ]\n",
            "   [147.58673     64.2296      60.729595  ]\n",
            "   [144.47449     65.61224     63.066326  ]\n",
            "   ...\n",
            "   [210.78574    236.78574    249.78574   ]\n",
            "   [209.         235.         248.        ]\n",
            "   [210.07654    236.07654    249.07654   ]]\n",
            "\n",
            "  ...\n",
            "\n",
            "  [[138.62245     88.19393     89.408195  ]\n",
            "   [137.54066     87.11214     88.3264    ]\n",
            "   [137.64278     87.428505    86.428505  ]\n",
            "   ...\n",
            "   [200.         224.         234.42853   ]\n",
            "   [200.07144    227.07144    234.07144   ]\n",
            "   [201.         229.         233.        ]]\n",
            "\n",
            "  [[138.49486     88.49486     89.49486   ]\n",
            "   [138.92348     88.92347     87.92347   ]\n",
            "   [140.58673     90.58674     89.58674   ]\n",
            "   ...\n",
            "   [200.7143     224.7143     235.14282   ]\n",
            "   [199.07654    226.07654    233.07654   ]\n",
            "   [198.81122    226.81122    230.81122   ]]\n",
            "\n",
            "  [[130.44376     80.44376     81.44376   ]\n",
            "   [134.12228     84.122284    83.122284  ]\n",
            "   [134.50493     84.50494     83.50494   ]\n",
            "   ...\n",
            "   [201.57661    225.57661    236.00514   ]\n",
            "   [200.0204     227.0204     234.0204    ]\n",
            "   [199.92847    227.92847    231.92847   ]]]\n",
            "\n",
            "\n",
            " [[[ 50.413265    39.413265    33.413265  ]\n",
            "   [ 50.5         41.5         34.5       ]\n",
            "   [ 56.285713    47.714287    40.5       ]\n",
            "   ...\n",
            "   [128.90318    125.347015   115.41331   ]\n",
            "   [116.43354    107.67332     93.147766  ]\n",
            "   [103.734726    90.2755      71.27543   ]]\n",
            "\n",
            "  [[ 51.045918    40.045918    34.045918  ]\n",
            "   [ 50.92347     41.92347     34.92347   ]\n",
            "   [ 56.642857    48.07143     40.857143  ]\n",
            "   ...\n",
            "   [101.903145    90.816345    75.244896  ]\n",
            "   [111.64799     96.7143      75.846924  ]\n",
            "   [112.05096     94.525475    69.93358   ]]\n",
            "\n",
            "  [[ 50.137756    39.137756    33.137756  ]\n",
            "   [ 50.05612     41.05612     34.05612   ]\n",
            "   [ 55.688774    47.117348    39.90306   ]\n",
            "   ...\n",
            "   [100.6889      86.11743     67.11743   ]\n",
            "   [109.58678     93.44389     70.37245   ]\n",
            "   [116.48985     97.132706    71.35714   ]]\n",
            "\n",
            "  ...\n",
            "\n",
            "  [[254.         254.         254.        ]\n",
            "   [254.         254.         254.        ]\n",
            "   [254.         254.         254.        ]\n",
            "   ...\n",
            "   [104.28067     89.142944    85.76032   ]\n",
            "   [108.642914    93.642914    90.642914  ]\n",
            "   [109.85212     94.85212     91.85212   ]]\n",
            "\n",
            "  [[254.         254.         254.        ]\n",
            "   [254.         254.         254.        ]\n",
            "   [254.         254.         254.        ]\n",
            "   ...\n",
            "   [105.00006     89.214325    88.57153   ]\n",
            "   [106.20412     92.20412     91.20412   ]\n",
            "   [106.          92.          91.        ]]\n",
            "\n",
            "  [[254.         254.         254.        ]\n",
            "   [254.         254.         254.        ]\n",
            "   [254.         254.         254.        ]\n",
            "   ...\n",
            "   [108.92347     93.13773     92.49494   ]\n",
            "   [108.92856     94.92856     93.92856   ]\n",
            "   [107.2296      93.2296      92.2296    ]]]\n",
            "\n",
            "\n",
            " ...\n",
            "\n",
            "\n",
            " [[[183.35715    165.35715    153.35715   ]\n",
            "   [184.26021    166.26021    156.26021   ]\n",
            "   [187.78572    169.78572    159.78572   ]\n",
            "   ...\n",
            "   [107.13796     87.28091     80.34726   ]\n",
            "   [125.091896   114.285805   108.99499   ]\n",
            "   [132.58672    125.65826    122.30108   ]]\n",
            "\n",
            "  [[183.35715    165.35715    153.35715   ]\n",
            "   [183.92857    165.92857    153.92857   ]\n",
            "   [185.32652    167.32652    157.32652   ]\n",
            "   ...\n",
            "   [ 95.31134     74.86751     67.056366  ]\n",
            "   [109.13274     96.28583     90.29093   ]\n",
            "   [123.78585    115.18895    110.99513   ]]\n",
            "\n",
            "  [[183.         165.         153.        ]\n",
            "   [182.80103    164.80103    152.80103   ]\n",
            "   [182.2143     164.2143     152.55103   ]\n",
            "   ...\n",
            "   [ 86.59191     63.37765     54.949123  ]\n",
            "   [ 99.57155     82.28586     75.398125  ]\n",
            "   [120.49002    106.36757    101.56152   ]]\n",
            "\n",
            "  ...\n",
            "\n",
            "  [[219.71436    204.29085    174.        ]\n",
            "   [221.30109    210.14293    180.04597   ]\n",
            "   [219.18884    210.8317     179.52557   ]\n",
            "   ...\n",
            "   [164.7346     128.28558    101.33149   ]\n",
            "   [136.08669     94.57135     69.38764   ]\n",
            "   [127.24425     84.66778     58.88704   ]]\n",
            "\n",
            "  [[220.35715    203.31123    169.49997   ]\n",
            "   [222.00002    211.7143     176.63776   ]\n",
            "   [218.         212.30103    180.7143    ]\n",
            "   ...\n",
            "   [149.46936    109.556046    74.77025   ]\n",
            "   [146.76508    101.6273      68.41297   ]\n",
            "   [124.09675     77.953865    44.739536  ]]\n",
            "\n",
            "  [[220.28561    204.21419    164.85696   ]\n",
            "   [223.21422    212.9285     176.85707   ]\n",
            "   [218.28564    213.71422    181.9285    ]\n",
            "   ...\n",
            "   [137.09186     95.454       53.515205  ]\n",
            "   [153.46426    107.61214     66.30089   ]\n",
            "   [128.90785     79.90786     39.550682  ]]]\n",
            "\n",
            "\n",
            " [[[ 72.28571     38.285713    36.285713  ]\n",
            "   [ 75.688774    41.688778    40.688778  ]\n",
            "   [ 71.07653     37.07653     36.505104  ]\n",
            "   ...\n",
            "   [100.73475     98.086754    80.37759   ]\n",
            "   [108.89793    105.54079     91.637726  ]\n",
            "   [ 99.41303     93.05589     81.77018   ]]\n",
            "\n",
            "  [[ 70.311226    36.311222    34.311222  ]\n",
            "   [ 74.79082     40.790817    39.790817  ]\n",
            "   [ 72.78571     38.785713    37.785713  ]\n",
            "   ...\n",
            "   [211.11772    208.68907    199.90338   ]\n",
            "   [119.89285    114.82142    109.38267   ]\n",
            "   [ 95.50907     90.43764     86.86621   ]]\n",
            "\n",
            "  [[ 71.42857     37.42857     36.214287  ]\n",
            "   [ 73.78571     39.785713    38.785713  ]\n",
            "   [ 70.61735     36.617348    35.617348  ]\n",
            "   ...\n",
            "   [123.07132    121.117195   122.61721   ]\n",
            "   [123.86716    117.081436   122.581436  ]\n",
            "   [ 62.335526    53.192665    60.692665  ]]\n",
            "\n",
            "  ...\n",
            "\n",
            "  [[ 74.99489     23.994886    22.994886  ]\n",
            "   [ 77.09698     26.096981    25.096981  ]\n",
            "   [ 78.90823     28.122524    27.122524  ]\n",
            "   ...\n",
            "   [120.02553     94.02553     71.02553   ]\n",
            "   [118.18365     91.18365     70.18365   ]\n",
            "   [120.64264     92.85693     71.85693   ]]\n",
            "\n",
            "  [[ 75.45411     24.45411     23.45411   ]\n",
            "   [ 86.2297      35.229694    34.229694  ]\n",
            "   [ 87.964325    37.178616    36.178616  ]\n",
            "   ...\n",
            "   [114.214355    88.214355    65.214355  ]\n",
            "   [114.795876    87.795876    66.795876  ]\n",
            "   [109.85693     82.85693     61.856934  ]]\n",
            "\n",
            "  [[ 75.83165     21.831654    21.831654  ]\n",
            "   [ 76.68882     25.688824    24.688824  ]\n",
            "   [ 80.34185     29.556137    28.556137  ]\n",
            "   ...\n",
            "   [121.69899     96.12752     72.91325   ]\n",
            "   [119.357086    92.357086    71.357086  ]\n",
            "   [112.21414     85.21414     64.21414   ]]]\n",
            "\n",
            "\n",
            " [[[241.35715    223.35715    187.35715   ]\n",
            "   [237.40306    221.40306    186.59694   ]\n",
            "   [235.85204    220.06633    187.49489   ]\n",
            "   ...\n",
            "   [122.12233     60.683567    23.25504   ]\n",
            "   [104.336586    45.55091     12.48973   ]\n",
            "   [ 80.58137     25.39774      0.        ]]\n",
            "\n",
            "  [[236.85713    220.85713    184.85713   ]\n",
            "   [232.35204    216.35204    182.35204   ]\n",
            "   [230.92857    216.91327    181.94388   ]\n",
            "   ...\n",
            "   [131.89798     69.69902     30.270496  ]\n",
            "   [130.54587     70.81629     33.8316    ]\n",
            "   [121.41822     62.229515    26.015194  ]]\n",
            "\n",
            "  [[239.35715    223.57143    189.78572   ]\n",
            "   [235.71428    221.71428    186.71428   ]\n",
            "   [233.33675    218.78572    181.43367   ]\n",
            "   ...\n",
            "   [133.38266     70.16837     26.954086  ]\n",
            "   [130.48466     67.142845    25.91325   ]\n",
            "   [128.35204     64.852104    26.066353  ]]\n",
            "\n",
            "  ...\n",
            "\n",
            "  [[244.28062    207.28062     90.709145  ]\n",
            "   [243.21426    206.21426     91.10202   ]\n",
            "   [246.1684     208.9541      95.59697   ]\n",
            "   ...\n",
            "   [128.76456     91.31062     58.193394  ]\n",
            "   [108.10709     88.0051      71.943924  ]\n",
            "   [102.38791     92.38291     88.31156   ]]\n",
            "\n",
            "  [[246.2857     210.2857      90.142815  ]\n",
            "   [244.06633    207.20409     89.790794  ]\n",
            "   [245.05609    207.84181     94.428535  ]\n",
            "   ...\n",
            "   [126.72396     82.56589     45.050797  ]\n",
            "   [103.724625    81.08183     63.31147   ]\n",
            "   [105.09672     94.362045    89.79076   ]]\n",
            "\n",
            "  [[244.64285    208.64285     86.64286   ]\n",
            "   [246.04602    210.04602     90.04602   ]\n",
            "   [245.50008    208.28578     94.14293   ]\n",
            "   ...\n",
            "   [157.87228    111.29591     69.377716  ]\n",
            "   [114.632935    87.87281     67.3729    ]\n",
            "   [105.55629     92.81144     88.46975   ]]]], shape=(32, 224, 224, 3), dtype=float32) tf.Tensor(\n",
            "[[0. 0. 0. 1. 0. 0. 0. 0. 0. 0.]\n",
            " [0. 0. 0. 0. 1. 0. 0. 0. 0. 0.]\n",
            " [0. 0. 0. 0. 0. 0. 0. 0. 1. 0.]\n",
            " [0. 0. 0. 0. 0. 0. 0. 1. 0. 0.]\n",
            " [0. 0. 0. 0. 0. 0. 1. 0. 0. 0.]\n",
            " [0. 0. 0. 0. 0. 0. 0. 0. 0. 1.]\n",
            " [0. 0. 0. 0. 0. 1. 0. 0. 0. 0.]\n",
            " [0. 0. 0. 0. 0. 0. 1. 0. 0. 0.]\n",
            " [0. 0. 0. 0. 0. 0. 0. 0. 0. 1.]\n",
            " [0. 0. 0. 0. 0. 1. 0. 0. 0. 0.]\n",
            " [0. 1. 0. 0. 0. 0. 0. 0. 0. 0.]\n",
            " [1. 0. 0. 0. 0. 0. 0. 0. 0. 0.]\n",
            " [0. 0. 0. 0. 0. 0. 0. 1. 0. 0.]\n",
            " [0. 1. 0. 0. 0. 0. 0. 0. 0. 0.]\n",
            " [0. 0. 0. 0. 0. 1. 0. 0. 0. 0.]\n",
            " [0. 0. 1. 0. 0. 0. 0. 0. 0. 0.]\n",
            " [0. 0. 1. 0. 0. 0. 0. 0. 0. 0.]\n",
            " [1. 0. 0. 0. 0. 0. 0. 0. 0. 0.]\n",
            " [0. 0. 0. 0. 0. 1. 0. 0. 0. 0.]\n",
            " [0. 0. 0. 0. 0. 1. 0. 0. 0. 0.]\n",
            " [1. 0. 0. 0. 0. 0. 0. 0. 0. 0.]\n",
            " [0. 0. 0. 0. 0. 1. 0. 0. 0. 0.]\n",
            " [0. 0. 0. 0. 1. 0. 0. 0. 0. 0.]\n",
            " [1. 0. 0. 0. 0. 0. 0. 0. 0. 0.]\n",
            " [0. 0. 0. 0. 0. 1. 0. 0. 0. 0.]\n",
            " [0. 0. 0. 0. 0. 0. 0. 1. 0. 0.]\n",
            " [0. 0. 0. 0. 1. 0. 0. 0. 0. 0.]\n",
            " [0. 0. 1. 0. 0. 0. 0. 0. 0. 0.]\n",
            " [0. 0. 0. 0. 0. 0. 0. 0. 0. 1.]\n",
            " [0. 0. 0. 0. 0. 0. 1. 0. 0. 0.]\n",
            " [1. 0. 0. 0. 0. 0. 0. 0. 0. 0.]\n",
            " [0. 0. 0. 0. 0. 0. 1. 0. 0. 0.]], shape=(32, 10), dtype=float32)\n"
          ]
        }
      ]
    },
    {
      "cell_type": "code",
      "source": [],
      "metadata": {
        "id": "IdQ-19qbbxWn"
      },
      "execution_count": null,
      "outputs": []
    },
    {
      "cell_type": "markdown",
      "source": [
        "# Modeling Experiments we're running\n",
        "\n"
      ],
      "metadata": {
        "id": "zSEP9nRrcAJT"
      }
    },
    {
      "cell_type": "markdown",
      "source": [
        "# Model 0 : Building a transfer learning model usig the keras Functional API\n",
        "\n",
        "The sequential API is straight-farward, it runs our layers in sequential order\n",
        "\n",
        "But the functional API gives us more flexibility with our models :"
      ],
      "metadata": {
        "id": "ILsy70Qhe4ta"
      }
    },
    {
      "cell_type": "code",
      "source": [
        "#1. Create base model with tf.keras.applications\n",
        "\n",
        "base_model = tf.keras.applications.EffiecientNetB0(include_top = False)\n",
        "\n",
        "#2. Freeze the base model (so the underlying pre trained patterns aren't updated during the training)\n",
        "base_model.trainable = False\n",
        "\n",
        "#3. Create inputs into our model\n",
        "inputs = tf.keras.Input(shape = (224,224, 3), name = \"input_layer\")\n",
        "\n",
        "#4.  If using ResNet50V2 you will need to normalize inputs  (you don't have to do it for efficientNet(s))\n",
        "x = tf.keras.layers.experimental.preprocessing.Rescaling(1./255)(inputs)\n",
        "\n",
        "#5. Pass the inputs to the base model\n",
        "x = base_model(inputs)\n",
        "print(f\"Shape after passing inputs to base model : {x.shape}\")\n",
        "\n",
        "#6. Average pool the outputs of the base model"
      ],
      "metadata": {
        "id": "AefBNll7eumq"
      },
      "execution_count": null,
      "outputs": []
    }
  ]
}