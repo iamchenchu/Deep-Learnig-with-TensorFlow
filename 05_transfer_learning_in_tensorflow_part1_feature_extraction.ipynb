{
  "nbformat": 4,
  "nbformat_minor": 0,
  "metadata": {
    "colab": {
      "provenance": [],
      "machine_shape": "hm",
      "gpuType": "V100",
      "authorship_tag": "ABX9TyM9o3fHsJmei86VSmsR1U7Y",
      "include_colab_link": true
    },
    "kernelspec": {
      "name": "python3",
      "display_name": "Python 3"
    },
    "language_info": {
      "name": "python"
    },
    "accelerator": "GPU"
  },
  "cells": [
    {
      "cell_type": "markdown",
      "metadata": {
        "id": "view-in-github",
        "colab_type": "text"
      },
      "source": [
        "<a href=\"https://colab.research.google.com/github/iamchenchu/Deep-Learnig-with-TensorFlow/blob/main/05_transfer_learning_in_tensorflow_part1_feature_extraction.ipynb\" target=\"_parent\"><img src=\"https://colab.research.google.com/assets/colab-badge.svg\" alt=\"Open In Colab\"/></a>"
      ]
    },
    {
      "cell_type": "markdown",
      "source": [
        "# Transfer Learning with TensorFlow Part 1 : Feature Extraction\n",
        "\n",
        "Transfer Learning is leveraging a working model's existing architecture and learned patterns for our own problem.\n",
        "**There are two main benefits :**\n",
        "\n",
        "1. Can leverage an existing neural network architechture proven to work on probelms similar to our own.\n",
        "2. Can leverage a working neural network architecture which has already learned patterns on similar data to our own, then we can adapt those patterns to our own data.\n"
      ],
      "metadata": {
        "id": "bAkCjpp0b13O"
      }
    },
    {
      "cell_type": "code",
      "source": [
        "# Are we using a GPU\n",
        "\n",
        "!nvidia-smi"
      ],
      "metadata": {
        "colab": {
          "base_uri": "https://localhost:8080/"
        },
        "id": "vT43zZUFc5f_",
        "outputId": "2ea48dc2-cd6c-49fe-bca4-888dbd5a9933"
      },
      "execution_count": 1,
      "outputs": [
        {
          "output_type": "stream",
          "name": "stdout",
          "text": [
            "Mon Dec 18 19:54:30 2023       \n",
            "+---------------------------------------------------------------------------------------+\n",
            "| NVIDIA-SMI 535.104.05             Driver Version: 535.104.05   CUDA Version: 12.2     |\n",
            "|-----------------------------------------+----------------------+----------------------+\n",
            "| GPU  Name                 Persistence-M | Bus-Id        Disp.A | Volatile Uncorr. ECC |\n",
            "| Fan  Temp   Perf          Pwr:Usage/Cap |         Memory-Usage | GPU-Util  Compute M. |\n",
            "|                                         |                      |               MIG M. |\n",
            "|=========================================+======================+======================|\n",
            "|   0  Tesla V100-SXM2-16GB           Off | 00000000:00:04.0 Off |                    0 |\n",
            "| N/A   33C    P0              25W / 300W |      0MiB / 16384MiB |      0%      Default |\n",
            "|                                         |                      |                  N/A |\n",
            "+-----------------------------------------+----------------------+----------------------+\n",
            "                                                                                         \n",
            "+---------------------------------------------------------------------------------------+\n",
            "| Processes:                                                                            |\n",
            "|  GPU   GI   CI        PID   Type   Process name                            GPU Memory |\n",
            "|        ID   ID                                                             Usage      |\n",
            "|=======================================================================================|\n",
            "|  No running processes found                                                           |\n",
            "+---------------------------------------------------------------------------------------+\n"
          ]
        }
      ]
    },
    {
      "cell_type": "markdown",
      "source": [
        "# Downloading and becoming one with the data\n"
      ],
      "metadata": {
        "id": "6U4bfTfniHal"
      }
    },
    {
      "cell_type": "code",
      "source": [
        "# Get data (10% of 10 food classes from food101)\n",
        "\n",
        "import zipfile\n",
        "\n",
        "#download the data\n",
        "!wget https://storage.googleapis.com/ztm_tf_course/food_vision/10_food_classes_10_percent.zip\n",
        "\n",
        "#unzip the downloaded file\n",
        "zip_ref = zipfile.ZipFile(\"10_food_classes_10_percent.zip\", \"r\")\n",
        "zip_ref.extractall()\n",
        "zip_ref.close()\n"
      ],
      "metadata": {
        "id": "KFW3dPbqeEvE",
        "colab": {
          "base_uri": "https://localhost:8080/"
        },
        "outputId": "3407102b-6650-4561-d280-a88ec06954c0"
      },
      "execution_count": 2,
      "outputs": [
        {
          "output_type": "stream",
          "name": "stdout",
          "text": [
            "--2023-12-18 20:09:23--  https://storage.googleapis.com/ztm_tf_course/food_vision/10_food_classes_10_percent.zip\n",
            "Resolving storage.googleapis.com (storage.googleapis.com)... 74.125.143.207, 173.194.69.207, 108.177.96.207, ...\n",
            "Connecting to storage.googleapis.com (storage.googleapis.com)|74.125.143.207|:443... connected.\n",
            "HTTP request sent, awaiting response... 200 OK\n",
            "Length: 168546183 (161M) [application/zip]\n",
            "Saving to: ‘10_food_classes_10_percent.zip’\n",
            "\n",
            "10_food_classes_10_ 100%[===================>] 160.74M  39.7MB/s    in 4.8s    \n",
            "\n",
            "2023-12-18 20:09:28 (33.8 MB/s) - ‘10_food_classes_10_percent.zip’ saved [168546183/168546183]\n",
            "\n"
          ]
        }
      ]
    },
    {
      "cell_type": "code",
      "source": [
        "# How many images in each folder ?\n",
        "import os\n",
        "\n",
        "#walk through 10 percent data directory and list number of files\n",
        "for dirpath, dirnames, filenames in os.walk(\"10_food_classes_10_percent\"):\n",
        "  print(f\"There are {len(dirnames)} directories and {len(filenames)} images in '{dirpath}'.\")\n",
        ""
      ],
      "metadata": {
        "colab": {
          "base_uri": "https://localhost:8080/"
        },
        "id": "HZO4aZCYjsPJ",
        "outputId": "03047b1e-e770-4e80-acb3-5f144e355fad"
      },
      "execution_count": 5,
      "outputs": [
        {
          "output_type": "stream",
          "name": "stdout",
          "text": [
            "There are 2 directories and 0 images in '10_food_classes_10_percent'.\n",
            "There are 10 directories and 0 images in '10_food_classes_10_percent/train'.\n",
            "There are 0 directories and 75 images in '10_food_classes_10_percent/train/chicken_curry'.\n",
            "There are 0 directories and 75 images in '10_food_classes_10_percent/train/sushi'.\n",
            "There are 0 directories and 75 images in '10_food_classes_10_percent/train/pizza'.\n",
            "There are 0 directories and 75 images in '10_food_classes_10_percent/train/ice_cream'.\n",
            "There are 0 directories and 75 images in '10_food_classes_10_percent/train/ramen'.\n",
            "There are 0 directories and 75 images in '10_food_classes_10_percent/train/fried_rice'.\n",
            "There are 0 directories and 75 images in '10_food_classes_10_percent/train/steak'.\n",
            "There are 0 directories and 75 images in '10_food_classes_10_percent/train/grilled_salmon'.\n",
            "There are 0 directories and 75 images in '10_food_classes_10_percent/train/hamburger'.\n",
            "There are 0 directories and 75 images in '10_food_classes_10_percent/train/chicken_wings'.\n",
            "There are 10 directories and 0 images in '10_food_classes_10_percent/test'.\n",
            "There are 0 directories and 250 images in '10_food_classes_10_percent/test/chicken_curry'.\n",
            "There are 0 directories and 250 images in '10_food_classes_10_percent/test/sushi'.\n",
            "There are 0 directories and 250 images in '10_food_classes_10_percent/test/pizza'.\n",
            "There are 0 directories and 250 images in '10_food_classes_10_percent/test/ice_cream'.\n",
            "There are 0 directories and 250 images in '10_food_classes_10_percent/test/ramen'.\n",
            "There are 0 directories and 250 images in '10_food_classes_10_percent/test/fried_rice'.\n",
            "There are 0 directories and 250 images in '10_food_classes_10_percent/test/steak'.\n",
            "There are 0 directories and 250 images in '10_food_classes_10_percent/test/grilled_salmon'.\n",
            "There are 0 directories and 250 images in '10_food_classes_10_percent/test/hamburger'.\n",
            "There are 0 directories and 250 images in '10_food_classes_10_percent/test/chicken_wings'.\n"
          ]
        }
      ]
    },
    {
      "cell_type": "markdown",
      "source": [
        "# Creating data loaders (Preparing the data)\n",
        "\n",
        "We'll use the ImageDataGenerator class to load in our images in batches."
      ],
      "metadata": {
        "id": "TA-GAW7Ml44c"
      }
    },
    {
      "cell_type": "code",
      "source": [
        "from tensorflow.keras.preprocessing.image import ImageDataGenerator\n",
        "\n",
        "IMAGE_SHAPE = (224, 224)\n",
        "BATCH_SIZE = 32\n",
        "\n",
        "train_dir = \"10_food_classes_10_percent/train\"\n",
        "test_dir = \"10_food_classes_10_percent/test\"\n",
        "\n",
        "train_datagen = ImageDataGenerator(rescale=1/255.)\n",
        "test_datagen = ImageDataGenerator(rescale=1/255.)\n",
        "\n",
        "print(\"Training images\")\n",
        "train_data_10_percent = train_datagen.flow_from_directory(train_dir,\n",
        "                                                          target_size = IMAGE_SHAPE,\n",
        "                                                          batch_size = BATCH_SIZE,\n",
        "                                                          class_mode = \"categorical\")\n",
        "print(\"Testing images :\")\n",
        "test_data = test_datagen.flow_from_directory(test_dir,\n",
        "                                             target_size = IMAGE_SHAPE,\n",
        "                                             batch_size = BATCH_SIZE,\n",
        "                                             class_mode = \"categorical\")\n",
        "\n"
      ],
      "metadata": {
        "colab": {
          "base_uri": "https://localhost:8080/"
        },
        "id": "G5DX5YV5jCV1",
        "outputId": "366edc47-47b1-4453-dfcb-508cfa58a19c"
      },
      "execution_count": 9,
      "outputs": [
        {
          "output_type": "stream",
          "name": "stdout",
          "text": [
            "Training images\n",
            "Found 750 images belonging to 10 classes.\n",
            "Testing images :\n",
            "Found 2500 images belonging to 10 classes.\n"
          ]
        }
      ]
    },
    {
      "cell_type": "markdown",
      "source": [
        "# Setting up callbacks (things to run whilst our model trains)\n",
        "\n",
        "Callbacks are extra functionality you can ass to your models to be performed during  or after training. Some of the the most popular callbacks :\n",
        "\n",
        "Call backs are a tool whichh can add helpful functionality to your models during training evaluation or interference\n",
        "\n",
        "* Tracking experiments with the TensorBoard Callback\n",
        "* Model checkpoint with the modelCheckpoint callback\n",
        "* Stopping a model from training (Before it trains too long and overfit) with the earlyStopping callback.\n",
        "\n",
        "\n",
        "\n"
      ],
      "metadata": {
        "id": "twmY1fM-o6IQ"
      }
    },
    {
      "cell_type": "code",
      "source": [
        "# Create TensorBoard callback (functionized because we need to create a new one for each model)\n",
        "\n",
        "import datetime\n",
        "\n",
        "def create_tensoreboard_callback(dir_name, experiment_name) :\n",
        "  log_dir = dir_name + \"/ \" + experiment_name + \"_\" + datetime.datetime.now().strftime(\"%Y%m%d-%H%M%S\")\n",
        "  tensorboard_callback = tf.keras.callbacks.TensorBoard(log_dir = log_dir)\n",
        "  print(f\"Saving TensorBoard log files to : {log_dir}\")\n",
        "  return tensorboard_callback\n",
        "\n"
      ],
      "metadata": {
        "id": "GVAPJYlYnxAQ"
      },
      "execution_count": 10,
      "outputs": []
    },
    {
      "cell_type": "markdown",
      "source": [
        "**Note :** You can customize the directory where your TensorBoard logs (model training metrics) get saved to whatever you like. The log_dir parameter we've created above is only one option."
      ],
      "metadata": {
        "id": "EbCvThBj5qhR"
      }
    },
    {
      "cell_type": "markdown",
      "source": [
        "# Creating models using the tensorflow Hub\n",
        "\n",
        "In the past we've used TensorFlow to create our own models layer by layer from the scratch.\n",
        "\n",
        "Now we're going to do a similar process, except one majority of your models layers are going to come from TensorFlow Hub.\n",
        "\n",
        "We can access pretrained models on : https://tfhub.dev/\n",
        "\n"
      ],
      "metadata": {
        "id": "AzXvZjDA62-a"
      }
    },
    {
      "cell_type": "code",
      "source": [],
      "metadata": {
        "id": "iMd9HT695liU"
      },
      "execution_count": null,
      "outputs": []
    }
  ]
}