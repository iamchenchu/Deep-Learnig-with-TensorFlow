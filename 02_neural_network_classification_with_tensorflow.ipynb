{
  "nbformat": 4,
  "nbformat_minor": 0,
  "metadata": {
    "colab": {
      "provenance": [],
      "authorship_tag": "ABX9TyOLZAgFH/srbbK9lk2zdRAv",
      "include_colab_link": true
    },
    "kernelspec": {
      "name": "python3",
      "display_name": "Python 3"
    },
    "language_info": {
      "name": "python"
    }
  },
  "cells": [
    {
      "cell_type": "markdown",
      "metadata": {
        "id": "view-in-github",
        "colab_type": "text"
      },
      "source": [
        "<a href=\"https://colab.research.google.com/github/iamchenchu/Deep-Learnig-with-TensorFlow/blob/main/02_neural_network_classification_with_tensorflow.ipynb\" target=\"_parent\"><img src=\"https://colab.research.google.com/assets/colab-badge.svg\" alt=\"Open In Colab\"/></a>"
      ]
    },
    {
      "cell_type": "markdown",
      "source": [
        "\n",
        "\n",
        "**Introduction to neural network classification with TensorFlow**\n",
        "\n",
        "In this notebook we're going to learn how to write nueral networks for classification problems\n",
        "\n",
        "A few types of classification problems :  \n",
        "\n",
        "  * Binary Classification\n",
        "  * Multiclass classification\n",
        "  * Multilabel classification\n",
        "  \n",
        "\n"
      ],
      "metadata": {
        "id": "D2R2LH-eE5nC"
      }
    },
    {
      "cell_type": "markdown",
      "source": [
        "**Creating a data to view and fit**"
      ],
      "metadata": {
        "id": "AQxyMiVrF5QC"
      }
    },
    {
      "cell_type": "code",
      "source": [
        "#Make 1000 examples"
      ],
      "metadata": {
        "id": "wXf2QoXxFqX6"
      },
      "execution_count": null,
      "outputs": []
    }
  ]
}